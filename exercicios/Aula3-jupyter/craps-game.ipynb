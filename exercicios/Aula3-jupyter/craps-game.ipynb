{
 "metadata": {
  "language_info": {
   "codemirror_mode": {
    "name": "ipython",
    "version": 3
   },
   "file_extension": ".py",
   "mimetype": "text/x-python",
   "name": "python",
   "nbconvert_exporter": "python",
   "pygments_lexer": "ipython3",
   "version": "3.8.6-final"
  },
  "orig_nbformat": 2,
  "kernelspec": {
   "name": "Python 3.8.6 64-bit ('venv-tt007')",
   "display_name": "Python 3.8.6 64-bit ('venv-tt007')",
   "metadata": {
    "interpreter": {
     "hash": "219161441641e2525b2b606b57ecde973025343e876b114ff35edd7a329e7e36"
    }
   }
  }
 },
 "nbformat": 4,
 "nbformat_minor": 2,
 "cells": [
  {
   "source": [
    "# CRAPS\n",
    "\n"
   ],
   "cell_type": "markdown",
   "metadata": {}
  },
  {
   "source": [
    "O CRAPS é um jogo de dados (famoso em cassinos), em que o jogador lança dois dados, então soma-se as faces dos dados:\n",
    "\n",
    "- Se a soma for **7 ou 11** na primeira rodada, o *`jogador ganha`*;\n",
    "- Se for **2, 3 ou 12** na primeira rodada (ou CRAPS) o *`jogador perde`*.   \n",
    "- Se a soma for **4, 5, 6, 8, 9 ou 10** na primeira rodada. Então esta soma se torna o ponto do jogador. \n",
    "  - Para ganhar, o jogador continua jogando o dado até a soma ser igual a seu ponto. \n",
    "  - O jogador perde se a soma for igual a 7."
   ],
   "cell_type": "markdown",
   "metadata": {}
  },
  {
   "cell_type": "code",
   "execution_count": 12,
   "metadata": {},
   "outputs": [],
   "source": [
    "# Importações necessárias\n",
    "import random"
   ]
  },
  {
   "cell_type": "code",
   "execution_count": 13,
   "metadata": {},
   "outputs": [],
   "source": [
    "# Função responsável por rolar dados\n",
    "def roll_dice():\n",
    "    \"\"\"Função que rola dois dados.\n",
    "\n",
    "    Returns:\n",
    "        tuple: retorno é uma tupla com o resultado empacotado.\n",
    "    \"\"\"\n",
    "    die1 = random.randrange(1, 7)\n",
    "    die2 = random.randrange(1, 7)\n",
    "    return (die1, die2)"
   ]
  },
  {
   "cell_type": "code",
   "execution_count": 14,
   "metadata": {},
   "outputs": [],
   "source": [
    "# Função que mostra o valor dos dados\n",
    "def display_dice(dice):\n",
    "    \"\"\"Exibe na tela os dados e a respectiva soma.\n",
    "\n",
    "    Args:\n",
    "        dice (tuple): Uma tupla com valor de cada dado sorteado.\n",
    "    \"\"\"\n",
    "    die1, die2 = dice\n",
    "    print(f'Result: {die1} + {die2} = {sum(dice)}')"
   ]
  },
  {
   "cell_type": "code",
   "execution_count": 59,
   "metadata": {},
   "outputs": [],
   "source": [
    "# Função do jogo CRAPS\n",
    "def craps():\n",
    "    \"\"\"Função que realiza uma rodada do jogo CRAPS7\n",
    "\n",
    "    Returns: \n",
    "        tuple: 1º - round em que ganhou ou perdeu; 2º - vitória ou derrota.\n",
    "    \"\"\"\n",
    "\n",
    "    die_values = roll_dice()  # primeira rodada\n",
    "    # display_dice(die_values)\n",
    "\n",
    "    sum_dies = sum(die_values)\n",
    "\n",
    "    counter = 1\n",
    "\n",
    "    if sum_dies in (7, 11):  # condição de vitória\n",
    "        game_status = 'WON'\n",
    "    elif sum_dies in (2, 3, 12):  # condição de derrota\n",
    "        game_status = 'LOSE'\n",
    "    else:  # segue o jogo\n",
    "        game_status = 'CONTINUE'\n",
    "        player_point = sum_dies\n",
    "        # print(f'My point is {player_point}')\n",
    "\n",
    "    # looping até chegar condição de vitoria ou derrota\n",
    "    while game_status == 'CONTINUE':\n",
    "        die_values = roll_dice()  # outras rodadas\n",
    "        # display_dice(die_values)\n",
    "        sum_dies = sum(die_values)\n",
    "\n",
    "        if counter > 12:\n",
    "            counter = 13\n",
    "        else:\n",
    "            counter += 1\n",
    "\n",
    "        if sum_dies == player_point:\n",
    "            game_status = 'WON'\n",
    "        elif sum_dies == 7:\n",
    "            game_status = 'LOSE'\n",
    "\n",
    "    if counter == 13:\n",
    "        counter = '13+'\n",
    "    # Mensagem de vitória ou derrota\n",
    "    if game_status == 'WON':\n",
    "        # print(f'Congratulations, you WIN in {counter}º round!')\n",
    "        return (str(counter), game_status)\n",
    "    else:\n",
    "        # print(f'You LOSE in {counter}º round, try again!')\n",
    "        return (str(counter), game_status)"
   ]
  },
  {
   "cell_type": "code",
   "execution_count": 66,
   "metadata": {},
   "outputs": [
    {
     "output_type": "execute_result",
     "data": {
      "text/plain": [
       "[('1', 'LOSE'),\n",
       " ('4', 'LOSE'),\n",
       " ('5', 'WON'),\n",
       " ('1', 'LOSE'),\n",
       " ('4', 'WON'),\n",
       " ('4', 'LOSE'),\n",
       " ('2', 'LOSE'),\n",
       " ('2', 'LOSE'),\n",
       " ('2', 'LOSE'),\n",
       " ('6', 'LOSE'),\n",
       " ('2', 'WON'),\n",
       " ('3', 'LOSE'),\n",
       " ('1', 'WON'),\n",
       " ('3', 'WON'),\n",
       " ('4', 'LOSE'),\n",
       " ('2', 'LOSE'),\n",
       " ('3', 'LOSE'),\n",
       " ('13+', 'LOSE'),\n",
       " ('3', 'WON'),\n",
       " ('3', 'LOSE')]"
      ]
     },
     "metadata": {},
     "execution_count": 66
    }
   ],
   "source": [
    "teste = [craps() for i in range(20)]\n",
    "teste"
   ]
  },
  {
   "cell_type": "code",
   "execution_count": null,
   "metadata": {},
   "outputs": [],
   "source": []
  },
  {
   "cell_type": "code",
   "execution_count": null,
   "metadata": {},
   "outputs": [],
   "source": []
  }
 ]
}