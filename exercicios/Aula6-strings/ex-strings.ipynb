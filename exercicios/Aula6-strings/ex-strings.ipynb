{
 "metadata": {
  "language_info": {
   "codemirror_mode": {
    "name": "ipython",
    "version": 3
   },
   "file_extension": ".py",
   "mimetype": "text/x-python",
   "name": "python",
   "nbconvert_exporter": "python",
   "pygments_lexer": "ipython3",
   "version": "3.8.6-final"
  },
  "orig_nbformat": 2,
  "kernelspec": {
   "name": "python3",
   "display_name": "Python 3"
  }
 },
 "nbformat": 4,
 "nbformat_minor": 2,
 "cells": [
  {
   "source": [
    "# Exercícios - Strings"
   ],
   "cell_type": "markdown",
   "metadata": {}
  },
  {
   "source": [
    "**Quadrilha**, *Carlos Drummond de Andrade*\n",
    "\n",
    "João amava Teresa que amava Raimundo<br>\n",
    "que amava Maria que amava Joaquim que amava Lili<br>\n",
    "que não amava ninguém.<br>\n",
    "João foi pra os Estados Unidos, Teresa para o convento,<br>\n",
    "Raimundo morreu de desastre, Maria ficou para tia,<br>\n",
    "Joaquim suicidou-se e Lili casou com J. Pinto Fernandes<br>\n",
    "que não tinha entrado na história.<br>\n",
    "\n",
    "Considerando a Quadrilha como string de entrada. Escreva um programa para:\n",
    " - Contar quantas vezes aparece 'amava'.\n",
    " - Encontrar o primeiro e o último índice em que aparece 'amava'.\n",
    " - Encontrar todos os índices em que aparece 'amava'.\n",
    " - Substituir 'amava' por 'treinava'.\n",
    " - Indique quais linhas começam com 'que'.\n",
    " - Obter uma lista com todas a palavras do texto\n",
    " - Separar o texto onde exista ','.\n",
    " - Substitua os espaços por '__'.\n",
    " - Obter uma lista onde conste cada palavra existente no texto, uma única vez, juntamente com sua frequência.\n"
   ],
   "cell_type": "markdown",
   "metadata": {}
  },
  {
   "cell_type": "code",
   "execution_count": 1,
   "metadata": {},
   "outputs": [],
   "source": [
    "quadrilha = \"\"\"João amava Teresa que amava Raimundo\n",
    "que amava Maria que amava Joaquim que amava Lili\n",
    "que não amava ninguém.\n",
    "João foi pra os Estados Unidos, Teresa para o convento,\n",
    "Raimundo morreu de desastre, Maria ficou para tia,\n",
    "Joaquim suicidou-se e Lili casou com J. Pinto Fernandes\n",
    "que não tinha entrado na história.\"\"\""
   ]
  },
  {
   "cell_type": "code",
   "execution_count": 2,
   "metadata": {},
   "outputs": [
    {
     "output_type": "stream",
     "name": "stdout",
     "text": [
      "quadrilha.count(\"amava\") = 6\n"
     ]
    }
   ],
   "source": [
    "# Contar quantas vezes aparece 'amava'.\n",
    "print(f'quadrilha.count(\"amava\") = {quadrilha.count(\"amava\")}')"
   ]
  },
  {
   "cell_type": "code",
   "execution_count": 3,
   "metadata": {},
   "outputs": [
    {
     "output_type": "stream",
     "name": "stdout",
     "text": [
      "Primeiro índice = 5\nÚltimo índice = 94\n"
     ]
    }
   ],
   "source": [
    "# Encontrar o primeiro e o último índice em que aparece 'amava'.\n",
    "print(f'Primeiro índice = {quadrilha.index(\"amava\")}')\n",
    "print(f'Último índice = {quadrilha.rindex(\"amava\")}')"
   ]
  },
  {
   "cell_type": "code",
   "execution_count": 4,
   "metadata": {},
   "outputs": [
    {
     "output_type": "stream",
     "name": "stdout",
     "text": [
      "[5, 22, 41, 57, 75, 94]\n"
     ]
    }
   ],
   "source": [
    "# Encontrar todos os índices em que aparece 'amava'.\n",
    "indices = []\n",
    "idx = 0\n",
    "\n",
    "while True:\n",
    "    idx = quadrilha.index('amava', idx + 1)\n",
    "    indices.append(idx)\n",
    "\n",
    "    if idx == quadrilha.rindex('amava'):\n",
    "        break\n",
    "    \n",
    "print(indices)"
   ]
  },
  {
   "cell_type": "code",
   "execution_count": 5,
   "metadata": {},
   "outputs": [
    {
     "output_type": "execute_result",
     "data": {
      "text/plain": [
       "'João treinava Teresa que treinava Raimundo\\nque treinava Maria que treinava Joaquim que treinava Lili\\nque não treinava ninguém.\\nJoão foi pra os Estados Unidos, Teresa para o convento,\\nRaimundo morreu de desastre, Maria ficou para tia,\\nJoaquim suicidou-se e Lili casou com J. Pinto Fernandes\\nque não tinha entrado na história.'"
      ]
     },
     "metadata": {},
     "execution_count": 5
    }
   ],
   "source": [
    "# Substituir 'amava' por 'treinava'.\n",
    "quadrilha = quadrilha.replace('amava', 'treinava')\n",
    "quadrilha"
   ]
  },
  {
   "cell_type": "code",
   "execution_count": 6,
   "metadata": {},
   "outputs": [
    {
     "output_type": "stream",
     "name": "stdout",
     "text": [
      "Linha [1] começa com \"que\"\nLinha [2] começa com \"que\"\nLinha [6] começa com \"que\"\n"
     ]
    }
   ],
   "source": [
    "# Indique quais linhas começam com 'que'.\n",
    "for idx, linha in enumerate(quadrilha.splitlines()):\n",
    "    if linha[0] == 'q' and linha[1] == 'u' and linha[2] == 'e':\n",
    "        # print(linha)\n",
    "        print(f'Linha [{idx}] começa com \"que\"')"
   ]
  },
  {
   "cell_type": "code",
   "execution_count": 7,
   "metadata": {},
   "outputs": [
    {
     "output_type": "execute_result",
     "data": {
      "text/plain": [
       "['João',\n",
       " 'treinava',\n",
       " 'Teresa',\n",
       " 'que',\n",
       " 'treinava',\n",
       " 'Raimundo',\n",
       " 'que',\n",
       " 'treinava',\n",
       " 'Maria',\n",
       " 'que',\n",
       " 'treinava',\n",
       " 'Joaquim',\n",
       " 'que',\n",
       " 'treinava',\n",
       " 'Lili',\n",
       " 'que',\n",
       " 'não',\n",
       " 'treinava',\n",
       " 'ninguém.',\n",
       " 'João',\n",
       " 'foi',\n",
       " 'pra',\n",
       " 'os',\n",
       " 'Estados',\n",
       " 'Unidos,',\n",
       " 'Teresa',\n",
       " 'para',\n",
       " 'o',\n",
       " 'convento,',\n",
       " 'Raimundo',\n",
       " 'morreu',\n",
       " 'de',\n",
       " 'desastre,',\n",
       " 'Maria',\n",
       " 'ficou',\n",
       " 'para',\n",
       " 'tia,',\n",
       " 'Joaquim',\n",
       " 'suicidou-se',\n",
       " 'e',\n",
       " 'Lili',\n",
       " 'casou',\n",
       " 'com',\n",
       " 'J.',\n",
       " 'Pinto',\n",
       " 'Fernandes',\n",
       " 'que',\n",
       " 'não',\n",
       " 'tinha',\n",
       " 'entrado',\n",
       " 'na',\n",
       " 'história.']"
      ]
     },
     "metadata": {},
     "execution_count": 7
    }
   ],
   "source": [
    "# Obter uma lista com todas a palavras do texto\n",
    "palavras = quadrilha.split()\n",
    "palavras"
   ]
  },
  {
   "cell_type": "code",
   "execution_count": 8,
   "metadata": {},
   "outputs": [
    {
     "output_type": "execute_result",
     "data": {
      "text/plain": [
       "['João treinava Teresa que treinava Raimundo\\nque treinava Maria que treinava Joaquim que treinava Lili\\nque não treinava ninguém.\\nJoão foi pra os Estados Unidos',\n",
       " ' Teresa para o convento',\n",
       " '\\nRaimundo morreu de desastre',\n",
       " ' Maria ficou para tia',\n",
       " '\\nJoaquim suicidou-se e Lili casou com J. Pinto Fernandes\\nque não tinha entrado na história.']"
      ]
     },
     "metadata": {},
     "execution_count": 8
    }
   ],
   "source": [
    "# Separar o texto onde exista ','.\n",
    "quadrilha.split(',')"
   ]
  },
  {
   "cell_type": "code",
   "execution_count": 9,
   "metadata": {},
   "outputs": [
    {
     "output_type": "execute_result",
     "data": {
      "text/plain": [
       "'João__treinava__Teresa__que__treinava__Raimundo\\nque__treinava__Maria__que__treinava__Joaquim__que__treinava__Lili\\nque__não__treinava__ninguém.\\nJoão__foi__pra__os__Estados__Unidos,__Teresa__para__o__convento,\\nRaimundo__morreu__de__desastre,__Maria__ficou__para__tia,\\nJoaquim__suicidou-se__e__Lili__casou__com__J.__Pinto__Fernandes\\nque__não__tinha__entrado__na__história.'"
      ]
     },
     "metadata": {},
     "execution_count": 9
    }
   ],
   "source": [
    "# Substitua os espaços por ‘__’.\n",
    "new_quadrilha = quadrilha.replace(\" \", \"__\")\n",
    "new_quadrilha"
   ]
  },
  {
   "cell_type": "code",
   "execution_count": 10,
   "metadata": {},
   "outputs": [
    {
     "output_type": "stream",
     "name": "stdout",
     "text": [
      "     João      -> 2\n   treinava    -> 6\n    Teresa     -> 2\n     que       -> 6\n   Raimundo    -> 2\n    Maria      -> 2\n   Joaquim     -> 2\n     Lili      -> 2\n     não       -> 2\n   ninguém     -> 1\n     foi       -> 1\n     pra       -> 1\n      os       -> 1\n   Estados     -> 1\n    Unidos     -> 1\n     para      -> 2\n      o        -> 1\n   convento    -> 1\n    morreu     -> 1\n      de       -> 1\n   desastre    -> 1\n    ficou      -> 1\n     tia       -> 1\n suicidou-se   -> 1\n      e        -> 1\n    casou      -> 1\n     com       -> 1\n      J        -> 1\n    Pinto      -> 1\n  Fernandes    -> 1\n    tinha      -> 1\n   entrado     -> 1\n      na       -> 1\n   história    -> 1\n"
     ]
    }
   ],
   "source": [
    "# Obter uma lista onde conste cada palavra existente no texto, uma única vez, juntamente com sua frequência.\n",
    "frequencias = []\n",
    "palavras_processadas = []\n",
    "palavras = quadrilha.split()\n",
    "\n",
    "# preprocessamento\n",
    "for p in palavras:\n",
    "    if p[-1] in \",.:;?!\":\n",
    "        palavras_processadas.append(p[:-1])\n",
    "    else:\n",
    "        palavras_processadas.append(p)\n",
    "\n",
    "# Determinando frequencias\n",
    "for palavra in palavras_processadas:\n",
    "    freq = palavras_processadas.count(palavra)\n",
    "    t = (palavra, freq)\n",
    "    if t not in frequencias:\n",
    "        frequencias.append(t)\n",
    "\n",
    "# Printando resultado\n",
    "for p, f in frequencias:\n",
    "    print(f'{p:^14} -> {f}')"
   ]
  },
  {
   "cell_type": "code",
   "execution_count": null,
   "metadata": {},
   "outputs": [],
   "source": []
  }
 ]
}