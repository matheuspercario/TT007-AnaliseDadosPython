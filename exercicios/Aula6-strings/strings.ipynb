{
 "cells": [
  {
   "source": [
    "# Strings"
   ],
   "cell_type": "markdown",
   "metadata": {}
  },
  {
   "cell_type": "markdown",
   "metadata": {},
   "source": [
    "- Python suporta strings como um tipo de dado básico.\n",
    "- Stings são objetos imutáveis. Não podem ser alteradas após sua criação.\n",
    "\n",
    "Quando um método que altera uma string é chamado; na verdade este retorna uma nova string."
   ]
  },
  {
   "cell_type": "markdown",
   "metadata": {},
   "source": [
    "## Strings formatadas"
   ]
  },
  {
   "cell_type": "markdown",
   "metadata": {},
   "source": [
    "### Tipos de Apresentação\n",
    "\n",
    "Você viu a formatação básica de strings com f-strings. Quando você especifica um espaço reservado para um valor em uma f-string, Python assume que o valor deve ser exibido como uma string, a menos que você especifique outro tipo. \n",
    "\n",
    "Em alguns casos, o tipo é obrigatório. Por exemplo, vamos formatar o valor de ponto flutuante 17.489 arredondado para a posição dos centésimos:"
   ]
  },
  {
   "cell_type": "code",
   "execution_count": 1,
   "metadata": {},
   "outputs": [
    {
     "data": {
      "text/plain": [
       "'17.49'"
      ]
     },
     "execution_count": 1,
     "metadata": {},
     "output_type": "execute_result"
    }
   ],
   "source": [
    "f'{17.489:.2f}'"
   ]
  },
  {
   "cell_type": "markdown",
   "metadata": {},
   "source": [
    "Python oferece suporte a precisão apenas para valores de ponto flutuante e **Decimal**. \n",
    "- A formatação é dependente do tipo - se você tentar usar **.2f** para formatar uma string como **'hello'**, ocorre um **ValueError**. \n",
    "    - O tipo de apresentação **f** no especificador de formato **.2f** é necessário. \n",
    "    - Indica que tipo que está sendo formatado para que o Python possa determinar se as outras informações de formatação são permitidas para esse tipo. \n",
    "- A lista completa com dos tipos pode ser acessada em: \n",
    "https://docs.python.org/3/library/string.html#formatspec"
   ]
  },
  {
   "cell_type": "markdown",
   "metadata": {},
   "source": [
    "#### Inteiros\n",
    "\n",
    "O tipo de apresentação **d** formata valores inteiros como strings"
   ]
  },
  {
   "cell_type": "code",
   "execution_count": 2,
   "metadata": {},
   "outputs": [
    {
     "data": {
      "text/plain": [
       "'10'"
      ]
     },
     "execution_count": 2,
     "metadata": {},
     "output_type": "execute_result"
    }
   ],
   "source": [
    "f'{10:d}'"
   ]
  },
  {
   "cell_type": "markdown",
   "metadata": {},
   "source": [
    "#### Caracteres \n",
    "\n",
    "O tipo de apresentação **c** formata um código de caractere inteiro como o caractere correspondente"
   ]
  },
  {
   "cell_type": "code",
   "execution_count": 3,
   "metadata": {},
   "outputs": [
    {
     "data": {
      "text/plain": [
       "'A a'"
      ]
     },
     "execution_count": 3,
     "metadata": {},
     "output_type": "execute_result"
    }
   ],
   "source": [
    "f'{65:c} {97:c}'"
   ]
  },
  {
   "cell_type": "markdown",
   "metadata": {},
   "source": [
    "O tipo de apresentação **s** é o padrão. \n",
    "- Se você especificar **s** explicitamente, o valor a formatar deve ser uma variável que faz referência a uma string,\n",
    "- uma expressão que produz uma string \n",
    "- ou um literal de string, como em f'{\"hello\":s}. \n",
    "- Se você não especificar um tipo de apresentação, como em {7}, os valores não string, como o inteiro 7, são convertidos em strings:"
   ]
  },
  {
   "cell_type": "code",
   "execution_count": 4,
   "metadata": {},
   "outputs": [
    {
     "data": {
      "text/plain": [
       "'hello 7'"
      ]
     },
     "execution_count": 4,
     "metadata": {},
     "output_type": "execute_result"
    }
   ],
   "source": [
    "f'{\"hello\":s} {7}'"
   ]
  },
  {
   "cell_type": "markdown",
   "metadata": {},
   "source": [
    "#### Valores de ponto flutuante e Decimal\n",
    "\n",
    "Você usou o tipo de apresentação **f** para formatar valores de ponto flutuante e decimais. \n",
    "- Para valores extremamente grandes, ou pequenos, a notação exponencial (científica) pode ser usada para formatar os valores com o tipo de apresentação **e** ou (**E**). "
   ]
  },
  {
   "cell_type": "code",
   "execution_count": 5,
   "metadata": {},
   "outputs": [],
   "source": [
    "from decimal import Decimal"
   ]
  },
  {
   "cell_type": "code",
   "execution_count": 6,
   "metadata": {},
   "outputs": [
    {
     "data": {
      "text/plain": [
       "'10000000000000000000000000.000'"
      ]
     },
     "execution_count": 6,
     "metadata": {},
     "output_type": "execute_result"
    }
   ],
   "source": [
    "f'{Decimal(\"10000000000000000000000000.0\"):.3f}'"
   ]
  },
  {
   "cell_type": "code",
   "execution_count": 9,
   "metadata": {},
   "outputs": [
    {
     "data": {
      "text/plain": [
       "'1.000e+25'"
      ]
     },
     "execution_count": 9,
     "metadata": {},
     "output_type": "execute_result"
    }
   ],
   "source": [
    "f'{Decimal(\"10000000000000000000000000.0\"):.3e}'"
   ]
  },
  {
   "cell_type": "markdown",
   "metadata": {},
   "source": [
    "** Larguras e alinhamento de campo\n",
    "\n",
    "Por padrão, o Python alinha os números à direita e à esquerda outros valores, como strings\n",
    "- Os resultados abaixo estão entre colchetes ([]) para que você possa ver como os valores se alinham no campo:"
   ]
  },
  {
   "cell_type": "code",
   "execution_count": 10,
   "metadata": {},
   "outputs": [
    {
     "data": {
      "text/plain": [
       "'[        27]'"
      ]
     },
     "execution_count": 10,
     "metadata": {},
     "output_type": "execute_result"
    }
   ],
   "source": [
    "f'[{27:10d}]'"
   ]
  },
  {
   "cell_type": "code",
   "execution_count": 11,
   "metadata": {},
   "outputs": [
    {
     "data": {
      "text/plain": [
       "'[  3.500000]'"
      ]
     },
     "execution_count": 11,
     "metadata": {},
     "output_type": "execute_result"
    }
   ],
   "source": [
    "f'[{3.5:10f}]'"
   ]
  },
  {
   "cell_type": "code",
   "execution_count": 12,
   "metadata": {},
   "outputs": [
    {
     "data": {
      "text/plain": [
       "'[hello     ]'"
      ]
     },
     "execution_count": 12,
     "metadata": {},
     "output_type": "execute_result"
    }
   ],
   "source": [
    "f'[{\"hello\":10}]'"
   ]
  },
  {
   "cell_type": "markdown",
   "metadata": {},
   "source": [
    "Por padrão, Python formata valores flutuantes com seis dígitos de precisão para à direita do ponto decimal.\n",
    "- Para valores com menos caracteres do que o campo largura, as posições restantes dos caracteres são preenchidas com espaços. \n",
    "- Valores com mais caracteres do que a largura do campo, use quantas posições de caracteres forem necessárias."
   ]
  },
  {
   "cell_type": "markdown",
   "metadata": {},
   "source": [
    "#### Especificando explicitamente o alinhamento à esquerda e à direita em um campo\n",
    "\n",
    "Lembre-se de que você pode especificar o alinhamento à esquerda e à direita com **<** e **>**:"
   ]
  },
  {
   "cell_type": "code",
   "execution_count": 13,
   "metadata": {},
   "outputs": [
    {
     "data": {
      "text/plain": [
       "'[27             ]'"
      ]
     },
     "execution_count": 13,
     "metadata": {},
     "output_type": "execute_result"
    }
   ],
   "source": [
    "f'[{27:<15d}]'"
   ]
  },
  {
   "cell_type": "code",
   "execution_count": 14,
   "metadata": {},
   "outputs": [
    {
     "data": {
      "text/plain": [
       "'[3.500000       ]'"
      ]
     },
     "execution_count": 14,
     "metadata": {},
     "output_type": "execute_result"
    }
   ],
   "source": [
    "f'[{3.5:<15f}]'"
   ]
  },
  {
   "cell_type": "code",
   "execution_count": 15,
   "metadata": {},
   "outputs": [
    {
     "data": {
      "text/plain": [
       "'[          hello]'"
      ]
     },
     "execution_count": 15,
     "metadata": {},
     "output_type": "execute_result"
    }
   ],
   "source": [
    "f'[{\"hello\":>15}]'"
   ]
  },
  {
   "cell_type": "markdown",
   "metadata": {},
   "source": [
    "#### Centralizando um valor em um campo\n",
    "\n",
    "Além disso, você pode centralizar valores:"
   ]
  },
  {
   "cell_type": "code",
   "execution_count": 16,
   "metadata": {},
   "outputs": [
    {
     "data": {
      "text/plain": [
       "'[  27   ]'"
      ]
     },
     "execution_count": 16,
     "metadata": {},
     "output_type": "execute_result"
    }
   ],
   "source": [
    "f'[{27:^7d}]'"
   ]
  },
  {
   "cell_type": "code",
   "execution_count": 17,
   "metadata": {},
   "outputs": [
    {
     "data": {
      "text/plain": [
       "'[  3.5  ]'"
      ]
     },
     "execution_count": 17,
     "metadata": {},
     "output_type": "execute_result"
    }
   ],
   "source": [
    "f'[{3.5:^7.1f}]'"
   ]
  },
  {
   "cell_type": "code",
   "execution_count": 18,
   "metadata": {},
   "outputs": [
    {
     "data": {
      "text/plain": [
       "'[ hello ]'"
      ]
     },
     "execution_count": 18,
     "metadata": {},
     "output_type": "execute_result"
    }
   ],
   "source": [
    "f'[{\"hello\":^7}]'"
   ]
  },
  {
   "cell_type": "markdown",
   "metadata": {},
   "source": [
    "**Exercício** Exiba em linhas separadas o seu nome à direita, ao centro e alinhado à esquerda em um campo de 10 caracteres. Coloque cada resultado entre colchetes para que você possa ver o\n",
    "o alinhamento resulta mais claramente."
   ]
  },
  {
   "cell_type": "code",
   "execution_count": null,
   "metadata": {},
   "outputs": [],
   "source": []
  },
  {
   "cell_type": "markdown",
   "metadata": {},
   "source": [
    "#### Formatação Numérica\n",
    "\n",
    "Existem vários recursos de formatação numérica. \n",
    "- Por exemplo, àss vezes é desejável forçar o sinal em um número positivo"
   ]
  },
  {
   "cell_type": "code",
   "execution_count": 19,
   "metadata": {},
   "outputs": [
    {
     "data": {
      "text/plain": [
       "'[       +27]'"
      ]
     },
     "execution_count": 19,
     "metadata": {},
     "output_type": "execute_result"
    }
   ],
   "source": [
    "f'[{27:+10d}]'"
   ]
  },
  {
   "cell_type": "markdown",
   "metadata": {},
   "source": [
    "O + antes da largura do campo especifica que um número positivo deve ser precedido por um **+**. Um número negativo sempre começa com um **-**. \n",
    "- Para preencher os caracteres restantes do campo com **0**s em vez de espaços, coloque um 0 antes da largura do campo (e depois do + se houver):"
   ]
  },
  {
   "cell_type": "code",
   "execution_count": 20,
   "metadata": {},
   "outputs": [
    {
     "data": {
      "text/plain": [
       "'[+000000027]'"
      ]
     },
     "execution_count": 20,
     "metadata": {},
     "output_type": "execute_result"
    }
   ],
   "source": [
    "f'[{27:+010d}]'"
   ]
  },
  {
   "cell_type": "markdown",
   "metadata": {},
   "source": [
    "##### Usando um espaço onde um sinal + apareceria \n",
    "Um espaço indica que os números positivos devem mostrar um caractere de espaço na posição do sinal.\n",
    "- Isso é útil para alinhar valores positivos e negativos para fins de exibição:"
   ]
  },
  {
   "cell_type": "code",
   "execution_count": 21,
   "metadata": {},
   "outputs": [
    {
     "name": "stdout",
     "output_type": "stream",
     "text": [
      "27\n",
      " 27\n",
      "-27\n"
     ]
    }
   ],
   "source": [
    "print(f'{27:d}\\n{27: d}\\n{-27: d}')"
   ]
  },
  {
   "cell_type": "markdown",
   "metadata": {},
   "source": [
    "#### Agrupando dígitos\n",
    "Você pode formatar números com separadores de milhares usando uma vírgula (,), da seguinte maneira:"
   ]
  },
  {
   "cell_type": "code",
   "execution_count": 22,
   "metadata": {},
   "outputs": [
    {
     "data": {
      "text/plain": [
       "'12,345,678'"
      ]
     },
     "execution_count": 22,
     "metadata": {},
     "output_type": "execute_result"
    }
   ],
   "source": [
    "f'{12345678:,d}'"
   ]
  },
  {
   "cell_type": "code",
   "execution_count": 23,
   "metadata": {},
   "outputs": [
    {
     "data": {
      "text/plain": [
       "'123,456.78'"
      ]
     },
     "execution_count": 23,
     "metadata": {},
     "output_type": "execute_result"
    }
   ],
   "source": [
    "f'{123456.78:,.2f}'"
   ]
  },
  {
   "cell_type": "markdown",
   "metadata": {},
   "source": [
    "### O Método de string *format*\n",
    "\n",
    "As f-strings do Python foram adicionadas à linguagem na versão 3.6. \n",
    "- Antes disso, a formatação era feita usando o método __*format*__. \n",
    "- Mostramos o método de formatação aqui porque você encontrará em código escrito antes do Python 3.6. \n",
    "    - Você verá frequentemente o método de formatação no Python documentação e em muitos livros e artigos Python escritos antes que as f-strings fossem introduzidas."
   ]
  },
  {
   "cell_type": "markdown",
   "metadata": {},
   "source": [
    "Você chama o formato do método em uma string de formato contendo espaços reservados com chaves ({}),\n",
    "possivelmente com especificadores de formato. Você passa para o método os valores a serem formatados. Vamos\n",
    "formate o valor flutuante 17.489 arredondado para a posição dos centésimos:\n",
    "\n"
   ]
  },
  {
   "cell_type": "code",
   "execution_count": 24,
   "metadata": {},
   "outputs": [
    {
     "data": {
      "text/plain": [
       "'17.49'"
      ]
     },
     "execution_count": 24,
     "metadata": {},
     "output_type": "execute_result"
    }
   ],
   "source": [
    "'{:.2f}'.format(17.489)"
   ]
  },
  {
   "cell_type": "markdown",
   "metadata": {},
   "source": [
    "Em um espaço reservado, se houver um especificador de formato, você o precede por dois-pontos (:), como nas strings f.\n",
    "O resultado da chamada de formato é uma nova string contendo os resultados formatados."
   ]
  },
  {
   "cell_type": "markdown",
   "metadata": {},
   "source": [
    "#### Multiplos marcadores\n",
    "\n",
    "Uma string de formato pode conter vários marcadores de posição, caso em que o método do formato\n",
    "os argumentos correspondem aos marcadores da esquerda para a direita:"
   ]
  },
  {
   "cell_type": "code",
   "execution_count": 25,
   "metadata": {},
   "outputs": [
    {
     "data": {
      "text/plain": [
       "'Amanda Cyan'"
      ]
     },
     "execution_count": 25,
     "metadata": {},
     "output_type": "execute_result"
    }
   ],
   "source": [
    "'{} {}'.format('Amanda', 'Cyan')"
   ]
  },
  {
   "cell_type": "markdown",
   "metadata": {},
   "source": [
    "#### Argumentos de referência por número de posição\n",
    "\n",
    "A string de formato pode fazer referência a argumentos específicos por sua posição no formato\n",
    "lista de argumentos do método, começando com a posição 0:"
   ]
  },
  {
   "cell_type": "code",
   "execution_count": 26,
   "metadata": {},
   "outputs": [
    {
     "data": {
      "text/plain": [
       "'Happy Happy Birthday'"
      ]
     },
     "execution_count": 26,
     "metadata": {},
     "output_type": "execute_result"
    }
   ],
   "source": [
    "'{0} {0} {1}'.format('Happy', 'Birthday')"
   ]
  },
  {
   "cell_type": "markdown",
   "metadata": {},
   "source": [
    "#### Referenciando argumentos de palavras-chave\n",
    "\n",
    "Você pode fazer referência a argumentos de palavra-chave por suas chaves nos marcadores de posição:"
   ]
  },
  {
   "cell_type": "code",
   "execution_count": 27,
   "metadata": {},
   "outputs": [
    {
     "data": {
      "text/plain": [
       "'Amanda Gray'"
      ]
     },
     "execution_count": 27,
     "metadata": {},
     "output_type": "execute_result"
    }
   ],
   "source": [
    "'{first} {last}'.format(first='Amanda', last='Gray')"
   ]
  },
  {
   "cell_type": "code",
   "execution_count": 28,
   "metadata": {},
   "outputs": [
    {
     "data": {
      "text/plain": [
       "'Gray Gray'"
      ]
     },
     "execution_count": 28,
     "metadata": {},
     "output_type": "execute_result"
    }
   ],
   "source": [
    "'{last} {last}'.format(first='Amanda', last='Gray')"
   ]
  },
  {
   "cell_type": "markdown",
   "metadata": {},
   "source": [
    "### Concatenando e repetindo strings\n",
    "\n",
    "Lembre-se que já usamos o operador **+** para concatenar strings e o operador **\\*** para\n",
    "repetir strings. Você também pode realizar essas operações com atribuições aumentadas. \n",
    "- Strings são imutáveis, então cada operação atribui um novo objeto de string à variável:"
   ]
  },
  {
   "cell_type": "code",
   "execution_count": 29,
   "metadata": {},
   "outputs": [],
   "source": [
    "s1 = 'happy'"
   ]
  },
  {
   "cell_type": "code",
   "execution_count": 30,
   "metadata": {},
   "outputs": [],
   "source": [
    "s2 = 'birthday'"
   ]
  },
  {
   "cell_type": "code",
   "execution_count": 31,
   "metadata": {},
   "outputs": [],
   "source": [
    "s1 += ' ' + s2"
   ]
  },
  {
   "cell_type": "code",
   "execution_count": 32,
   "metadata": {},
   "outputs": [
    {
     "data": {
      "text/plain": [
       "'happy birthday'"
      ]
     },
     "execution_count": 32,
     "metadata": {},
     "output_type": "execute_result"
    }
   ],
   "source": [
    "s1"
   ]
  },
  {
   "cell_type": "code",
   "execution_count": 33,
   "metadata": {},
   "outputs": [],
   "source": [
    "symbol = '>'"
   ]
  },
  {
   "cell_type": "code",
   "execution_count": 34,
   "metadata": {},
   "outputs": [],
   "source": [
    "symbol *= 5"
   ]
  },
  {
   "cell_type": "code",
   "execution_count": 35,
   "metadata": {},
   "outputs": [
    {
     "data": {
      "text/plain": [
       "'>>>>>'"
      ]
     },
     "execution_count": 35,
     "metadata": {},
     "output_type": "execute_result"
    }
   ],
   "source": [
    "symbol"
   ]
  },
  {
   "cell_type": "markdown",
   "metadata": {},
   "source": [
    "**Exercício** Use o operador **+=** para concatenar seu nome e sobrenome. Então\n",
    "use o operador **\\*=** para criar uma barra de asteriscos com o mesmo número de caracteres que seu nome completo e exibir a barra acima e abaixo do seu nome."
   ]
  },
  {
   "cell_type": "code",
   "execution_count": null,
   "metadata": {},
   "outputs": [],
   "source": []
  },
  {
   "cell_type": "markdown",
   "metadata": {},
   "source": [
    "### Métodos de string"
   ]
  },
  {
   "attachments": {
    "image.png": {
     "image/png": "[encoded data removed]"
    }
   },
   "cell_type": "markdown",
   "metadata": {},
   "source": [
    "![image.png](attachment:image.png)"
   ]
  },
  {
   "cell_type": "code",
   "execution_count": 43,
   "metadata": {},
   "outputs": [],
   "source": [
    "sentence = 'to be or not to be that is the question'"
   ]
  },
  {
   "cell_type": "markdown",
   "metadata": {},
   "source": [
    "O método de string **count** retorna o número de vezes que seu argumento ocorre na string em\n",
    "qual o método é chamado:"
   ]
  },
  {
   "cell_type": "code",
   "execution_count": 44,
   "metadata": {},
   "outputs": [
    {
     "data": {
      "text/plain": [
       "2"
      ]
     },
     "execution_count": 44,
     "metadata": {},
     "output_type": "execute_result"
    }
   ],
   "source": [
    "sentence.count('to')"
   ]
  },
  {
   "attachments": {
    "image.png": {
     "image/png": "[encoded data removed]"
    }
   },
   "cell_type": "markdown",
   "metadata": {},
   "source": [
    "![image.png](attachment:image.png)"
   ]
  },
  {
   "cell_type": "markdown",
   "metadata": {},
   "source": [
    "#### Localizando uma substring em uma string\n",
    "O método de string **index** procura uma substring dentro de uma string e retorna o primeiro índice em em que a substring é encontrada; caso contrário, ocorre um **ValueError**:"
   ]
  },
  {
   "cell_type": "code",
   "execution_count": 45,
   "metadata": {},
   "outputs": [
    {
     "data": {
      "text/plain": [
       "3"
      ]
     },
     "execution_count": 45,
     "metadata": {},
     "output_type": "execute_result"
    }
   ],
   "source": [
    "sentence.index('be')"
   ]
  },
  {
   "cell_type": "markdown",
   "metadata": {},
   "source": [
    "O método de string **rindex** executa a mesma operação que **index**, mas pesquisa a partir do final da string e retorna o último índice no qual a substring foi encontrada; caso contrário, um ocorre um erro **ValueError**"
   ]
  },
  {
   "cell_type": "code",
   "execution_count": 46,
   "metadata": {},
   "outputs": [
    {
     "data": {
      "text/plain": [
       "16"
      ]
     },
     "execution_count": 46,
     "metadata": {},
     "output_type": "execute_result"
    }
   ],
   "source": [
    "sentence.rindex('be')"
   ]
  },
  {
   "attachments": {
    "image.png": {
     "image/png": "[encoded data removed]"
    }
   },
   "cell_type": "markdown",
   "metadata": {},
   "source": [
    "![image.png](attachment:image.png)"
   ]
  },
  {
   "cell_type": "markdown",
   "metadata": {},
   "source": [
    "#### Removendo espaços em branco de strings\n",
    "\n",
    "    Existem vários métodos de string para remover espaços em branco das extremidades de uma string.\n",
    "    \n",
    "- Cada um retorna uma nova string deixando a original inalterada. \n",
    "\n",
    "> Strings são imutáveis, então cada método que parece modificar uma string retorna uma nova."
   ]
  },
  {
   "cell_type": "markdown",
   "metadata": {},
   "source": [
    "#### Removendo espaços em branco à esquerda e à direita\n",
    "\n",
    "Vamos usar o método de string **strip** para remover os espaços em branco à esquerda e à direita de uma string:\n",
    "- o método **lstrip** remove somente os espaços da esquerda.\n",
    "- o método **rstrip** remoce somente os espaços da direita."
   ]
  },
  {
   "cell_type": "code",
   "execution_count": 36,
   "metadata": {},
   "outputs": [],
   "source": [
    "sentence = '\\t \\n This is a test string. \\t\\t \\n'"
   ]
  },
  {
   "cell_type": "code",
   "execution_count": 39,
   "metadata": {},
   "outputs": [
    {
     "name": "stdout",
     "output_type": "stream",
     "text": [
      "\t \n",
      " This is a test string. \t\t \n",
      "\n"
     ]
    }
   ],
   "source": [
    "print(sentence)"
   ]
  },
  {
   "cell_type": "code",
   "execution_count": 40,
   "metadata": {},
   "outputs": [
    {
     "data": {
      "text/plain": [
       "'This is a test string.'"
      ]
     },
     "execution_count": 40,
     "metadata": {},
     "output_type": "execute_result"
    }
   ],
   "source": [
    "sentence.strip()"
   ]
  },
  {
   "cell_type": "code",
   "execution_count": 42,
   "metadata": {},
   "outputs": [
    {
     "data": {
      "text/plain": [
       "'\\t \\n This is a test string. \\t\\t \\n'"
      ]
     },
     "execution_count": 42,
     "metadata": {},
     "output_type": "execute_result"
    }
   ],
   "source": [
    "sentence"
   ]
  },
  {
   "attachments": {
    "image.png": {
     "image/png": "[encoded data removed]"
    }
   },
   "cell_type": "markdown",
   "metadata": {},
   "source": [
    "![image.png](attachment:image.png)"
   ]
  },
  {
   "cell_type": "markdown",
   "metadata": {},
   "source": [
    "# <font color=red> Agrupar métodos</font>"
   ]
  },
  {
   "cell_type": "markdown",
   "metadata": {},
   "source": [
    "### Alterando entre maiúsculas e mínusculas\n",
    "\n",
    "Nos capítulos anteriores, você usou métodos de string inferior e superior para converter strings para todas as minúsculas\n",
    "ou todas as letras maiúsculas. Você também pode alterar a capitalização de uma string com métodos\n",
    "capitalize e título."
   ]
  },
  {
   "cell_type": "markdown",
   "metadata": {},
   "source": []
  },
  {
   "cell_type": "markdown",
   "metadata": {},
   "source": [
    "**Quadrilha, Carlos Drummond de Andrade**\n",
    "\n",
    "João amava Teresa que amava Raimundo<br>\n",
    "que amava Maria que amava Joaquim que amava Lili<br>\n",
    "que não amava ninguém.<br>\n",
    "João foi pra os Estados Unidos, Teresa para o convento,<br>\n",
    "Raimundo morreu de desastre, Maria ficou para tia,<br>\n",
    "Joaquim suicidou-se e Lili casou com J. Pinto Fernandes<br>\n",
    "que não tinha entrado na história.<br>"
   ]
  },
  {
   "cell_type": "markdown",
   "metadata": {},
   "source": [
    "**Exercício** - Considerando a **Quadrilha** como string de entrada. Escreva um programa para:\n",
    "- Contar quantas vezes aparece ‘amava’.\n",
    "- Encontrar o primeiro e o último índice em que aparece ‘amava’.\n",
    "- Encontrar todos os índices em que aparece ‘amava’.\n",
    "- Substituir ‘amava’ por ‘treinava’.\n",
    "- Indique quais linhas começam com ‘que’."
   ]
  },
  {
   "cell_type": "markdown",
   "metadata": {},
   "source": [
    "## Tokens\n",
    "- Quando lemos uma sentença, nosso cérebro quebra a sentença em palavras, ou tokens, cada qual com um significado.\n",
    "    - Este processo é chamado tokenização.\n",
    "\n",
    "- Interpretadores e compiladores realizam tokenização para quebrar as sentenças em palavras-chave, operadores, variaveis, etc.\n",
    "\n",
    "- Tokens são separados por delimitadores, tipicamente espaços em branco.\n",
    "    - espaço, tab, nova linha e retorno de carro."
   ]
  },
  {
   "cell_type": "markdown",
   "metadata": {},
   "source": [
    "**Exercício** - Ainda considerando a **Quadrilha**, escreva scripts para:\n",
    "- Obter uma lista com todas a palavras do texto\n",
    "- Separar o texto onde exista ‘,’.\n",
    "- Substitua os espaços por ‘__’.\n",
    "- Obter uma lista onde conste cada palavra existente no texto, uma única vez, juntamente com sua frequência."
   ]
  },
  {
   "cell_type": "code",
   "execution_count": null,
   "metadata": {},
   "outputs": [],
   "source": []
  },
  {
   "cell_type": "markdown",
   "metadata": {},
   "source": [
    "# Expressões regulares"
   ]
  },
  {
   "cell_type": "markdown",
   "metadata": {},
   "source": [
    "Uma expressão regular é um padrão de texto usado para encontrar strings que combinam com este padrão.\n",
    "\n",
    "O módulo **re**, fornece meios para o processamento de expressões regulares em Python\n",
    "\n",
    "https://docs.python.org/3/library/re.html"
   ]
  },
  {
   "cell_type": "markdown",
   "metadata": {},
   "source": [
    "- As expressões regulares podem ajudá-lo a extrair dados de texto não estruturado, como publicações em mídias sociais. \n",
    "\n",
    "- Elas também são importantes para garantir que os dados estejam no formato correto antes você tenta processar"
   ]
  },
  {
   "cell_type": "markdown",
   "metadata": {},
   "source": [
    "Validando Dados\n",
    "\n",
    "Antes de trabalhar com dados de texto, você costuma usar expressões regulares para validar os dados. \n",
    "\n",
    "Por exemplo, você pode verificar se:]\n",
    "\n",
    "• Um CEP dos EUA consiste em cinco dígitos (como 02215) ou cinco dígitos seguidos por\n",
    "um hífen e mais quatro dígitos (como 02215-4775).\n",
    "• Um sobrenome de string contém apenas letras, espaços, apóstrofos e hifens.\n",
    "• Um endereço de e-mail contém apenas os caracteres permitidos na ordem permitida.\n",
    "• O número do Seguro Social dos EUA contém três dígitos, um hífen, dois dígitos, um\n",
    "hífen e quatro dígitos, e segue outras regras sobre os números específicos que\n",
    "pode ser usado em cada grupo de dígitos.\n",
    "\n",
    "Raramente você precisará criar suas próprias expressões regulares para itens comuns como esses.\n",
    "Sites como\n",
    "\n",
    "- https://regex101.com\n",
    "- http://www.regexlib.com\n",
    "- https://www.regular-expressions.info\n",
    "\n",
    "e outros oferecem repositórios de expressões regulares existentes que você pode copiar e usar.\n",
    "Muitos sites como esses também fornecem interfaces nas quais você pode testar expressões regulares para\n",
    "determinar se eles atenderão às suas necessidades"
   ]
  },
  {
   "cell_type": "markdown",
   "metadata": {},
   "source": [
    "### Outros usos de expressões regulares\n",
    "\n",
    "Além de validar dados, as expressões regulares costumam ser usadas para:\n",
    "- Extrair dados do texto (às vezes conhecido como raspagem) - por exemplo, localizar todos URLs em uma página da web. [Você pode preferir ferramentas como BeautifulSoup, XPath e lxml.]\n",
    "- Limpar dados - Por exemplo, removendo dados desnecessários, removendo dados duplicados, tratar dados incompletos, correção de erros de digitação, garantia de formatos de dados consistentes, lidar com outliers e muito mais.\n",
    "- Transforme os dados em outros formatos - por exemplo, reformatando os dados que foram coletados como valores separados por tabulação ou por espaço em valores separados por vírgula (CSV) para um aplicativo que exige que os dados estejam no formato CSV."
   ]
  },
  {
   "cell_type": "markdown",
   "metadata": {},
   "source": [
    "### O módulo _re_ e a função _fullmatch_\n",
    "\n",
    "Para usar expressões regulares, importe o módulo re da biblioteca padrão do Python:"
   ]
  },
  {
   "cell_type": "code",
   "execution_count": 2,
   "metadata": {},
   "outputs": [],
   "source": [
    "import re"
   ]
  },
  {
   "cell_type": "markdown",
   "metadata": {},
   "source": [
    "Uma das funções de expressão regular mais simples é a função **fullmatch**, que verifica se o\n",
    "string inteira em seu segundo argumento corresponde ao padrão em seu primeiro argumento."
   ]
  },
  {
   "cell_type": "code",
   "execution_count": 3,
   "metadata": {},
   "outputs": [],
   "source": [
    "pattern = '02215'"
   ]
  },
  {
   "cell_type": "code",
   "execution_count": 4,
   "metadata": {},
   "outputs": [
    {
     "data": {
      "text/plain": [
       "'Match'"
      ]
     },
     "execution_count": 4,
     "metadata": {},
     "output_type": "execute_result"
    }
   ],
   "source": [
    "'Match' if re.fullmatch(pattern, '02215') else 'No match'"
   ]
  },
  {
   "cell_type": "code",
   "execution_count": 5,
   "metadata": {},
   "outputs": [
    {
     "data": {
      "text/plain": [
       "'No match'"
      ]
     },
     "execution_count": 5,
     "metadata": {},
     "output_type": "execute_result"
    }
   ],
   "source": [
    "'Match' if re.fullmatch(pattern, '51220') else 'No match'"
   ]
  },
  {
   "cell_type": "code",
   "execution_count": null,
   "metadata": {},
   "outputs": [],
   "source": []
  },
  {
   "cell_type": "markdown",
   "metadata": {},
   "source": [
    "### Classes de caracteres e sequências especiais\n",
    "\n",
    "Uma classe de caracteres especifica um grupo de caracteres em uma string.\n",
    "\n",
    "- Os metacaracteres ‘[’ e ‘]’ denotam uma **classe de expressões regulares**. \n",
    "    - Exemplo, a expressão regular \"[abc]\" identifica as letras a, b, c.\n",
    "\n",
    "- Pode-se usar o caractere ‘-’ para indicar intervalos de caracteres.\n",
    "    - Ex. \"[a-d]\" é idêntico à \"[abcd]\"."
   ]
  },
  {
   "cell_type": "code",
   "execution_count": 27,
   "metadata": {},
   "outputs": [
    {
     "data": {
      "text/plain": [
       "'Valid'"
      ]
     },
     "execution_count": 27,
     "metadata": {},
     "output_type": "execute_result"
    }
   ],
   "source": [
    "'Valid' if re.fullmatch('[A-Z][a-z]', 'Ae') else 'Invalid'"
   ]
  },
  {
   "cell_type": "markdown",
   "metadata": {},
   "source": [
    "- O metacaractere ‘^’ quando colocado junto a uma classe, este indica a negação da classe. \n",
    "     - Ex. “[^a-c]” – todo caractere exceto os caracteres a,b,c"
   ]
  },
  {
   "cell_type": "code",
   "execution_count": 7,
   "metadata": {
    "scrolled": true
   },
   "outputs": [
    {
     "data": {
      "text/plain": [
       "'Match'"
      ]
     },
     "execution_count": 7,
     "metadata": {},
     "output_type": "execute_result"
    }
   ],
   "source": [
    "'Match' if re.fullmatch('[^a-z]', 'A') else 'No match'"
   ]
  },
  {
   "cell_type": "code",
   "execution_count": 8,
   "metadata": {},
   "outputs": [
    {
     "data": {
      "text/plain": [
       "'No match'"
      ]
     },
     "execution_count": 8,
     "metadata": {},
     "output_type": "execute_result"
    }
   ],
   "source": [
    "'Match' if re.fullmatch('[^a-z]', 'a') else 'No match'"
   ]
  },
  {
   "cell_type": "markdown",
   "metadata": {},
   "source": [
    "- O caractere ‘|’ pode ser visto como ‘ou’.\n",
    "- Usado para testar a combinação de uma dentre as possíveis  expressões.\n",
    "    - Ex. com|org|edu\n",
    "\n",
    "- Adicinando ‘r’ antes da expressão regular, diz ao interpretador para considerar o ‘\\’ como um caractere. \n",
    "- Assim r\"\\n\" significa dois caracteres, o ‘\\’ e o ‘n’.\n"
   ]
  },
  {
   "cell_type": "markdown",
   "metadata": {},
   "source": [
    "Classes de caracteres combinam, exatamente, com um caractere.\n",
    "\n",
    "- Metacaracteres de repetição (quantificadores) são usados para especificar o número de repetições que se deseja.\n",
    "\n",
    "**?** combina zero ou uma ocorrências da expressão que o precede. <br>\n",
    "**+** combina uma ou mais occurrências da expressão que o precede. <br> \n",
    "**\\*** combina zero ou mais ocorrências da expressão que a precede. <br>\n",
    "**{ n }** combina exatamente **n** ocorrências da expressão que o precede. <br>\n",
    "**{m,n}** combina **entre m e n** ocorrências da expressão que o precede. <br>"
   ]
  },
  {
   "cell_type": "markdown",
   "metadata": {},
   "source": [
    "#### Os quantificadores * e +"
   ]
  },
  {
   "cell_type": "code",
   "execution_count": 11,
   "metadata": {},
   "outputs": [
    {
     "data": {
      "text/plain": [
       "'Valid'"
      ]
     },
     "execution_count": 11,
     "metadata": {},
     "output_type": "execute_result"
    }
   ],
   "source": [
    "'Valid' if re.fullmatch('[A-Z][a-z]+', 'Wally') else 'Invalid'"
   ]
  },
  {
   "cell_type": "code",
   "execution_count": null,
   "metadata": {},
   "outputs": [],
   "source": [
    "'Valid' if re.fullmatch('[A-Z][a-z]*', 'Wally') else 'Invalid'"
   ]
  },
  {
   "cell_type": "code",
   "execution_count": 12,
   "metadata": {},
   "outputs": [
    {
     "data": {
      "text/plain": [
       "'Invalid'"
      ]
     },
     "execution_count": 12,
     "metadata": {},
     "output_type": "execute_result"
    }
   ],
   "source": [
    "'Valid' if re.fullmatch('[A-Z][a-z]+', 'E') else 'Invalid'"
   ]
  },
  {
   "cell_type": "code",
   "execution_count": 17,
   "metadata": {},
   "outputs": [
    {
     "data": {
      "text/plain": [
       "'Valid'"
      ]
     },
     "execution_count": 17,
     "metadata": {},
     "output_type": "execute_result"
    }
   ],
   "source": [
    "'Valid' if re.fullmatch('E{1}', 'E') else 'Invalid'"
   ]
  },
  {
   "cell_type": "markdown",
   "metadata": {},
   "source": [
    "A expressão regular **labell?ed** corresponde à **labelled** (grafia do inglês britânico) e **labeled** (a grafia do inglês americano), mas não a palavra incorreta **labellled**. \n",
    "\n",
    "- Em cada trecho abaixo, os primeiros cinco caracteres literais na expressão regular (**label**) correspondem ao primeiro cinco caracteres dos segundos argumentos. Então **l?** indica que pode haver **zero ou um caractere l** antes dos caracteres **ed** restantes."
   ]
  },
  {
   "cell_type": "code",
   "execution_count": 20,
   "metadata": {},
   "outputs": [
    {
     "data": {
      "text/plain": [
       "'Match'"
      ]
     },
     "execution_count": 20,
     "metadata": {},
     "output_type": "execute_result"
    }
   ],
   "source": [
    "'Match' if re.fullmatch('labell?ed', 'labelled') else 'No match'"
   ]
  },
  {
   "cell_type": "code",
   "execution_count": 25,
   "metadata": {},
   "outputs": [
    {
     "data": {
      "text/plain": [
       "'Match'"
      ]
     },
     "execution_count": 25,
     "metadata": {},
     "output_type": "execute_result"
    }
   ],
   "source": [
    "'Match' if re.fullmatch('labell?ed', 'labeled') else 'No match'"
   ]
  },
  {
   "cell_type": "code",
   "execution_count": 26,
   "metadata": {},
   "outputs": [
    {
     "data": {
      "text/plain": [
       "'No match'"
      ]
     },
     "execution_count": 26,
     "metadata": {},
     "output_type": "execute_result"
    }
   ],
   "source": [
    "'Match' if re.fullmatch('labell?ed', 'labellled') else 'No match'"
   ]
  },
  {
   "attachments": {
    "image.png": {
     "image/png": "[encoded data removed]"
    }
   },
   "cell_type": "markdown",
   "metadata": {},
   "source": [
    "![image.png](attachment:image.png)"
   ]
  },
  {
   "cell_type": "code",
   "execution_count": 9,
   "metadata": {},
   "outputs": [
    {
     "data": {
      "text/plain": [
       "'Valid'"
      ]
     },
     "execution_count": 9,
     "metadata": {},
     "output_type": "execute_result"
    }
   ],
   "source": [
    "'Valid' if re.fullmatch(r'\\d{5}', '02215') else 'Invalid'"
   ]
  },
  {
   "cell_type": "code",
   "execution_count": 10,
   "metadata": {},
   "outputs": [
    {
     "data": {
      "text/plain": [
       "'Invalid'"
      ]
     },
     "execution_count": 10,
     "metadata": {},
     "output_type": "execute_result"
    }
   ],
   "source": [
    "'Valid' if re.fullmatch(r'\\d{5}', '9876') else 'Invalid'"
   ]
  },
  {
   "cell_type": "markdown",
   "metadata": {},
   "source": [
    "Você pode combinar **pelo menos n ocorrências** de uma subexpressão com o quantificador **{n,}**. A seguinte expressão regular corresponde a strings contendo pelo menos três dígitos:"
   ]
  },
  {
   "cell_type": "code",
   "execution_count": 28,
   "metadata": {},
   "outputs": [
    {
     "data": {
      "text/plain": [
       "'Match'"
      ]
     },
     "execution_count": 28,
     "metadata": {},
     "output_type": "execute_result"
    }
   ],
   "source": [
    "'Match' if re.fullmatch(r'\\d{3,}', '123') else 'No match'"
   ]
  },
  {
   "cell_type": "code",
   "execution_count": 29,
   "metadata": {},
   "outputs": [
    {
     "data": {
      "text/plain": [
       "'Match'"
      ]
     },
     "execution_count": 29,
     "metadata": {},
     "output_type": "execute_result"
    }
   ],
   "source": [
    "'Match' if re.fullmatch(r'\\d{3,}', '123456789') else 'No match'"
   ]
  },
  {
   "cell_type": "markdown",
   "metadata": {},
   "source": [
    "**Exercício** Crie e teste uma expressão regular que corresponda a um endereço de rua que\n",
    "consiste uma ou duas palavras, de um ou mais caracteres e um número com um ou mais dígitos. Os tokens devem ser separados por um espaço, como em **Paschoal Marmo 1888**."
   ]
  },
  {
   "cell_type": "code",
   "execution_count": null,
   "metadata": {},
   "outputs": [],
   "source": []
  },
  {
   "cell_type": "markdown",
   "metadata": {},
   "source": [
    "### Substituindo substrings\n",
    "\n",
    "O módulo **_re_** fornece a função **sub** para substituir padrões em uma string com base em padrões."
   ]
  },
  {
   "cell_type": "markdown",
   "metadata": {},
   "source": [
    "Por padrão, a função **sub** substitui todas as ocorrências de um padrão com o\n",
    "texto de substituição que você especificar. \n",
    "\n",
    "Vamos converter uma string delimitada por tabulação em delimitada por vírgulas:"
   ]
  },
  {
   "cell_type": "code",
   "execution_count": 30,
   "metadata": {},
   "outputs": [
    {
     "data": {
      "text/plain": [
       "'1, 2, 3, 4'"
      ]
     },
     "execution_count": 30,
     "metadata": {},
     "output_type": "execute_result"
    }
   ],
   "source": [
    "re.sub(r'\\t', ', ', '1\\t2\\t3\\t4')"
   ]
  },
  {
   "cell_type": "markdown",
   "metadata": {},
   "source": [
    "A função **sub** recebe três argumentos obrigatórios:\n",
    "- o padrão para combinar (o caractere de tabulação '\\t')\n",
    "- o texto de substituição (',') e\n",
    "- a string a ser pesquisada ('1\\t2\\t3\\t4')"
   ]
  },
  {
   "cell_type": "markdown",
   "metadata": {},
   "source": [
    "A palavra-chave **_count_** pode ser usada para especificar o máximo\n",
    "número de substituições:"
   ]
  },
  {
   "cell_type": "code",
   "execution_count": 31,
   "metadata": {
    "scrolled": true
   },
   "outputs": [
    {
     "data": {
      "text/plain": [
       "'1, 2, 3\\t4'"
      ]
     },
     "execution_count": 31,
     "metadata": {},
     "output_type": "execute_result"
    }
   ],
   "source": [
    "re.sub(r'\\t', ', ', '1\\t2\\t3\\t4', count=2)"
   ]
  },
  {
   "cell_type": "markdown",
   "metadata": {},
   "source": [
    "### Dividindo strings"
   ]
  },
  {
   "cell_type": "markdown",
   "metadata": {},
   "source": [
    "A função **split** divide um string em **_tokens_**, usando uma expressão regular para especificar o delimitador, e retorna uma lista de strings.\n",
    "\n",
    "Considere dividir uma string em tokens dividindo-a onde ocorrer **uma vírgula seguida de zero ou mais espaços em branco**\n",
    "- **\\s** é a classe de caractere de espaço em branco e **\\*** indica zero ou mais ocorrências da subexpressão anterior:"
   ]
  },
  {
   "cell_type": "code",
   "execution_count": 32,
   "metadata": {},
   "outputs": [
    {
     "data": {
      "text/plain": [
       "['1', '2', '3', '4', '5', '6', '7', '8']"
      ]
     },
     "execution_count": 32,
     "metadata": {},
     "output_type": "execute_result"
    }
   ],
   "source": [
    "re.split(r',\\s*', '1, 2, 3,4, 5,6,7,8')"
   ]
  },
  {
   "cell_type": "markdown",
   "metadata": {},
   "source": [
    "Use o argumento de palavra-chave **maxsplit** para especificar o número máximo de divisões:"
   ]
  },
  {
   "cell_type": "code",
   "execution_count": 33,
   "metadata": {},
   "outputs": [
    {
     "data": {
      "text/plain": [
       "['1', '2', '3,4, 5,6,7,8']"
      ]
     },
     "execution_count": 33,
     "metadata": {},
     "output_type": "execute_result"
    }
   ],
   "source": [
    "re.split(r',\\s*', '1, 2, 3,4, 5,6,7,8', maxsplit=2)"
   ]
  },
  {
   "cell_type": "markdown",
   "metadata": {},
   "source": [
    "**Exercício** Substitua cada ocorrência de um ou mais caracteres de tabulação adjacentes na\n",
    "a seguinte string por uma vírgula e um espaço:\n",
    "\n",
    "**'A\\tB\\t\\tC\\t\\t\\tD'**"
   ]
  },
  {
   "cell_type": "code",
   "execution_count": null,
   "metadata": {},
   "outputs": [],
   "source": []
  },
  {
   "cell_type": "markdown",
   "metadata": {},
   "source": [
    "**Exercício** Use uma expressão regular e a função **split** para dividir a seguinte\n",
    "string eliminando o caracteres **$**."
   ]
  },
  {
   "cell_type": "code",
   "execution_count": null,
   "metadata": {},
   "outputs": [],
   "source": []
  },
  {
   "cell_type": "markdown",
   "metadata": {},
   "source": [
    "### Outras funções de pesquisa\n",
    "\n",
    "Anteriormente, usamos a função **fullmatch** para determinar se uma string inteira correspondia a um expressão regular. \n",
    "- Existem várias outras funções de pesquisa. Aqui, discutimos o funções de pesquisa, **search**, **match**, **findall** e **finditer**"
   ]
  },
  {
   "cell_type": "markdown",
   "metadata": {},
   "source": [
    "#### A função search\n",
    "\n",
    "- Encontra a primeira substring correspondente em qualquer lugar em uma string.\n",
    "- Retorna um objeto **match** (do tipo **SRE_Match**) que contém a substring correspondente.\n",
    "    - O método **group** do objeto **match** retorna a substring:"
   ]
  },
  {
   "cell_type": "code",
   "execution_count": 35,
   "metadata": {},
   "outputs": [],
   "source": [
    "result = re.search('Python', 'Python é legal')"
   ]
  },
  {
   "cell_type": "code",
   "execution_count": 36,
   "metadata": {},
   "outputs": [
    {
     "data": {
      "text/plain": [
       "'Python'"
      ]
     },
     "execution_count": 36,
     "metadata": {},
     "output_type": "execute_result"
    }
   ],
   "source": [
    "result.group() if result else 'not found'"
   ]
  },
  {
   "cell_type": "markdown",
   "metadata": {},
   "source": [
    "Você pode pesquisar uma correspondência apenas no início de uma string com a função **match**."
   ]
  },
  {
   "cell_type": "code",
   "execution_count": 47,
   "metadata": {},
   "outputs": [],
   "source": [
    "testStrings = [ \"2x+5y\",\"7y-3z\" ]\n",
    "expressions = [ \"2x\\+5y|7y-3z\",\"[0-9][a-zA-Z0-9_].[0-9][yz]\",\"\\d\\w-\\d\\w\" ]\n"
   ]
  },
  {
   "cell_type": "markdown",
   "metadata": {},
   "source": [
    "O operador **.** combina com qualquer caractere."
   ]
  },
  {
   "cell_type": "code",
   "execution_count": 48,
   "metadata": {
    "scrolled": true
   },
   "outputs": [
    {
     "name": "stdout",
     "output_type": "stream",
     "text": [
      "2x\\+5y|7y-3z matches 2x+5y\n",
      "2x\\+5y|7y-3z matches 7y-3z\n",
      "[0-9][a-zA-Z0-9_].[0-9][yz] matches 2x+5y\n",
      "[0-9][a-zA-Z0-9_].[0-9][yz] matches 7y-3z\n",
      "\\d\\w-\\d\\w matches 7y-3z\n"
     ]
    }
   ],
   "source": [
    "for expression in expressions:\n",
    "    for testString in testStrings:\n",
    "        if re.match( expression, testString ):\n",
    "            print(expression, \"matches\", testString)"
   ]
  },
  {
   "cell_type": "markdown",
   "metadata": {},
   "source": [
    "Muitas funções do módulo de referência recebem um argumento opcional de palavra-chave **flags** que muda como expressões regulares são combinadas. \n",
    "\n",
    "- Por exemplo, as correspondências diferenciam maiúsculas de minúsculas por padrão, mas pode-se usar a constante **IGNORECASE** do módulo **re**, para realizar uma pesquisa que não diferencia maiúsculas de minúsculas:"
   ]
  },
  {
   "cell_type": "code",
   "execution_count": 79,
   "metadata": {},
   "outputs": [],
   "source": [
    "result3 = re.search('Sam', 'SAM WHITE', flags=re.IGNORECASE)"
   ]
  },
  {
   "cell_type": "code",
   "execution_count": 80,
   "metadata": {
    "scrolled": true
   },
   "outputs": [
    {
     "data": {
      "text/plain": [
       "'SAM'"
      ]
     },
     "execution_count": 80,
     "metadata": {},
     "output_type": "execute_result"
    }
   ],
   "source": [
    "result3.group() if result3 else 'not found'"
   ]
  },
  {
   "cell_type": "code",
   "execution_count": 78,
   "metadata": {},
   "outputs": [
    {
     "data": {
      "text/plain": [
       "'SAM'"
      ]
     },
     "execution_count": 78,
     "metadata": {},
     "output_type": "execute_result"
    }
   ],
   "source": [
    "result3.group()"
   ]
  },
  {
   "cell_type": "markdown",
   "metadata": {},
   "source": [
    "- O metacaractere ‘^’ indica que a expressão que o sucede deve aparecer no início da string;\n",
    "    - “^OLA” – combina com strings que começam com OLA.\n",
    "\n",
    "- O metacaractere ‘\\$’ indica que a expressão que o precede deve aparecer no final da string; \n",
    "    - Ex. “AVA\\$” – combina com strings que terminam com AVA."
   ]
  },
  {
   "cell_type": "code",
   "execution_count": 42,
   "metadata": {},
   "outputs": [],
   "source": [
    "result = re.search('^Python', 'Python is fun')"
   ]
  },
  {
   "cell_type": "code",
   "execution_count": 43,
   "metadata": {},
   "outputs": [
    {
     "data": {
      "text/plain": [
       "'Python'"
      ]
     },
     "execution_count": 43,
     "metadata": {},
     "output_type": "execute_result"
    }
   ],
   "source": [
    "result.group() if result else 'not found'"
   ]
  },
  {
   "cell_type": "code",
   "execution_count": 44,
   "metadata": {},
   "outputs": [],
   "source": [
    "result = re.search('^fun', 'Python is fun')"
   ]
  },
  {
   "cell_type": "code",
   "execution_count": 91,
   "metadata": {},
   "outputs": [],
   "source": [
    "result = re.search('Python$', 'Python is fun')"
   ]
  },
  {
   "cell_type": "code",
   "execution_count": 92,
   "metadata": {},
   "outputs": [
    {
     "data": {
      "text/plain": [
       "'not found'"
      ]
     },
     "execution_count": 92,
     "metadata": {},
     "output_type": "execute_result"
    }
   ],
   "source": [
    "result.group() if result else 'not found'"
   ]
  },
  {
   "cell_type": "code",
   "execution_count": 93,
   "metadata": {},
   "outputs": [],
   "source": [
    "result = re.search('fun$', 'Python is fun')"
   ]
  },
  {
   "cell_type": "code",
   "execution_count": 94,
   "metadata": {},
   "outputs": [
    {
     "data": {
      "text/plain": [
       "'fun'"
      ]
     },
     "execution_count": 94,
     "metadata": {},
     "output_type": "execute_result"
    }
   ],
   "source": [
    "result.group() if result else 'not found'"
   ]
  },
  {
   "cell_type": "markdown",
   "metadata": {},
   "source": [
    "#### Encontrar todas as correspondências em uma string\n",
    "A função **findall** encontra todos as substring correspondentes em uma string e retorna uma lista das substrings. \n",
    "\n",
    "Vamos extrair todos os números de telefone de uma string. Para simplificar, vamos\n",
    "supor que os números de telefone tenham o formato #####-####:"
   ]
  },
  {
   "cell_type": "code",
   "execution_count": 1,
   "metadata": {},
   "outputs": [],
   "source": [
    "contact = 'Wally White, Home: 55555-1234, Work: 55555-4321'"
   ]
  },
  {
   "cell_type": "code",
   "execution_count": 3,
   "metadata": {},
   "outputs": [
    {
     "data": {
      "text/plain": [
       "['55555-1234', '55555-4321']"
      ]
     },
     "execution_count": 3,
     "metadata": {},
     "output_type": "execute_result"
    }
   ],
   "source": [
    "re.findall(r'\\d{5}-\\d{4}', contact)"
   ]
  },
  {
   "cell_type": "markdown",
   "metadata": {},
   "source": [
    "A função **finditer** funciona como **findall**, no entanto retorna um iterável dos objetos correspondentes. \n",
    "- Para um grande número de correspondências, **finditer** pode economizar memória porque retorna uma correspondência por vez\n",
    "    - enquanto **findall** retorna todas as correspondências de uma vez"
   ]
  },
  {
   "cell_type": "code",
   "execution_count": 5,
   "metadata": {},
   "outputs": [
    {
     "name": "stdout",
     "output_type": "stream",
     "text": [
      "55555-1234\n",
      "55555-4321\n"
     ]
    }
   ],
   "source": [
    "for phone in re.finditer(r'\\d{5}-\\d{4}', contact):\n",
    "    print(phone.group())"
   ]
  },
  {
   "cell_type": "markdown",
   "metadata": {},
   "source": [
    "Você pode usar os metacaracteres parênteses - **( )** - para capturar substrings de uma correspondência. \n",
    "\n",
    "- Por exemplo, vamos capturar como substrings separadas o nome e o endereço de e-mail no texto da string:"
   ]
  },
  {
   "cell_type": "code",
   "execution_count": 7,
   "metadata": {},
   "outputs": [],
   "source": [
    "text = 'Charlie Cyan, e-mail: demo1@unicamp.com'"
   ]
  },
  {
   "cell_type": "code",
   "execution_count": 8,
   "metadata": {},
   "outputs": [],
   "source": [
    "pattern = r'([A-Z][a-z]+ [A-Z][a-z]+), e-mail: (\\w+@\\w+\\.\\w{3})'"
   ]
  },
  {
   "cell_type": "markdown",
   "metadata": {},
   "source": [
    "Vamos considerar a expressão regular:\n",
    "- **'([A-Z][a-z]+ [A-Z][a-z]+)'** corresponde a duas palavras separadas por um espaço.\n",
    "    -Cada palavra deve ter a letra inicial maiúscula.\n",
    "- **', e-mail:'** contém caracteres literais que correspondem a eles próprios.\n",
    "- **(\\w+@\\w+\\.\\w{3})** corresponde a um endereço de e-mail simples consistindo em um ou mais caracteres alfanuméricos (\\w+), o caractere @, um ou mais caracteres alfanuméricos (\\w+), um ponto (\\.) e três caracteres alfanuméricos (\\w{3}). \n",
    "    - O ponto deve ser precedido de \\ pois é um metacaractere de expressão regular que corresponde um caractere."
   ]
  },
  {
   "cell_type": "code",
   "execution_count": 9,
   "metadata": {},
   "outputs": [],
   "source": [
    "result = re.search(pattern, text)"
   ]
  },
  {
   "cell_type": "markdown",
   "metadata": {},
   "source": [
    "O método **groups** do objeto **match** reorna uma tupla das substrings capturadas:"
   ]
  },
  {
   "cell_type": "code",
   "execution_count": 10,
   "metadata": {
    "scrolled": true
   },
   "outputs": [
    {
     "data": {
      "text/plain": [
       "('Charlie Cyan', 'demo1@unicamp.com')"
      ]
     },
     "execution_count": 10,
     "metadata": {},
     "output_type": "execute_result"
    }
   ],
   "source": [
    "result.groups()"
   ]
  },
  {
   "cell_type": "markdown",
   "metadata": {},
   "source": [
    "O método **group** do objeto **match** retorna a correspondência inteira como uma única string:"
   ]
  },
  {
   "cell_type": "code",
   "execution_count": 11,
   "metadata": {},
   "outputs": [
    {
     "data": {
      "text/plain": [
       "'Charlie Cyan, e-mail: demo1@unicamp.com'"
      ]
     },
     "execution_count": 11,
     "metadata": {},
     "output_type": "execute_result"
    }
   ],
   "source": [
    "result.group()"
   ]
  },
  {
   "cell_type": "markdown",
   "metadata": {},
   "source": [
    "Você pode acessar cada substring capturada passando um número inteiro para o método **group**. \n",
    "- As substrings capturados são numerados a partir de 1 (ao contrário dos índices de lista, que começam em 0)"
   ]
  },
  {
   "cell_type": "code",
   "execution_count": 12,
   "metadata": {},
   "outputs": [
    {
     "data": {
      "text/plain": [
       "'Charlie Cyan'"
      ]
     },
     "execution_count": 12,
     "metadata": {},
     "output_type": "execute_result"
    }
   ],
   "source": [
    "result.group(1)"
   ]
  },
  {
   "cell_type": "code",
   "execution_count": 13,
   "metadata": {},
   "outputs": [
    {
     "data": {
      "text/plain": [
       "'demo1@unicamp.com'"
      ]
     },
     "execution_count": 13,
     "metadata": {},
     "output_type": "execute_result"
    }
   ],
   "source": [
    "result.group(2)"
   ]
  },
  {
   "cell_type": "markdown",
   "metadata": {},
   "source": [
    "**Exercício** Crie uma expressão regular para obter o nome, o telefone e o email da senteça:"
   ]
  },
  {
   "cell_type": "raw",
   "metadata": {},
   "source": [
    "Albert Antstein, phone: 123-4567, e-mail: albert@bug2bug.com"
   ]
  },
  {
   "cell_type": "code",
   "execution_count": null,
   "metadata": {},
   "outputs": [],
   "source": []
  },
  {
   "cell_type": "markdown",
   "metadata": {},
   "source": [
    "# Introdução à ciência de dados: pandas, expressões regulares e pré-processamento de dados"
   ]
  },
  {
   "cell_type": "markdown",
   "metadata": {},
   "source": [
    "Os dados nem sempre vêm em formulários prontos para análise. \n",
    "- Podem, por exemplo, estar no formato errado, incorreto ou mesmo ausente. \n",
    "- Cientistas de dados podem gastar até 75% de seu tempo preparando dados antes de começarem seus estudos.\n",
    "\n",
    "O pré-processamento de dados também é chamado de *data munging* ou *data wrangling*. \n",
    "Duas das etapas mais importantes na manipulação de dados são a limpeza e transformação de dados\n",
    "dados nos formatos ideais para seus sistemas de banco de dados e software analítico. \n",
    "Exemplos de limpeza de dados são:\n",
    "    \n",
    "- excluir observações com valores ausentes,\n",
    "- substituir valores razoáveis ​​por valores ausentes,\n",
    "- excluir observações com valores ruins,\n",
    "- substituir valores razoáveis ​​por valores ruins,\n",
    "- lançando outliers (embora às vezes você queira mantê-los),\n",
    "- eliminação de duplicatas (embora às vezes as duplicatas sejam válidas),\n",
    "- lidar com dados inconsistentes,\n",
    "- e mais."
   ]
  },
  {
   "cell_type": "markdown",
   "metadata": {},
   "source": [
    "Você provavelmente já está pensando que a limpeza de dados é um processo difícil e confuso, onde você poderia facilmente tomar decisões erradas que afetariam negativamente seus resultados. \n",
    "- Você está correto!\n",
    "\n",
    "Quando você chegar aos estudos de caso de ciência de dados nos capítulos posteriores, verá esses dados ciência é mais uma ciência empírica, como a medicina, e menos uma ciência teórica, como física Teórica. As ciências empíricas baseiam suas conclusões em observações e experiências. \n",
    "\n",
    "Por exemplo, muitos medicamentos que efetivamente resolvem problemas médicos hoje foram\n",
    "desenvolvido pela observação dos efeitos que as primeiras versões desses medicamentos tiveram em animais de laboratório e eventualmente humanos, e gradualmente refinando ingredientes e dosagens. Os dados de ações\n",
    "os cientistas tomam pode variar por projeto, com base na qualidade e natureza dos dados e ser\n",
    "afetados pela organização em evolução e padrões profissionais.\n",
    "Algumas transformações de dados comuns incluem:]\n",
    "\n",
    "• remover dados e recursos desnecessários (falaremos mais sobre os recursos nos dados\n",
    "estudos de caso de ciências),\n",
    "• combinando recursos relacionados,\n",
    "• dados de amostragem para obter um subconjunto representativo (veremos no caso da ciência de dados\n",
    "estudos que a amostragem aleatória é particularmente eficaz para isso e diremos por quê),\n",
    "• padronizar formatos de dados,\n",
    "• agrupamento de dados,\n",
    "• e mais.\n",
    "\n",
    "É sempre bom manter seus dados originais. Mostraremos exemplos simples de limpeza\n",
    "e transformação de dados usando **Pandas Series** e **DataFrames**."
   ]
  },
  {
   "cell_type": "markdown",
   "metadata": {},
   "source": [
    "### Limpando seus dados\n",
    "Valores de dados inválidos e valores ausentes podem afetar significativamente a análise de dados. Alguns cientistas de dados aconselham contra quaisquer tentativas de inserir \"valores razoáveis\". Em vez disso, eles defendem marcando claramente os dados ausentes e deixando para o pacote de análise de dados lidar com o questão. \n",
    "Vamos considerar um hospital que registra as temperaturas dos pacientes (e provavelmente outros\n",
    "sinais) quatro vezes por dia. Suponha que os dados consistam em um nome e quatro valores reais,\n",
    "tal como:"
   ]
  },
  {
   "cell_type": "raw",
   "metadata": {},
   "source": [
    "['Brown, Sue', 98.6, 98.4, 98.7, 0.0]"
   ]
  },
  {
   "cell_type": "markdown",
   "metadata": {},
   "source": [
    "Note que a última temperatura esta faltando e foi registrada como 0,0, talvez devido ao mau funcionamento do sensor.\n",
    "\n",
    "A média dos três primeiros valores é 98,57, o que está próximo do normal. Contudo,\n",
    "se você calcular a temperatura média incluindo o valor ausente para o qual 0,0 foi\n",
    "substituído, a média é de apenas 73,93, resultado claramente questionável. Certamente, os médicos iriam não quero tomar medidas corretivas drásticas neste paciente - é crucial \"obter os dados corretos\".\n",
    "\n",
    "Uma maneira comum de limpar os dados é substituir um valor razoável pelo ausente\n",
    "temperatura, como a média das outras leituras do paciente. Se tivéssemos feito isso acima,\n",
    "então a temperatura média do paciente permaneceria 98,57 - uma média muito mais provável\n",
    "temperatura, com base nas outras leituras."
   ]
  },
  {
   "cell_type": "markdown",
   "metadata": {},
   "source": [
    "#### Validação de dados\n",
    "\n",
    "Vamos começar criando uma **Serie** de códigos postais de cinco dígitos a partir de um dicionário de nome da cidade / codigo de 5 dígitos\n",
    "- Inserimos intencionalmente um CEP inválido para Miami:"
   ]
  },
  {
   "cell_type": "code",
   "execution_count": 15,
   "metadata": {},
   "outputs": [],
   "source": [
    "import pandas as pd"
   ]
  },
  {
   "cell_type": "code",
   "execution_count": 16,
   "metadata": {},
   "outputs": [],
   "source": [
    "zips = pd.Series({'Boston': '02215', 'Miami': '3310'})"
   ]
  },
  {
   "cell_type": "code",
   "execution_count": 17,
   "metadata": {},
   "outputs": [
    {
     "data": {
      "text/plain": [
       "Boston    02215\n",
       "Miami      3310\n",
       "dtype: object"
      ]
     },
     "execution_count": 17,
     "metadata": {},
     "output_type": "execute_result"
    }
   ],
   "source": [
    "zips"
   ]
  },
  {
   "cell_type": "markdown",
   "metadata": {},
   "source": [
    "Embora *zips* pareça uma matriz bidimensional, na verdade é unidimensional. \n",
    "- A segundo coluna ”representa os valores do CEP da série (dos valores do dicionário), e a - “primeira coluna” representa seus índices (das chaves do dicionário).\n",
    "\n",
    "Podemos usar expressões regulares com **Pandas** para validar dados. \n",
    "- O atributo **str** de uma **Serie** fornece processamento de strings e vários métodos de expressão regular. \n",
    "- Vamos usar o método **match** do atributo **str** para verificar se cada CEP é válido:"
   ]
  },
  {
   "cell_type": "code",
   "execution_count": 18,
   "metadata": {},
   "outputs": [
    {
     "data": {
      "text/plain": [
       "Boston     True\n",
       "Miami     False\n",
       "dtype: bool"
      ]
     },
     "execution_count": 18,
     "metadata": {},
     "output_type": "execute_result"
    }
   ],
   "source": [
    "zips.str.match(r'\\d{5}')"
   ]
  },
  {
   "cell_type": "markdown",
   "metadata": {},
   "source": [
    "O método **match** aplica a expressão regular **\\d{5}** a _cada_ elemento da série, verificando se o elemento é composto de exatamente cinco dígitos. \n",
    "- Você não precisa fazer um laço explicitamente em todos os códigos postais.\n",
    "- Este é outro exemplo de estilo de programação com iteração interna em vez de externa. \n",
    "\n",
    "O método retorna uma nova **Serie** contendo **True** para cada elemento válido. Nesse caso, o CEP de Miami não corresponde, então seu elemento é **False**."
   ]
  },
  {
   "cell_type": "markdown",
   "metadata": {},
   "source": [
    "Existem várias maneiras de lidar com dados inválidos. Uma é pegá-lo em sua fonte e\n",
    "interagir com a fonte para corrigir o valor. Isso nem sempre é possível. Por exemplo, o\n",
    "os dados podem estar vindo de sensores de alta velocidade na Internet das Coisas. Nesse caso, nós não seria capaz de corrigi-lo na fonte, portanto, poderíamos aplicar técnicas de limpeza de dados.\n",
    "No caso do CEP de Miami inválido de 3310, podemos procurar por CEPs de Miami\n",
    "começando com 3310. Existem dois - 33101 e 33109 - e poderíamos escolher um deles.\n",
    "\n",
    "Às vezes, em vez de combinar um valor inteiro com um padrão, você vai querer saber\n",
    "se um valor contém uma substring que corresponda ao padrão. Neste caso, use o método\n",
    "contém em vez de correspondência. Vamos criar uma série de strings, cada uma contendo uma cidade dos EUA,\n",
    "estado e CEP, em seguida, determine se cada string contém uma substring que corresponde ao\n",
    "padrão **'[A-Z]{2}'** (um espaço, seguido por duas letras maiúsculas, seguidas por um espaço):"
   ]
  },
  {
   "cell_type": "code",
   "execution_count": 19,
   "metadata": {},
   "outputs": [],
   "source": [
    "cities = pd.Series(['Boston, MA 02215', 'Miami, FL 33101'])"
   ]
  },
  {
   "cell_type": "code",
   "execution_count": 20,
   "metadata": {},
   "outputs": [
    {
     "data": {
      "text/plain": [
       "0    Boston, MA 02215\n",
       "1     Miami, FL 33101\n",
       "dtype: object"
      ]
     },
     "execution_count": 20,
     "metadata": {},
     "output_type": "execute_result"
    }
   ],
   "source": [
    "cities"
   ]
  },
  {
   "cell_type": "markdown",
   "metadata": {},
   "source": [
    "Não especificamos os valores do índice, portanto, a Serie usa índices iniciado em zero por padrão. \n",
    "- O trecho a seguir usa **contains** para mostrar que ambos os elementos da série contêm substrings que correspondem a **'[A-Z]{2}'**. \n",
    "- Depois, **match** é usado para mostrar que nenhum valor do elemento corresponde a esse padrão em sua totalidade, porque cada um possui outros caracteres em seu valor completo."
   ]
  },
  {
   "cell_type": "code",
   "execution_count": 21,
   "metadata": {},
   "outputs": [
    {
     "data": {
      "text/plain": [
       "0    True\n",
       "1    True\n",
       "dtype: bool"
      ]
     },
     "execution_count": 21,
     "metadata": {},
     "output_type": "execute_result"
    }
   ],
   "source": [
    "cities.str.contains(r' [A-Z]{2} ')"
   ]
  },
  {
   "cell_type": "code",
   "execution_count": 22,
   "metadata": {},
   "outputs": [
    {
     "data": {
      "text/plain": [
       "0    False\n",
       "1    False\n",
       "dtype: bool"
      ]
     },
     "execution_count": 22,
     "metadata": {},
     "output_type": "execute_result"
    }
   ],
   "source": [
    "cities.str.match(r' [A-Z]{2} ')"
   ]
  }
 ],
 "metadata": {
  "kernelspec": {
   "display_name": "Python 3",
   "language": "python",
   "name": "python3"
  },
  "language_info": {
   "codemirror_mode": {
    "name": "ipython",
    "version": 3
   },
   "file_extension": ".py",
   "mimetype": "text/x-python",
   "name": "python",
   "nbconvert_exporter": "python",
   "pygments_lexer": "ipython3",
   "version": "3.7.4"
  }
 },
 "nbformat": 4,
 "nbformat_minor": 2
}