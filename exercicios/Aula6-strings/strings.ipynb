{
  "nbformat": 4,
  "nbformat_minor": 0,
  "metadata": {
    "kernelspec": {
      "display_name": "Python 3",
      "language": "python",
      "name": "python3"
    },
    "language_info": {
      "codemirror_mode": {
        "name": "ipython",
        "version": 3
      },
      "file_extension": ".py",
      "mimetype": "text/x-python",
      "name": "python",
      "nbconvert_exporter": "python",
      "pygments_lexer": "ipython3",
      "version": "3.7.4"
    },
    "colab": {
      "name": "strings.ipynb",
      "provenance": [],
      "include_colab_link": true
    }
  },
  "cells": [
    {
      "cell_type": "markdown",
      "metadata": {
        "id": "view-in-github",
        "colab_type": "text"
      },
      "source": [
        "<a href=\"https://colab.research.google.com/github/matheuspercario/TT007-AnaliseDadosPython/blob/master/exercicios/Aula6-strings/strings.ipynb\" target=\"_parent\"><img src=\"https://colab.research.google.com/assets/colab-badge.svg\" alt=\"Open In Colab\"/></a>"
      ]
    },
    {
      "cell_type": "markdown",
      "metadata": {
        "id": "m755YUuc2NYW"
      },
      "source": [
        "# Strings"
      ]
    },
    {
      "cell_type": "markdown",
      "metadata": {
        "id": "Ro866XWf2NYW"
      },
      "source": [
        "- Python suporta strings como um tipo de dado básico.\n",
        "- Stings são objetos imutáveis. Não podem ser alteradas após sua criação.\n",
        "\n",
        "Quando um método que altera uma string é chamado; na verdade este retorna uma nova string."
      ]
    },
    {
      "cell_type": "markdown",
      "metadata": {
        "id": "IH9zj9s82NYW"
      },
      "source": [
        "## Strings formatadas"
      ]
    },
    {
      "cell_type": "markdown",
      "metadata": {
        "id": "AdMwWGqm2NYW"
      },
      "source": [
        "### Tipos de Apresentação\n",
        "\n",
        "Você viu a formatação básica de strings com f-strings. Quando você especifica um espaço reservado para um valor em uma f-string, Python assume que o valor deve ser exibido como uma string, a menos que você especifique outro tipo. \n",
        "\n",
        "Em alguns casos, o tipo é obrigatório. Por exemplo, vamos formatar o valor de ponto flutuante 17.489 arredondado para a posição dois centésimos:"
      ]
    },
    {
      "cell_type": "code",
      "metadata": {
        "id": "xvoeG_0z2NYW",
        "outputId": "e21a5080-9d20-4ec5-daa2-56bdf39c09db",
        "colab": {
          "base_uri": "https://localhost:8080/",
          "height": 35
        }
      },
      "source": [
        "f'{17.489:.2f}'"
      ],
      "execution_count": 1,
      "outputs": [
        {
          "output_type": "execute_result",
          "data": {
            "application/vnd.google.colaboratory.intrinsic+json": {
              "type": "string"
            },
            "text/plain": [
              "'17.49'"
            ]
          },
          "metadata": {
            "tags": []
          },
          "execution_count": 1
        }
      ]
    },
    {
      "cell_type": "markdown",
      "metadata": {
        "id": "46Aij_e42NYY"
      },
      "source": [
        "Python oferece suporte a precisão apenas para valores de ponto flutuante e **Decimal**. \n",
        "- A formatação é dependente do tipo - se você tentar usar **.2f** para formatar uma string como **'hello'**, ocorre um **ValueError**. \n",
        "    - O tipo de apresentação **f** no especificador de formato **.2f** é necessário. \n",
        "    - Indica que tipo que está sendo formatado para que o Python possa determinar se as outras informações de formatação são permitidas para esse tipo. \n",
        "- A lista completa com dos tipos pode ser acessada em: \n",
        "https://docs.python.org/3/library/string.html#formatspec"
      ]
    },
    {
      "cell_type": "markdown",
      "metadata": {
        "id": "mNUHDdaI2NYY"
      },
      "source": [
        "#### Inteiros\n",
        "\n",
        "O tipo de apresentação **d** formata valores inteiros como strings"
      ]
    },
    {
      "cell_type": "code",
      "metadata": {
        "id": "pvNUDwaS2NYY",
        "outputId": "75ae7937-e40e-47dc-d1b6-fac42b2c1593",
        "colab": {
          "base_uri": "https://localhost:8080/",
          "height": 35
        }
      },
      "source": [
        "f'{10:d}'"
      ],
      "execution_count": 2,
      "outputs": [
        {
          "output_type": "execute_result",
          "data": {
            "application/vnd.google.colaboratory.intrinsic+json": {
              "type": "string"
            },
            "text/plain": [
              "'10'"
            ]
          },
          "metadata": {
            "tags": []
          },
          "execution_count": 2
        }
      ]
    },
    {
      "cell_type": "markdown",
      "metadata": {
        "id": "rs18OVi42NYY"
      },
      "source": [
        "#### Caracteres \n",
        "\n",
        "O tipo de apresentação **c** formata um código de caractere inteiro como o caractere correspondente"
      ]
    },
    {
      "cell_type": "code",
      "metadata": {
        "id": "cskxGqEW2NYY",
        "outputId": "fe8659fb-858f-49b1-8184-82bad8470f7b",
        "colab": {
          "base_uri": "https://localhost:8080/",
          "height": 35
        }
      },
      "source": [
        "f'{65:c} {97:c}'"
      ],
      "execution_count": 3,
      "outputs": [
        {
          "output_type": "execute_result",
          "data": {
            "application/vnd.google.colaboratory.intrinsic+json": {
              "type": "string"
            },
            "text/plain": [
              "'A a'"
            ]
          },
          "metadata": {
            "tags": []
          },
          "execution_count": 3
        }
      ]
    },
    {
      "cell_type": "markdown",
      "metadata": {
        "id": "1DR6c7WJ2NYY"
      },
      "source": [
        "O tipo de apresentação **s** é o padrão. \n",
        "- Se você especificar **s** explicitamente, o valor a formatar deve ser uma variável que faz referência a uma string,\n",
        "- uma expressão que produz uma string \n",
        "- ou um literal de string, como em f'{\"hello\":s}. \n",
        "- Se você não especificar um tipo de apresentação, como em {7}, os valores não string, como o inteiro 7, são convertidos em strings:"
      ]
    },
    {
      "cell_type": "code",
      "metadata": {
        "id": "_FurrB562NYY",
        "outputId": "21a25589-3e9e-4b37-c128-eec3589adb17",
        "colab": {
          "base_uri": "https://localhost:8080/",
          "height": 35
        }
      },
      "source": [
        "f'{\"hello\":s} {7}'"
      ],
      "execution_count": 4,
      "outputs": [
        {
          "output_type": "execute_result",
          "data": {
            "application/vnd.google.colaboratory.intrinsic+json": {
              "type": "string"
            },
            "text/plain": [
              "'hello 7'"
            ]
          },
          "metadata": {
            "tags": []
          },
          "execution_count": 4
        }
      ]
    },
    {
      "cell_type": "markdown",
      "metadata": {
        "id": "G9q7p2_s2NYY"
      },
      "source": [
        "#### Valores de ponto flutuante e Decimal\n",
        "\n",
        "Você usou o tipo de apresentação **f** para formatar valores de ponto flutuante e decimais. \n",
        "- Para valores extremamente grandes, ou pequenos, a notação exponencial (científica) pode ser usada para formatar os valores com o tipo de apresentação **e** ou (**E**). "
      ]
    },
    {
      "cell_type": "code",
      "metadata": {
        "id": "RUoy31wC2NYY"
      },
      "source": [
        "from decimal import Decimal"
      ],
      "execution_count": 5,
      "outputs": []
    },
    {
      "cell_type": "code",
      "metadata": {
        "id": "0VpcA9bS2NYY",
        "outputId": "e974451e-1529-4ed9-e941-690ada4d2f9d",
        "colab": {
          "base_uri": "https://localhost:8080/",
          "height": 35
        }
      },
      "source": [
        "f'{Decimal(\"10000000000000000000000000.0\"):.3f}'"
      ],
      "execution_count": 6,
      "outputs": [
        {
          "output_type": "execute_result",
          "data": {
            "application/vnd.google.colaboratory.intrinsic+json": {
              "type": "string"
            },
            "text/plain": [
              "'10000000000000000000000000.000'"
            ]
          },
          "metadata": {
            "tags": []
          },
          "execution_count": 6
        }
      ]
    },
    {
      "cell_type": "code",
      "metadata": {
        "id": "NgGariID2NYY",
        "outputId": "8808707b-f82b-4996-d8c8-4be3266d1e8b",
        "colab": {
          "base_uri": "https://localhost:8080/",
          "height": 35
        }
      },
      "source": [
        "f'{Decimal(\"10000000000000000000000000.0\"):.3e}'"
      ],
      "execution_count": 7,
      "outputs": [
        {
          "output_type": "execute_result",
          "data": {
            "application/vnd.google.colaboratory.intrinsic+json": {
              "type": "string"
            },
            "text/plain": [
              "'1.000e+25'"
            ]
          },
          "metadata": {
            "tags": []
          },
          "execution_count": 7
        }
      ]
    },
    {
      "cell_type": "markdown",
      "metadata": {
        "id": "80U-6Jeb2NYY"
      },
      "source": [
        "** Larguras e alinhamento de campo\n",
        "\n",
        "Por padrão, o Python alinha os números à direita e à esquerda outros valores, como strings\n",
        "- Os resultados abaixo estão entre colchetes ([]) para que você possa ver como os valores se alinham no campo:"
      ]
    },
    {
      "cell_type": "code",
      "metadata": {
        "id": "zBOcA_002NYY",
        "outputId": "64221947-1da2-4112-a31b-b5d6fb14018f",
        "colab": {
          "base_uri": "https://localhost:8080/",
          "height": 35
        }
      },
      "source": [
        "f'[{27:10d}]'"
      ],
      "execution_count": 8,
      "outputs": [
        {
          "output_type": "execute_result",
          "data": {
            "application/vnd.google.colaboratory.intrinsic+json": {
              "type": "string"
            },
            "text/plain": [
              "'[        27]'"
            ]
          },
          "metadata": {
            "tags": []
          },
          "execution_count": 8
        }
      ]
    },
    {
      "cell_type": "code",
      "metadata": {
        "id": "gV8kntxG2NYY",
        "outputId": "f496e25a-c7a6-4229-f5df-3dc52e2de032",
        "colab": {
          "base_uri": "https://localhost:8080/",
          "height": 35
        }
      },
      "source": [
        "f'[{3.5:10f}]'"
      ],
      "execution_count": 9,
      "outputs": [
        {
          "output_type": "execute_result",
          "data": {
            "application/vnd.google.colaboratory.intrinsic+json": {
              "type": "string"
            },
            "text/plain": [
              "'[  3.500000]'"
            ]
          },
          "metadata": {
            "tags": []
          },
          "execution_count": 9
        }
      ]
    },
    {
      "cell_type": "code",
      "metadata": {
        "id": "bY9TdXlb2NYZ",
        "outputId": "915cfc24-cdb0-494d-de0f-e0df90b8199c",
        "colab": {
          "base_uri": "https://localhost:8080/",
          "height": 35
        }
      },
      "source": [
        "f'[{\"hello\":10}]'"
      ],
      "execution_count": 10,
      "outputs": [
        {
          "output_type": "execute_result",
          "data": {
            "application/vnd.google.colaboratory.intrinsic+json": {
              "type": "string"
            },
            "text/plain": [
              "'[hello     ]'"
            ]
          },
          "metadata": {
            "tags": []
          },
          "execution_count": 10
        }
      ]
    },
    {
      "cell_type": "markdown",
      "metadata": {
        "id": "Wyz5atTM2NYZ"
      },
      "source": [
        "Por padrão, Python formata valores flutuantes com seis dígitos de precisão para à direita do ponto decimal.\n",
        "- Para valores com menos caracteres do que o campo largura, as posições restantes dos caracteres são preenchidas com espaços. \n",
        "- Valores com mais caracteres do que a largura do campo, use quantas posições de caracteres forem necessárias."
      ]
    },
    {
      "cell_type": "markdown",
      "metadata": {
        "id": "FJfYxSM02NYZ"
      },
      "source": [
        "#### Especificando explicitamente o alinhamento à esquerda e à direita em um campo\n",
        "\n",
        "Lembre-se de que você pode especificar o alinhamento à esquerda e à direita com **<** e **>**:"
      ]
    },
    {
      "cell_type": "code",
      "metadata": {
        "id": "nbQGtBCk2NYZ",
        "outputId": "655bf367-c922-4507-bbd2-891d4842fa99"
      },
      "source": [
        "f'[{27:<15d}]'"
      ],
      "execution_count": null,
      "outputs": [
        {
          "output_type": "execute_result",
          "data": {
            "text/plain": [
              "'[27             ]'"
            ]
          },
          "metadata": {
            "tags": []
          },
          "execution_count": 13
        }
      ]
    },
    {
      "cell_type": "code",
      "metadata": {
        "id": "kDqPdoPG2NYZ",
        "outputId": "a296da6d-9cdc-428e-87f7-1e660c827158"
      },
      "source": [
        "f'[{3.5:<15f}]'"
      ],
      "execution_count": null,
      "outputs": [
        {
          "output_type": "execute_result",
          "data": {
            "text/plain": [
              "'[3.500000       ]'"
            ]
          },
          "metadata": {
            "tags": []
          },
          "execution_count": 14
        }
      ]
    },
    {
      "cell_type": "code",
      "metadata": {
        "id": "Afdk6Pwa2NYZ",
        "outputId": "75dfa077-62d3-404b-c861-6fd0e311d845"
      },
      "source": [
        "f'[{\"hello\":>15}]'"
      ],
      "execution_count": null,
      "outputs": [
        {
          "output_type": "execute_result",
          "data": {
            "text/plain": [
              "'[          hello]'"
            ]
          },
          "metadata": {
            "tags": []
          },
          "execution_count": 15
        }
      ]
    },
    {
      "cell_type": "markdown",
      "metadata": {
        "id": "0jZiKi-l2NYZ"
      },
      "source": [
        "#### Centralizando um valor em um campo\n",
        "\n",
        "Além disso, você pode centralizar valores:"
      ]
    },
    {
      "cell_type": "code",
      "metadata": {
        "id": "CnkFs1HW2NYZ",
        "outputId": "5cc9f959-4c2c-447a-8640-d4c9b66a4ea6"
      },
      "source": [
        "f'[{27:^7d}]'"
      ],
      "execution_count": null,
      "outputs": [
        {
          "output_type": "execute_result",
          "data": {
            "text/plain": [
              "'[  27   ]'"
            ]
          },
          "metadata": {
            "tags": []
          },
          "execution_count": 16
        }
      ]
    },
    {
      "cell_type": "code",
      "metadata": {
        "id": "ep9YlziZ2NYZ",
        "outputId": "41b37289-ffd0-4cdd-8e2d-9e1e7fe704aa"
      },
      "source": [
        "f'[{3.5:^7.1f}]'"
      ],
      "execution_count": null,
      "outputs": [
        {
          "output_type": "execute_result",
          "data": {
            "text/plain": [
              "'[  3.5  ]'"
            ]
          },
          "metadata": {
            "tags": []
          },
          "execution_count": 17
        }
      ]
    },
    {
      "cell_type": "code",
      "metadata": {
        "id": "7_pTqOxF2NYZ",
        "outputId": "7829b8a0-28bc-488b-bfcd-1b705ef34758"
      },
      "source": [
        "f'[{\"hello\":^7}]'"
      ],
      "execution_count": null,
      "outputs": [
        {
          "output_type": "execute_result",
          "data": {
            "text/plain": [
              "'[ hello ]'"
            ]
          },
          "metadata": {
            "tags": []
          },
          "execution_count": 18
        }
      ]
    },
    {
      "cell_type": "markdown",
      "metadata": {
        "id": "bm_M3-2R2NYZ"
      },
      "source": [
        "# **Exercício 01** \n",
        "\n",
        "Exiba em linhas separadas o seu nome à direita, ao centro e alinhado à esquerda em um campo de 10 caracteres. Coloque cada resultado entre colchetes para que você possa ver oo alinhamento resulta mais claramente."
      ]
    },
    {
      "cell_type": "code",
      "metadata": {
        "id": "bhKz5vxU2NYZ",
        "outputId": "2887f719-a5df-45f1-d337-e60f0beae3a9",
        "colab": {
          "base_uri": "https://localhost:8080/"
        }
      },
      "source": [
        "print(f'Alinhado à direita \\t:\\t [{\"Matheus\":>10}]')\n",
        "print(f'Alinhado à esquerda \\t:\\t [{\"Matheus\":<10}]')\n",
        "print(f'Alinhado ao centro \\t:\\t [{\"Matheus\":^10}]')"
      ],
      "execution_count": 15,
      "outputs": [
        {
          "output_type": "stream",
          "text": [
            "Alinhado à direita \t:\t [   Matheus]\n",
            "Alinhado à esquerda \t:\t [Matheus   ]\n",
            "Alinhado ao centro \t:\t [ Matheus  ]\n"
          ],
          "name": "stdout"
        }
      ]
    },
    {
      "cell_type": "markdown",
      "metadata": {
        "id": "9G_utWyW2NYZ"
      },
      "source": [
        "#### Formatação Numérica\n",
        "\n",
        "Existem vários recursos de formatação numérica. \n",
        "- Por exemplo, àss vezes é desejável forçar o sinal em um número positivo"
      ]
    },
    {
      "cell_type": "code",
      "metadata": {
        "id": "UNaGAhhc2NYZ",
        "outputId": "e117c304-4d9e-4de6-fa36-326abc9b92e3",
        "colab": {
          "base_uri": "https://localhost:8080/",
          "height": 35
        }
      },
      "source": [
        "f'[{27:+10d}]'"
      ],
      "execution_count": 17,
      "outputs": [
        {
          "output_type": "execute_result",
          "data": {
            "application/vnd.google.colaboratory.intrinsic+json": {
              "type": "string"
            },
            "text/plain": [
              "'[       +27]'"
            ]
          },
          "metadata": {
            "tags": []
          },
          "execution_count": 17
        }
      ]
    },
    {
      "cell_type": "markdown",
      "metadata": {
        "id": "tvi4i7eg2NYZ"
      },
      "source": [
        "O + antes da largura do campo especifica que um número positivo deve ser precedido por um **+**. Um número negativo sempre começa com um **-**. \n",
        "- Para preencher os caracteres restantes do campo com **0**s em vez de espaços, coloque um 0 antes da largura do campo (e depois do + se houver):"
      ]
    },
    {
      "cell_type": "code",
      "metadata": {
        "id": "ZLxIZuAx2NYZ",
        "outputId": "a46f6d54-ce9b-4c66-85f6-1d47918cba74"
      },
      "source": [
        "f'[{27:+010d}]'"
      ],
      "execution_count": null,
      "outputs": [
        {
          "output_type": "execute_result",
          "data": {
            "text/plain": [
              "'[+000000027]'"
            ]
          },
          "metadata": {
            "tags": []
          },
          "execution_count": 20
        }
      ]
    },
    {
      "cell_type": "markdown",
      "metadata": {
        "id": "l37frBzQ2NYa"
      },
      "source": [
        "##### Usando um espaço onde um sinal + apareceria \n",
        "Um espaço indica que os números positivos devem mostrar um caractere de espaço na posição do sinal.\n",
        "- Isso é útil para alinhar valores positivos e negativos para fins de exibição:"
      ]
    },
    {
      "cell_type": "code",
      "metadata": {
        "id": "H0vSoelX2NYa",
        "outputId": "aac3e981-903b-4150-d644-220d75f833e4"
      },
      "source": [
        "print(f'{27:d}\\n{27: d}\\n{-27: d}')"
      ],
      "execution_count": null,
      "outputs": [
        {
          "output_type": "stream",
          "text": [
            "27\n",
            " 27\n",
            "-27\n"
          ],
          "name": "stdout"
        }
      ]
    },
    {
      "cell_type": "markdown",
      "metadata": {
        "id": "jQD_7gqF2NYa"
      },
      "source": [
        "#### Agrupando dígitos\n",
        "Você pode formatar números com separadores de milhares usando uma vírgula (,), da seguinte maneira:"
      ]
    },
    {
      "cell_type": "code",
      "metadata": {
        "id": "Dc6HDHjt2NYa",
        "outputId": "b857f4ed-0713-4a8c-bc7f-6c468f8cc55e"
      },
      "source": [
        "f'{12345678:,d}'"
      ],
      "execution_count": null,
      "outputs": [
        {
          "output_type": "execute_result",
          "data": {
            "text/plain": [
              "'12,345,678'"
            ]
          },
          "metadata": {
            "tags": []
          },
          "execution_count": 22
        }
      ]
    },
    {
      "cell_type": "code",
      "metadata": {
        "id": "MclKEPTu2NYa",
        "outputId": "78023f53-1584-4611-9545-200f6b3c610a"
      },
      "source": [
        "f'{123456.78:,.2f}'"
      ],
      "execution_count": null,
      "outputs": [
        {
          "output_type": "execute_result",
          "data": {
            "text/plain": [
              "'123,456.78'"
            ]
          },
          "metadata": {
            "tags": []
          },
          "execution_count": 23
        }
      ]
    },
    {
      "cell_type": "markdown",
      "metadata": {
        "id": "KWaWQoad2NYa"
      },
      "source": [
        "### O Método de string *format*\n",
        "\n",
        "As f-strings do Python foram adicionadas à linguagem na versão 3.6. \n",
        "- Antes disso, a formatação era feita usando o método __*format*__. \n",
        "- Mostramos o método de formatação aqui porque você encontrará em código escrito antes do Python 3.6. \n",
        "    - Você verá frequentemente o método de formatação no Python documentação e em muitos livros e artigos Python escritos antes que as f-strings fossem introduzidas."
      ]
    },
    {
      "cell_type": "markdown",
      "metadata": {
        "id": "zYdDzNn22NYa"
      },
      "source": [
        "Você chama o formato do método em uma string de formato contendo espaços reservados com chaves ({}),\n",
        "possivelmente com especificadores de formato. Você passa para o método os valores a serem formatados. Vamos\n",
        "formate o valor flutuante 17.489 arredondado para a posição dos centésimos:\n",
        "\n"
      ]
    },
    {
      "cell_type": "code",
      "metadata": {
        "id": "xPDJLmak2NYa",
        "outputId": "9ea34c9b-1869-427d-e4e2-61e88f1a611c"
      },
      "source": [
        "'{:.2f}'.format(17.489)"
      ],
      "execution_count": null,
      "outputs": [
        {
          "output_type": "execute_result",
          "data": {
            "text/plain": [
              "'17.49'"
            ]
          },
          "metadata": {
            "tags": []
          },
          "execution_count": 24
        }
      ]
    },
    {
      "cell_type": "markdown",
      "metadata": {
        "id": "DcyQZF5n2NYa"
      },
      "source": [
        "Em um espaço reservado, se houver um especificador de formato, você o precede por dois-pontos (:), como nas strings f.\n",
        "O resultado da chamada de formato é uma nova string contendo os resultados formatados."
      ]
    },
    {
      "cell_type": "markdown",
      "metadata": {
        "id": "Rb9rjDAi2NYa"
      },
      "source": [
        "#### Multiplos marcadores\n",
        "\n",
        "Uma string de formato pode conter vários marcadores de posição, caso em que o método do formato\n",
        "os argumentos correspondem aos marcadores da esquerda para a direita:"
      ]
    },
    {
      "cell_type": "code",
      "metadata": {
        "id": "qCkQRKUu2NYa",
        "outputId": "0bbc55b7-97ca-40e7-af45-31083a083580"
      },
      "source": [
        "'{} {}'.format('Amanda', 'Cyan')"
      ],
      "execution_count": null,
      "outputs": [
        {
          "output_type": "execute_result",
          "data": {
            "text/plain": [
              "'Amanda Cyan'"
            ]
          },
          "metadata": {
            "tags": []
          },
          "execution_count": 25
        }
      ]
    },
    {
      "cell_type": "markdown",
      "metadata": {
        "id": "8qHKQAex2NYa"
      },
      "source": [
        "#### Argumentos de referência por número de posição\n",
        "\n",
        "A string de formato pode fazer referência a argumentos específicos por sua posição no formato\n",
        "lista de argumentos do método, começando com a posição 0:"
      ]
    },
    {
      "cell_type": "code",
      "metadata": {
        "id": "lLAquPsl2NYa",
        "outputId": "905fa2d9-0081-4dc7-b83e-e301d2894093"
      },
      "source": [
        "'{0} {0} {1}'.format('Happy', 'Birthday')"
      ],
      "execution_count": null,
      "outputs": [
        {
          "output_type": "execute_result",
          "data": {
            "text/plain": [
              "'Happy Happy Birthday'"
            ]
          },
          "metadata": {
            "tags": []
          },
          "execution_count": 26
        }
      ]
    },
    {
      "cell_type": "markdown",
      "metadata": {
        "id": "cKwdWfdH2NYa"
      },
      "source": [
        "#### Referenciando argumentos de palavras-chave\n",
        "\n",
        "Você pode fazer referência a argumentos de palavra-chave por suas chaves nos marcadores de posição:"
      ]
    },
    {
      "cell_type": "code",
      "metadata": {
        "id": "slgI5Q7t2NYa",
        "outputId": "64e8cc94-7a40-43ad-9706-ec92e67a5349"
      },
      "source": [
        "'{first} {last}'.format(first='Amanda', last='Gray')"
      ],
      "execution_count": null,
      "outputs": [
        {
          "output_type": "execute_result",
          "data": {
            "text/plain": [
              "'Amanda Gray'"
            ]
          },
          "metadata": {
            "tags": []
          },
          "execution_count": 27
        }
      ]
    },
    {
      "cell_type": "code",
      "metadata": {
        "id": "AVlnLJr-2NYa",
        "outputId": "f8886116-b094-4c04-9a65-f589c061d38d"
      },
      "source": [
        "'{last} {last}'.format(first='Amanda', last='Gray')"
      ],
      "execution_count": null,
      "outputs": [
        {
          "output_type": "execute_result",
          "data": {
            "text/plain": [
              "'Gray Gray'"
            ]
          },
          "metadata": {
            "tags": []
          },
          "execution_count": 28
        }
      ]
    },
    {
      "cell_type": "markdown",
      "metadata": {
        "id": "OgJlcbk92NYa"
      },
      "source": [
        "### Concatenando e repetindo strings\n",
        "\n",
        "Lembre-se que já usamos o operador **+** para concatenar strings e o operador **\\*** para\n",
        "repetir strings. Você também pode realizar essas operações com atribuições aumentadas. \n",
        "- Strings são imutáveis, então cada operação atribui um novo objeto de string à variável:"
      ]
    },
    {
      "cell_type": "code",
      "metadata": {
        "id": "7WPcdIPk2NYa"
      },
      "source": [
        "s1 = 'happy'"
      ],
      "execution_count": null,
      "outputs": []
    },
    {
      "cell_type": "code",
      "metadata": {
        "id": "0gMK1aVe2NYa"
      },
      "source": [
        "s2 = 'birthday'"
      ],
      "execution_count": null,
      "outputs": []
    },
    {
      "cell_type": "code",
      "metadata": {
        "id": "xHE14LwY2NYa"
      },
      "source": [
        "s1 += ' ' + s2"
      ],
      "execution_count": null,
      "outputs": []
    },
    {
      "cell_type": "code",
      "metadata": {
        "id": "kECMT5XK2NYa",
        "outputId": "f0a3f3e5-cf45-4e08-c998-83a2b5ce4f36"
      },
      "source": [
        "s1"
      ],
      "execution_count": null,
      "outputs": [
        {
          "output_type": "execute_result",
          "data": {
            "text/plain": [
              "'happy birthday'"
            ]
          },
          "metadata": {
            "tags": []
          },
          "execution_count": 32
        }
      ]
    },
    {
      "cell_type": "code",
      "metadata": {
        "id": "SVkCMtV62NYa"
      },
      "source": [
        "symbol = '>'"
      ],
      "execution_count": null,
      "outputs": []
    },
    {
      "cell_type": "code",
      "metadata": {
        "id": "blqdr7mS2NYb"
      },
      "source": [
        "symbol *= 5"
      ],
      "execution_count": null,
      "outputs": []
    },
    {
      "cell_type": "code",
      "metadata": {
        "id": "yNt7H23R2NYb",
        "outputId": "65033bbe-2491-4272-8b99-0a764046b37e"
      },
      "source": [
        "symbol"
      ],
      "execution_count": null,
      "outputs": [
        {
          "output_type": "execute_result",
          "data": {
            "text/plain": [
              "'>>>>>'"
            ]
          },
          "metadata": {
            "tags": []
          },
          "execution_count": 35
        }
      ]
    },
    {
      "cell_type": "markdown",
      "metadata": {
        "id": "xqesb29z2NYb"
      },
      "source": [
        "# **Exercício 02** \n",
        "\n",
        "Use o operador **+=** para concatenar seu nome e sobrenome. Então use o operador **\\*=** para criar uma barra de asteriscos com o mesmo número de caracteres que seu nome completo e exibir a barra acima e abaixo do seu nome."
      ]
    },
    {
      "cell_type": "code",
      "metadata": {
        "id": "Qt0zJy6d2NYb",
        "outputId": "81357dcb-6da0-43ee-8006-de0783c909f8",
        "colab": {
          "base_uri": "https://localhost:8080/"
        }
      },
      "source": [
        "name = 'Matheus'\n",
        "middle = 'Percário'\n",
        "last = 'Bruder'\n",
        "\n",
        "name += ' ' + middle\n",
        "name += ' ' + last\n",
        "ast = '*'\n",
        "ast *= len(name)\n",
        "\n",
        "print(f'{ast}\\n{name}\\n{ast}')"
      ],
      "execution_count": 20,
      "outputs": [
        {
          "output_type": "stream",
          "text": [
            "***********************\n",
            "Matheus Percário Bruder\n",
            "***********************\n"
          ],
          "name": "stdout"
        }
      ]
    },
    {
      "cell_type": "markdown",
      "metadata": {
        "id": "WMK_8giR2NYb"
      },
      "source": [
        "### Métodos de string"
      ]
    },
    {
      "cell_type": "markdown",
      "metadata": {
        "id": "0vyjg8yy2NYb"
      },
      "source": [
        "![image.png](attachment:image.png)"
      ]
    },
    {
      "cell_type": "code",
      "metadata": {
        "id": "RTx1w-0w2NYb"
      },
      "source": [
        "sentence = 'to be or not to be that is the question'"
      ],
      "execution_count": null,
      "outputs": []
    },
    {
      "cell_type": "markdown",
      "metadata": {
        "id": "XiQcjSFk2NYb"
      },
      "source": [
        "O método de string **count** retorna o número de vezes que seu argumento ocorre na string em\n",
        "qual o método é chamado:"
      ]
    },
    {
      "cell_type": "code",
      "metadata": {
        "id": "d5cw3uC-2NYb",
        "outputId": "ea26d806-a2b1-4d6b-d860-33462e1f8e67"
      },
      "source": [
        "sentence.count('to')"
      ],
      "execution_count": null,
      "outputs": [
        {
          "output_type": "execute_result",
          "data": {
            "text/plain": [
              "2"
            ]
          },
          "metadata": {
            "tags": []
          },
          "execution_count": 44
        }
      ]
    },
    {
      "cell_type": "markdown",
      "metadata": {
        "id": "l9c_r2xA2NYb"
      },
      "source": [
        "![image.png](attachment:image.png)"
      ]
    },
    {
      "cell_type": "markdown",
      "metadata": {
        "id": "5nCEs_Z92NYb"
      },
      "source": [
        "#### Localizando uma substring em uma string\n",
        "O método de string **index** procura uma substring dentro de uma string e retorna o primeiro índice em em que a substring é encontrada; caso contrário, ocorre um **ValueError**:"
      ]
    },
    {
      "cell_type": "code",
      "metadata": {
        "id": "NCku7cvP2NYb",
        "outputId": "74756a7a-3cc9-47e9-dfed-a8cdf356de2b"
      },
      "source": [
        "sentence.index('be')"
      ],
      "execution_count": null,
      "outputs": [
        {
          "output_type": "execute_result",
          "data": {
            "text/plain": [
              "3"
            ]
          },
          "metadata": {
            "tags": []
          },
          "execution_count": 45
        }
      ]
    },
    {
      "cell_type": "markdown",
      "metadata": {
        "id": "jCW43lm82NYb"
      },
      "source": [
        "O método de string **rindex** executa a mesma operação que **index**, mas pesquisa a partir do final da string e retorna o último índice no qual a substring foi encontrada; caso contrário, um ocorre um erro **ValueError**"
      ]
    },
    {
      "cell_type": "code",
      "metadata": {
        "id": "NzrEj5B_2NYb",
        "outputId": "bba02a32-3ff8-4ffb-995c-4d429196b99b"
      },
      "source": [
        "sentence.rindex('be')"
      ],
      "execution_count": null,
      "outputs": [
        {
          "output_type": "execute_result",
          "data": {
            "text/plain": [
              "16"
            ]
          },
          "metadata": {
            "tags": []
          },
          "execution_count": 46
        }
      ]
    },
    {
      "cell_type": "markdown",
      "metadata": {
        "id": "X607VLZb2NYb"
      },
      "source": [
        "![image.png](attachment:image.png)"
      ]
    },
    {
      "cell_type": "markdown",
      "metadata": {
        "id": "Y5QlorTu2NYb"
      },
      "source": [
        "#### Removendo espaços em branco de strings\n",
        "\n",
        "    Existem vários métodos de string para remover espaços em branco das extremidades de uma string.\n",
        "    \n",
        "- Cada um retorna uma nova string deixando a original inalterada. \n",
        "\n",
        "> Strings são imutáveis, então cada método que parece modificar uma string retorna uma nova."
      ]
    },
    {
      "cell_type": "markdown",
      "metadata": {
        "id": "tD_TVAXm2NYb"
      },
      "source": [
        "#### Removendo espaços em branco à esquerda e à direita\n",
        "\n",
        "Vamos usar o método de string **strip** para remover os espaços em branco à esquerda e à direita de uma string:\n",
        "- o método **lstrip** remove somente os espaços da esquerda.\n",
        "- o método **rstrip** remoce somente os espaços da direita."
      ]
    },
    {
      "cell_type": "code",
      "metadata": {
        "id": "Lt8YwN5s2NYb"
      },
      "source": [
        "sentence = '\\t \\n This is a test string. \\t\\t \\n'"
      ],
      "execution_count": null,
      "outputs": []
    },
    {
      "cell_type": "code",
      "metadata": {
        "id": "DcNqA7jH2NYb",
        "outputId": "ff915e98-6381-4220-e56e-7dd471eff3d7"
      },
      "source": [
        "print(sentence)"
      ],
      "execution_count": null,
      "outputs": [
        {
          "output_type": "stream",
          "text": [
            "\t \n",
            " This is a test string. \t\t \n",
            "\n"
          ],
          "name": "stdout"
        }
      ]
    },
    {
      "cell_type": "code",
      "metadata": {
        "id": "_ZhXsJSF2NYb",
        "outputId": "1b2c123c-27da-425d-82c9-8ec01be26ed4"
      },
      "source": [
        "sentence.strip()"
      ],
      "execution_count": null,
      "outputs": [
        {
          "output_type": "execute_result",
          "data": {
            "text/plain": [
              "'This is a test string.'"
            ]
          },
          "metadata": {
            "tags": []
          },
          "execution_count": 40
        }
      ]
    },
    {
      "cell_type": "code",
      "metadata": {
        "id": "rzL7oXby2NYb",
        "outputId": "2d31ec1b-92dd-41e0-d374-d4f477116d38"
      },
      "source": [
        "sentence"
      ],
      "execution_count": null,
      "outputs": [
        {
          "output_type": "execute_result",
          "data": {
            "text/plain": [
              "'\\t \\n This is a test string. \\t\\t \\n'"
            ]
          },
          "metadata": {
            "tags": []
          },
          "execution_count": 42
        }
      ]
    },
    {
      "cell_type": "markdown",
      "metadata": {
        "id": "omXVLMVB2NYb"
      },
      "source": [
        "![image.png](attachment:image.png)"
      ]
    },
    {
      "cell_type": "markdown",
      "metadata": {
        "id": "p9wbFap62NYb"
      },
      "source": [
        "# <font color=red> Agrupar métodos</font>"
      ]
    },
    {
      "cell_type": "markdown",
      "metadata": {
        "id": "E2N0brbQ2NYb"
      },
      "source": [
        "### Alterando entre maiúsculas e mínusculas\n",
        "\n",
        "Nos capítulos anteriores, você usou métodos de string inferior e superior para converter strings para todas as minúsculas\n",
        "ou todas as letras maiúsculas. Você também pode alterar a capitalização de uma string com métodos\n",
        "capitalize e título."
      ]
    },
    {
      "cell_type": "markdown",
      "metadata": {
        "id": "XErGcNKQ2NYb"
      },
      "source": [
        "**Quadrilha, Carlos Drummond de Andrade**\n",
        "\n",
        "João amava Teresa que amava Raimundo<br>\n",
        "que amava Maria que amava Joaquim que amava Lili<br>\n",
        "que não amava ninguém.<br>\n",
        "João foi pra os Estados Unidos, Teresa para o convento,<br>\n",
        "Raimundo morreu de desastre, Maria ficou para tia,<br>\n",
        "Joaquim suicidou-se e Lili casou com J. Pinto Fernandes<br>\n",
        "que não tinha entrado na história.<br>"
      ]
    },
    {
      "cell_type": "markdown",
      "metadata": {
        "id": "3Xd-DJF12NYb"
      },
      "source": [
        "# **Exercício 03** \n",
        "\n",
        "Considerando a **Quadrilha** como string de entrada. Escreva um programa para:\n",
        "- Contar quantas vezes aparece ‘amava’.\n",
        "- Encontrar o primeiro e o último índice em que aparece ‘amava’.\n",
        "- Encontrar todos os índices em que aparece ‘amava’.\n",
        "- Substituir ‘amava’ por ‘treinava’.\n",
        "- Indique quais linhas começam com ‘que’."
      ]
    },
    {
      "cell_type": "code",
      "metadata": {
        "id": "UG38zgFQJilX"
      },
      "source": [
        "quadrilha = \"\"\"João amava Teresa que amava Raimundo\n",
        "que amava Maria que amava Joaquim que amava Lili\n",
        "que não amava ninguém.\n",
        "João foi pra os Estados Unidos, Teresa para o convento,\n",
        "Raimundo morreu de desastre, Maria ficou para tia,\n",
        "Joaquim suicidou-se e Lili casou com J. Pinto Fernandes\n",
        "que não tinha entrado na história.\"\"\""
      ],
      "execution_count": 70,
      "outputs": []
    },
    {
      "cell_type": "code",
      "metadata": {
        "id": "HFNK5aJ1JykQ",
        "outputId": "1e2dc4ca-91c5-42f6-f9a6-4041d6dadb36",
        "colab": {
          "base_uri": "https://localhost:8080/"
        }
      },
      "source": [
        "# Contar quantas vezes aparece ‘amava’.\n",
        "print(f'quadrilha.count(\"amava\") = {quadrilha.count(\"amava\")}')"
      ],
      "execution_count": 71,
      "outputs": [
        {
          "output_type": "stream",
          "text": [
            "quadrilha.count(\"amava\") = 6\n"
          ],
          "name": "stdout"
        }
      ]
    },
    {
      "cell_type": "code",
      "metadata": {
        "id": "dzsSTCsJKVib",
        "outputId": "cb0bb234-b278-4ac4-a07a-b87a1cd4ca43",
        "colab": {
          "base_uri": "https://localhost:8080/"
        }
      },
      "source": [
        "# Encontrar o primeiro e o último índice em que aparece ‘amava’.\n",
        "print(f'Primeiro índice = {quadrilha.index(\"amava\")}')\n",
        "print(f'Último índice = {quadrilha.rindex(\"amava\")}')"
      ],
      "execution_count": 72,
      "outputs": [
        {
          "output_type": "stream",
          "text": [
            "Primeiro índice = 5\n",
            "Último índice = 94\n"
          ],
          "name": "stdout"
        }
      ]
    },
    {
      "cell_type": "code",
      "metadata": {
        "id": "Io9z10BeKpLD",
        "outputId": "e6f2efd3-37c5-4dca-e8af-6c0c41698755",
        "colab": {
          "base_uri": "https://localhost:8080/"
        }
      },
      "source": [
        "quadrilha.index(\"amava\", 0, len(quadrilha))\n",
        "len(quadrilha)"
      ],
      "execution_count": 73,
      "outputs": [
        {
          "output_type": "execute_result",
          "data": {
            "text/plain": [
              "306"
            ]
          },
          "metadata": {
            "tags": []
          },
          "execution_count": 73
        }
      ]
    },
    {
      "cell_type": "code",
      "metadata": {
        "id": "akRmaN2eTSpC",
        "outputId": "7fe39a5c-9271-4318-9778-7d1a2652db27",
        "colab": {
          "base_uri": "https://localhost:8080/"
        }
      },
      "source": [
        "# Encontrar todos os índices em que aparece ‘amava’.\n",
        "indices = []\n",
        "idx = 0\n",
        "\n",
        "while True:\n",
        "    idx = quadrilha.index('amava', idx + 1)\n",
        "    indices.append(idx)\n",
        "\n",
        "    if idx == quadrilha.rindex('amava'):\n",
        "        break\n",
        "    \n",
        "print(indices)"
      ],
      "execution_count": 116,
      "outputs": [
        {
          "output_type": "stream",
          "text": [
            "[5, 22, 41, 57, 75, 94]\n"
          ],
          "name": "stdout"
        }
      ]
    },
    {
      "cell_type": "code",
      "metadata": {
        "id": "VoZUPuSLNRsW"
      },
      "source": [
        "# Substituir ‘amava’ por ‘treinava’.\n",
        "quadrilha = quadrilha.replace('amava', 'treinava')\n",
        "# print(quadrilha)"
      ],
      "execution_count": 74,
      "outputs": []
    },
    {
      "cell_type": "code",
      "metadata": {
        "id": "dsIZTWbCR0b6",
        "outputId": "cfaa3e8d-7129-4fad-dee4-e813300de456",
        "colab": {
          "base_uri": "https://localhost:8080/"
        }
      },
      "source": [
        "# Indique quais linhas começam com ‘que’.\n",
        "for idx, linha in enumerate(quadrilha.splitlines()):\n",
        "    if linha[0] == 'q' and linha[1] == 'u' and linha[2] == 'e':\n",
        "        # print(linha)\n",
        "        print(f'Linha [{idx}] começa com \"que\"')"
      ],
      "execution_count": 75,
      "outputs": [
        {
          "output_type": "stream",
          "text": [
            "Linha [1] começa com \"que\"\n",
            "Linha [2] começa com \"que\"\n",
            "Linha [6] começa com \"que\"\n"
          ],
          "name": "stdout"
        }
      ]
    },
    {
      "cell_type": "markdown",
      "metadata": {
        "id": "hNRCtaeP2NYb"
      },
      "source": [
        "## Tokens\n",
        "- Quando lemos uma sentença, nosso cérebro quebra a sentença em palavras, ou tokens, cada qual com um significado.\n",
        "    - Este processo é chamado tokenização.\n",
        "\n",
        "- Interpretadores e compiladores realizam tokenização para quebrar as sentenças em palavras-chave, operadores, variaveis, etc.\n",
        "\n",
        "- Tokens são separados por delimitadores, tipicamente espaços em branco.\n",
        "    - espaço, tab, nova linha e retorno de carro."
      ]
    },
    {
      "cell_type": "markdown",
      "metadata": {
        "id": "-UAVmhxz2NYb"
      },
      "source": [
        "# **Exercício 04**\n",
        "\n",
        "Ainda considerando a **Quadrilha**, escreva scripts para:\n",
        "- Obter uma lista com todas a palavras do texto\n",
        "- Separar o texto onde exista ‘,’.\n",
        "- Substitua os espaços por ‘__’.\n",
        "- Obter uma lista onde conste cada palavra existente no texto, uma única vez, juntamente com sua frequência."
      ]
    },
    {
      "cell_type": "code",
      "metadata": {
        "id": "uG0ImHhh2NYb"
      },
      "source": [
        "quadrilha = \"\"\"João amava Teresa que amava Raimundo\n",
        "que amava Maria que amava Joaquim que amava Lili\n",
        "que não amava ninguém.\n",
        "João foi pra os Estados Unidos, Teresa para o convento,\n",
        "Raimundo morreu de desastre, Maria ficou para tia,\n",
        "Joaquim suicidou-se e Lili casou com J. Pinto Fernandes\n",
        "que não tinha entrado na história.\"\"\""
      ],
      "execution_count": 76,
      "outputs": []
    },
    {
      "cell_type": "code",
      "metadata": {
        "id": "9AeiVLkQUpL3",
        "outputId": "70f10893-38cf-4bcf-d4e8-f494f68acd59",
        "colab": {
          "base_uri": "https://localhost:8080/"
        }
      },
      "source": [
        "# Obter uma lista com todas a palavras do texto\n",
        "palavras = quadrilha.split()\n",
        "palavras"
      ],
      "execution_count": 79,
      "outputs": [
        {
          "output_type": "execute_result",
          "data": {
            "text/plain": [
              "['João',\n",
              " 'amava',\n",
              " 'Teresa',\n",
              " 'que',\n",
              " 'amava',\n",
              " 'Raimundo',\n",
              " 'que',\n",
              " 'amava',\n",
              " 'Maria',\n",
              " 'que',\n",
              " 'amava',\n",
              " 'Joaquim',\n",
              " 'que',\n",
              " 'amava',\n",
              " 'Lili',\n",
              " 'que',\n",
              " 'não',\n",
              " 'amava',\n",
              " 'ninguém.',\n",
              " 'João',\n",
              " 'foi',\n",
              " 'pra',\n",
              " 'os',\n",
              " 'Estados',\n",
              " 'Unidos,',\n",
              " 'Teresa',\n",
              " 'para',\n",
              " 'o',\n",
              " 'convento,',\n",
              " 'Raimundo',\n",
              " 'morreu',\n",
              " 'de',\n",
              " 'desastre,',\n",
              " 'Maria',\n",
              " 'ficou',\n",
              " 'para',\n",
              " 'tia,',\n",
              " 'Joaquim',\n",
              " 'suicidou-se',\n",
              " 'e',\n",
              " 'Lili',\n",
              " 'casou',\n",
              " 'com',\n",
              " 'J.',\n",
              " 'Pinto',\n",
              " 'Fernandes',\n",
              " 'que',\n",
              " 'não',\n",
              " 'tinha',\n",
              " 'entrado',\n",
              " 'na',\n",
              " 'história.']"
            ]
          },
          "metadata": {
            "tags": []
          },
          "execution_count": 79
        }
      ]
    },
    {
      "cell_type": "code",
      "metadata": {
        "id": "Ak1WWhXtUzWb",
        "outputId": "26eaf112-b639-493e-c1bd-f15d8dde22ee",
        "colab": {
          "base_uri": "https://localhost:8080/"
        }
      },
      "source": [
        "# Separar o texto onde exista ‘,’.\n",
        "quadrilha.split(',')"
      ],
      "execution_count": 80,
      "outputs": [
        {
          "output_type": "execute_result",
          "data": {
            "text/plain": [
              "['João amava Teresa que amava Raimundo\\nque amava Maria que amava Joaquim que amava Lili\\nque não amava ninguém.\\nJoão foi pra os Estados Unidos',\n",
              " ' Teresa para o convento',\n",
              " '\\nRaimundo morreu de desastre',\n",
              " ' Maria ficou para tia',\n",
              " '\\nJoaquim suicidou-se e Lili casou com J. Pinto Fernandes\\nque não tinha entrado na história.']"
            ]
          },
          "metadata": {
            "tags": []
          },
          "execution_count": 80
        }
      ]
    },
    {
      "cell_type": "code",
      "metadata": {
        "id": "SMIkK44MU_cf",
        "outputId": "3fb1b776-a9d3-4960-d16c-03cf71a7605c",
        "colab": {
          "base_uri": "https://localhost:8080/",
          "height": 52
        }
      },
      "source": [
        "# Substitua os espaços por ‘__’.\n",
        "new_quadrilha = quadrilha.replace(\" \", \"__\")\n",
        "new_quadrilha"
      ],
      "execution_count": 82,
      "outputs": [
        {
          "output_type": "execute_result",
          "data": {
            "application/vnd.google.colaboratory.intrinsic+json": {
              "type": "string"
            },
            "text/plain": [
              "'João__amava__Teresa__que__amava__Raimundo\\nque__amava__Maria__que__amava__Joaquim__que__amava__Lili\\nque__não__amava__ninguém.\\nJoão__foi__pra__os__Estados__Unidos,__Teresa__para__o__convento,\\nRaimundo__morreu__de__desastre,__Maria__ficou__para__tia,\\nJoaquim__suicidou-se__e__Lili__casou__com__J.__Pinto__Fernandes\\nque__não__tinha__entrado__na__história.'"
            ]
          },
          "metadata": {
            "tags": []
          },
          "execution_count": 82
        }
      ]
    },
    {
      "cell_type": "code",
      "metadata": {
        "id": "3x1QrOWwVKzK",
        "outputId": "0b3d472d-1fce-4bd4-ac68-72195a9268a9",
        "colab": {
          "base_uri": "https://localhost:8080/"
        }
      },
      "source": [
        "# Obter uma lista onde conste cada palavra existente no texto, uma única vez, juntamente com sua frequência.\n",
        "frequencias = []\n",
        "palavras_processadas = []\n",
        "palavras = quadrilha.split()\n",
        "\n",
        "# preprocessamento\n",
        "for p in palavras:\n",
        "    if p[-1] in \",.:;?!\":\n",
        "        palavras_processadas.append(p[:-1])\n",
        "    else:\n",
        "        palavras_processadas.append(p)\n",
        "\n",
        "# Determinando frequencias\n",
        "for palavra in palavras_processadas:\n",
        "    freq = palavras_processadas.count(palavra)\n",
        "    t = (palavra, freq)\n",
        "    if t not in frequencias:\n",
        "        frequencias.append(t)\n",
        "\n",
        "# Printando resultado\n",
        "for p, f in frequencias:\n",
        "    print(f'{p:^14} -> {f}')"
      ],
      "execution_count": 107,
      "outputs": [
        {
          "output_type": "stream",
          "text": [
            "     João      -> 2\n",
            "    amava      -> 6\n",
            "    Teresa     -> 2\n",
            "     que       -> 6\n",
            "   Raimundo    -> 2\n",
            "    Maria      -> 2\n",
            "   Joaquim     -> 2\n",
            "     Lili      -> 2\n",
            "     não       -> 2\n",
            "   ninguém     -> 1\n",
            "     foi       -> 1\n",
            "     pra       -> 1\n",
            "      os       -> 1\n",
            "   Estados     -> 1\n",
            "    Unidos     -> 1\n",
            "     para      -> 2\n",
            "      o        -> 1\n",
            "   convento    -> 1\n",
            "    morreu     -> 1\n",
            "      de       -> 1\n",
            "   desastre    -> 1\n",
            "    ficou      -> 1\n",
            "     tia       -> 1\n",
            " suicidou-se   -> 1\n",
            "      e        -> 1\n",
            "    casou      -> 1\n",
            "     com       -> 1\n",
            "      J        -> 1\n",
            "    Pinto      -> 1\n",
            "  Fernandes    -> 1\n",
            "    tinha      -> 1\n",
            "   entrado     -> 1\n",
            "      na       -> 1\n",
            "   história    -> 1\n"
          ],
          "name": "stdout"
        }
      ]
    },
    {
      "cell_type": "markdown",
      "metadata": {
        "id": "x0fbDjto2NYc"
      },
      "source": [
        "# Expressões regulares"
      ]
    },
    {
      "cell_type": "markdown",
      "metadata": {
        "id": "wqgYBsue2NYc"
      },
      "source": [
        "Uma expressão regular é um padrão de texto usado para encontrar strings que combinam com este padrão.\n",
        "\n",
        "O módulo **re**, fornece meios para o processamento de expressões regulares em Python\n",
        "\n",
        "https://docs.python.org/3/library/re.html"
      ]
    },
    {
      "cell_type": "markdown",
      "metadata": {
        "id": "UKFwBBIa2NYc"
      },
      "source": [
        "- As expressões regulares podem ajudá-lo a extrair dados de texto não estruturado, como publicações em mídias sociais. \n",
        "\n",
        "- Elas também são importantes para garantir que os dados estejam no formato correto antes você tenta processar"
      ]
    },
    {
      "cell_type": "markdown",
      "metadata": {
        "id": "DR-ZZ77b2NYc"
      },
      "source": [
        "Validando Dados\n",
        "\n",
        "Antes de trabalhar com dados de texto, você costuma usar expressões regulares para validar os dados. \n",
        "\n",
        "Por exemplo, você pode verificar se:\n",
        "\n",
        "• Um CEP dos EUA consiste em cinco dígitos (como 02215) ou cinco dígitos seguidos por\n",
        "um hífen e mais quatro dígitos (como 02215-4775).\n",
        "• Um sobrenome de string contém apenas letras, espaços, apóstrofos e hifens.\n",
        "• Um endereço de e-mail contém apenas os caracteres permitidos na ordem permitida.\n",
        "• O número do Seguro Social dos EUA contém três dígitos, um hífen, dois dígitos, um\n",
        "hífen e quatro dígitos, e segue outras regras sobre os números específicos que\n",
        "pode ser usado em cada grupo de dígitos.\n",
        "\n",
        "Raramente você precisará criar suas próprias expressões regulares para itens comuns como esses.\n",
        "Sites como\n",
        "\n",
        "- https://regex101.com\n",
        "- http://www.regexlib.com\n",
        "- https://www.regular-expressions.info\n",
        "\n",
        "e outros oferecem repositórios de expressões regulares existentes que você pode copiar e usar.\n",
        "Muitos sites como esses também fornecem interfaces nas quais você pode testar expressões regulares para\n",
        "determinar se eles atenderão às suas necessidades"
      ]
    },
    {
      "cell_type": "markdown",
      "metadata": {
        "id": "a0CE1pH72NYc"
      },
      "source": [
        "### Outros usos de expressões regulares\n",
        "\n",
        "Além de validar dados, as expressões regulares costumam ser usadas para:\n",
        "- Extrair dados do texto (às vezes conhecido como raspagem) - por exemplo, localizar todos URLs em uma página da web. [Você pode preferir ferramentas como BeautifulSoup, XPath e lxml.]\n",
        "- Limpar dados - Por exemplo, removendo dados desnecessários, removendo dados duplicados, tratar dados incompletos, correção de erros de digitação, garantia de formatos de dados consistentes, lidar com outliers e muito mais.\n",
        "- Transforme os dados em outros formatos - por exemplo, reformatando os dados que foram coletados como valores separados por tabulação ou por espaço em valores separados por vírgula (CSV) para um aplicativo que exige que os dados estejam no formato CSV."
      ]
    },
    {
      "cell_type": "markdown",
      "metadata": {
        "id": "UGvOKC532NYc"
      },
      "source": [
        "### O módulo _re_ e a função _fullmatch_\n",
        "\n",
        "Para usar expressões regulares, importe o módulo re da biblioteca padrão do Python:"
      ]
    },
    {
      "cell_type": "code",
      "metadata": {
        "id": "VzX7j8X82NYc"
      },
      "source": [
        "import re"
      ],
      "execution_count": 22,
      "outputs": []
    },
    {
      "cell_type": "markdown",
      "metadata": {
        "id": "JMH2QhGi2NYc"
      },
      "source": [
        "Uma das funções de expressão regular mais simples é a função **fullmatch**, que verifica se o\n",
        "string inteira em seu segundo argumento corresponde ao padrão em seu primeiro argumento."
      ]
    },
    {
      "cell_type": "code",
      "metadata": {
        "id": "Yu2xy9q_2NYc"
      },
      "source": [
        "pattern = '02215'"
      ],
      "execution_count": 23,
      "outputs": []
    },
    {
      "cell_type": "code",
      "metadata": {
        "id": "j1R95-cl2NYc",
        "outputId": "b57e53b6-d35b-4cef-82c0-d06397819679",
        "colab": {
          "base_uri": "https://localhost:8080/",
          "height": 35
        }
      },
      "source": [
        "'Match' if re.fullmatch(pattern, '02215') else 'No match'"
      ],
      "execution_count": 24,
      "outputs": [
        {
          "output_type": "execute_result",
          "data": {
            "application/vnd.google.colaboratory.intrinsic+json": {
              "type": "string"
            },
            "text/plain": [
              "'Match'"
            ]
          },
          "metadata": {
            "tags": []
          },
          "execution_count": 24
        }
      ]
    },
    {
      "cell_type": "code",
      "metadata": {
        "id": "Vw82EXHQ2NYc",
        "outputId": "6011f77c-6f67-42e6-af8a-a236a12f866e",
        "colab": {
          "base_uri": "https://localhost:8080/",
          "height": 35
        }
      },
      "source": [
        "'Match' if re.fullmatch(pattern, '51220') else 'No match'"
      ],
      "execution_count": 25,
      "outputs": [
        {
          "output_type": "execute_result",
          "data": {
            "application/vnd.google.colaboratory.intrinsic+json": {
              "type": "string"
            },
            "text/plain": [
              "'No match'"
            ]
          },
          "metadata": {
            "tags": []
          },
          "execution_count": 25
        }
      ]
    },
    {
      "cell_type": "code",
      "metadata": {
        "id": "IKmhfOwI2NYc"
      },
      "source": [
        ""
      ],
      "execution_count": null,
      "outputs": []
    },
    {
      "cell_type": "markdown",
      "metadata": {
        "id": "qgCwQ3XX2NYc"
      },
      "source": [
        "### Classes de caracteres e sequências especiais\n",
        "\n",
        "Uma classe de caracteres especifica um grupo de caracteres em uma string.\n",
        "\n",
        "- Os metacaracteres ‘[’ e ‘]’ denotam uma **classe de expressões regulares**. \n",
        "    - Exemplo, a expressão regular \"[abc]\" identifica as letras a, b, c.\n",
        "\n",
        "- Pode-se usar o caractere ‘-’ para indicar intervalos de caracteres.\n",
        "    - Ex. \"[a-d]\" é idêntico à \"[abcd]\"."
      ]
    },
    {
      "cell_type": "code",
      "metadata": {
        "id": "ZBsyV6VM2NYc",
        "outputId": "d56fdbe5-594b-455b-d494-050f5bc760bb",
        "colab": {
          "base_uri": "https://localhost:8080/",
          "height": 35
        }
      },
      "source": [
        "'Valid' if re.fullmatch('[A-Z][a-z]', 'Ae') else 'Invalid'"
      ],
      "execution_count": 26,
      "outputs": [
        {
          "output_type": "execute_result",
          "data": {
            "application/vnd.google.colaboratory.intrinsic+json": {
              "type": "string"
            },
            "text/plain": [
              "'Valid'"
            ]
          },
          "metadata": {
            "tags": []
          },
          "execution_count": 26
        }
      ]
    },
    {
      "cell_type": "markdown",
      "metadata": {
        "id": "f3poh--l2NYc"
      },
      "source": [
        "- O metacaractere ‘^’ quando colocado junto a uma classe, este indica a negação da classe. \n",
        "     - Ex. “[^a-c]” – todo caractere exceto os caracteres a,b,c"
      ]
    },
    {
      "cell_type": "code",
      "metadata": {
        "scrolled": true,
        "id": "91BoBeE22NYc",
        "outputId": "7ffe5697-e8a6-4d24-d810-200767440884",
        "colab": {
          "base_uri": "https://localhost:8080/",
          "height": 35
        }
      },
      "source": [
        "'Match' if re.fullmatch('[^a-z]', 'A') else 'No match'"
      ],
      "execution_count": 27,
      "outputs": [
        {
          "output_type": "execute_result",
          "data": {
            "application/vnd.google.colaboratory.intrinsic+json": {
              "type": "string"
            },
            "text/plain": [
              "'Match'"
            ]
          },
          "metadata": {
            "tags": []
          },
          "execution_count": 27
        }
      ]
    },
    {
      "cell_type": "code",
      "metadata": {
        "id": "fKQM5fUN2NYc",
        "outputId": "1b70fe57-f04f-4f1b-9132-b17bc02183c1",
        "colab": {
          "base_uri": "https://localhost:8080/",
          "height": 35
        }
      },
      "source": [
        "'Match' if re.fullmatch('[^a-z]', 'a') else 'No match'"
      ],
      "execution_count": 28,
      "outputs": [
        {
          "output_type": "execute_result",
          "data": {
            "application/vnd.google.colaboratory.intrinsic+json": {
              "type": "string"
            },
            "text/plain": [
              "'No match'"
            ]
          },
          "metadata": {
            "tags": []
          },
          "execution_count": 28
        }
      ]
    },
    {
      "cell_type": "markdown",
      "metadata": {
        "id": "9DY3GvKQ2NYd"
      },
      "source": [
        "- O caractere ‘|’ pode ser visto como ‘ou’.\n",
        "- Usado para testar a combinação de uma dentre as possíveis  expressões.\n",
        "    - Ex. com|org|edu\n",
        "\n",
        "- Adicinando ‘r’ antes da expressão regular, diz ao interpretador para considerar o ‘\\’ como um caractere. \n",
        "- Assim r\"\\n\" significa dois caracteres, o ‘\\’ e o ‘n’.\n"
      ]
    },
    {
      "cell_type": "markdown",
      "metadata": {
        "id": "y4F4zQST2NYd"
      },
      "source": [
        "Classes de caracteres combinam, exatamente, com um caractere.\n",
        "\n",
        "- Metacaracteres de repetição (quantificadores) são usados para especificar o número de repetições que se deseja.\n",
        "\n",
        "**?** combina zero ou uma ocorrências da expressão que o precede. <br>\n",
        "**+** combina uma ou mais occurrências da expressão que o precede. <br> \n",
        "**\\*** combina zero ou mais ocorrências da expressão que a precede. <br>\n",
        "**{ n }** combina exatamente **n** ocorrências da expressão que o precede. <br>\n",
        "**{m,n}** combina **entre m e n** ocorrências da expressão que o precede. <br>"
      ]
    },
    {
      "cell_type": "markdown",
      "metadata": {
        "id": "Cr7S-a5p2NYd"
      },
      "source": [
        "#### Os quantificadores * e +"
      ]
    },
    {
      "cell_type": "code",
      "metadata": {
        "id": "bCltsS4m2NYd",
        "outputId": "aa20308f-2456-4f58-9cc9-6568a1245a57",
        "colab": {
          "base_uri": "https://localhost:8080/",
          "height": 35
        }
      },
      "source": [
        "'Valid' if re.fullmatch('[A-Z][a-z]+', 'Wally') else 'Invalid'"
      ],
      "execution_count": 29,
      "outputs": [
        {
          "output_type": "execute_result",
          "data": {
            "application/vnd.google.colaboratory.intrinsic+json": {
              "type": "string"
            },
            "text/plain": [
              "'Valid'"
            ]
          },
          "metadata": {
            "tags": []
          },
          "execution_count": 29
        }
      ]
    },
    {
      "cell_type": "code",
      "metadata": {
        "id": "wJYedv7E2NYd",
        "outputId": "4d975cf3-9500-4827-d69a-b7b92f51dbec",
        "colab": {
          "base_uri": "https://localhost:8080/",
          "height": 35
        }
      },
      "source": [
        "'Valid' if re.fullmatch('[A-Z][a-z]*', 'Wally') else 'Invalid'"
      ],
      "execution_count": 30,
      "outputs": [
        {
          "output_type": "execute_result",
          "data": {
            "application/vnd.google.colaboratory.intrinsic+json": {
              "type": "string"
            },
            "text/plain": [
              "'Valid'"
            ]
          },
          "metadata": {
            "tags": []
          },
          "execution_count": 30
        }
      ]
    },
    {
      "cell_type": "code",
      "metadata": {
        "id": "03kNV2uY2NYd",
        "outputId": "40b0ab6d-6f48-4c58-c820-43170f26a179",
        "colab": {
          "base_uri": "https://localhost:8080/",
          "height": 35
        }
      },
      "source": [
        "'Valid' if re.fullmatch('[A-Z][a-z]+', 'E') else 'Invalid'"
      ],
      "execution_count": 31,
      "outputs": [
        {
          "output_type": "execute_result",
          "data": {
            "application/vnd.google.colaboratory.intrinsic+json": {
              "type": "string"
            },
            "text/plain": [
              "'Invalid'"
            ]
          },
          "metadata": {
            "tags": []
          },
          "execution_count": 31
        }
      ]
    },
    {
      "cell_type": "code",
      "metadata": {
        "id": "UyXqtISU2NYd",
        "outputId": "707c9c0f-e71d-45d8-994c-e078fbed5b99",
        "colab": {
          "base_uri": "https://localhost:8080/",
          "height": 35
        }
      },
      "source": [
        "'Valid' if re.fullmatch('E{1}', 'E') else 'Invalid'"
      ],
      "execution_count": 32,
      "outputs": [
        {
          "output_type": "execute_result",
          "data": {
            "application/vnd.google.colaboratory.intrinsic+json": {
              "type": "string"
            },
            "text/plain": [
              "'Valid'"
            ]
          },
          "metadata": {
            "tags": []
          },
          "execution_count": 32
        }
      ]
    },
    {
      "cell_type": "markdown",
      "metadata": {
        "id": "5l6J0m962NYd"
      },
      "source": [
        "A expressão regular **labell?ed** corresponde à **labelled** (grafia do inglês britânico) e **labeled** (a grafia do inglês americano), mas não a palavra incorreta **labellled**. \n",
        "\n",
        "- Em cada trecho abaixo, os primeiros cinco caracteres literais na expressão regular (**label**) correspondem ao primeiro cinco caracteres dos segundos argumentos. Então **l?** indica que pode haver **zero ou um caractere l** antes dos caracteres **ed** restantes."
      ]
    },
    {
      "cell_type": "code",
      "metadata": {
        "id": "XxyTncA72NYd",
        "outputId": "c5406eba-bd55-45a4-c383-ebc0626032de"
      },
      "source": [
        "'Match' if re.fullmatch('labell?ed', 'labelled') else 'No match'"
      ],
      "execution_count": null,
      "outputs": [
        {
          "output_type": "execute_result",
          "data": {
            "text/plain": [
              "'Match'"
            ]
          },
          "metadata": {
            "tags": []
          },
          "execution_count": 20
        }
      ]
    },
    {
      "cell_type": "code",
      "metadata": {
        "id": "KNdoNiPl2NYd",
        "outputId": "c941a5e3-32a2-4db5-cdfc-827eae2fed6a"
      },
      "source": [
        "'Match' if re.fullmatch('labell?ed', 'labeled') else 'No match'"
      ],
      "execution_count": null,
      "outputs": [
        {
          "output_type": "execute_result",
          "data": {
            "text/plain": [
              "'Match'"
            ]
          },
          "metadata": {
            "tags": []
          },
          "execution_count": 25
        }
      ]
    },
    {
      "cell_type": "code",
      "metadata": {
        "id": "1PqHRhnw2NYd",
        "outputId": "777431d6-d41d-4cdc-c3e3-6879efc9f477"
      },
      "source": [
        "'Match' if re.fullmatch('labell?ed', 'labellled') else 'No match'"
      ],
      "execution_count": null,
      "outputs": [
        {
          "output_type": "execute_result",
          "data": {
            "text/plain": [
              "'No match'"
            ]
          },
          "metadata": {
            "tags": []
          },
          "execution_count": 26
        }
      ]
    },
    {
      "cell_type": "markdown",
      "metadata": {
        "id": "u_fcjg3q2NYd"
      },
      "source": [
        "![image.png](attachment:image.png)"
      ]
    },
    {
      "cell_type": "code",
      "metadata": {
        "id": "9trIxstp2NYd",
        "outputId": "6191bd54-6ae3-4185-ec6e-e671085d1383"
      },
      "source": [
        "'Valid' if re.fullmatch(r'\\d{5}', '02215') else 'Invalid'"
      ],
      "execution_count": null,
      "outputs": [
        {
          "output_type": "execute_result",
          "data": {
            "text/plain": [
              "'Valid'"
            ]
          },
          "metadata": {
            "tags": []
          },
          "execution_count": 9
        }
      ]
    },
    {
      "cell_type": "code",
      "metadata": {
        "id": "zCUIAkBk2NYd",
        "outputId": "25c91832-8dcf-4fc2-9c55-78f8528851b2"
      },
      "source": [
        "'Valid' if re.fullmatch(r'\\d{5}', '9876') else 'Invalid'"
      ],
      "execution_count": null,
      "outputs": [
        {
          "output_type": "execute_result",
          "data": {
            "text/plain": [
              "'Invalid'"
            ]
          },
          "metadata": {
            "tags": []
          },
          "execution_count": 10
        }
      ]
    },
    {
      "cell_type": "markdown",
      "metadata": {
        "id": "MBSpKOrC2NYd"
      },
      "source": [
        "Você pode combinar **pelo menos n ocorrências** de uma subexpressão com o quantificador **{n,}**. A seguinte expressão regular corresponde a strings contendo pelo menos três dígitos:"
      ]
    },
    {
      "cell_type": "code",
      "metadata": {
        "id": "ZKmu0gWC2NYd",
        "outputId": "a8b6e0d1-b7de-41be-f5bd-e5a932c09234"
      },
      "source": [
        "'Match' if re.fullmatch(r'\\d{3,}', '123') else 'No match'"
      ],
      "execution_count": null,
      "outputs": [
        {
          "output_type": "execute_result",
          "data": {
            "text/plain": [
              "'Match'"
            ]
          },
          "metadata": {
            "tags": []
          },
          "execution_count": 28
        }
      ]
    },
    {
      "cell_type": "code",
      "metadata": {
        "id": "ZLT04sCZ2NYd",
        "outputId": "52ed05b2-e306-484d-c35f-621025c7f8cc"
      },
      "source": [
        "'Match' if re.fullmatch(r'\\d{3,}', '123456789') else 'No match'"
      ],
      "execution_count": null,
      "outputs": [
        {
          "output_type": "execute_result",
          "data": {
            "text/plain": [
              "'Match'"
            ]
          },
          "metadata": {
            "tags": []
          },
          "execution_count": 29
        }
      ]
    },
    {
      "cell_type": "markdown",
      "metadata": {
        "id": "sGgrri-d2NYe"
      },
      "source": [
        "# **Exercício 05** \n",
        "\n",
        "Crie e teste uma expressão regular que corresponda a um endereço de rua que consiste uma ou duas palavras, de um ou mais caracteres e um número com um ou mais dígitos. Os tokens devem ser separados por um espaço, como em **Paschoal Marmo 1888**."
      ]
    },
    {
      "cell_type": "code",
      "metadata": {
        "id": "Dprmqkv02NYe"
      },
      "source": [
        ""
      ],
      "execution_count": null,
      "outputs": []
    },
    {
      "cell_type": "markdown",
      "metadata": {
        "id": "Yz0IXSmo2NYe"
      },
      "source": [
        "### Substituindo substrings\n",
        "\n",
        "O módulo **_re_** fornece a função **sub** para substituir padrões em uma string com base em padrões."
      ]
    },
    {
      "cell_type": "markdown",
      "metadata": {
        "id": "KxQFORhp2NYe"
      },
      "source": [
        "Por padrão, a função **sub** substitui todas as ocorrências de um padrão com o\n",
        "texto de substituição que você especificar. \n",
        "\n",
        "Vamos converter uma string delimitada por tabulação em delimitada por vírgulas:"
      ]
    },
    {
      "cell_type": "code",
      "metadata": {
        "id": "OVcTVyA82NYe",
        "outputId": "aac45951-6d79-492a-bf7f-60791a4c4d40"
      },
      "source": [
        "re.sub(r'\\t', ', ', '1\\t2\\t3\\t4')"
      ],
      "execution_count": null,
      "outputs": [
        {
          "output_type": "execute_result",
          "data": {
            "text/plain": [
              "'1, 2, 3, 4'"
            ]
          },
          "metadata": {
            "tags": []
          },
          "execution_count": 30
        }
      ]
    },
    {
      "cell_type": "markdown",
      "metadata": {
        "id": "zn48T45G2NYe"
      },
      "source": [
        "A função **sub** recebe três argumentos obrigatórios:\n",
        "- o padrão para combinar (o caractere de tabulação '\\t')\n",
        "- o texto de substituição (',') e\n",
        "- a string a ser pesquisada ('1\\t2\\t3\\t4')"
      ]
    },
    {
      "cell_type": "markdown",
      "metadata": {
        "id": "QuUk5W6v2NYe"
      },
      "source": [
        "A palavra-chave **_count_** pode ser usada para especificar o máximo\n",
        "número de substituições:"
      ]
    },
    {
      "cell_type": "code",
      "metadata": {
        "scrolled": true,
        "id": "dKfZHJXg2NYe",
        "outputId": "a5709917-6ea0-4616-f9a6-c7b090ee527d"
      },
      "source": [
        "re.sub(r'\\t', ', ', '1\\t2\\t3\\t4', count=2)"
      ],
      "execution_count": null,
      "outputs": [
        {
          "output_type": "execute_result",
          "data": {
            "text/plain": [
              "'1, 2, 3\\t4'"
            ]
          },
          "metadata": {
            "tags": []
          },
          "execution_count": 31
        }
      ]
    },
    {
      "cell_type": "markdown",
      "metadata": {
        "id": "mY5n7OZV2NYe"
      },
      "source": [
        "### Dividindo strings"
      ]
    },
    {
      "cell_type": "markdown",
      "metadata": {
        "id": "l3JAVcJB2NYe"
      },
      "source": [
        "A função **split** divide um string em **_tokens_**, usando uma expressão regular para especificar o delimitador, e retorna uma lista de strings.\n",
        "\n",
        "Considere dividir uma string em tokens dividindo-a onde ocorrer **uma vírgula seguida de zero ou mais espaços em branco**\n",
        "- **\\s** é a classe de caractere de espaço em branco e **\\*** indica zero ou mais ocorrências da subexpressão anterior:"
      ]
    },
    {
      "cell_type": "code",
      "metadata": {
        "id": "rIEpvUIx2NYe",
        "outputId": "f527f467-3526-4218-9fa6-7f2bb11492fd"
      },
      "source": [
        "re.split(r',\\s*', '1, 2, 3,4, 5,6,7,8')"
      ],
      "execution_count": null,
      "outputs": [
        {
          "output_type": "execute_result",
          "data": {
            "text/plain": [
              "['1', '2', '3', '4', '5', '6', '7', '8']"
            ]
          },
          "metadata": {
            "tags": []
          },
          "execution_count": 32
        }
      ]
    },
    {
      "cell_type": "markdown",
      "metadata": {
        "id": "sc6_DD9K2NYe"
      },
      "source": [
        "Use o argumento de palavra-chave **maxsplit** para especificar o número máximo de divisões:"
      ]
    },
    {
      "cell_type": "code",
      "metadata": {
        "id": "EKeaJEN_2NYe",
        "outputId": "7cdcd46b-1fc7-4190-cfe4-403f64ac00f7"
      },
      "source": [
        "re.split(r',\\s*', '1, 2, 3,4, 5,6,7,8', maxsplit=2)"
      ],
      "execution_count": null,
      "outputs": [
        {
          "output_type": "execute_result",
          "data": {
            "text/plain": [
              "['1', '2', '3,4, 5,6,7,8']"
            ]
          },
          "metadata": {
            "tags": []
          },
          "execution_count": 33
        }
      ]
    },
    {
      "cell_type": "markdown",
      "metadata": {
        "id": "_efsptVp2NYe"
      },
      "source": [
        "# **Exercício 06** \n",
        "Substitua cada ocorrência de um ou mais caracteres de tabulação adjacentes na a seguinte string por uma vírgula e um espaço:\n",
        "\n",
        "**'A\\tB\\t\\tC\\t\\t\\tD'**"
      ]
    },
    {
      "cell_type": "code",
      "metadata": {
        "id": "DvOJ5PhD2NYe"
      },
      "source": [
        ""
      ],
      "execution_count": null,
      "outputs": []
    },
    {
      "cell_type": "markdown",
      "metadata": {
        "id": "d6IEbnqU2NYe"
      },
      "source": [
        "# **Exercício 07** \n",
        "\n",
        "Use uma expressão regular e a função **split** para dividir a seguinte string eliminando o caracteres **$**."
      ]
    },
    {
      "cell_type": "code",
      "metadata": {
        "id": "K7gMEl6Y2NYe"
      },
      "source": [
        ""
      ],
      "execution_count": null,
      "outputs": []
    },
    {
      "cell_type": "markdown",
      "metadata": {
        "id": "T0VfU_Vk2NYe"
      },
      "source": [
        "### Outras funções de pesquisa\n",
        "\n",
        "Anteriormente, usamos a função **fullmatch** para determinar se uma string inteira correspondia a um expressão regular. \n",
        "- Existem várias outras funções de pesquisa. Aqui, discutimos o funções de pesquisa, **search**, **match**, **findall** e **finditer**"
      ]
    },
    {
      "cell_type": "markdown",
      "metadata": {
        "id": "Oz0IRPWx2NYe"
      },
      "source": [
        "#### A função search\n",
        "\n",
        "- Encontra a primeira substring correspondente em qualquer lugar em uma string.\n",
        "- Retorna um objeto **match** (do tipo **SRE_Match**) que contém a substring correspondente.\n",
        "    - O método **group** do objeto **match** retorna a substring:"
      ]
    },
    {
      "cell_type": "code",
      "metadata": {
        "id": "4Z86U0cT2NYe"
      },
      "source": [
        "result = re.search('Python', 'Python é legal')"
      ],
      "execution_count": null,
      "outputs": []
    },
    {
      "cell_type": "code",
      "metadata": {
        "id": "4HIVfWnO2NYe",
        "outputId": "cec0d442-5a21-4e36-c42a-ef2e7eab24fc"
      },
      "source": [
        "result.group() if result else 'not found'"
      ],
      "execution_count": null,
      "outputs": [
        {
          "output_type": "execute_result",
          "data": {
            "text/plain": [
              "'Python'"
            ]
          },
          "metadata": {
            "tags": []
          },
          "execution_count": 36
        }
      ]
    },
    {
      "cell_type": "markdown",
      "metadata": {
        "id": "t1xk6tSE2NYe"
      },
      "source": [
        "Você pode pesquisar uma correspondência apenas no início de uma string com a função **match**."
      ]
    },
    {
      "cell_type": "code",
      "metadata": {
        "id": "NfQsk6Zt2NYe"
      },
      "source": [
        "testStrings = [ \"2x+5y\",\"7y-3z\" ]\n",
        "expressions = [ \"2x\\+5y|7y-3z\",\"[0-9][a-zA-Z0-9_].[0-9][yz]\",\"\\d\\w-\\d\\w\" ]\n"
      ],
      "execution_count": null,
      "outputs": []
    },
    {
      "cell_type": "markdown",
      "metadata": {
        "id": "e_SC3diB2NYe"
      },
      "source": [
        "O operador **.** combina com qualquer caractere."
      ]
    },
    {
      "cell_type": "code",
      "metadata": {
        "scrolled": true,
        "id": "X7MRuYTo2NYe",
        "outputId": "6b116c4c-e7d4-4128-87ed-6dbd9600d5b4"
      },
      "source": [
        "for expression in expressions:\n",
        "    for testString in testStrings:\n",
        "        if re.match( expression, testString ):\n",
        "            print(expression, \"matches\", testString)"
      ],
      "execution_count": null,
      "outputs": [
        {
          "output_type": "stream",
          "text": [
            "2x\\+5y|7y-3z matches 2x+5y\n",
            "2x\\+5y|7y-3z matches 7y-3z\n",
            "[0-9][a-zA-Z0-9_].[0-9][yz] matches 2x+5y\n",
            "[0-9][a-zA-Z0-9_].[0-9][yz] matches 7y-3z\n",
            "\\d\\w-\\d\\w matches 7y-3z\n"
          ],
          "name": "stdout"
        }
      ]
    },
    {
      "cell_type": "markdown",
      "metadata": {
        "id": "WCdT2hFF2NYf"
      },
      "source": [
        "Muitas funções do módulo de referência recebem um argumento opcional de palavra-chave **flags** que muda como expressões regulares são combinadas. \n",
        "\n",
        "- Por exemplo, as correspondências diferenciam maiúsculas de minúsculas por padrão, mas pode-se usar a constante **IGNORECASE** do módulo **re**, para realizar uma pesquisa que não diferencia maiúsculas de minúsculas:"
      ]
    },
    {
      "cell_type": "code",
      "metadata": {
        "id": "hFmsD3Zw2NYf"
      },
      "source": [
        "result3 = re.search('Sam', 'SAM WHITE', flags=re.IGNORECASE)"
      ],
      "execution_count": null,
      "outputs": []
    },
    {
      "cell_type": "code",
      "metadata": {
        "scrolled": true,
        "id": "biYjr1Ed2NYf",
        "outputId": "38ab5a1a-1e38-4a21-a18e-2c1924ce73f3"
      },
      "source": [
        "result3.group() if result3 else 'not found'"
      ],
      "execution_count": null,
      "outputs": [
        {
          "output_type": "execute_result",
          "data": {
            "text/plain": [
              "'SAM'"
            ]
          },
          "metadata": {
            "tags": []
          },
          "execution_count": 80
        }
      ]
    },
    {
      "cell_type": "code",
      "metadata": {
        "id": "nbM3DJzJ2NYf",
        "outputId": "3c4e48c0-e398-4ba5-cf79-2100599d2c10"
      },
      "source": [
        "result3.group()"
      ],
      "execution_count": null,
      "outputs": [
        {
          "output_type": "execute_result",
          "data": {
            "text/plain": [
              "'SAM'"
            ]
          },
          "metadata": {
            "tags": []
          },
          "execution_count": 78
        }
      ]
    },
    {
      "cell_type": "markdown",
      "metadata": {
        "id": "mn7JaTFO2NYf"
      },
      "source": [
        "- O metacaractere ‘^’ indica que a expressão que o sucede deve aparecer no início da string;\n",
        "    - “^OLA” – combina com strings que começam com OLA.\n",
        "\n",
        "- O metacaractere ‘\\$’ indica que a expressão que o precede deve aparecer no final da string; \n",
        "    - Ex. “AVA\\$” – combina com strings que terminam com AVA."
      ]
    },
    {
      "cell_type": "code",
      "metadata": {
        "id": "0srrxLwI2NYf"
      },
      "source": [
        "result = re.search('^Python', 'Python is fun')"
      ],
      "execution_count": null,
      "outputs": []
    },
    {
      "cell_type": "code",
      "metadata": {
        "id": "4yy9vHao2NYf",
        "outputId": "dd667ad7-bb27-4f38-db69-63f015252057"
      },
      "source": [
        "result.group() if result else 'not found'"
      ],
      "execution_count": null,
      "outputs": [
        {
          "output_type": "execute_result",
          "data": {
            "text/plain": [
              "'Python'"
            ]
          },
          "metadata": {
            "tags": []
          },
          "execution_count": 43
        }
      ]
    },
    {
      "cell_type": "code",
      "metadata": {
        "id": "wGVQ9wFB2NYf"
      },
      "source": [
        "result = re.search('^fun', 'Python is fun')"
      ],
      "execution_count": null,
      "outputs": []
    },
    {
      "cell_type": "code",
      "metadata": {
        "id": "bAZBbU9T2NYf"
      },
      "source": [
        "result = re.search('Python$', 'Python is fun')"
      ],
      "execution_count": null,
      "outputs": []
    },
    {
      "cell_type": "code",
      "metadata": {
        "id": "AgTu4wWS2NYf",
        "outputId": "6fb60c45-05ea-4228-b657-fb9ddf827965"
      },
      "source": [
        "result.group() if result else 'not found'"
      ],
      "execution_count": null,
      "outputs": [
        {
          "output_type": "execute_result",
          "data": {
            "text/plain": [
              "'not found'"
            ]
          },
          "metadata": {
            "tags": []
          },
          "execution_count": 92
        }
      ]
    },
    {
      "cell_type": "code",
      "metadata": {
        "id": "L_nTIg1b2NYf"
      },
      "source": [
        "result = re.search('fun$', 'Python is fun')"
      ],
      "execution_count": null,
      "outputs": []
    },
    {
      "cell_type": "code",
      "metadata": {
        "id": "6bzYEvME2NYf",
        "outputId": "b094dadf-7b2a-40ec-883d-750a064d06b7"
      },
      "source": [
        "result.group() if result else 'not found'"
      ],
      "execution_count": null,
      "outputs": [
        {
          "output_type": "execute_result",
          "data": {
            "text/plain": [
              "'fun'"
            ]
          },
          "metadata": {
            "tags": []
          },
          "execution_count": 94
        }
      ]
    },
    {
      "cell_type": "markdown",
      "metadata": {
        "id": "owg6yYcf2NYf"
      },
      "source": [
        "#### Encontrar todas as correspondências em uma string\n",
        "A função **findall** encontra todos as substring correspondentes em uma string e retorna uma lista das substrings. \n",
        "\n",
        "Vamos extrair todos os números de telefone de uma string. Para simplificar, vamos\n",
        "supor que os números de telefone tenham o formato #####-####:"
      ]
    },
    {
      "cell_type": "code",
      "metadata": {
        "id": "f4WfElE12NYf"
      },
      "source": [
        "contact = 'Wally White, Home: 55555-1234, Work: 55555-4321'"
      ],
      "execution_count": null,
      "outputs": []
    },
    {
      "cell_type": "code",
      "metadata": {
        "id": "_pdQFBWv2NYf",
        "outputId": "6250bb3a-ec17-4a3b-c9b3-f47bf8687d11"
      },
      "source": [
        "re.findall(r'\\d{5}-\\d{4}', contact)"
      ],
      "execution_count": null,
      "outputs": [
        {
          "output_type": "execute_result",
          "data": {
            "text/plain": [
              "['55555-1234', '55555-4321']"
            ]
          },
          "metadata": {
            "tags": []
          },
          "execution_count": 3
        }
      ]
    },
    {
      "cell_type": "markdown",
      "metadata": {
        "id": "foGu5UId2NYf"
      },
      "source": [
        "A função **finditer** funciona como **findall**, no entanto retorna um iterável dos objetos correspondentes. \n",
        "- Para um grande número de correspondências, **finditer** pode economizar memória porque retorna uma correspondência por vez\n",
        "    - enquanto **findall** retorna todas as correspondências de uma vez"
      ]
    },
    {
      "cell_type": "code",
      "metadata": {
        "id": "Pao0wa7W2NYf",
        "outputId": "e5854fc8-a71d-4865-bf55-64a83b3684ac"
      },
      "source": [
        "for phone in re.finditer(r'\\d{5}-\\d{4}', contact):\n",
        "    print(phone.group())"
      ],
      "execution_count": null,
      "outputs": [
        {
          "output_type": "stream",
          "text": [
            "55555-1234\n",
            "55555-4321\n"
          ],
          "name": "stdout"
        }
      ]
    },
    {
      "cell_type": "markdown",
      "metadata": {
        "id": "oZJvQTu72NYf"
      },
      "source": [
        "Você pode usar os metacaracteres parênteses - **( )** - para capturar substrings de uma correspondência. \n",
        "\n",
        "- Por exemplo, vamos capturar como substrings separadas o nome e o endereço de e-mail no texto da string:"
      ]
    },
    {
      "cell_type": "code",
      "metadata": {
        "id": "_h0FtEIT2NYg"
      },
      "source": [
        "text = 'Charlie Cyan, e-mail: demo1@unicamp.com'"
      ],
      "execution_count": null,
      "outputs": []
    },
    {
      "cell_type": "code",
      "metadata": {
        "id": "C24nnPeq2NYg"
      },
      "source": [
        "pattern = r'([A-Z][a-z]+ [A-Z][a-z]+), e-mail: (\\w+@\\w+\\.\\w{3})'"
      ],
      "execution_count": null,
      "outputs": []
    },
    {
      "cell_type": "markdown",
      "metadata": {
        "id": "QzhBBm7K2NYg"
      },
      "source": [
        "Vamos considerar a expressão regular:\n",
        "- **'([A-Z][a-z]+ [A-Z][a-z]+)'** corresponde a duas palavras separadas por um espaço.\n",
        "    -Cada palavra deve ter a letra inicial maiúscula.\n",
        "- **', e-mail:'** contém caracteres literais que correspondem a eles próprios.\n",
        "- **(\\w+@\\w+\\.\\w{3})** corresponde a um endereço de e-mail simples consistindo em um ou mais caracteres alfanuméricos (\\w+), o caractere @, um ou mais caracteres alfanuméricos (\\w+), um ponto (\\.) e três caracteres alfanuméricos (\\w{3}). \n",
        "    - O ponto deve ser precedido de \\ pois é um metacaractere de expressão regular que corresponde um caractere."
      ]
    },
    {
      "cell_type": "code",
      "metadata": {
        "id": "za6eHF6U2NYg"
      },
      "source": [
        "result = re.search(pattern, text)"
      ],
      "execution_count": null,
      "outputs": []
    },
    {
      "cell_type": "markdown",
      "metadata": {
        "id": "ivfqQBSb2NYg"
      },
      "source": [
        "O método **groups** do objeto **match** reorna uma tupla das substrings capturadas:"
      ]
    },
    {
      "cell_type": "code",
      "metadata": {
        "scrolled": true,
        "id": "Zwx4WSyz2NYg",
        "outputId": "764b3d87-7a38-4918-b2b9-35a233f18a40"
      },
      "source": [
        "result.groups()"
      ],
      "execution_count": null,
      "outputs": [
        {
          "output_type": "execute_result",
          "data": {
            "text/plain": [
              "('Charlie Cyan', 'demo1@unicamp.com')"
            ]
          },
          "metadata": {
            "tags": []
          },
          "execution_count": 10
        }
      ]
    },
    {
      "cell_type": "markdown",
      "metadata": {
        "id": "BsGe65jC2NYg"
      },
      "source": [
        "O método **group** do objeto **match** retorna a correspondência inteira como uma única string:"
      ]
    },
    {
      "cell_type": "code",
      "metadata": {
        "id": "oBbVTGFV2NYg",
        "outputId": "8ecdd438-cf0c-4bc6-d5d0-e72321527769"
      },
      "source": [
        "result.group()"
      ],
      "execution_count": null,
      "outputs": [
        {
          "output_type": "execute_result",
          "data": {
            "text/plain": [
              "'Charlie Cyan, e-mail: demo1@unicamp.com'"
            ]
          },
          "metadata": {
            "tags": []
          },
          "execution_count": 11
        }
      ]
    },
    {
      "cell_type": "markdown",
      "metadata": {
        "id": "fzAx0ad22NYg"
      },
      "source": [
        "Você pode acessar cada substring capturada passando um número inteiro para o método **group**. \n",
        "- As substrings capturados são numerados a partir de 1 (ao contrário dos índices de lista, que começam em 0)"
      ]
    },
    {
      "cell_type": "code",
      "metadata": {
        "id": "TVfDFk8V2NYg",
        "outputId": "b199347c-204a-4666-e0ce-165fd679013b"
      },
      "source": [
        "result.group(1)"
      ],
      "execution_count": null,
      "outputs": [
        {
          "output_type": "execute_result",
          "data": {
            "text/plain": [
              "'Charlie Cyan'"
            ]
          },
          "metadata": {
            "tags": []
          },
          "execution_count": 12
        }
      ]
    },
    {
      "cell_type": "code",
      "metadata": {
        "id": "ycQuPzR42NYg",
        "outputId": "26c0effd-e41d-43d1-e4d7-5c86fd3965fd"
      },
      "source": [
        "result.group(2)"
      ],
      "execution_count": null,
      "outputs": [
        {
          "output_type": "execute_result",
          "data": {
            "text/plain": [
              "'demo1@unicamp.com'"
            ]
          },
          "metadata": {
            "tags": []
          },
          "execution_count": 13
        }
      ]
    },
    {
      "cell_type": "markdown",
      "metadata": {
        "id": "RWPtR4632NYg"
      },
      "source": [
        "# **Exercício 08** \n",
        "\n",
        "Crie uma expressão regular para obter o nome, o telefone e o email da senteça:"
      ]
    },
    {
      "cell_type": "markdown",
      "metadata": {
        "id": "408Jz3nA2NYg"
      },
      "source": [
        "Albert Antstein, phone: 123-4567, e-mail: albert@bug2bug.com"
      ]
    },
    {
      "cell_type": "code",
      "metadata": {
        "id": "Xt2wDpVW2NYg"
      },
      "source": [
        ""
      ],
      "execution_count": null,
      "outputs": []
    },
    {
      "cell_type": "markdown",
      "metadata": {
        "id": "3BNADq732NYg"
      },
      "source": [
        "# Introdução à ciência de dados: pandas, expressões regulares e pré-processamento de dados"
      ]
    },
    {
      "cell_type": "markdown",
      "metadata": {
        "id": "lLvYBunK2NYg"
      },
      "source": [
        "Os dados nem sempre vêm em formulários prontos para análise. \n",
        "- Podem, por exemplo, estar no formato errado, incorreto ou mesmo ausente. \n",
        "- Cientistas de dados podem gastar até 75% de seu tempo preparando dados antes de começarem seus estudos.\n",
        "\n",
        "O pré-processamento de dados também é chamado de *data munging* ou *data wrangling*. \n",
        "Duas das etapas mais importantes na manipulação de dados são a limpeza e transformação de dados\n",
        "dados nos formatos ideais para seus sistemas de banco de dados e software analítico. \n",
        "Exemplos de limpeza de dados são:\n",
        "    \n",
        "- excluir observações com valores ausentes,\n",
        "- substituir valores razoáveis ​​por valores ausentes,\n",
        "- excluir observações com valores ruins,\n",
        "- substituir valores razoáveis ​​por valores ruins,\n",
        "- lançando outliers (embora às vezes você queira mantê-los),\n",
        "- eliminação de duplicatas (embora às vezes as duplicatas sejam válidas),\n",
        "- lidar com dados inconsistentes,\n",
        "- e mais."
      ]
    },
    {
      "cell_type": "markdown",
      "metadata": {
        "id": "xRTy-fme2NYg"
      },
      "source": [
        "Você provavelmente já está pensando que a limpeza de dados é um processo difícil e confuso, onde você poderia facilmente tomar decisões erradas que afetariam negativamente seus resultados. \n",
        "- Você está correto!\n",
        "\n",
        "Quando você chegar aos estudos de caso de ciência de dados nos capítulos posteriores, verá esses dados ciência é mais uma ciência empírica, como a medicina, e menos uma ciência teórica, como física Teórica. As ciências empíricas baseiam suas conclusões em observações e experiências. \n",
        "\n",
        "Por exemplo, muitos medicamentos que efetivamente resolvem problemas médicos hoje foram\n",
        "desenvolvido pela observação dos efeitos que as primeiras versões desses medicamentos tiveram em animais de laboratório e eventualmente humanos, e gradualmente refinando ingredientes e dosagens. Os dados de ações\n",
        "os cientistas tomam pode variar por projeto, com base na qualidade e natureza dos dados e ser\n",
        "afetados pela organização em evolução e padrões profissionais.\n",
        "Algumas transformações de dados comuns incluem:]\n",
        "\n",
        "• remover dados e recursos desnecessários (falaremos mais sobre os recursos nos dados\n",
        "estudos de caso de ciências),\n",
        "• combinando recursos relacionados,\n",
        "• dados de amostragem para obter um subconjunto representativo (veremos no caso da ciência de dados\n",
        "estudos que a amostragem aleatória é particularmente eficaz para isso e diremos por quê),\n",
        "• padronizar formatos de dados,\n",
        "• agrupamento de dados,\n",
        "• e mais.\n",
        "\n",
        "É sempre bom manter seus dados originais. Mostraremos exemplos simples de limpeza\n",
        "e transformação de dados usando **Pandas Series** e **DataFrames**."
      ]
    },
    {
      "cell_type": "markdown",
      "metadata": {
        "id": "TsnwhkiP2NYg"
      },
      "source": [
        "### Limpando seus dados\n",
        "Valores de dados inválidos e valores ausentes podem afetar significativamente a análise de dados. Alguns cientistas de dados aconselham contra quaisquer tentativas de inserir \"valores razoáveis\". Em vez disso, eles defendem marcando claramente os dados ausentes e deixando para o pacote de análise de dados lidar com o questão. \n",
        "Vamos considerar um hospital que registra as temperaturas dos pacientes (e provavelmente outros\n",
        "sinais) quatro vezes por dia. Suponha que os dados consistam em um nome e quatro valores reais,\n",
        "tal como:"
      ]
    },
    {
      "cell_type": "markdown",
      "metadata": {
        "id": "yxxhIm0k2NYg"
      },
      "source": [
        "['Brown, Sue', 98.6, 98.4, 98.7, 0.0]"
      ]
    },
    {
      "cell_type": "markdown",
      "metadata": {
        "id": "8XIwkG6_2NYg"
      },
      "source": [
        "Note que a última temperatura esta faltando e foi registrada como 0,0, talvez devido ao mau funcionamento do sensor.\n",
        "\n",
        "A média dos três primeiros valores é 98,57, o que está próximo do normal. Contudo,\n",
        "se você calcular a temperatura média incluindo o valor ausente para o qual 0,0 foi\n",
        "substituído, a média é de apenas 73,93, resultado claramente questionável. Certamente, os médicos iriam não quero tomar medidas corretivas drásticas neste paciente - é crucial \"obter os dados corretos\".\n",
        "\n",
        "Uma maneira comum de limpar os dados é substituir um valor razoável pelo ausente\n",
        "temperatura, como a média das outras leituras do paciente. Se tivéssemos feito isso acima,\n",
        "então a temperatura média do paciente permaneceria 98,57 - uma média muito mais provável\n",
        "temperatura, com base nas outras leituras."
      ]
    },
    {
      "cell_type": "markdown",
      "metadata": {
        "id": "jiUvswvS2NYg"
      },
      "source": [
        "#### Validação de dados\n",
        "\n",
        "Vamos começar criando uma **Serie** de códigos postais de cinco dígitos a partir de um dicionário de nome da cidade / codigo de 5 dígitos\n",
        "- Inserimos intencionalmente um CEP inválido para Miami:"
      ]
    },
    {
      "cell_type": "code",
      "metadata": {
        "id": "hW3EUvDO2NYg"
      },
      "source": [
        "import pandas as pd"
      ],
      "execution_count": null,
      "outputs": []
    },
    {
      "cell_type": "code",
      "metadata": {
        "id": "5zYxJ81c2NYg"
      },
      "source": [
        "zips = pd.Series({'Boston': '02215', 'Miami': '3310'})"
      ],
      "execution_count": null,
      "outputs": []
    },
    {
      "cell_type": "code",
      "metadata": {
        "id": "Vs62U8w92NYg",
        "outputId": "d36fbe19-8fe7-4d1b-b1f6-1d28b7572c12"
      },
      "source": [
        "zips"
      ],
      "execution_count": null,
      "outputs": [
        {
          "output_type": "execute_result",
          "data": {
            "text/plain": [
              "Boston    02215\n",
              "Miami      3310\n",
              "dtype: object"
            ]
          },
          "metadata": {
            "tags": []
          },
          "execution_count": 17
        }
      ]
    },
    {
      "cell_type": "markdown",
      "metadata": {
        "id": "iM9AN8k32NYh"
      },
      "source": [
        "Embora *zips* pareça uma matriz bidimensional, na verdade é unidimensional. \n",
        "- A segundo coluna ”representa os valores do CEP da série (dos valores do dicionário), e a - “primeira coluna” representa seus índices (das chaves do dicionário).\n",
        "\n",
        "Podemos usar expressões regulares com **Pandas** para validar dados. \n",
        "- O atributo **str** de uma **Serie** fornece processamento de strings e vários métodos de expressão regular. \n",
        "- Vamos usar o método **match** do atributo **str** para verificar se cada CEP é válido:"
      ]
    },
    {
      "cell_type": "code",
      "metadata": {
        "id": "Fk2P-5YV2NYh",
        "outputId": "0e6db2f0-b8a1-47e9-d3fb-21f2863765c1"
      },
      "source": [
        "zips.str.match(r'\\d{5}')"
      ],
      "execution_count": null,
      "outputs": [
        {
          "output_type": "execute_result",
          "data": {
            "text/plain": [
              "Boston     True\n",
              "Miami     False\n",
              "dtype: bool"
            ]
          },
          "metadata": {
            "tags": []
          },
          "execution_count": 18
        }
      ]
    },
    {
      "cell_type": "markdown",
      "metadata": {
        "id": "8vLL50bU2NYh"
      },
      "source": [
        "O método **match** aplica a expressão regular **\\d{5}** a _cada_ elemento da série, verificando se o elemento é composto de exatamente cinco dígitos. \n",
        "- Você não precisa fazer um laço explicitamente em todos os códigos postais.\n",
        "- Este é outro exemplo de estilo de programação com iteração interna em vez de externa. \n",
        "\n",
        "O método retorna uma nova **Serie** contendo **True** para cada elemento válido. Nesse caso, o CEP de Miami não corresponde, então seu elemento é **False**."
      ]
    },
    {
      "cell_type": "markdown",
      "metadata": {
        "id": "lHI2b0Rk2NYh"
      },
      "source": [
        "Existem várias maneiras de lidar com dados inválidos. Uma é pegá-lo em sua fonte e\n",
        "interagir com a fonte para corrigir o valor. Isso nem sempre é possível. Por exemplo, o\n",
        "os dados podem estar vindo de sensores de alta velocidade na Internet das Coisas. Nesse caso, nós não seria capaz de corrigi-lo na fonte, portanto, poderíamos aplicar técnicas de limpeza de dados.\n",
        "No caso do CEP de Miami inválido de 3310, podemos procurar por CEPs de Miami\n",
        "começando com 3310. Existem dois - 33101 e 33109 - e poderíamos escolher um deles.\n",
        "\n",
        "Às vezes, em vez de combinar um valor inteiro com um padrão, você vai querer saber\n",
        "se um valor contém uma substring que corresponda ao padrão. Neste caso, use o método\n",
        "contém em vez de correspondência. Vamos criar uma série de strings, cada uma contendo uma cidade dos EUA,\n",
        "estado e CEP, em seguida, determine se cada string contém uma substring que corresponde ao\n",
        "padrão **'[A-Z]{2}'** (um espaço, seguido por duas letras maiúsculas, seguidas por um espaço):"
      ]
    },
    {
      "cell_type": "code",
      "metadata": {
        "id": "jmyfPQv-2NYh"
      },
      "source": [
        "cities = pd.Series(['Boston, MA 02215', 'Miami, FL 33101'])"
      ],
      "execution_count": null,
      "outputs": []
    },
    {
      "cell_type": "code",
      "metadata": {
        "id": "IfcmFDcW2NYh",
        "outputId": "5f5c6861-48e0-4fae-fbc7-8cbf4f68034a"
      },
      "source": [
        "cities"
      ],
      "execution_count": null,
      "outputs": [
        {
          "output_type": "execute_result",
          "data": {
            "text/plain": [
              "0    Boston, MA 02215\n",
              "1     Miami, FL 33101\n",
              "dtype: object"
            ]
          },
          "metadata": {
            "tags": []
          },
          "execution_count": 20
        }
      ]
    },
    {
      "cell_type": "markdown",
      "metadata": {
        "id": "G4__jzV62NYh"
      },
      "source": [
        "Não especificamos os valores do índice, portanto, a Serie usa índices iniciado em zero por padrão. \n",
        "- O trecho a seguir usa **contains** para mostrar que ambos os elementos da série contêm substrings que correspondem a **'[A-Z]{2}'**. \n",
        "- Depois, **match** é usado para mostrar que nenhum valor do elemento corresponde a esse padrão em sua totalidade, porque cada um possui outros caracteres em seu valor completo."
      ]
    },
    {
      "cell_type": "code",
      "metadata": {
        "id": "9ZNM9AJG2NYh",
        "outputId": "999f9437-830f-4516-978f-2674404277fd"
      },
      "source": [
        "cities.str.contains(r' [A-Z]{2} ')"
      ],
      "execution_count": null,
      "outputs": [
        {
          "output_type": "execute_result",
          "data": {
            "text/plain": [
              "0    True\n",
              "1    True\n",
              "dtype: bool"
            ]
          },
          "metadata": {
            "tags": []
          },
          "execution_count": 21
        }
      ]
    },
    {
      "cell_type": "code",
      "metadata": {
        "id": "h_v3Trl52NYh",
        "outputId": "a699cc1b-dc98-4f78-c0bd-697c2f16e348"
      },
      "source": [
        "cities.str.match(r' [A-Z]{2} ')"
      ],
      "execution_count": null,
      "outputs": [
        {
          "output_type": "execute_result",
          "data": {
            "text/plain": [
              "0    False\n",
              "1    False\n",
              "dtype: bool"
            ]
          },
          "metadata": {
            "tags": []
          },
          "execution_count": 22
        }
      ]
    }
  ]
}