{
 "metadata": {
  "language_info": {
   "codemirror_mode": {
    "name": "ipython",
    "version": 3
   },
   "file_extension": ".py",
   "mimetype": "text/x-python",
   "name": "python",
   "nbconvert_exporter": "python",
   "pygments_lexer": "ipython3",
   "version": "3.8.6-final"
  },
  "orig_nbformat": 2,
  "kernelspec": {
   "name": "python3",
   "display_name": "Python 3"
  }
 },
 "nbformat": 4,
 "nbformat_minor": 2,
 "cells": [
  {
   "source": [
    "# Exemplos da Aula 01\n",
    "\n",
    "## Introdução à Python\n",
    "\n",
    "Qual é o seu domínio da linguagem python? Faça os exercícios abaixo, de acordo com a dificuldade encontrada, escolha um nível de maturidade de python no Moodle.\n",
    "\n"
   ],
   "cell_type": "markdown",
   "metadata": {}
  },
  {
   "source": [
    "TT007 - Introdução à Ciência de Dados\n",
    "\n",
    "Criado por: Matheus Percário Bruder"
   ],
   "cell_type": "markdown",
   "metadata": {}
  },
  {
   "source": [
    "---"
   ],
   "cell_type": "markdown",
   "metadata": {}
  },
  {
   "source": [
    "# Exercício 01\n",
    "\n",
    "Escreva um programa que leia um número inteiro positivo (n) do usuário e, em seguida, exiba a soma de todos os inteiros de 1 a n. A soma dos primeiros n inteiros positivos pode ser calculado usando a fórmula: sm = n(n+1)/2"
   ],
   "cell_type": "markdown",
   "metadata": {}
  },
  {
   "cell_type": "code",
   "execution_count": 3,
   "metadata": {},
   "outputs": [
    {
     "output_type": "stream",
     "name": "stdout",
     "text": [
      "A soma dos números naturais 1 a 15 é: 120\n"
     ]
    }
   ],
   "source": [
    "# Lendo inteiro do teclado\n",
    "n = int(input('Numero: '))\n",
    "\n",
    "# Computando a soma\n",
    "sm = (n * (n + 1)) / 2\n",
    "\n",
    "# Print do resultado\n",
    "print(f'A soma dos números naturais 1 a {n} é: {int(sm)}')"
   ]
  },
  {
   "source": [
    "# Exercício 02\n",
    "\n",
    "Crie um programa que leia três inteiros do usuário e os exiba de forma ordenada (do menor ao maior). Use as funções mínimo e máximo para encontrar o menor e maiores valores. O valor médio pode ser encontrado calculando a soma de todos os três valores e, em seguida, subtraindo o valor mínimo e o valor máximo."
   ],
   "cell_type": "markdown",
   "metadata": {}
  },
  {
   "cell_type": "code",
   "execution_count": 1,
   "metadata": {},
   "outputs": [
    {
     "output_type": "stream",
     "name": "stdout",
     "text": [
      "\n0 -> 2 -> 15\n"
     ]
    }
   ],
   "source": [
    "a = int(input(f'First number: ').strip())\n",
    "b = int(input(f'Second number: ').strip())\n",
    "c = int(input(f'Third number: ').strip())\n",
    "\n",
    "ma = max(a, b, c)\n",
    "mi = min(a, b, c)\n",
    "\n",
    "me = sum((a, b, c)) - (ma + mi)\n",
    "\n",
    "print(f'\\n{mi} -> {me} -> {ma}')"
   ]
  },
  {
   "source": [
    "# Exercício 03\n",
    "\n",
    "A maioria dos anos tem 365 dias. No entanto, o tempo necessário para a Terra orbitar o Sol é um pouco mais do que isso. Como resultado, um dia extra, 29 de fevereiro, está incluído em alguns anos para corrigir essa diferença. Esses anos são chamados de anos bissextos.\n",
    "\n",
    "As regras para determinar se um ano é ou não um ano bissexto são as seguintes:\n",
    "  * Qualquer ano divisível por 400 é um ano bissexto.\n",
    "  * Dos anos restantes, qualquer ano divisível por 100 não é um ano bissexto.\n",
    "  * Dos anos restantes, qualquer ano divisível por 4 é um ano bissexto.\n",
    "  * Todos os outros anos não são anos bissextos.\n",
    "    \n",
    "Escreva um programa que leia um ano do usuário e exiba uma mensagem indicando seja ou não um ano bissexto."
   ],
   "cell_type": "markdown",
   "metadata": {}
  },
  {
   "cell_type": "code",
   "execution_count": 2,
   "metadata": {},
   "outputs": [
    {
     "output_type": "stream",
     "name": "stdout",
     "text": [
      "2012 is leap (bissexto)\n"
     ]
    }
   ],
   "source": [
    "def bissexto(year):\n",
    "    \"\"\"Verica se o número informado á um ano bissexto.\"\"\"\n",
    "    if year % 400 == 0:\n",
    "        return True\n",
    "    elif year % 100 == 0:\n",
    "        return False\n",
    "    elif year % 4 == 0:\n",
    "        return True\n",
    "    else:\n",
    "        return False\n",
    "\n",
    "y = input(f'Type a year: ').strip()\n",
    "if y.isdigit():\n",
    "    y = int(y)\n",
    "    resp = bissexto(y)\n",
    "    if resp:\n",
    "        print(f'{y} is leap (bissexto)')\n",
    "    else:\n",
    "        print(f'{y} is not leap (bissexto)')"
   ]
  },
  {
   "source": [
    "# Exercício 04\n",
    "\n",
    "A duração de um mês varia de 28 a 31 dias. Neste exercício, você criará um programa que lê o nome de um mês do usuário como uma string. Então seu programa deve exibir o número de dias naquele mês. Exibir “28 ou 29 dias” para fevereiro, para que os anos bissextos sejam considerados."
   ],
   "cell_type": "markdown",
   "metadata": {}
  },
  {
   "cell_type": "code",
   "execution_count": 6,
   "metadata": {},
   "outputs": [
    {
     "output_type": "stream",
     "name": "stdout",
     "text": [
      "Fevereiro has 28 ou 29 days\n"
     ]
    }
   ],
   "source": [
    "d = {\n",
    "    'Janeiro': '31',\n",
    "    'Fevereiro': '28 or 29',\n",
    "    'Março': '31',\n",
    "    'Abril': '30',\n",
    "    'Maio': '31',\n",
    "    'Junho': '30',\n",
    "    'Julho': '31',\n",
    "    'Agosto': '31',\n",
    "    'Setembro': '30',\n",
    "    'Outubro': '31',\n",
    "    'Novembro': '30',\n",
    "    'Dezembro': '31'\n",
    "}\n",
    "\n",
    "m = input(f'Type a month: ').strip().capitalize()\n",
    "if m in d:\n",
    "    print(f'{m} has {d[m]} days in it')\n",
    "else:\n",
    "    print(f'Invalid month')"
   ]
  },
  {
   "source": [
    "# Exercício 05\n",
    "\n",
    "Um dos primeiros exemplos conhecidos de criptografia foi usado por Júlio César. César precisava fornecer instruções escritas a seus generais, mas não queria que seus inimigos soubesse de seus planos se a mensagem caísse em suas mãos. Como resultado, ele desenvolveu o que mais tarde ficou conhecido como Cifra de César.\n",
    "\n",
    "A ideia por trás dessa cifra é simples, cada letra da mensagem original é deslocada em 3 lugares. Como resultado, A se torna D, B se torna E, C se torna F, D torna-se G, etc. As últimas três letras do alfabeto são colocadas em volta do começando: X torna-se A, Y torna-se B e Z torna-se C. Os caracteres que não são letras não são modificado pela cifra.\n",
    "\n",
    "Escreva um programa que implemente uma cifra de César. Permita que o usuário forneça o mensagem e a quantidade de deslocamento e, em seguida, exiba a mensagem deslocada. Garanta que seu programa codifica letras maiúsculas e minúsculas. Seu programa deve também suporta valores de deslocamento negativos para que possa ser usado para codificar mensagens e decodificar mensagens."
   ],
   "cell_type": "markdown",
   "metadata": {}
  },
  {
   "cell_type": "code",
   "execution_count": 14,
   "metadata": {},
   "outputs": [
    {
     "output_type": "stream",
     "name": "stdout",
     "text": [
      "Mensagem original: cifra de ceZar 15$### Atacar pelo norte 85612W65215S\nMensagem cifrada: djgsb ef dfAbs 15$### Bubdbs qfmp opsuf 85612X65215T\n"
     ]
    }
   ],
   "source": [
    "def cesar_cipher(msg, desloc):\n",
    "    new_msg = []\n",
    "    for letter in msg:\n",
    "        if letter.isalpha():\n",
    "            if letter >= \"a\" and letter <= \"z\":\n",
    "                pos = ord(letter) - ord('a')\n",
    "                pos = (pos + desloc) % 26\n",
    "                new_letter = chr(pos + ord('a'))\n",
    "                new_msg.append(new_letter)\n",
    "                \n",
    "            elif letter >= \"A\" and letter <= \"Z\":\n",
    "                pos = ord(letter) - ord('A')\n",
    "                pos = (pos + desloc) % 26\n",
    "                new_letter = chr(pos + ord('A'))\n",
    "                new_msg.append(new_letter)\n",
    "        else:\n",
    "            new_msg.append(letter)\n",
    "    enc_msg = \"\".join(new_msg)\n",
    "    return enc_msg\n",
    "\n",
    "\n",
    "m = input('Type a message: ').strip()\n",
    "d = input('Choose a displacement: ').strip()\n",
    "\n",
    "encrypted_msg = cesar_cipher(m, int(d))\n",
    "print(f'Mensagem original: {m}\\nMensagem cifrada: {encrypted_msg}')"
   ]
  },
  {
   "source": [
    "# Exercício 06\n",
    "\n",
    "Escreva um programa que converta um número binário (base 2) em decimal (base 10). Seu programa deve começar lendo o número binário do usuário como uma string. Então ele deve calcular o número decimal equivalente processando cada dígito no número binário. Finalmente, seu programa deve exibir o número decimal equivalente."
   ],
   "cell_type": "markdown",
   "metadata": {}
  },
  {
   "cell_type": "code",
   "execution_count": 18,
   "metadata": {},
   "outputs": [
    {
     "output_type": "stream",
     "name": "stdout",
     "text": [
      "Binário: 1101\nDecimal: 13\n"
     ]
    }
   ],
   "source": [
    "def converterb_d(n):\n",
    "    decimal = 0\n",
    "    n = str(n)\n",
    "    n = n[::-1]\n",
    "    tam = len(n)\n",
    "    for i in range(tam):\n",
    "        if n[i] == \"1\":\n",
    "            decimal = decimal + 2**i\n",
    "    return decimal\n",
    "\n",
    "num = int(input('Enter a non-negative number: ').strip())\n",
    "dec = converterb_d(num)\n",
    "print(f'Binário: {num}\\nDecimal: {dec}')"
   ]
  },
  {
   "source": [
    "# Exercício 07\n",
    "\n",
    "Este exercício examina o processo de identificação do valor máximo em uma coleção de inteiros. Cada um dos inteiros será selecionado aleatoriamente a partir dos números entre 1 e 100. A coleção de inteiros pode conter valores duplicados, e alguns dos números inteiros entre 1 e 100 podem não estar presentes.\n",
    "\n",
    "Pare um momento e pense em como você lidaria com esse problema no papel. Muitas pessoas verificariam cada inteiro em sequência e se perguntariam se o número que eles estão considerando atualmente é maior do que o maior número que eles viram anteriormente. Se for, então eles esquecem o número máximo anterior e lembram o número atual como o novo número máximo. Esta é uma abordagem razoável, e resultará na resposta correta quando o processo for executado com cuidado. Se vocês estivessem executando esta tarefa, quantas vezes você esperaria precisar atualizar o valor máximo e lembra de um novo número?\n",
    "\n",
    "Embora possamos responder à pergunta feita no final do parágrafo anterior usando teoria da probabilidade, vamos explorá-la simulando a situação. Crie um programa que começa selecionando um número inteiro aleatório entre 1 e 100. Salve este inteiro como o número máximo encontrado até agora. Depois que o inteiro inicial foi selecionado, gera 99 inteiros aleatórios adicionais entre 1 e 100. Verifique cada inteiro conforme é gerado para ver se é maior do que o número máximo encontrado tão longe. Se for, então o seu programa deve atualizar o número máximo encontrado e conte o fato de você ter feito uma atualização. Exibir cada inteiro depois de você gerá-lo. Inclua uma notação com os inteiros que representam um novo máximo.\n",
    "\n",
    "Depois de exibir 100 inteiros, seu programa deve exibir o máximo valor encontrado, junto com o número de vezes que o valor máximo foi atualizado durante o processo. A saída parcial do programa é mostrada abaixo, com… representando os inteiros restantes que seu programa exibirá. Execute o seu programa várias vezes. É o número de atualizações realizadas no valor máximo o que você esperava?"
   ],
   "cell_type": "markdown",
   "metadata": {}
  },
  {
   "cell_type": "code",
   "execution_count": 31,
   "metadata": {},
   "outputs": [
    {
     "output_type": "stream",
     "name": "stdout",
     "text": [
      "54 *\n71 <== Update\n71\n91 <== Update\n91\n70\n89\n94 <== Update\n94\n42\n77\n60\n91\n9\n72\n61\n70\n72\n63\n8\n89\n65\n22\n9\n32\n34\n46\n52\n59\n97 <== Update\n97\n71\n58\n52\n28\n68\n11\n55\n39\n67\n77\n54\n74\n91\n66\n84\n56\n17\n73\n53\n7\n4\n9\n75\n35\n81\n51\n26\n88\n99 <== Update\n99\n23\n64\n4\n10\n55\n93\n87\n79\n26\n90\n76\n79\n87\n51\n10\n25\n44\n20\n6\n79\n27\n39\n57\n99\n79\n46\n22\n55\n27\n37\n85\n26\n8\n66\n59\n68\n79\n4\n80\n93\n79\n2\n29\n36\nThe maximum value found was 99\nThe maximum value was updated 5 times\n"
     ]
    }
   ],
   "source": [
    "import random\n",
    "\n",
    "# Função para gerar numero aleatorio entre 1 e 100\n",
    "def choose_num():\n",
    "    n = random.randint(1, 100)\n",
    "    return n\n",
    "\n",
    "\n",
    "# Escolher primeiro numero maximo\n",
    "maxi = choose_num()\n",
    "print(f'{maxi} *')\n",
    "\n",
    "# Variavel para atualizacao\n",
    "num_update = 0\n",
    "\n",
    "\n",
    "for i in range(0, 99):\n",
    "    number = choose_num()\n",
    "    if number > maxi:\n",
    "        print(f'{number} <== Update')\n",
    "        maxi = number\n",
    "        num_update += 1\n",
    "    print(number)\n",
    "\n",
    "# Mostrar resultados gerais\n",
    "print(f'The maximum value found was {maxi}')\n",
    "print(f'The maximum value was updated {num_update} times')"
   ]
  },
  {
   "cell_type": "code",
   "execution_count": null,
   "metadata": {},
   "outputs": [],
   "source": []
  }
 ]
}