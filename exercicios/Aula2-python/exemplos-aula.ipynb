{
  "nbformat": 4,
  "nbformat_minor": 0,
  "metadata": {
    "language_info": {
      "codemirror_mode": {
        "name": "ipython",
        "version": 3
      },
      "file_extension": ".py",
      "mimetype": "text/x-python",
      "name": "python",
      "nbconvert_exporter": "python",
      "pygments_lexer": "ipython3",
      "version": "3.8.6-final"
    },
    "orig_nbformat": 2,
    "kernelspec": {
      "name": "python3",
      "display_name": "Python 3"
    },
    "colab": {
      "name": "exemplos-aula.ipynb",
      "provenance": [],
      "toc_visible": true,
      "include_colab_link": true
    }
  },
  "cells": [
    {
      "cell_type": "markdown",
      "metadata": {
        "id": "view-in-github",
        "colab_type": "text"
      },
      "source": [
        "<a href=\"https://colab.research.google.com/github/matheuspercario/TT007-AnaliseDadosPython/blob/master/exercicios/Aula2-python/exemplos-aula.ipynb\" target=\"_parent\"><img src=\"https://colab.research.google.com/assets/colab-badge.svg\" alt=\"Open In Colab\"/></a>"
      ]
    },
    {
      "cell_type": "markdown",
      "metadata": {
        "id": "FxfSHAz3SJxV"
      },
      "source": [
        "# Exemplos da Aula 02\n",
        "\n",
        "## Funções em Python"
      ]
    },
    {
      "cell_type": "markdown",
      "metadata": {
        "id": "ZNKEaye1SJxW"
      },
      "source": [
        "TT007 - Introdução à Ciência de Dados\n",
        "\n",
        "Criado por: Matheus Percário Bruder"
      ]
    },
    {
      "cell_type": "markdown",
      "metadata": {
        "id": "TUWkSe4BSJxW"
      },
      "source": [
        "---"
      ]
    },
    {
      "cell_type": "markdown",
      "metadata": {
        "id": "4Xi2bjPKSJxX"
      },
      "source": [
        "# Exercício 01 \n",
        "\n",
        "Um número primo é um inteiro maior que 1 que só é divisível por um e por ele mesmo. Escreva uma função que determine se seu parâmetro é primo ou não, retornando Tre se for, e False caso contrário. Escreva um programa principal que leia um inteiro do usuário e exibe uma mensagem indicando se é primo ou não."
      ]
    },
    {
      "cell_type": "code",
      "metadata": {
        "id": "xQE_xpVsSJxX",
        "outputId": "d0c5511e-c9ae-439e-f2b3-06aeb687ad9b",
        "colab": {
          "base_uri": "https://localhost:8080/"
        }
      },
      "source": [
        "def is_prime(number):\n",
        "    if number < 1:\n",
        "        return False\n",
        "    \n",
        "    for i in range(3, number, 2):\n",
        "        if number % i == 0:\n",
        "            return False\n",
        "    return True\n",
        "\n",
        "\n",
        "def main():\n",
        "    n = input('Type a number: ').strip()\n",
        "    if n.isdigit():\n",
        "        resp = is_prime(int(n))\n",
        "        if resp:\n",
        "            print(f'{n} is prime')\n",
        "        else:\n",
        "            print(f'{n} is not prime')\n",
        "\n",
        "\n",
        "if __name__ == \"__main__\":\n",
        "    main()"
      ],
      "execution_count": 1,
      "outputs": [
        {
          "output_type": "stream",
          "text": [
            "Type a number: 15\n",
            "15 is not prime\n"
          ],
          "name": "stdout"
        }
      ]
    },
    {
      "cell_type": "markdown",
      "metadata": {
        "id": "jPySrq4PSJxb"
      },
      "source": [
        "# Exercício 02 \n",
        "\n",
        "Neste exercício, você escreverá uma função que determina se uma senha é boa ou não. Definiremos uma boa senha com pelo menos 8 caracteres e contém pelo menos uma letra maiúscula,  uma letra minúscula e um número. Sua função deve retornar verdadeiro se a senha passada para ela como seu único parâmetro é bom. Caso contrário, ele deve retornar falso. Inclui um programa principal que lê uma senha do usuário e informa se é ou não boa."
      ]
    },
    {
      "cell_type": "code",
      "metadata": {
        "id": "tJ4ZrHISSRT6",
        "outputId": "f6fb358b-e146-49ed-913e-5d6be44ef117",
        "colab": {
          "base_uri": "https://localhost:8080/"
        }
      },
      "source": [
        "def check_password(password):\n",
        "    # Variaveis\n",
        "    lowercase = False\n",
        "    uppercase = False\n",
        "    number = False\n",
        "\n",
        "    for ch in password:\n",
        "        if ch.isdigit():\n",
        "            number = True\n",
        "            continue\n",
        "        if ord('a') <= ord(ch) <= ord('z'):\n",
        "            lowercase = True\n",
        "        if ord('A') <= ord(ch) <= ord('Z'):\n",
        "            uppercase = True\n",
        "\n",
        "    if len(password) > 8 and lowercase and uppercase and number:\n",
        "        return True\n",
        "    else:\n",
        "        return False\n",
        "\n",
        "# Input password\n",
        "p = input('Type your password: ').strip()\n",
        "\n",
        "if check_password(p):\n",
        "    print(f'That is good password')\n",
        "else:\n",
        "    print(f'That is not a good password')\n"
      ],
      "execution_count": 16,
      "outputs": [
        {
          "output_type": "stream",
          "text": [
            "Type your password: Matheus223\n",
            "Matheus223 is good password\n"
          ],
          "name": "stdout"
        }
      ]
    },
    {
      "cell_type": "markdown",
      "metadata": {
        "id": "kSqDy4NXSJxb"
      },
      "source": [
        "# Exercício 03 \n",
        "\n",
        "A data mágica é uma data onde o dia multiplicado pelo mês é igual as dois últimos dígitos do ano. Por exemplo, 10 de junho de 1960 é uma data mágica porque junho é o sexto mês, e 6 vezes 10 é 60, que é igual ao ano com dois dígitos. \n",
        "Escreva uma função que determina se uma data é ou não uma data mágica. Use sua função para criar um programa principal que encontra e exibe todas as datas mágicas do século XX."
      ]
    },
    {
      "cell_type": "code",
      "metadata": {
        "id": "D1u-Jh5-SRmz",
        "outputId": "c5bc31cb-db2d-470a-faef-597b5ffeda1a",
        "colab": {
          "base_uri": "https://localhost:8080/"
        }
      },
      "source": [
        "from calendar import monthrange\n",
        "\n",
        "\n",
        "def isMagicDate(day, month, year):\n",
        "    a = day * month\n",
        "    b = year % 100\n",
        "\n",
        "    if a == b:\n",
        "        return True\n",
        "\n",
        "    return False\n",
        "\n",
        "\n",
        "def main():\n",
        "    for y in range(1900, 2000):\n",
        "        for m in range(1, 13):\n",
        "            for d in range(1, monthrange(y, m)[1] + 1):\n",
        "                if isMagicDate(d, m, y):\n",
        "                    print(f'{d}/{m}/{y} \\t is magic date')\n",
        "\n",
        "\n",
        "if __name__ == \"__main__\":\n",
        "    main()\n",
        "\n"
      ],
      "execution_count": 28,
      "outputs": [
        {
          "output_type": "stream",
          "text": [
            "1/1/1901 \t is magic date\n",
            "2/1/1902 \t is magic date\n",
            "1/2/1902 \t is magic date\n",
            "3/1/1903 \t is magic date\n",
            "1/3/1903 \t is magic date\n",
            "4/1/1904 \t is magic date\n",
            "2/2/1904 \t is magic date\n",
            "1/4/1904 \t is magic date\n",
            "5/1/1905 \t is magic date\n",
            "1/5/1905 \t is magic date\n",
            "6/1/1906 \t is magic date\n",
            "3/2/1906 \t is magic date\n",
            "2/3/1906 \t is magic date\n",
            "1/6/1906 \t is magic date\n",
            "7/1/1907 \t is magic date\n",
            "1/7/1907 \t is magic date\n",
            "8/1/1908 \t is magic date\n",
            "4/2/1908 \t is magic date\n",
            "2/4/1908 \t is magic date\n",
            "1/8/1908 \t is magic date\n",
            "9/1/1909 \t is magic date\n",
            "3/3/1909 \t is magic date\n",
            "1/9/1909 \t is magic date\n",
            "10/1/1910 \t is magic date\n",
            "5/2/1910 \t is magic date\n",
            "2/5/1910 \t is magic date\n",
            "1/10/1910 \t is magic date\n",
            "11/1/1911 \t is magic date\n",
            "1/11/1911 \t is magic date\n",
            "12/1/1912 \t is magic date\n",
            "6/2/1912 \t is magic date\n",
            "4/3/1912 \t is magic date\n",
            "3/4/1912 \t is magic date\n",
            "2/6/1912 \t is magic date\n",
            "1/12/1912 \t is magic date\n",
            "13/1/1913 \t is magic date\n",
            "14/1/1914 \t is magic date\n",
            "7/2/1914 \t is magic date\n",
            "2/7/1914 \t is magic date\n",
            "15/1/1915 \t is magic date\n",
            "5/3/1915 \t is magic date\n",
            "3/5/1915 \t is magic date\n",
            "16/1/1916 \t is magic date\n",
            "8/2/1916 \t is magic date\n",
            "4/4/1916 \t is magic date\n",
            "2/8/1916 \t is magic date\n",
            "17/1/1917 \t is magic date\n",
            "18/1/1918 \t is magic date\n",
            "9/2/1918 \t is magic date\n",
            "6/3/1918 \t is magic date\n",
            "3/6/1918 \t is magic date\n",
            "2/9/1918 \t is magic date\n",
            "19/1/1919 \t is magic date\n",
            "20/1/1920 \t is magic date\n",
            "10/2/1920 \t is magic date\n",
            "5/4/1920 \t is magic date\n",
            "4/5/1920 \t is magic date\n",
            "2/10/1920 \t is magic date\n",
            "21/1/1921 \t is magic date\n",
            "7/3/1921 \t is magic date\n",
            "3/7/1921 \t is magic date\n",
            "22/1/1922 \t is magic date\n",
            "11/2/1922 \t is magic date\n",
            "2/11/1922 \t is magic date\n",
            "23/1/1923 \t is magic date\n",
            "24/1/1924 \t is magic date\n",
            "12/2/1924 \t is magic date\n",
            "8/3/1924 \t is magic date\n",
            "6/4/1924 \t is magic date\n",
            "4/6/1924 \t is magic date\n",
            "3/8/1924 \t is magic date\n",
            "2/12/1924 \t is magic date\n",
            "25/1/1925 \t is magic date\n",
            "5/5/1925 \t is magic date\n",
            "26/1/1926 \t is magic date\n",
            "13/2/1926 \t is magic date\n",
            "27/1/1927 \t is magic date\n",
            "9/3/1927 \t is magic date\n",
            "3/9/1927 \t is magic date\n",
            "28/1/1928 \t is magic date\n",
            "14/2/1928 \t is magic date\n",
            "7/4/1928 \t is magic date\n",
            "4/7/1928 \t is magic date\n",
            "29/1/1929 \t is magic date\n",
            "30/1/1930 \t is magic date\n",
            "15/2/1930 \t is magic date\n",
            "10/3/1930 \t is magic date\n",
            "6/5/1930 \t is magic date\n",
            "5/6/1930 \t is magic date\n",
            "3/10/1930 \t is magic date\n",
            "31/1/1931 \t is magic date\n",
            "16/2/1932 \t is magic date\n",
            "8/4/1932 \t is magic date\n",
            "4/8/1932 \t is magic date\n",
            "11/3/1933 \t is magic date\n",
            "3/11/1933 \t is magic date\n",
            "17/2/1934 \t is magic date\n",
            "7/5/1935 \t is magic date\n",
            "5/7/1935 \t is magic date\n",
            "18/2/1936 \t is magic date\n",
            "12/3/1936 \t is magic date\n",
            "9/4/1936 \t is magic date\n",
            "6/6/1936 \t is magic date\n",
            "4/9/1936 \t is magic date\n",
            "3/12/1936 \t is magic date\n",
            "19/2/1938 \t is magic date\n",
            "13/3/1939 \t is magic date\n",
            "20/2/1940 \t is magic date\n",
            "10/4/1940 \t is magic date\n",
            "8/5/1940 \t is magic date\n",
            "5/8/1940 \t is magic date\n",
            "4/10/1940 \t is magic date\n",
            "21/2/1942 \t is magic date\n",
            "14/3/1942 \t is magic date\n",
            "7/6/1942 \t is magic date\n",
            "6/7/1942 \t is magic date\n",
            "22/2/1944 \t is magic date\n",
            "11/4/1944 \t is magic date\n",
            "4/11/1944 \t is magic date\n",
            "15/3/1945 \t is magic date\n",
            "9/5/1945 \t is magic date\n",
            "5/9/1945 \t is magic date\n",
            "23/2/1946 \t is magic date\n",
            "24/2/1948 \t is magic date\n",
            "16/3/1948 \t is magic date\n",
            "12/4/1948 \t is magic date\n",
            "8/6/1948 \t is magic date\n",
            "6/8/1948 \t is magic date\n",
            "4/12/1948 \t is magic date\n",
            "7/7/1949 \t is magic date\n",
            "25/2/1950 \t is magic date\n",
            "10/5/1950 \t is magic date\n",
            "5/10/1950 \t is magic date\n",
            "17/3/1951 \t is magic date\n",
            "26/2/1952 \t is magic date\n",
            "13/4/1952 \t is magic date\n",
            "27/2/1954 \t is magic date\n",
            "18/3/1954 \t is magic date\n",
            "9/6/1954 \t is magic date\n",
            "6/9/1954 \t is magic date\n",
            "11/5/1955 \t is magic date\n",
            "5/11/1955 \t is magic date\n",
            "28/2/1956 \t is magic date\n",
            "14/4/1956 \t is magic date\n",
            "8/7/1956 \t is magic date\n",
            "7/8/1956 \t is magic date\n",
            "19/3/1957 \t is magic date\n",
            "20/3/1960 \t is magic date\n",
            "15/4/1960 \t is magic date\n",
            "12/5/1960 \t is magic date\n",
            "10/6/1960 \t is magic date\n",
            "6/10/1960 \t is magic date\n",
            "5/12/1960 \t is magic date\n",
            "21/3/1963 \t is magic date\n",
            "9/7/1963 \t is magic date\n",
            "7/9/1963 \t is magic date\n",
            "16/4/1964 \t is magic date\n",
            "8/8/1964 \t is magic date\n",
            "13/5/1965 \t is magic date\n",
            "22/3/1966 \t is magic date\n",
            "11/6/1966 \t is magic date\n",
            "6/11/1966 \t is magic date\n",
            "17/4/1968 \t is magic date\n",
            "23/3/1969 \t is magic date\n",
            "14/5/1970 \t is magic date\n",
            "10/7/1970 \t is magic date\n",
            "7/10/1970 \t is magic date\n",
            "24/3/1972 \t is magic date\n",
            "18/4/1972 \t is magic date\n",
            "12/6/1972 \t is magic date\n",
            "9/8/1972 \t is magic date\n",
            "8/9/1972 \t is magic date\n",
            "6/12/1972 \t is magic date\n",
            "25/3/1975 \t is magic date\n",
            "15/5/1975 \t is magic date\n",
            "19/4/1976 \t is magic date\n",
            "11/7/1977 \t is magic date\n",
            "7/11/1977 \t is magic date\n",
            "26/3/1978 \t is magic date\n",
            "13/6/1978 \t is magic date\n",
            "20/4/1980 \t is magic date\n",
            "16/5/1980 \t is magic date\n",
            "10/8/1980 \t is magic date\n",
            "8/10/1980 \t is magic date\n",
            "27/3/1981 \t is magic date\n",
            "9/9/1981 \t is magic date\n",
            "28/3/1984 \t is magic date\n",
            "21/4/1984 \t is magic date\n",
            "14/6/1984 \t is magic date\n",
            "12/7/1984 \t is magic date\n",
            "7/12/1984 \t is magic date\n",
            "17/5/1985 \t is magic date\n",
            "29/3/1987 \t is magic date\n",
            "22/4/1988 \t is magic date\n",
            "11/8/1988 \t is magic date\n",
            "8/11/1988 \t is magic date\n",
            "30/3/1990 \t is magic date\n",
            "18/5/1990 \t is magic date\n",
            "15/6/1990 \t is magic date\n",
            "10/9/1990 \t is magic date\n",
            "9/10/1990 \t is magic date\n",
            "13/7/1991 \t is magic date\n",
            "23/4/1992 \t is magic date\n",
            "31/3/1993 \t is magic date\n",
            "19/5/1995 \t is magic date\n",
            "24/4/1996 \t is magic date\n",
            "16/6/1996 \t is magic date\n",
            "12/8/1996 \t is magic date\n",
            "8/12/1996 \t is magic date\n",
            "14/7/1998 \t is magic date\n",
            "11/9/1999 \t is magic date\n",
            "9/11/1999 \t is magic date\n"
          ],
          "name": "stdout"
        }
      ]
    },
    {
      "cell_type": "code",
      "metadata": {
        "id": "D3alA0OzXbR5"
      },
      "source": [
        ""
      ],
      "execution_count": null,
      "outputs": []
    }
  ]
}