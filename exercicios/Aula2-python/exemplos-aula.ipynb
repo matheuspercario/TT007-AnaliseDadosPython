{
 "metadata": {
  "language_info": {
   "codemirror_mode": {
    "name": "ipython",
    "version": 3
   },
   "file_extension": ".py",
   "mimetype": "text/x-python",
   "name": "python",
   "nbconvert_exporter": "python",
   "pygments_lexer": "ipython3",
   "version": "3.8.6-final"
  },
  "orig_nbformat": 2,
  "kernelspec": {
   "name": "python3",
   "display_name": "Python 3"
  }
 },
 "nbformat": 4,
 "nbformat_minor": 2,
 "cells": [
  {
   "source": [
    "# Exemplos da Aula 02\n",
    "\n",
    "## Funções em Python"
   ],
   "cell_type": "markdown",
   "metadata": {}
  },
  {
   "source": [
    "TT007 - Introdução à Ciência de Dados\n",
    "\n",
    "Criado por: Matheus Percário Bruder"
   ],
   "cell_type": "markdown",
   "metadata": {}
  },
  {
   "source": [
    "---"
   ],
   "cell_type": "markdown",
   "metadata": {}
  },
  {
   "source": [
    "# Exercício 01 \n",
    "\n",
    "Um número primo é um inteiro maior que 1 que só é divisível por um e por ele mesmo. Escreva uma função que determine se seu parâmetro é primo ou não, retornando Tre se for, e False caso contrário. Escreva um programa principal que leia um inteiro do usuário e exibe uma mensagem indicando se é primo ou não."
   ],
   "cell_type": "markdown",
   "metadata": {}
  },
  {
   "cell_type": "code",
   "execution_count": 3,
   "metadata": {},
   "outputs": [
    {
     "output_type": "stream",
     "name": "stdout",
     "text": [
      "11 is prime\n"
     ]
    }
   ],
   "source": [
    "def is_prime(number):\n",
    "    if number < 1:\n",
    "        return False\n",
    "    \n",
    "    for i in range(3, number, 2):\n",
    "        if number % i == 0:\n",
    "            return False\n",
    "    return True\n",
    "\n",
    "\n",
    "def main():\n",
    "    n = input('Type a number: ').strip()\n",
    "    if n.isdigit():\n",
    "        resp = is_prime(int(n))\n",
    "        if resp:\n",
    "            print(f'{n} is prime')\n",
    "        else:\n",
    "            print(f'{n} is not prime')\n",
    "\n",
    "\n",
    "if __name__ == \"__main__\":\n",
    "    main()"
   ]
  },
  {
   "source": [
    "# Exercício 02 \n",
    "\n",
    "Neste exercício, você escreverá uma função que determina se uma senha é boa ou não. Definiremos uma boa senha com pelo menos 8 caracteres e contém pelo menos uma letra maiúscula,  uma letra minúscula e um número. Sua função deve retornar verdadeiro se a senha passada para ela como seu único parâmetro é bom. Caso contrário, ele deve retornar falso. Inclui um programa principal que lê uma senha do usuário e informa se é ou não boa."
   ],
   "cell_type": "markdown",
   "metadata": {}
  },
  {
   "source": [
    "# Exercício 03 \n",
    "\n",
    "A data mágica é uma data onde o dia multiplicado pelo mês é igual as dois últimos dígitos do ano. Por exemplo, 10 de junho de 1960 é uma data mágica porque junho é o sexto mês, e 6 vezes 10 é 60, que é igual ao ano com dois dígitos. \n",
    "Escreva uma função que determina se uma data é ou não uma data mágica. Use sua função para criar um programa principal que encontra e exibe todas as datas mágicas do século XX."
   ],
   "cell_type": "markdown",
   "metadata": {}
  }
 ]
}