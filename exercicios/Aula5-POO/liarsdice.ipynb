{
 "metadata": {
  "language_info": {
   "codemirror_mode": {
    "name": "ipython",
    "version": 3
   },
   "file_extension": ".py",
   "mimetype": "text/x-python",
   "name": "python",
   "nbconvert_exporter": "python",
   "pygments_lexer": "ipython3",
   "version": 3
  },
  "orig_nbformat": 2
 },
 "nbformat": 4,
 "nbformat_minor": 2,
 "cells": [
  {
   "source": [
    "# Exercício - Liars Dice"
   ],
   "cell_type": "markdown",
   "metadata": {}
  },
  {
   "source": [
    "\n",
    "Criado por: Matheus Bruder"
   ],
   "cell_type": "markdown",
   "metadata": {}
  },
  {
   "source": [
    "## Instruções de jogo\n",
    "\n",
    "No Liers’ dice, cada jogador recebe 5 dados. Em cada rodada os jogadores lançam os seus dados, mantendo suas faces escondidas dos demais jogadores.\n",
    "Cada jogador então escolhe uma face (1 a 6) e da um palpite de quantas faces iguais a esta há na mesa.\n",
    "O próximo a jogar tem três alternativas:\n",
    "  * _Escolhe uma face e da um palpite, que deve ser necessariamente maior que o palpite anterior e passa para o próximo jogador._\n",
    "  * _Chama o jogador anterior de mentiroso, neste caso abrem-se os dados e verifica-se o palpite corrente é verdadeiro. Se for o jogador atual perde um dado, senão o jogador anterior perde um dado._\n",
    "  * _Concorda com o palpite do jogador anterior. Neste caso, abrem-se os dados e se o palpite estiver correto, o jogador anterior perde dois dados._\n",
    "\n",
    "Ganha o último jogador com dados na mesa.\n",
    "\n",
    "### Informações extras\n",
    "* O jogo deve ser para um usuário contra até 4 jogadores controlados pelo computador;\n",
    "* Use Objetos;\n",
    "* Considere usar probabilidades para que um jogador do PC, de um palpite, chame de mentiroso ou concorde com o jogador anterior;\n",
    "* Use diferentes probabilidade para diferentes jogadores para simular diferentes comportamentos;\n",
    "* É possível utilizar-se de alguma heurística para melhorar os jogadores do PC?\n",
    "* Quem fica mais tempo na mesa, um jogador com heurística ou um jogador aleatório?\n",
    "\n",
    "---"
   ],
   "cell_type": "markdown",
   "metadata": {}
  },
  {
   "cell_type": "code",
   "execution_count": null,
   "metadata": {},
   "outputs": [],
   "source": [
    "# Iniciar códigos aqui"
   ]
  }
 ]
}