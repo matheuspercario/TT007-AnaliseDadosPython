{
  "nbformat": 4,
  "nbformat_minor": 0,
  "metadata": {
    "orig_nbformat": 2,
    "colab": {
      "name": "liarsdice.ipynb",
      "provenance": [],
      "include_colab_link": true
    },
    "kernelspec": {
      "name": "python3",
      "display_name": "Python 3"
    }
  },
  "cells": [
    {
      "cell_type": "markdown",
      "metadata": {
        "id": "view-in-github",
        "colab_type": "text"
      },
      "source": [
        "<a href=\"https://colab.research.google.com/github/matheuspercario/TT007-AnaliseDadosPython/blob/master/exercicios/Aula5-POO/liarsdice.ipynb\" target=\"_parent\"><img src=\"https://colab.research.google.com/assets/colab-badge.svg\" alt=\"Open In Colab\"/></a>"
      ]
    },
    {
      "cell_type": "markdown",
      "metadata": {
        "id": "E4suCFLQhwmC"
      },
      "source": [
        "# Exercício - Liars Dice"
      ]
    },
    {
      "cell_type": "markdown",
      "metadata": {
        "id": "am4_3jHXhwmD"
      },
      "source": [
        "\n",
        "Criado por: Matheus Bruder"
      ]
    },
    {
      "cell_type": "markdown",
      "metadata": {
        "id": "C4XkIdGkhwmE"
      },
      "source": [
        "## Instruções de jogo\n",
        "\n",
        "No Liers’ dice, cada jogador recebe 5 dados. Em cada rodada os jogadores lançam os seus dados, mantendo suas faces escondidas dos demais jogadores.\n",
        "Cada jogador então escolhe uma face (1 a 6) e da um palpite de quantas faces iguais a esta há na mesa.\n",
        "O próximo a jogar tem três alternativas:\n",
        "  * _Escolhe uma face e da um palpite, que deve ser necessariamente maior que o palpite anterior e passa para o próximo jogador._\n",
        "  * _Chama o jogador anterior de mentiroso, neste caso abrem-se os dados e verifica-se o palpite corrente é verdadeiro. Se for o jogador atual perde um dado, senão o jogador anterior perde um dado._\n",
        "  * _Concorda com o palpite do jogador anterior. Neste caso, abrem-se os dados e se o palpite estiver correto, o jogador anterior perde dois dados._\n",
        "\n",
        "Ganha o último jogador com dados na mesa.\n",
        "\n",
        "### Informações extras\n",
        "* O jogo deve ser para um usuário contra até 4 jogadores controlados pelo computador;\n",
        "* Use Objetos;\n",
        "* Considere usar probabilidades para que um jogador do PC, de um palpite, chame de mentiroso ou concorde com o jogador anterior;\n",
        "* Use diferentes probabilidade para diferentes jogadores para simular diferentes comportamentos;\n",
        "* É possível utilizar-se de alguma heurística para melhorar os jogadores do PC?\n",
        "* Quem fica mais tempo na mesa, um jogador com heurística ou um jogador aleatório?\n",
        "\n",
        "---"
      ]
    },
    {
      "cell_type": "markdown",
      "metadata": {
        "id": "Y4e0eVAKYNPP"
      },
      "source": [
        "# Preparação das classes"
      ]
    },
    {
      "cell_type": "code",
      "metadata": {
        "id": "uBMfWhu9hwmF"
      },
      "source": [
        "# Iniciar códigos aqui"
      ],
      "execution_count": 1,
      "outputs": []
    },
    {
      "cell_type": "code",
      "metadata": {
        "id": "jRmEZtuSU1sn"
      },
      "source": [
        "import random\n",
        "import time\n",
        "\n",
        "from os import system\n",
        "from sys import exit"
      ],
      "execution_count": 113,
      "outputs": []
    },
    {
      "cell_type": "code",
      "metadata": {
        "id": "9s4dghQ8i3an"
      },
      "source": [
        "class Player:\n",
        "\n",
        "    dice = []\n",
        "\n",
        "\n",
        "    def __init__(self, name, num_die=5):\n",
        "        self._name = name\n",
        "        self._num_die = num_die\n",
        "\n",
        "\n",
        "    @property\n",
        "    def name(self):\n",
        "        \"\"\"Return the name.\"\"\"\n",
        "        return self._name\n",
        "\n",
        "\n",
        "    @name.setter\n",
        "    def name(self, name):\n",
        "        \"\"\"Set the name.\"\"\"\n",
        "        name.strip().capitalize()\n",
        "        if len(name) > 25:\n",
        "            raise ValueError(f'Name must be less than 25 characters')\n",
        "\n",
        "        self._name = name\n",
        "\n",
        "\n",
        "    @property\n",
        "    def num_die(self):\n",
        "        \"\"\"Return the number of die.\"\"\"\n",
        "        return self._num_die\n",
        "\n",
        "\n",
        "    @num_die.setter\n",
        "    def num_die(self, num_die):\n",
        "        \"\"\"Set the number of dice.\"\"\"\n",
        "        self._num_die = num_die\n",
        "\n",
        "    \n",
        "    def roll_dice(self):\n",
        "        self.__class__.dice.clear()\n",
        "        for i in range(self._num_die):\n",
        "            self.__class__.dice.append(random.randrange(1, 7)) \n",
        "\n",
        "\n",
        "    def show_hand(self):\n",
        "        string = ''\n",
        "        for d in self.__class__.dice:\n",
        "            if d == 0:\n",
        "                continue\n",
        "            string += f'[{d}] '\n",
        "        print(f'{self.name}, your hand: {string}')\n",
        "\n",
        "\n",
        "    def remove_die(self):\n",
        "        self._num_die -= 1\n",
        "\n",
        "\n",
        "\n",
        "\n",
        "    def __repr__(self):\n",
        "        \"\"\"Return string representation for repr().\"\"\"\n",
        "        return (f'(Nome={self.name}, Numero_dados={self.num_die}, Dados={self.__class__.dice})')\n",
        "    "
      ],
      "execution_count": 159,
      "outputs": []
    },
    {
      "cell_type": "code",
      "metadata": {
        "id": "6KtmSIDPpplw"
      },
      "source": [
        "class NPC(Player):\n",
        "\n",
        "    def __init__(self, name, num_die=5):\n",
        "        super().__init__(name, num_die=5)\n",
        "\n",
        "\n",
        "    def bet(self, old_bet, num_dice):\n",
        "        new_bet = [0, 0]\n",
        "        while True:\n",
        "            b0 = random.randrange(1, num_dice + 1)\n",
        "            b1 = random.randrange(1, 7)\n",
        "            new_bet = [int(b0), int(b1)]\n",
        "            if old_bet[0] >= new_bet[0]:\n",
        "                print('Aposta inválida, tente novamente.')\n",
        "                continue\n",
        "            break\n",
        "        return new_bet\n",
        "    \n",
        "\n",
        "    def __repr__(self):\n",
        "        \"\"\"Return string representation for repr().\"\"\"\n",
        "        return (self.__class__.__name__ + '\\t-> ' + super().__repr__())"
      ],
      "execution_count": 160,
      "outputs": []
    },
    {
      "cell_type": "code",
      "metadata": {
        "id": "Tiw0XK_zpwxJ"
      },
      "source": [
        "class Human(Player):\n",
        "\n",
        "    def __init__(self, name, num_die=5):\n",
        "        super().__init__(name, num_die=5)\n",
        "\n",
        "\n",
        "    def bet(self, old_bet, num_dice):\n",
        "        new_bet = [0, 0]\n",
        "        while True:\n",
        "            new_bet = input('Faça sua aposta! [Número de dados] [Valor do dado]\\n: ').split()\n",
        "            if len(new_bet) == 2 and new_bet[0].isdigit() and new_bet[1].isdigit():\n",
        "                new_bet = [int(new_bet[0]), int(new_bet[1])]\n",
        "                if old_bet[0] >= new_bet[0] or new_bet[0] > num_dice or new_bet[1] > 6 or new_bet[1] < 1:\n",
        "                    print('Aposta inválida, tente novamente.')\n",
        "                    continue\n",
        "                break\n",
        "        return new_bet\n",
        "\n",
        "\n",
        "    def __repr__(self):\n",
        "        \"\"\"Return string representation for repr().\"\"\"\n",
        "        return (self.__class__.__name__ + '\\t-> ' + super().__repr__())"
      ],
      "execution_count": 161,
      "outputs": []
    },
    {
      "cell_type": "markdown",
      "metadata": {
        "id": "4fGdvm6-mj5u"
      },
      "source": [
        "# Funções & dados auxiliares"
      ]
    },
    {
      "cell_type": "code",
      "metadata": {
        "id": "57SYv7Sdmjl0"
      },
      "source": [
        "NAMES = 'Josie Henry Catherine Carl Henrietta Joseph Alistair Conrad Gary Bethany Susan Kirstie Maverick Mason Sophie Claire'.split()"
      ],
      "execution_count": 162,
      "outputs": []
    },
    {
      "cell_type": "markdown",
      "metadata": {
        "id": "u9hOTFmqYEKX"
      },
      "source": [
        "# Jogo começa aqui"
      ]
    },
    {
      "cell_type": "code",
      "metadata": {
        "id": "otiv9gHSVWSp",
        "outputId": "d1fa13f3-ee54-4b27-f3ef-2a86516fbb6c",
        "colab": {
          "base_uri": "https://localhost:8080/"
        }
      },
      "source": [
        "player_name = input('Qual é seu nome?\\n: ').strip().capitalize()\n",
        "num_players = int(input('Quantos jogadores?\\n: '))\n",
        "\n",
        "print('\\n\\n\\n')\n",
        "\n",
        "players = []\n",
        "for n in range(num_players - 1):\n",
        "    name = NAMES[random.randint(0, len(NAMES)-1)]\n",
        "    NAMES.remove(name)\n",
        "    players.append(NPC(name))\n",
        "\n",
        "players.append(Human(player_name))\n",
        "\n",
        "\n",
        "gameContinues = True\n",
        "nextPlayer = random.randrange(1, len(players) + 1)  # definir quem começa\n",
        "# nextPlayer = 2\n",
        "\n",
        "\n",
        "# Inicio de jogo\n",
        "while gameContinues:\n",
        "    # definir dados da rodada\n",
        "    for p in players:\n",
        "        p.roll_dice()\n",
        "        \n",
        "    current_player = players[nextPlayer]\n",
        "    current_bet = [0, 0]\n",
        "\n",
        "    if current_player.__class__.__name__ == 'Human':\n",
        "        current_player.show_hand()\n",
        "\n",
        "        n_dice = 0\n",
        "        # Contar numero de dados em jogo\n",
        "        for p in players:\n",
        "            n_dice += p.num_die\n",
        "        print(f'Existem {n_dice - current_player.num_die} outros dados na mesa.\\n')\n",
        "    \n",
        "    \n",
        "    print(f'{current_player.name} começa. Por favor, faça a primeira aposta.\\n')\n",
        "\n",
        "    current_bet = current_player.bet(current_bet, n_dice)\n",
        "    print(f'{current_player.name} apostou que existem {str(current_bet[0])} dados com valor [{str(current_bet[1])}] na mesa.\\n')\n",
        "\n",
        "    \n",
        "    # Continuando os rounds\n",
        "    status = True\n",
        "    while status:\n",
        "        nextPlayer = (nextPlayer + 1) % len(players)\n",
        "\n",
        "        current_player = players[nextPlayer]\n",
        "\n",
        "        # Mostrando opções ao jogador\n",
        "        if current_player.__class__.__name__ == 'Human':\n",
        "            current_player.show_hand()\n",
        "\n",
        "            n_dice = 0\n",
        "            # Contar numero de dados em jogo\n",
        "            for p in players:\n",
        "                n_dice += p.num_die\n",
        "            print(f'Existem {n_dice - current_player.num_die} outros dados na mesa.\\n')\n",
        "\n",
        "        choose = choose()\n",
        "\n",
        "    gameContinues = False\n"
      ],
      "execution_count": 163,
      "outputs": [
        {
          "output_type": "stream",
          "text": [
            "Qual é seu nome?\n",
            ": Suetam\n",
            "Quantos jogadores?\n",
            ": 3\n",
            "\n",
            "\n",
            "\n",
            "\n",
            "Gary começa. Por favor, faça a primeira aposta.\n",
            "\n",
            "Gary apostou que existem 11 dados com valor [1] na mesa.\n",
            "\n"
          ],
          "name": "stdout"
        }
      ]
    },
    {
      "cell_type": "code",
      "metadata": {
        "id": "lX2FtGWBpoAh"
      },
      "source": [
        ""
      ],
      "execution_count": null,
      "outputs": []
    },
    {
      "cell_type": "code",
      "metadata": {
        "id": "3xrqj4TvpoPx"
      },
      "source": [
        ""
      ],
      "execution_count": null,
      "outputs": []
    },
    {
      "cell_type": "code",
      "metadata": {
        "id": "wuxqulsYpoRf"
      },
      "source": [
        ""
      ],
      "execution_count": null,
      "outputs": []
    },
    {
      "cell_type": "code",
      "metadata": {
        "id": "X7k_JHD5poNE"
      },
      "source": [
        ""
      ],
      "execution_count": null,
      "outputs": []
    },
    {
      "cell_type": "code",
      "metadata": {
        "id": "KLDqbyHwpn54"
      },
      "source": [
        ""
      ],
      "execution_count": null,
      "outputs": []
    },
    {
      "cell_type": "code",
      "metadata": {
        "id": "oOlfALUtTgVl"
      },
      "source": [
        "class Lairsdice:\n",
        "    \n",
        "    def __init__(self, num_players):\n",
        "        self._num_players = num_players\n",
        "        self._gameContinues = gameContinues\n",
        "\n",
        "\n",
        "    @property\n",
        "    def num_players(self):\n",
        "        \"\"\"Return the number of players.\"\"\"\n",
        "        return self._num_players\n",
        "\n",
        "    \n",
        "    @num_players.setter\n",
        "    def num_players(self, num_players):\n",
        "        \"\"\"Set the number of players.\"\"\"\n",
        "        if num_players > 5 or num_players < 2:\n",
        "            raise ValueError(f'Name must be less than 25 characters')\n",
        "\n",
        "        self._num_players = num_players\n",
        "\n",
        "    def create_npcs(self):\n",
        "        pass"
      ],
      "execution_count": 32,
      "outputs": []
    }
  ]
}