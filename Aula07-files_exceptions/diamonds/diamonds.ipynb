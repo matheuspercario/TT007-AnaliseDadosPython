{
  "nbformat": 4,
  "nbformat_minor": 0,
  "metadata": {
    "language_info": {
      "codemirror_mode": {
        "name": "ipython",
        "version": 3
      },
      "file_extension": ".py",
      "mimetype": "text/x-python",
      "name": "python",
      "nbconvert_exporter": "python",
      "pygments_lexer": "ipython3",
      "version": "3.8.6-final"
    },
    "orig_nbformat": 2,
    "kernelspec": {
      "name": "python3",
      "display_name": "Python 3"
    },
    "colab": {
      "name": "diamonds.ipynb",
      "provenance": [],
      "include_colab_link": true
    }
  },
  "cells": [
    {
      "cell_type": "markdown",
      "metadata": {
        "id": "view-in-github",
        "colab_type": "text"
      },
      "source": [
        "<a href=\"https://colab.research.google.com/github/matheuspercario/TT007-AnaliseDadosPython/blob/master/exercicios/Aula7-files_exceptions/diamonds/diamonds.ipynb\" target=\"_parent\"><img src=\"https://colab.research.google.com/assets/colab-badge.svg\" alt=\"Open In Colab\"/></a>"
      ]
    },
    {
      "cell_type": "markdown",
      "metadata": {
        "id": "b_LxYzOje2KN"
      },
      "source": [
        "# Exercício - Diamonds"
      ]
    },
    {
      "cell_type": "markdown",
      "metadata": {
        "id": "1YMisA2we2KN"
      },
      "source": [
        "### Criado por Matheus Bruder / 25.11.2020"
      ]
    },
    {
      "cell_type": "markdown",
      "metadata": {
        "id": "2fDlHiMTf_bV"
      },
      "source": [
        "## Preços de mais de 50.000 diamantes lapidação redonda\n",
        "\n",
        "#### Descrição\n",
        "Um conjunto de dados contendo os preços e outros atributos de quase 54.000 diamantes. As variáveis ​​são as seguintes:\n",
        "\n",
        " Atributo | Descrição\n",
        " :---: | :---\n",
        " *carat* | peso do diamante (0.2 – 5.01)\n",
        " *cut* | qualidade do corte\n",
        " *color* | cor do diamante, de D (melhor) a J (pior)\n",
        " *clarity* | uma medição de quão claro é o diamante (I1 (pior), SI2, SI1, VS2, VS1, VVS2, VVS1, IF (melhor))\n",
        " *depth* | porcentagem de profundidade total = z / média (x, y) = 2 * z / (x + y) (43-79)\n",
        " *table* | largura do topo do diamante em relação ao ponto mais largo (43 - 95)\n",
        " *price* | preço em dólares americanos (\\$ 326 - \\$ 18.823)\n",
        " *x* | comprimento em mm (0 – 10.74)\n",
        " *y* | largura em mm (0 – 58.9)\n",
        " *z* | profundidade em mm (0 - 31,8)\n",
        "\n",
        "\n",
        "Documentação: [Clique aqui](https://vincentarelbundock.github.io/Rdatasets/doc/ggplot2/diamonds.html)"
      ]
    },
    {
      "cell_type": "markdown",
      "metadata": {
        "id": "flpuXIhte2KN"
      },
      "source": [
        "Neste exercício, você usará o conjunto de dados de **diamonds** para realizar tarefas semelhantes às que você viu na seção Introdução à ciência de dados. Este conjunto de dados está disponível como **diamonds.csv** em várias fontes, incluindo os sites Kaggle e Rdatasets listados.\n",
        "\n",
        "O conjunto de dados contém informações sobre 53.940 diamantes, incluindo cada quilate de diamante, corte, cor, clareza, profundidade, mesa (superfície plana), preço e medidas x, y e z. \n",
        "\n",
        "Execute as seguintes tarefas para estudar e analisar o conjunto de dados de diamantes:\n",
        "\n",
        "- a) Baixe **diamonds.csv** de um dos repositórios de conjunto de dados.\n",
        "- b) Carregue o conjunto de dados em um DataFrame Pandas com a seguinte instrução, que sa a primeira coluna de cada registro como o índice da linha: **df = pd.read_csv ('diamonds.csv', index_col = 0)**\n",
        "- c) Exiba as primeiras sete linhas do DataFrame.\n",
        "- d) Exiba as últimas sete linhas do DataFrame.\n",
        "- e) Use o método **describe** de DataFrame (que olha apenas para as colunas numéricas)\n",
        "- f) Use o método **describe** da *Serie* para calcular as estatísticas descritivas para as categorias (texto) - *cut*, *color* e *clarity*.\n",
        "- g) Quais são os valores de categoria exclusivos (use o método de *Serie* **unique**)?\n",
        "- h) Gere o  os histogramas de cada coluna de dados numéricos."
      ]
    },
    {
      "cell_type": "markdown",
      "metadata": {
        "id": "a9PlCqQxjnQS"
      },
      "source": [
        "## Configurando ambiente"
      ]
    },
    {
      "cell_type": "code",
      "metadata": {
        "id": "XaZlYI8Ne2KN"
      },
      "source": [
        "import pandas as pd"
      ],
      "execution_count": 1,
      "outputs": []
    },
    {
      "cell_type": "markdown",
      "metadata": {
        "id": "-vc1iYOXe2KN"
      },
      "source": [
        "O arquivo csv pode ser tanto baixado e lido pelo script, como também pode ser importado diretamente do link. \n",
        "\n",
        "Veja abaixo as duas opções, contudo, como o exercício pede para baixar o arquivo, vamos comentar a primeira opção."
      ]
    },
    {
      "cell_type": "code",
      "metadata": {
        "id": "Z2nUfM4Ne2KN"
      },
      "source": [
        "# diamond_df = pd.read_csv('https://vincentarelbundock.github.io/Rdatasets/csv/ggplot2/diamonds.csv', index_col = 0)"
      ],
      "execution_count": 16,
      "outputs": []
    },
    {
      "cell_type": "markdown",
      "metadata": {
        "id": "tmaE2gOte2KN"
      },
      "source": [
        "a) Baixe diamonds.csv de um dos repositórios de conjunto de dados.\n",
        "\n",
        "[Clique aqui](https://vincentarelbundock.github.io/Rdatasets/doc/ggplot2/diamonds.html) para ter acesso a documentação do dataset, como também ter acesso ao download do mesmo."
      ]
    },
    {
      "cell_type": "code",
      "metadata": {
        "id": "9Da6UVyIe2KN"
      },
      "source": [
        "# b) Carregue o conjunto de dados em um DataFrame Pandas com a seguinte instrução, que sa a primeira coluna de cada registro como o índice da linha\n",
        "\n",
        "diamond_df = pd.read_csv ('diamonds.csv', index_col = 0)\n",
        "pd.set_option('precision', 2) # format for floating-point values"
      ],
      "execution_count": 17,
      "outputs": []
    },
    {
      "cell_type": "markdown",
      "metadata": {
        "id": "DTkloeaje2KN"
      },
      "source": [
        "## Análise exploratória / descritiva do conjunto de dados"
      ]
    },
    {
      "cell_type": "markdown",
      "metadata": {
        "id": "WurjNIA6fESC"
      },
      "source": [
        "### Características do dataset"
      ]
    },
    {
      "cell_type": "code",
      "metadata": {
        "colab": {
          "base_uri": "https://localhost:8080/"
        },
        "id": "qJT_fQiNe2KN",
        "outputId": "dffc1a08-1025-4340-dd0a-4b952cc64680"
      },
      "source": [
        "diamond_df.shape"
      ],
      "execution_count": 18,
      "outputs": [
        {
          "output_type": "execute_result",
          "data": {
            "text/plain": [
              "(53940, 10)"
            ]
          },
          "metadata": {
            "tags": []
          },
          "execution_count": 18
        }
      ]
    },
    {
      "cell_type": "code",
      "metadata": {
        "colab": {
          "base_uri": "https://localhost:8080/"
        },
        "id": "g6CIMZq-e2KO",
        "outputId": "caddc166-0f98-4997-f172-832f1ade4cc8"
      },
      "source": [
        "diamond_df.info()"
      ],
      "execution_count": 19,
      "outputs": [
        {
          "output_type": "stream",
          "text": [
            "<class 'pandas.core.frame.DataFrame'>\n",
            "Int64Index: 53940 entries, 1 to 53940\n",
            "Data columns (total 10 columns):\n",
            " #   Column   Non-Null Count  Dtype  \n",
            "---  ------   --------------  -----  \n",
            " 0   carat    53940 non-null  float64\n",
            " 1   cut      53940 non-null  object \n",
            " 2   color    53940 non-null  object \n",
            " 3   clarity  53940 non-null  object \n",
            " 4   depth    53940 non-null  float64\n",
            " 5   table    53940 non-null  float64\n",
            " 6   price    53940 non-null  int64  \n",
            " 7   x        53940 non-null  float64\n",
            " 8   y        53940 non-null  float64\n",
            " 9   z        53940 non-null  float64\n",
            "dtypes: float64(6), int64(1), object(3)\n",
            "memory usage: 4.5+ MB\n"
          ],
          "name": "stdout"
        }
      ]
    },
    {
      "cell_type": "code",
      "metadata": {
        "colab": {
          "base_uri": "https://localhost:8080/"
        },
        "id": "APzToL-Fe2KO",
        "outputId": "c68ff047-2be9-44f0-c3f4-3716459d6596"
      },
      "source": [
        "diamond_df.columns"
      ],
      "execution_count": 20,
      "outputs": [
        {
          "output_type": "execute_result",
          "data": {
            "text/plain": [
              "Index(['carat', 'cut', 'color', 'clarity', 'depth', 'table', 'price', 'x', 'y',\n",
              "       'z'],\n",
              "      dtype='object')"
            ]
          },
          "metadata": {
            "tags": []
          },
          "execution_count": 20
        }
      ]
    },
    {
      "cell_type": "markdown",
      "metadata": {
        "id": "kR0OrEwLfLym"
      },
      "source": [
        "### Explorando dataset"
      ]
    },
    {
      "cell_type": "code",
      "metadata": {
        "colab": {
          "base_uri": "https://localhost:8080/",
          "height": 266
        },
        "id": "7GT1n5Eve2KO",
        "outputId": "b686535b-cfab-44e9-cf50-a1c36aaa9af2"
      },
      "source": [
        "# c) Exiba as primeiras sete linhas do DataFrame.\n",
        "\n",
        "diamond_df.head(7)"
      ],
      "execution_count": 21,
      "outputs": [
        {
          "output_type": "execute_result",
          "data": {
            "text/html": [
              "<div>\n",
              "<style scoped>\n",
              "    .dataframe tbody tr th:only-of-type {\n",
              "        vertical-align: middle;\n",
              "    }\n",
              "\n",
              "    .dataframe tbody tr th {\n",
              "        vertical-align: top;\n",
              "    }\n",
              "\n",
              "    .dataframe thead th {\n",
              "        text-align: right;\n",
              "    }\n",
              "</style>\n",
              "<table border=\"1\" class=\"dataframe\">\n",
              "  <thead>\n",
              "    <tr style=\"text-align: right;\">\n",
              "      <th></th>\n",
              "      <th>carat</th>\n",
              "      <th>cut</th>\n",
              "      <th>color</th>\n",
              "      <th>clarity</th>\n",
              "      <th>depth</th>\n",
              "      <th>table</th>\n",
              "      <th>price</th>\n",
              "      <th>x</th>\n",
              "      <th>y</th>\n",
              "      <th>z</th>\n",
              "    </tr>\n",
              "  </thead>\n",
              "  <tbody>\n",
              "    <tr>\n",
              "      <th>1</th>\n",
              "      <td>0.23</td>\n",
              "      <td>Ideal</td>\n",
              "      <td>E</td>\n",
              "      <td>SI2</td>\n",
              "      <td>61.5</td>\n",
              "      <td>55.0</td>\n",
              "      <td>326</td>\n",
              "      <td>3.95</td>\n",
              "      <td>3.98</td>\n",
              "      <td>2.43</td>\n",
              "    </tr>\n",
              "    <tr>\n",
              "      <th>2</th>\n",
              "      <td>0.21</td>\n",
              "      <td>Premium</td>\n",
              "      <td>E</td>\n",
              "      <td>SI1</td>\n",
              "      <td>59.8</td>\n",
              "      <td>61.0</td>\n",
              "      <td>326</td>\n",
              "      <td>3.89</td>\n",
              "      <td>3.84</td>\n",
              "      <td>2.31</td>\n",
              "    </tr>\n",
              "    <tr>\n",
              "      <th>3</th>\n",
              "      <td>0.23</td>\n",
              "      <td>Good</td>\n",
              "      <td>E</td>\n",
              "      <td>VS1</td>\n",
              "      <td>56.9</td>\n",
              "      <td>65.0</td>\n",
              "      <td>327</td>\n",
              "      <td>4.05</td>\n",
              "      <td>4.07</td>\n",
              "      <td>2.31</td>\n",
              "    </tr>\n",
              "    <tr>\n",
              "      <th>4</th>\n",
              "      <td>0.29</td>\n",
              "      <td>Premium</td>\n",
              "      <td>I</td>\n",
              "      <td>VS2</td>\n",
              "      <td>62.4</td>\n",
              "      <td>58.0</td>\n",
              "      <td>334</td>\n",
              "      <td>4.20</td>\n",
              "      <td>4.23</td>\n",
              "      <td>2.63</td>\n",
              "    </tr>\n",
              "    <tr>\n",
              "      <th>5</th>\n",
              "      <td>0.31</td>\n",
              "      <td>Good</td>\n",
              "      <td>J</td>\n",
              "      <td>SI2</td>\n",
              "      <td>63.3</td>\n",
              "      <td>58.0</td>\n",
              "      <td>335</td>\n",
              "      <td>4.34</td>\n",
              "      <td>4.35</td>\n",
              "      <td>2.75</td>\n",
              "    </tr>\n",
              "    <tr>\n",
              "      <th>6</th>\n",
              "      <td>0.24</td>\n",
              "      <td>Very Good</td>\n",
              "      <td>J</td>\n",
              "      <td>VVS2</td>\n",
              "      <td>62.8</td>\n",
              "      <td>57.0</td>\n",
              "      <td>336</td>\n",
              "      <td>3.94</td>\n",
              "      <td>3.96</td>\n",
              "      <td>2.48</td>\n",
              "    </tr>\n",
              "    <tr>\n",
              "      <th>7</th>\n",
              "      <td>0.24</td>\n",
              "      <td>Very Good</td>\n",
              "      <td>I</td>\n",
              "      <td>VVS1</td>\n",
              "      <td>62.3</td>\n",
              "      <td>57.0</td>\n",
              "      <td>336</td>\n",
              "      <td>3.95</td>\n",
              "      <td>3.98</td>\n",
              "      <td>2.47</td>\n",
              "    </tr>\n",
              "  </tbody>\n",
              "</table>\n",
              "</div>"
            ],
            "text/plain": [
              "   carat        cut color clarity  depth  table  price     x     y     z\n",
              "1   0.23      Ideal     E     SI2   61.5   55.0    326  3.95  3.98  2.43\n",
              "2   0.21    Premium     E     SI1   59.8   61.0    326  3.89  3.84  2.31\n",
              "3   0.23       Good     E     VS1   56.9   65.0    327  4.05  4.07  2.31\n",
              "4   0.29    Premium     I     VS2   62.4   58.0    334  4.20  4.23  2.63\n",
              "5   0.31       Good     J     SI2   63.3   58.0    335  4.34  4.35  2.75\n",
              "6   0.24  Very Good     J    VVS2   62.8   57.0    336  3.94  3.96  2.48\n",
              "7   0.24  Very Good     I    VVS1   62.3   57.0    336  3.95  3.98  2.47"
            ]
          },
          "metadata": {
            "tags": []
          },
          "execution_count": 21
        }
      ]
    },
    {
      "cell_type": "code",
      "metadata": {
        "colab": {
          "base_uri": "https://localhost:8080/",
          "height": 266
        },
        "id": "z7CEJw0Te2KO",
        "outputId": "36bbb5ba-57d1-43c1-e31f-ecf8c092f222"
      },
      "source": [
        "# d) Exiba as últimas sete linhas do DataFrame.\n",
        "\n",
        "diamond_df.tail(7)"
      ],
      "execution_count": 22,
      "outputs": [
        {
          "output_type": "execute_result",
          "data": {
            "text/html": [
              "<div>\n",
              "<style scoped>\n",
              "    .dataframe tbody tr th:only-of-type {\n",
              "        vertical-align: middle;\n",
              "    }\n",
              "\n",
              "    .dataframe tbody tr th {\n",
              "        vertical-align: top;\n",
              "    }\n",
              "\n",
              "    .dataframe thead th {\n",
              "        text-align: right;\n",
              "    }\n",
              "</style>\n",
              "<table border=\"1\" class=\"dataframe\">\n",
              "  <thead>\n",
              "    <tr style=\"text-align: right;\">\n",
              "      <th></th>\n",
              "      <th>carat</th>\n",
              "      <th>cut</th>\n",
              "      <th>color</th>\n",
              "      <th>clarity</th>\n",
              "      <th>depth</th>\n",
              "      <th>table</th>\n",
              "      <th>price</th>\n",
              "      <th>x</th>\n",
              "      <th>y</th>\n",
              "      <th>z</th>\n",
              "    </tr>\n",
              "  </thead>\n",
              "  <tbody>\n",
              "    <tr>\n",
              "      <th>53934</th>\n",
              "      <td>0.70</td>\n",
              "      <td>Very Good</td>\n",
              "      <td>E</td>\n",
              "      <td>VS2</td>\n",
              "      <td>61.2</td>\n",
              "      <td>59.0</td>\n",
              "      <td>2757</td>\n",
              "      <td>5.69</td>\n",
              "      <td>5.72</td>\n",
              "      <td>3.49</td>\n",
              "    </tr>\n",
              "    <tr>\n",
              "      <th>53935</th>\n",
              "      <td>0.72</td>\n",
              "      <td>Premium</td>\n",
              "      <td>D</td>\n",
              "      <td>SI1</td>\n",
              "      <td>62.7</td>\n",
              "      <td>59.0</td>\n",
              "      <td>2757</td>\n",
              "      <td>5.69</td>\n",
              "      <td>5.73</td>\n",
              "      <td>3.58</td>\n",
              "    </tr>\n",
              "    <tr>\n",
              "      <th>53936</th>\n",
              "      <td>0.72</td>\n",
              "      <td>Ideal</td>\n",
              "      <td>D</td>\n",
              "      <td>SI1</td>\n",
              "      <td>60.8</td>\n",
              "      <td>57.0</td>\n",
              "      <td>2757</td>\n",
              "      <td>5.75</td>\n",
              "      <td>5.76</td>\n",
              "      <td>3.50</td>\n",
              "    </tr>\n",
              "    <tr>\n",
              "      <th>53937</th>\n",
              "      <td>0.72</td>\n",
              "      <td>Good</td>\n",
              "      <td>D</td>\n",
              "      <td>SI1</td>\n",
              "      <td>63.1</td>\n",
              "      <td>55.0</td>\n",
              "      <td>2757</td>\n",
              "      <td>5.69</td>\n",
              "      <td>5.75</td>\n",
              "      <td>3.61</td>\n",
              "    </tr>\n",
              "    <tr>\n",
              "      <th>53938</th>\n",
              "      <td>0.70</td>\n",
              "      <td>Very Good</td>\n",
              "      <td>D</td>\n",
              "      <td>SI1</td>\n",
              "      <td>62.8</td>\n",
              "      <td>60.0</td>\n",
              "      <td>2757</td>\n",
              "      <td>5.66</td>\n",
              "      <td>5.68</td>\n",
              "      <td>3.56</td>\n",
              "    </tr>\n",
              "    <tr>\n",
              "      <th>53939</th>\n",
              "      <td>0.86</td>\n",
              "      <td>Premium</td>\n",
              "      <td>H</td>\n",
              "      <td>SI2</td>\n",
              "      <td>61.0</td>\n",
              "      <td>58.0</td>\n",
              "      <td>2757</td>\n",
              "      <td>6.15</td>\n",
              "      <td>6.12</td>\n",
              "      <td>3.74</td>\n",
              "    </tr>\n",
              "    <tr>\n",
              "      <th>53940</th>\n",
              "      <td>0.75</td>\n",
              "      <td>Ideal</td>\n",
              "      <td>D</td>\n",
              "      <td>SI2</td>\n",
              "      <td>62.2</td>\n",
              "      <td>55.0</td>\n",
              "      <td>2757</td>\n",
              "      <td>5.83</td>\n",
              "      <td>5.87</td>\n",
              "      <td>3.64</td>\n",
              "    </tr>\n",
              "  </tbody>\n",
              "</table>\n",
              "</div>"
            ],
            "text/plain": [
              "       carat        cut color clarity  depth  table  price     x     y     z\n",
              "53934   0.70  Very Good     E     VS2   61.2   59.0   2757  5.69  5.72  3.49\n",
              "53935   0.72    Premium     D     SI1   62.7   59.0   2757  5.69  5.73  3.58\n",
              "53936   0.72      Ideal     D     SI1   60.8   57.0   2757  5.75  5.76  3.50\n",
              "53937   0.72       Good     D     SI1   63.1   55.0   2757  5.69  5.75  3.61\n",
              "53938   0.70  Very Good     D     SI1   62.8   60.0   2757  5.66  5.68  3.56\n",
              "53939   0.86    Premium     H     SI2   61.0   58.0   2757  6.15  6.12  3.74\n",
              "53940   0.75      Ideal     D     SI2   62.2   55.0   2757  5.83  5.87  3.64"
            ]
          },
          "metadata": {
            "tags": []
          },
          "execution_count": 22
        }
      ]
    },
    {
      "cell_type": "code",
      "metadata": {
        "colab": {
          "base_uri": "https://localhost:8080/",
          "height": 297
        },
        "id": "rdqTecG-e2KO",
        "outputId": "b554aefe-80e5-4328-d4ed-d4c88095b637"
      },
      "source": [
        "# e) Use o método describe de DataFrame (que olha apenas para as colunas numéricas)\n",
        "\n",
        "diamond_df.describe()"
      ],
      "execution_count": 23,
      "outputs": [
        {
          "output_type": "execute_result",
          "data": {
            "text/html": [
              "<div>\n",
              "<style scoped>\n",
              "    .dataframe tbody tr th:only-of-type {\n",
              "        vertical-align: middle;\n",
              "    }\n",
              "\n",
              "    .dataframe tbody tr th {\n",
              "        vertical-align: top;\n",
              "    }\n",
              "\n",
              "    .dataframe thead th {\n",
              "        text-align: right;\n",
              "    }\n",
              "</style>\n",
              "<table border=\"1\" class=\"dataframe\">\n",
              "  <thead>\n",
              "    <tr style=\"text-align: right;\">\n",
              "      <th></th>\n",
              "      <th>carat</th>\n",
              "      <th>depth</th>\n",
              "      <th>table</th>\n",
              "      <th>price</th>\n",
              "      <th>x</th>\n",
              "      <th>y</th>\n",
              "      <th>z</th>\n",
              "    </tr>\n",
              "  </thead>\n",
              "  <tbody>\n",
              "    <tr>\n",
              "      <th>count</th>\n",
              "      <td>53940.00</td>\n",
              "      <td>53940.00</td>\n",
              "      <td>53940.00</td>\n",
              "      <td>53940.00</td>\n",
              "      <td>53940.00</td>\n",
              "      <td>53940.00</td>\n",
              "      <td>53940.00</td>\n",
              "    </tr>\n",
              "    <tr>\n",
              "      <th>mean</th>\n",
              "      <td>0.80</td>\n",
              "      <td>61.75</td>\n",
              "      <td>57.46</td>\n",
              "      <td>3932.80</td>\n",
              "      <td>5.73</td>\n",
              "      <td>5.73</td>\n",
              "      <td>3.54</td>\n",
              "    </tr>\n",
              "    <tr>\n",
              "      <th>std</th>\n",
              "      <td>0.47</td>\n",
              "      <td>1.43</td>\n",
              "      <td>2.23</td>\n",
              "      <td>3989.44</td>\n",
              "      <td>1.12</td>\n",
              "      <td>1.14</td>\n",
              "      <td>0.71</td>\n",
              "    </tr>\n",
              "    <tr>\n",
              "      <th>min</th>\n",
              "      <td>0.20</td>\n",
              "      <td>43.00</td>\n",
              "      <td>43.00</td>\n",
              "      <td>326.00</td>\n",
              "      <td>0.00</td>\n",
              "      <td>0.00</td>\n",
              "      <td>0.00</td>\n",
              "    </tr>\n",
              "    <tr>\n",
              "      <th>25%</th>\n",
              "      <td>0.40</td>\n",
              "      <td>61.00</td>\n",
              "      <td>56.00</td>\n",
              "      <td>950.00</td>\n",
              "      <td>4.71</td>\n",
              "      <td>4.72</td>\n",
              "      <td>2.91</td>\n",
              "    </tr>\n",
              "    <tr>\n",
              "      <th>50%</th>\n",
              "      <td>0.70</td>\n",
              "      <td>61.80</td>\n",
              "      <td>57.00</td>\n",
              "      <td>2401.00</td>\n",
              "      <td>5.70</td>\n",
              "      <td>5.71</td>\n",
              "      <td>3.53</td>\n",
              "    </tr>\n",
              "    <tr>\n",
              "      <th>75%</th>\n",
              "      <td>1.04</td>\n",
              "      <td>62.50</td>\n",
              "      <td>59.00</td>\n",
              "      <td>5324.25</td>\n",
              "      <td>6.54</td>\n",
              "      <td>6.54</td>\n",
              "      <td>4.04</td>\n",
              "    </tr>\n",
              "    <tr>\n",
              "      <th>max</th>\n",
              "      <td>5.01</td>\n",
              "      <td>79.00</td>\n",
              "      <td>95.00</td>\n",
              "      <td>18823.00</td>\n",
              "      <td>10.74</td>\n",
              "      <td>58.90</td>\n",
              "      <td>31.80</td>\n",
              "    </tr>\n",
              "  </tbody>\n",
              "</table>\n",
              "</div>"
            ],
            "text/plain": [
              "          carat     depth     table     price         x         y         z\n",
              "count  53940.00  53940.00  53940.00  53940.00  53940.00  53940.00  53940.00\n",
              "mean       0.80     61.75     57.46   3932.80      5.73      5.73      3.54\n",
              "std        0.47      1.43      2.23   3989.44      1.12      1.14      0.71\n",
              "min        0.20     43.00     43.00    326.00      0.00      0.00      0.00\n",
              "25%        0.40     61.00     56.00    950.00      4.71      4.72      2.91\n",
              "50%        0.70     61.80     57.00   2401.00      5.70      5.71      3.53\n",
              "75%        1.04     62.50     59.00   5324.25      6.54      6.54      4.04\n",
              "max        5.01     79.00     95.00  18823.00     10.74     58.90     31.80"
            ]
          },
          "metadata": {
            "tags": []
          },
          "execution_count": 23
        }
      ]
    },
    {
      "cell_type": "code",
      "metadata": {
        "colab": {
          "base_uri": "https://localhost:8080/",
          "height": 173
        },
        "id": "HQeWuaS3e2KO",
        "outputId": "f1ceebce-c715-4fb4-bb6b-814a9de204c0"
      },
      "source": [
        "# f) Use o método describe da Serie para calcular as estatísticas descritivas para as categorias (texto) - cut, color e clarity.\n",
        "\n",
        "columns = diamond_df.select_dtypes(include=['object']).columns\n",
        "\n",
        "diamond_df[columns].describe()"
      ],
      "execution_count": 24,
      "outputs": [
        {
          "output_type": "execute_result",
          "data": {
            "text/html": [
              "<div>\n",
              "<style scoped>\n",
              "    .dataframe tbody tr th:only-of-type {\n",
              "        vertical-align: middle;\n",
              "    }\n",
              "\n",
              "    .dataframe tbody tr th {\n",
              "        vertical-align: top;\n",
              "    }\n",
              "\n",
              "    .dataframe thead th {\n",
              "        text-align: right;\n",
              "    }\n",
              "</style>\n",
              "<table border=\"1\" class=\"dataframe\">\n",
              "  <thead>\n",
              "    <tr style=\"text-align: right;\">\n",
              "      <th></th>\n",
              "      <th>cut</th>\n",
              "      <th>color</th>\n",
              "      <th>clarity</th>\n",
              "    </tr>\n",
              "  </thead>\n",
              "  <tbody>\n",
              "    <tr>\n",
              "      <th>count</th>\n",
              "      <td>53940</td>\n",
              "      <td>53940</td>\n",
              "      <td>53940</td>\n",
              "    </tr>\n",
              "    <tr>\n",
              "      <th>unique</th>\n",
              "      <td>5</td>\n",
              "      <td>7</td>\n",
              "      <td>8</td>\n",
              "    </tr>\n",
              "    <tr>\n",
              "      <th>top</th>\n",
              "      <td>Ideal</td>\n",
              "      <td>G</td>\n",
              "      <td>SI1</td>\n",
              "    </tr>\n",
              "    <tr>\n",
              "      <th>freq</th>\n",
              "      <td>21551</td>\n",
              "      <td>11292</td>\n",
              "      <td>13065</td>\n",
              "    </tr>\n",
              "  </tbody>\n",
              "</table>\n",
              "</div>"
            ],
            "text/plain": [
              "          cut  color clarity\n",
              "count   53940  53940   53940\n",
              "unique      5      7       8\n",
              "top     Ideal      G     SI1\n",
              "freq    21551  11292   13065"
            ]
          },
          "metadata": {
            "tags": []
          },
          "execution_count": 24
        }
      ]
    },
    {
      "cell_type": "code",
      "metadata": {
        "colab": {
          "base_uri": "https://localhost:8080/"
        },
        "id": "54P3kbSOe2KO",
        "outputId": "2e52b0b3-472b-4951-ddc4-1167d13efe1f"
      },
      "source": [
        "# g) Quais são os valores de categoria exclusivos (use o método de Serie unique)?\n",
        "\n",
        "columns = ['cut', 'color', 'clarity']\n",
        "\n",
        "print(f'{\"ATRIBUTOS\":<15}|{\" VALORES ÚNICOS\":<20}')\n",
        "print()\n",
        "for i in columns:\n",
        "    # print(type(diamond_df[i].unique()))\n",
        "    print(f'{i:<15}: {diamond_df[i].unique()}')"
      ],
      "execution_count": 25,
      "outputs": [
        {
          "output_type": "stream",
          "text": [
            "ATRIBUTOS      | VALORES ÚNICOS     \n",
            "\n",
            "cut            : ['Ideal' 'Premium' 'Good' 'Very Good' 'Fair']\n",
            "color          : ['E' 'I' 'J' 'H' 'F' 'G' 'D']\n",
            "clarity        : ['SI2' 'SI1' 'VS1' 'VS2' 'VVS2' 'VVS1' 'I1' 'IF']\n"
          ],
          "name": "stdout"
        }
      ]
    },
    {
      "cell_type": "code",
      "metadata": {
        "colab": {
          "base_uri": "https://localhost:8080/",
          "height": 1000
        },
        "id": "37EcLia9e2KO",
        "outputId": "ef0fbbfd-bdea-44fe-f49e-191c7116fb45"
      },
      "source": [
        "# h) Gere o os histogramas de cada coluna de dados numéricos.\n",
        "\n",
        "col = diamond_df.select_dtypes(include=['float', 'int']).columns\n",
        "\n",
        "for i in col:\n",
        "    print(diamond_df.hist(i))"
      ],
      "execution_count": 26,
      "outputs": [
        {
          "output_type": "stream",
          "text": [
            "[[<matplotlib.axes._subplots.AxesSubplot object at 0x7ff2e2f626d8>]]\n",
            "[[<matplotlib.axes._subplots.AxesSubplot object at 0x7ff2e1291710>]]\n",
            "[[<matplotlib.axes._subplots.AxesSubplot object at 0x7ff2e125def0>]]\n",
            "[[<matplotlib.axes._subplots.AxesSubplot object at 0x7ff2e12366d8>]]\n",
            "[[<matplotlib.axes._subplots.AxesSubplot object at 0x7ff2e1250a20>]]\n",
            "[[<matplotlib.axes._subplots.AxesSubplot object at 0x7ff2e115b668>]]\n",
            "[[<matplotlib.axes._subplots.AxesSubplot object at 0x7ff2e1129e10>]]\n"
          ],
          "name": "stdout"
        },
        {
          "output_type": "display_data",
          "data": {
            "image/png": "[encoded data removed]",
            "text/plain": [
              "<Figure size 432x288 with 1 Axes>"
            ]
          },
          "metadata": {
            "tags": [],
            "needs_background": "light"
          }
        },
        {
          "output_type": "display_data",
          "data": {
            "image/png": "[encoded data removed]",
            "text/plain": [
              "<Figure size 432x288 with 1 Axes>"
            ]
          },
          "metadata": {
            "tags": [],
            "needs_background": "light"
          }
        },
        {
          "output_type": "display_data",
          "data": {
            "image/png": "[encoded data removed]",
            "text/plain": [
              "<Figure size 432x288 with 1 Axes>"
            ]
          },
          "metadata": {
            "tags": [],
            "needs_background": "light"
          }
        },
        {
          "output_type": "display_data",
          "data": {
            "image/png": "[encoded data removed]",
            "text/plain": [
              "<Figure size 432x288 with 1 Axes>"
            ]
          },
          "metadata": {
            "tags": [],
            "needs_background": "light"
          }
        },
        {
          "output_type": "display_data",
          "data": {
            "image/png": "[encoded data removed]",
            "text/plain": [
              "<Figure size 432x288 with 1 Axes>"
            ]
          },
          "metadata": {
            "tags": [],
            "needs_background": "light"
          }
        },
        {
          "output_type": "display_data",
          "data": {
            "image/png": "[encoded data removed]",
            "text/plain": [
              "<Figure size 432x288 with 1 Axes>"
            ]
          },
          "metadata": {
            "tags": [],
            "needs_background": "light"
          }
        },
        {
          "output_type": "display_data",
          "data": {
            "image/png": "[encoded data removed]",
            "text/plain": [
              "<Figure size 432x288 with 1 Axes>"
            ]
          },
          "metadata": {
            "tags": [],
            "needs_background": "light"
          }
        }
      ]
    },
    {
      "cell_type": "code",
      "metadata": {
        "id": "ewW1iS7Tk4Ai"
      },
      "source": [
        ""
      ],
      "execution_count": null,
      "outputs": []
    }
  ]
}