{
 "metadata": {
  "language_info": {
   "codemirror_mode": {
    "name": "ipython",
    "version": 3
   },
   "file_extension": ".py",
   "mimetype": "text/x-python",
   "name": "python",
   "nbconvert_exporter": "python",
   "pygments_lexer": "ipython3",
   "version": "3.8.6-final"
  },
  "orig_nbformat": 2,
  "kernelspec": {
   "name": "python3",
   "display_name": "Python 3",
   "language": "python"
  }
 },
 "nbformat": 4,
 "nbformat_minor": 2,
 "cells": [
  {
   "source": [
    "# Tarefa 09 - IBRx100"
   ],
   "cell_type": "markdown",
   "metadata": {}
  },
  {
   "source": [
    "* **Autor:** *Matheus Percário Bruder*\n",
    "* **Data:** *13/01/2021*\n",
    "* **Disciplina:** *TT007*\n",
    "* **Dataset:** *[IBRx100](http://www.b3.com.br/pt_br/market-data-e-indices/indices/indices-amplos/indice-brasil-100-ibrx-100-composicao-da-carteira.htm)*"
   ],
   "cell_type": "markdown",
   "metadata": {}
  },
  {
   "source": [
    "Utilizando seus conhecimentos de Python, e ciência dos dados, encontre a carteira de menor risco (maior diversificação) que \n",
    "maximize os lucros (retornos). Sua carteira deve ter 5 ativos retirados do índice IBRx100.\n",
    "\n",
    "Considere o retorno calculado em uma janela de um ano.\n",
    "\n",
    "Mostre evidências de que sua carteira de ativos é boa! (medidas, gráficos)"
   ],
   "cell_type": "markdown",
   "metadata": {}
  },
  {
   "source": [
    "## Importações & Dataset"
   ],
   "cell_type": "markdown",
   "metadata": {}
  },
  {
   "cell_type": "code",
   "execution_count": 81,
   "metadata": {},
   "outputs": [],
   "source": [
    "import pandas as pd\n",
    "from sklearn.cluster import KMeans"
   ]
  },
  {
   "cell_type": "code",
   "execution_count": 72,
   "metadata": {},
   "outputs": [],
   "source": [
    "ibrx100 = pd.read_csv('IBRx100.csv', sep=';', encoding='utf8')"
   ]
  },
  {
   "source": [
    "## Análise descritiva"
   ],
   "cell_type": "markdown",
   "metadata": {}
  },
  {
   "cell_type": "code",
   "execution_count": 73,
   "metadata": {},
   "outputs": [
    {
     "output_type": "execute_result",
     "data": {
      "text/plain": [
       "pandas.core.frame.DataFrame"
      ]
     },
     "metadata": {},
     "execution_count": 73
    }
   ],
   "source": [
    "type(ibrx100)"
   ]
  },
  {
   "cell_type": "code",
   "execution_count": 74,
   "metadata": {},
   "outputs": [
    {
     "output_type": "execute_result",
     "data": {
      "text/plain": [
       "(100, 5)"
      ]
     },
     "metadata": {},
     "execution_count": 74
    }
   ],
   "source": [
    "ibrx100.shape"
   ]
  },
  {
   "cell_type": "code",
   "execution_count": 79,
   "metadata": {},
   "outputs": [
    {
     "output_type": "execute_result",
     "data": {
      "text/plain": [
       "   Codigo          Acao       Tipo  Qtde. Teorica  Part. (%)\n",
       "95  VALE3          VALE      ON NM     5128642481     17.948\n",
       "96  VIVT3  TELEF BRASIL     ON EDJ      444219852      0.827\n",
       "97  VVAR3     VIAVAREJO  ON ATZ NM     1595083594      1.032\n",
       "98  WEGE3           WEG   ON EJ NM      741148001      2.246\n",
       "99  YDUQ3    YDUQS PART      ON NM      300483575      0.396"
      ],
      "text/html": "<div>\n<style scoped>\n    .dataframe tbody tr th:only-of-type {\n        vertical-align: middle;\n    }\n\n    .dataframe tbody tr th {\n        vertical-align: top;\n    }\n\n    .dataframe thead th {\n        text-align: right;\n    }\n</style>\n<table border=\"1\" class=\"dataframe\">\n  <thead>\n    <tr style=\"text-align: right;\">\n      <th></th>\n      <th>Codigo</th>\n      <th>Acao</th>\n      <th>Tipo</th>\n      <th>Qtde. Teorica</th>\n      <th>Part. (%)</th>\n    </tr>\n  </thead>\n  <tbody>\n    <tr>\n      <th>95</th>\n      <td>VALE3</td>\n      <td>VALE</td>\n      <td>ON NM</td>\n      <td>5128642481</td>\n      <td>17.948</td>\n    </tr>\n    <tr>\n      <th>96</th>\n      <td>VIVT3</td>\n      <td>TELEF BRASIL</td>\n      <td>ON EDJ</td>\n      <td>444219852</td>\n      <td>0.827</td>\n    </tr>\n    <tr>\n      <th>97</th>\n      <td>VVAR3</td>\n      <td>VIAVAREJO</td>\n      <td>ON ATZ NM</td>\n      <td>1595083594</td>\n      <td>1.032</td>\n    </tr>\n    <tr>\n      <th>98</th>\n      <td>WEGE3</td>\n      <td>WEG</td>\n      <td>ON EJ NM</td>\n      <td>741148001</td>\n      <td>2.246</td>\n    </tr>\n    <tr>\n      <th>99</th>\n      <td>YDUQ3</td>\n      <td>YDUQS PART</td>\n      <td>ON NM</td>\n      <td>300483575</td>\n      <td>0.396</td>\n    </tr>\n  </tbody>\n</table>\n</div>"
     },
     "metadata": {},
     "execution_count": 79
    }
   ],
   "source": [
    "ibrx100.tail()"
   ]
  },
  {
   "cell_type": "code",
   "execution_count": 76,
   "metadata": {},
   "outputs": [
    {
     "output_type": "execute_result",
     "data": {
      "text/plain": [
       "       Qtde. Teorica   Part. (%)\n",
       "count   1.000000e+02  100.000000\n",
       "mean    8.099799e+08    1.000050\n",
       "std     1.118054e+09    2.050172\n",
       "min     8.304079e+07    0.030000\n",
       "25%     2.143135e+08    0.220000\n",
       "50%     3.336412e+08    0.425500\n",
       "75%     8.752273e+08    0.900000\n",
       "max     5.128642e+09   17.948000"
      ],
      "text/html": "<div>\n<style scoped>\n    .dataframe tbody tr th:only-of-type {\n        vertical-align: middle;\n    }\n\n    .dataframe tbody tr th {\n        vertical-align: top;\n    }\n\n    .dataframe thead th {\n        text-align: right;\n    }\n</style>\n<table border=\"1\" class=\"dataframe\">\n  <thead>\n    <tr style=\"text-align: right;\">\n      <th></th>\n      <th>Qtde. Teorica</th>\n      <th>Part. (%)</th>\n    </tr>\n  </thead>\n  <tbody>\n    <tr>\n      <th>count</th>\n      <td>1.000000e+02</td>\n      <td>100.000000</td>\n    </tr>\n    <tr>\n      <th>mean</th>\n      <td>8.099799e+08</td>\n      <td>1.000050</td>\n    </tr>\n    <tr>\n      <th>std</th>\n      <td>1.118054e+09</td>\n      <td>2.050172</td>\n    </tr>\n    <tr>\n      <th>min</th>\n      <td>8.304079e+07</td>\n      <td>0.030000</td>\n    </tr>\n    <tr>\n      <th>25%</th>\n      <td>2.143135e+08</td>\n      <td>0.220000</td>\n    </tr>\n    <tr>\n      <th>50%</th>\n      <td>3.336412e+08</td>\n      <td>0.425500</td>\n    </tr>\n    <tr>\n      <th>75%</th>\n      <td>8.752273e+08</td>\n      <td>0.900000</td>\n    </tr>\n    <tr>\n      <th>max</th>\n      <td>5.128642e+09</td>\n      <td>17.948000</td>\n    </tr>\n  </tbody>\n</table>\n</div>"
     },
     "metadata": {},
     "execution_count": 76
    }
   ],
   "source": [
    "ibrx100.describe()"
   ]
  },
  {
   "cell_type": "code",
   "execution_count": 77,
   "metadata": {},
   "outputs": [
    {
     "output_type": "execute_result",
     "data": {
      "text/plain": [
       "Codigo            object\n",
       "Acao              object\n",
       "Tipo              object\n",
       "Qtde. Teorica      int64\n",
       "Part. (%)        float64\n",
       "dtype: object"
      ]
     },
     "metadata": {},
     "execution_count": 77
    }
   ],
   "source": [
    "ibrx100.dtypes"
   ]
  },
  {
   "source": [
    "## Criando modelo"
   ],
   "cell_type": "markdown",
   "metadata": {}
  },
  {
   "cell_type": "code",
   "execution_count": 82,
   "metadata": {},
   "outputs": [],
   "source": [
    "kmeans = KMeans(n_clusters=3, random_state=11)"
   ]
  },
  {
   "cell_type": "code",
   "execution_count": 84,
   "metadata": {},
   "outputs": [
    {
     "output_type": "execute_result",
     "data": {
      "text/plain": [
       "KMeans(n_clusters=3, random_state=11)"
      ]
     },
     "metadata": {},
     "execution_count": 84
    }
   ],
   "source": [
    "kmeans.fit(ibrx100[['Qtde. Teorica','Part. (%)']])"
   ]
  },
  {
   "cell_type": "code",
   "execution_count": 87,
   "metadata": {},
   "outputs": [
    {
     "output_type": "execute_result",
     "data": {
      "text/plain": [
       "array([1, 0, 0, 0, 0, 2, 2, 2, 1, 0, 0, 0, 0, 2, 2, 0, 2, 0, 2, 0, 2, 2,\n",
       "       0, 2, 0, 0, 0, 0, 0, 0, 0, 0, 0, 0, 0, 0, 0, 2, 0, 0, 0, 2, 0, 0,\n",
       "       2, 0, 0, 0, 2, 0, 0, 0, 2, 1, 1, 2, 0, 2, 0, 2, 0, 0, 0, 2, 0, 0,\n",
       "       0, 2, 0, 0, 0, 0, 0, 2, 0, 1, 1, 0, 0, 0, 2, 2, 0, 0, 0, 0, 0, 0,\n",
       "       2, 0, 2, 0, 0, 2, 0, 1, 0, 2, 2, 0])"
      ]
     },
     "metadata": {},
     "execution_count": 87
    }
   ],
   "source": [
    "kmeans.labels_"
   ]
  },
  {
   "cell_type": "code",
   "execution_count": null,
   "metadata": {},
   "outputs": [],
   "source": []
  }
 ]
}