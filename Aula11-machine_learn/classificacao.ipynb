{
 "cells": [
  {
   "cell_type": "markdown",
   "metadata": {},
   "source": [
    "# Aprendizado de máquina"
   ]
  },
  {
   "cell_type": "markdown",
   "metadata": {},
   "source": [
    "## O que é aprendizado de máquina?\n",
    "\n",
    "Podemos realmente fazer nossas máquinas (ou seja, nossos computadores) aprenderem? \n",
    "- Em vez de programar o conhecimento em nossos aplicativos, nós os programamos para aprender com os dados."
   ]
  },
  {
   "cell_type": "markdown",
   "metadata": {},
   "source": [
    "## Tipos de aprendizado de máquina\n",
    "\n",
    "Vamos estudar os dois tipos principais de aprendizado de máquina:\n",
    "\n",
    "Aprendizado de máquina **supervisionado**, que funciona com **dados rotulados** \n",
    "\n",
    "- Se, por exemplo, você está desenvolvendo um aplicativo de **visão computacional** para reconhecer cães e gatos, \n",
    "    - você vai treinar seu modelo em muitas fotos de cães com o rótulo *“cachorro”* e fotos de gato com a etiqueta *\"gato\"*.\n",
    "    - <font color=red>Se o seu modelo for eficaz, quando você colocá-lo para trabalhar no processamento de fotos sem rótulos, ele reconhecerá cães e gatos que nunca viu antes.</font> \n",
    "    - Quanto mais fotos você treina, melhor a chance de seu modelo predizer com precisão quais fotos novas são de cães e quais são gatos. \n",
    "\n",
    "Aprendizado de máquina **não supervisionado**, que funciona com **dados não rotulados**.\n",
    "\n",
    "- Como examinar dados não rotulados pode ser útil? As livrarias online vendem muitos livros.\n",
    "Eles registram enormes quantidades de dados de transações de compra de livros (sem rótulos). \n",
    "    - As pessoas que compraram certos livros provavelmente comprariam outros nos mesmos tópicos ou em tópicos semelhantes. Isso levou aos seus sistemas de recomendação. \n",
    "    - Agora, quando você navegue no site de uma livraria para encontrar um livro específico, é provável que você veja recomendações como,\n",
    "\n",
    "<font color=blue>“As pessoas que compraram este livro também compraram esses outros livros.”</font> \n",
    "\n",
    "Sistemas de recomendação são um grande negócio hoje, ajudando a maximizar as vendas de produtos de todos os tipos."
   ]
  },
  {
   "cell_type": "markdown",
   "metadata": {},
   "source": [
    "## Aprendizado de máquina supervisionado\n",
    "\n",
    "O aprendizado de máquina supervisionado se enquadra em duas categorias: \n",
    "- classificação \n",
    "- regressão\n",
    "\n",
    "Vamos treinar modelos de aprendizado de máquina em conjuntos de dados que consistem em **linhas e colunas**. \n",
    "- Cada *linha representa uma amostra de dados*. \n",
    "- Cada *coluna representa um atributo dessa amostra*. \n",
    "\n",
    "No a aprendizado supervisionado, cada amostra tem um rótulo associado denominado classe (*target* no Scikit-learn) (como “cachorro” ou “gato”).\n",
    "- Este é o valor que você está tentando prever para os novos dados que apresenta aos seus modelos."
   ]
  },
  {
   "cell_type": "markdown",
   "metadata": {},
   "source": [
    "### Scikit-Learn\n",
    "\n",
    "Usaremos a popular biblioteca de aprendizado de máquina **scikit-learn**. \n",
    "- Scikit-learn empacota convenientemente os algoritmos de aprendizado de máquina mais eficazes como estimadores. \n",
    "- Cada estimador é encapsulado, no sentido em que você não vê os detalhes intrincados e a matemática complexa de como esses algoritmos funcionam. \n",
    "    - Não se preocupe com isso - você dirige seu carro sem conhecer os detalhes intrincados de como motores, transmissões, sistemas de freio e direção sistemas funcionam. \n",
    "    \n",
    "Com o scikit-learn e uma pequena quantidade de código Python, você criará modelos poderosos\n",
    "rapidamente para:\n",
    "- analisar dados, \n",
    "- extrair insights dos dados \n",
    "- e, o mais importante, fazer previsões. "
   ]
  },
  {
   "cell_type": "markdown",
   "metadata": {},
   "source": [
    "#### Qual estimador Scikit-Learn você deve escolher para seu projeto?\n",
    "\n",
    "- É difícil saber com antecedência quais modelos terão melhor desempenho com seus dados, então você normalmente tenta diversos modelos e escolhe aquele que tem o melhor desempenho. \n",
    "\n",
    "\n",
    "**Como avaliamos qual modelo teve o melhor desempenho?**\n",
    "- Você vai querer experimentar muitos modelos diferentes em diferentes tipos de conjuntos de dados.\n",
    "- Você raramente conhecerá os detalhes dos complexos algoritmos matemáticos do sklearn estimadores, mas com a experiência, você se familiarizará com quais algoritmos podem ser os melhores para tipos específicos de conjuntos de dados e problemas.\n",
    "\n",
    "Mesmo com essa experiência, é improvável que você poderá intuir o melhor modelo para cada novo conjunto de dados. \n",
    "- Portanto, o scikit-learn torna mais fácil para você \"experimentar todos\". \n",
    "\n",
    "Os modelos relatam seu desempenho para que você possa comparar os resultados e escolher o\n",
    "modelo(s) com o melhor desempenho."
   ]
  },
  {
   "cell_type": "markdown",
   "metadata": {},
   "source": [
    "### Dados\n",
    "[Conjuntos de dados](http://scikit-learn.org/stable/datasets/index.html) incluídos com Scikit-Learn."
   ]
  },
  {
   "cell_type": "markdown",
   "metadata": {},
   "source": [
    "### Etapas em um estudo típico de ciência de dados\n",
    "\n",
    "Realizaremos as etapas de um estudo de caso típico de aprendizado de máquina, incluindo:\n",
    "- carregar o conjunto de dados\n",
    "- explorar os dados com pandas e visualizações\n",
    "- transformar seus dados (ex. converter dados não numéricos em dados numéricos)\n",
    "- dividir os dados para treinamento e teste\n",
    "- criar o modelo\n",
    "- treinar e testar o modelo\n",
    "- ajustar o modelo e avaliar sua precisão\n",
    "- fazer previsões sobre dados que o modelo não viu antes.\n"
   ]
  },
  {
   "cell_type": "markdown",
   "metadata": {},
   "source": [
    "### Algoritmo de k-vizinhos mais próximos\n",
    "\n",
    "Scikit-learn suporta muitos algoritmos de classificação, incluindo o mais simples - **O $k$-vizinhos mais próximos ($k-NN$)**. \n",
    "- Este algoritmo tenta prever a classe de uma amostra de teste olhando para as k amostras de treinamento que estão mais próximas (em distância) da amostra de teste. \n",
    "\n",
    "Por exemplo, considere o diagrama a seguir no qual os pontos azuis, roxos, verdes e vermelhos representam quatro classes de amostra. \n",
    "- Para esta discussão, usaremos os nomes das cores como os nomes das classes:"
   ]
  },
  {
   "attachments": {
    "image.png": {
     "image/png": "[encoded data removed]"
    }
   },
   "cell_type": "markdown",
   "metadata": {},
   "source": [
    "<img src=\"attachment:image.png\" width=\"400\">"
   ]
  },
  {
   "cell_type": "markdown",
   "metadata": {},
   "source": [
    "Queremos prever as classes às quais pertencem as novas amostras X, Y e Z. Vamos\n",
    "suponha que gostaríamos de fazer essas previsões usando os três vizinhos mais próximos de cada amostra -\n",
    "três é k no algoritmo de k-vizinhos mais próximos:\n",
    "- Os três vizinhos mais próximos da amostra de X são todos pontos roxos, portanto, preveríamos que os a classe é roxa.\n",
    "-  Os três vizinhos mais próximos da amostra de Y são todos pontos verdes, então podemos prever que a classe de Y é verde.\n",
    "-  Para Z, a escolha não é tão clara, porque aparece entre os pontos verdes e vermelhos.\n",
    "    - Dos três vizinhos mais próximos, um é verde e dois são vermelhos. \n",
    "    \n",
    "Nos k-vizinhos mais próximos, a classe com mais *votos* vence. \n",
    "- Então, no exemplo anterior, com base em dois votos vermelhos para um voto verde, preveríamos que a classe de Z é vermelha. \n",
    "- Escolher um valor k ímpar no kNN algoritmo evita empates, garantindo que nunca haja um número igual de votos."
   ]
  },
  {
   "cell_type": "markdown",
   "metadata": {},
   "source": [
    "### Hiperparâmetros e ajuste de hiperparâmetros\n",
    "No aprendizado de máquina, um modelo implementa um algoritmo de aprendizado. No scikit-learn,\n",
    "os modelos são chamados de **estimadores**.\n",
    "\n",
    "Existem dois tipos de parâmetros no aprendizado de máquina:\n",
    "-  aqueles que **o estimador calcula** à medida que aprende com os dados que você fornece e\n",
    "-  aqueles que **você especifica com antecedência** ao criar o objeto estimador scikit-learn que representa o modelo.\n",
    "    - Os parâmetros especificados antecipadamente são chamados de hiperparâmetros.\n",
    "    - No algoritmo de vizinhos k-mais próximos, k é um hiperparâmetro. \n",
    "    \n",
    "Em estudos de aprendizado de máquina do mundo real, você deseja experimentar diferentes valores de k para produzir os melhores modelos possíveis para o seu estudos. \n",
    "- Esse processo é chamado de **ajuste de hiperparâmetros**, ou **seleção de modelos**. "
   ]
  },
  {
   "cell_type": "markdown",
   "metadata": {},
   "source": [
    "### Carregando o conjunto de dados\n",
    "\n",
    "A função **load_digits** do módulo **sklearn.datasets** retorna um objeto **scikit-learn**\n",
    "- O objeto contem os dados e informações sobre o conjunto de dados de dígitos (chamado **metadados**):"
   ]
  },
  {
   "cell_type": "code",
   "execution_count": 30,
   "metadata": {},
   "outputs": [],
   "source": [
    "from sklearn.datasets import load_digits"
   ]
  },
  {
   "cell_type": "code",
   "execution_count": 31,
   "metadata": {},
   "outputs": [],
   "source": [
    "digits = load_digits()"
   ]
  },
  {
   "cell_type": "code",
   "execution_count": 32,
   "metadata": {},
   "outputs": [
    {
     "name": "stdout",
     "output_type": "stream",
     "text": [
      ".. _digits_dataset:\n",
      "\n",
      "Optical recognition of handwritten digits dataset\n",
      "--------------------------------------------------\n",
      "\n",
      "**Data Set Characteristics:**\n",
      "\n",
      "    :Number of Instances: 5620\n",
      "    :Number of Attributes: 64\n",
      "    :Attribute Information: 8x8 image of integer pixels in the range 0..16.\n",
      "    :Missing Attribute Values: None\n",
      "    :Creator: E. Alpaydin (alpaydin '@' boun.edu.tr)\n",
      "    :Date: July; 1998\n",
      "\n",
      "This is a copy of the test set of the UCI ML hand-written digits datasets\n",
      "https://archive.ics.uci.edu/ml/datasets/Optical+Recognition+of+Handwritten+Digits\n",
      "\n",
      "The data set contains images of hand-written digits: 10 classes where\n",
      "each class refers to a digit.\n",
      "\n",
      "Preprocessing programs made available by NIST were used to extract\n",
      "normalized bitmaps of handwritten digits from a preprinted form. From a\n",
      "total of 43 people, 30 contributed to the training set and different 13\n",
      "to the test set. 32x32 bitmaps are divided into nonoverlapping blocks of\n",
      "4x4 and the number of on pixels are counted in each block. This generates\n",
      "an input matrix of 8x8 where each element is an integer in the range\n",
      "0..16. This reduces dimensionality and gives invariance to small\n",
      "distortions.\n",
      "\n",
      "For info on NIST preprocessing routines, see M. D. Garris, J. L. Blue, G.\n",
      "T. Candela, D. L. Dimmick, J. Geist, P. J. Grother, S. A. Janet, and C.\n",
      "L. Wilson, NIST Form-Based Handprint Recognition System, NISTIR 5469,\n",
      "1994.\n",
      "\n",
      ".. topic:: References\n",
      "\n",
      "  - C. Kaynak (1995) Methods of Combining Multiple Classifiers and Their\n",
      "    Applications to Handwritten Digit Recognition, MSc Thesis, Institute of\n",
      "    Graduate Studies in Science and Engineering, Bogazici University.\n",
      "  - E. Alpaydin, C. Kaynak (1998) Cascading Classifiers, Kybernetika.\n",
      "  - Ken Tang and Ponnuthurai N. Suganthan and Xi Yao and A. Kai Qin.\n",
      "    Linear dimensionalityreduction using relevance weighted LDA. School of\n",
      "    Electrical and Electronic Engineering Nanyang Technological University.\n",
      "    2005.\n",
      "  - Claudio Gentile. A New Approximate Maximal Margin Classification\n",
      "    Algorithm. NIPS. 2000.\n"
     ]
    }
   ],
   "source": [
    "print(digits.DESCR)"
   ]
  },
  {
   "cell_type": "markdown",
   "metadata": {},
   "source": [
    "### Verificando os tamanhos das amostras e da classe\n",
    "\n",
    "Os dados e atributos de destino do Scikit-learnn são **matrizes NumPy**:\n",
    "- A matriz de dados contém **1797** amostras (as imagens dos dígitos), cada uma com **64** atributos, com valores no intervalo {0–16}, representando intensidades de pixel.\n",
    "\n",
    "A matriz de destino contém os **rótulos das imagens**, ou seja, as classes que indicam\n",
    "qual dígito cada imagem representa."
   ]
  },
  {
   "cell_type": "markdown",
   "metadata": {},
   "source": [
    "Podemos confirmar o número de amostras e atributos (por amostra), olhando para o\n",
    "atributo de forma da matriz de dados, que mostra que existem 1797 linhas (amostras) e 64 colunas\n",
    "(características):"
   ]
  },
  {
   "cell_type": "code",
   "execution_count": 33,
   "metadata": {},
   "outputs": [
    {
     "data": {
      "text/plain": [
       "(1797, 64)"
      ]
     },
     "execution_count": 33,
     "metadata": {},
     "output_type": "execute_result"
    }
   ],
   "source": [
    "digits.data.shape"
   ]
  },
  {
   "cell_type": "code",
   "execution_count": 34,
   "metadata": {},
   "outputs": [
    {
     "data": {
      "text/plain": [
       "(1797,)"
      ]
     },
     "execution_count": 34,
     "metadata": {},
     "output_type": "execute_result"
    }
   ],
   "source": [
    "digits.target.shape"
   ]
  },
  {
   "cell_type": "markdown",
   "metadata": {},
   "source": [
    "#### Um exemplo de imagem de dígito\n",
    "\n",
    "**Cada imagem é bidimensional** - *tem largura e altura em pixels*. O objeto Bunch\n",
    "retornado por **load_digits** contém um atributo de imagens - uma matriz em que cada elemento\n",
    "é uma matriz bidimensional 8 por 8 que representa as intensidades de pixel de uma imagem de dígito. \n",
    "- Por exemplo, o array bidimensional que representa a imagem da amostra de índice 13:"
   ]
  },
  {
   "cell_type": "code",
   "execution_count": 35,
   "metadata": {},
   "outputs": [
    {
     "data": {
      "text/plain": [
       "array([[ 0.,  2.,  9., 15., 14.,  9.,  3.,  0.],\n",
       "       [ 0.,  4., 13.,  8.,  9., 16.,  8.,  0.],\n",
       "       [ 0.,  0.,  0.,  6., 14., 15.,  3.,  0.],\n",
       "       [ 0.,  0.,  0., 11., 14.,  2.,  0.,  0.],\n",
       "       [ 0.,  0.,  0.,  2., 15., 11.,  0.,  0.],\n",
       "       [ 0.,  0.,  0.,  0.,  2., 15.,  4.,  0.],\n",
       "       [ 0.,  1.,  5.,  6., 13., 16.,  6.,  0.],\n",
       "       [ 0.,  2., 12., 12., 13., 11.,  0.,  0.]])"
      ]
     },
     "execution_count": 35,
     "metadata": {},
     "output_type": "execute_result"
    }
   ],
   "source": [
    "digits.images[13]"
   ]
  },
  {
   "attachments": {
    "image.png": {
     "image/png": "[encoded data removed]"
    }
   },
   "cell_type": "markdown",
   "metadata": {},
   "source": [
    "![image.png](attachment:image.png)"
   ]
  },
  {
   "cell_type": "markdown",
   "metadata": {},
   "source": [
    "### Preparando os dados para uso com o Scikit-Learn\n",
    "\n",
    "Os algoritmos de aprendizado de máquina do **Scikit-learn** exigem que as **amostras sejam armazenadas em um formato bidimensional** matriz de valores de ponto flutuante (ou coleção semelhante a uma matriz bidimensional, como uma **lista de listas** ou um **DataFrame** do pandas):\n",
    "- Cada linha representa uma amostra.\n",
    "- Cada coluna em uma determinada linha representa um atributo para aquela amostra.\n",
    "\n",
    "Para representar cada amostra como uma linha, **dados multidimensionais**, como a matriz bidimensional de imagens, mostrada anteriormente deve ser achatada em uma **vetor **unidimensional.\n",
    "\n",
    "Se você estiver trabalhando com dados contendo **características categóricas** (normalmente representadas como strings, como *spam* ou *não-spam*), você também teria que pré-processar esses recursos em valores numéricos.\n",
    "\n",
    "- O módulo **sklearn.preprocessing** do **Scikit-learn** fornece recursos para converter atributos categóricos en dados numéricos. "
   ]
  },
  {
   "cell_type": "code",
   "execution_count": 7,
   "metadata": {},
   "outputs": [
    {
     "data": {
      "text/plain": [
       "array([ 0.,  2.,  9., 15., 14.,  9.,  3.,  0.,  0.,  4., 13.,  8.,  9.,\n",
       "       16.,  8.,  0.,  0.,  0.,  0.,  6., 14., 15.,  3.,  0.,  0.,  0.,\n",
       "        0., 11., 14.,  2.,  0.,  0.,  0.,  0.,  0.,  2., 15., 11.,  0.,\n",
       "        0.,  0.,  0.,  0.,  0.,  2., 15.,  4.,  0.,  0.,  1.,  5.,  6.,\n",
       "       13., 16.,  6.,  0.,  0.,  2., 12., 12., 13., 11.,  0.,  0.])"
      ]
     },
     "execution_count": 7,
     "metadata": {},
     "output_type": "execute_result"
    }
   ],
   "source": [
    "digits.data[13]"
   ]
  },
  {
   "cell_type": "markdown",
   "metadata": {},
   "source": [
    "## Dividindo os dados para treinamento e teste\n",
    "\n",
    "Normalmente, você **treina um modelo** de aprendizado de máquina com um **subconjunto de um conjunto de dados**. \n",
    "- Normalmente, quanto mais dados você tiver para treinamento, melhor será o treinamento do modelo. \n",
    "\n",
    "> É importante separar uma parte de seus dados para teste, para que você possa avaliar o desempenho de um modelo usando dados que o modelo ainda não viu.\n",
    "\n",
    "Quando você tiver certeza de que o **modelo está funcionando bem**, você pode usá-lo para **fazer previsões usando novos dados**.\n",
    "\n",
    "Primeiro dividimos os dados em um conjunto de treinamento e um conjunto de teste para nos preparar para treinar e testar o modelo. \n",
    "- A função **train_test_split** do módulo **sklearn.model_selection** embaralha os dados para randomizá-los e, em seguida, divide as amostras em conjuntos de treinamento e teste. \n",
    "- A função **train_test_split** retorna uma tupla de quatro elementos em que os dois primeiros são os amostras divididas em conjuntos de treinamento e teste, e os dois últimos são as classes  correspondentes. \n",
    "\n",
    "Por convenção, **X** maiúsculo é usado para representar as amostras, e **y** minúsculo é usado para representar os rótulos:"
   ]
  },
  {
   "cell_type": "code",
   "execution_count": 36,
   "metadata": {},
   "outputs": [],
   "source": [
    "from sklearn.model_selection import train_test_split"
   ]
  },
  {
   "cell_type": "code",
   "execution_count": 4,
   "metadata": {},
   "outputs": [],
   "source": [
    "X_train, X_test, y_train, y_test = train_test_split(\n",
    "    digits.data, digits.target, random_state=11)"
   ]
  },
  {
   "cell_type": "markdown",
   "metadata": {},
   "source": [
    "A função **train_test_split** fornece o argumento de palavra-chave **random_state** para reprodutibilidade. \n",
    "- Quando você executar o código no futuro com o mesmo valor de semente, **train_test_split** selecionará os mesmos dados para o conjunto de treinamento e os mesmos dados para o conjunto de teste. "
   ]
  },
  {
   "cell_type": "markdown",
   "metadata": {},
   "source": [
    "#### Tamanhos de conjuntos de treinamento e teste\n",
    "\n",
    "Olhando as formas de **X_train** e **X_test**, você pode ver que, por padrão, **train_test_split**\n",
    "reserva *75%* dos dados para treinamento e *25%* para teste:"
   ]
  },
  {
   "cell_type": "code",
   "execution_count": 37,
   "metadata": {},
   "outputs": [
    {
     "data": {
      "text/plain": [
       "(1347, 64)"
      ]
     },
     "execution_count": 37,
     "metadata": {},
     "output_type": "execute_result"
    }
   ],
   "source": [
    "X_train.shape"
   ]
  },
  {
   "cell_type": "code",
   "execution_count": 38,
   "metadata": {},
   "outputs": [
    {
     "data": {
      "text/plain": [
       "(450, 64)"
      ]
     },
     "execution_count": 38,
     "metadata": {},
     "output_type": "execute_result"
    }
   ],
   "source": [
    "X_test.shape"
   ]
  },
  {
   "cell_type": "markdown",
   "metadata": {},
   "source": [
    "Para especificar diferentes divisões, você pode definir os tamanhos dos conjuntos de teste e treinamento com o argumentos de palavra-chave da função **train_test_split**, **test_size** ou **train_size**. "
   ]
  },
  {
   "cell_type": "raw",
   "metadata": {},
   "source": [
    "X_train, X_test, y_train, y_test = train_test_split (\n",
    "    digits.data, digits.target, random_state = 11, test_size = 0,20)"
   ]
  },
  {
   "cell_type": "markdown",
   "metadata": {},
   "source": [
    "## Criando o modelo\n",
    "O estimador **KNeighborsClassifier** (módulo **sklearn.neighbors**) implementa o algoritmo dos *K* vizinhos mais próximos. Primeiro, criamos o objeto estimador **KNeighborsClassifier**:"
   ]
  },
  {
   "cell_type": "code",
   "execution_count": 39,
   "metadata": {},
   "outputs": [],
   "source": [
    "from sklearn.neighbors import KNeighborsClassifier"
   ]
  },
  {
   "cell_type": "code",
   "execution_count": 40,
   "metadata": {},
   "outputs": [],
   "source": [
    "knn = KNeighborsClassifier()"
   ]
  },
  {
   "cell_type": "markdown",
   "metadata": {},
   "source": [
    "Para criar um estimador, você simplesmente cria um objeto. \n",
    "- Os detalhes internos de como este objeto implementa o algoritmo de vizinhos k-mais próximos estão ocultos no objeto. "
   ]
  },
  {
   "cell_type": "markdown",
   "metadata": {},
   "source": [
    "### Treinando o modelo\n",
    "\n",
    "Em seguida, invocamos o método de treinamento (**fit**) do objeto **KNeighborsClassifier**, passando o conjunto de treinamento (**X_train**) e conjunto de rótulos dos exemplos de treinamento (**y_train**)."
   ]
  },
  {
   "cell_type": "code",
   "execution_count": 41,
   "metadata": {},
   "outputs": [
    {
     "data": {
      "text/plain": [
       "KNeighborsClassifier(algorithm='auto', leaf_size=30, metric='minkowski',\n",
       "                     metric_params=None, n_jobs=None, n_neighbors=5, p=2,\n",
       "                     weights='uniform')"
      ]
     },
     "execution_count": 41,
     "metadata": {},
     "output_type": "execute_result"
    }
   ],
   "source": [
    "knn.fit(X=X_train, y=y_train)"
   ]
  },
  {
   "cell_type": "markdown",
   "metadata": {},
   "source": [
    "Para a maioria dos estimadores scikit-learn, o método **fit** carrega os dados no estimador\n",
    "em seguida, usa esses dados para realizar cálculos complexos nos bastidores que aprendem com o\n",
    "dados e treinar o modelo. \n",
    "- O método de ajuste do **KNeighborsClassifier** apenas carrega os dados no estimador, porque o **k-NN** não tem nenhum processo de aprendizagem inicial. \n",
    "- O *k-NN é um estimador preguiçoso* porque seu trabalho é executado apenas quando você o usa para fazer previsões. "
   ]
  },
  {
   "cell_type": "markdown",
   "metadata": {},
   "source": [
    "### Predição de classes do domínio *Digits*\n",
    "\n",
    "Agora que carregamos os dados em **KNeighborsClassifier**, podemos usá-los com as amostras\n",
    "de teste para fazer previsões. \n",
    "\n",
    "- Chamar o método de previsão do estimador com **X_test** como um argumento retorna uma **vetor contendo a classe prevista de cada imagem de teste**:"
   ]
  },
  {
   "cell_type": "code",
   "execution_count": 42,
   "metadata": {},
   "outputs": [],
   "source": [
    "predicted = knn.predict(X=X_test)"
   ]
  },
  {
   "cell_type": "code",
   "execution_count": 43,
   "metadata": {},
   "outputs": [],
   "source": [
    "expected = y_test"
   ]
  },
  {
   "cell_type": "markdown",
   "metadata": {},
   "source": [
    "Vejamos os dígitos **previstos *vs.* esperados** para as primeiras 20 amostras de teste"
   ]
  },
  {
   "cell_type": "code",
   "execution_count": 44,
   "metadata": {},
   "outputs": [
    {
     "data": {
      "text/plain": [
       "array([0, 4, 9, 9, 3, 1, 4, 1, 5, 0, 4, 9, 4, 1, 5, 3, 3, 8, 5, 6])"
      ]
     },
     "execution_count": 44,
     "metadata": {},
     "output_type": "execute_result"
    }
   ],
   "source": [
    "predicted[:20]"
   ]
  },
  {
   "cell_type": "code",
   "execution_count": 45,
   "metadata": {},
   "outputs": [
    {
     "data": {
      "text/plain": [
       "array([0, 4, 9, 9, 3, 1, 4, 1, 5, 0, 4, 9, 4, 1, 5, 3, 3, 8, 3, 6])"
      ]
     },
     "execution_count": 45,
     "metadata": {},
     "output_type": "execute_result"
    }
   ],
   "source": [
    "expected[:20]"
   ]
  },
  {
   "cell_type": "markdown",
   "metadata": {},
   "source": [
    "Como você pode ver, nos primeiros 20 elementos, apenas os valores previstos e esperados das matrizes no índice 18 não correspondem. \n",
    "- Esperávamos 3, mas o modelo previu 5.\n",
    "\n",
    "Vamos usar uma notação simplicada de lista para localizar as **previsões incorretas para todo o teste conjunto**, ou seja, os casos em que os valores previstos e esperados não correspondem:"
   ]
  },
  {
   "cell_type": "code",
   "execution_count": 46,
   "metadata": {},
   "outputs": [],
   "source": [
    "wrong = [(p, e) for (p, e) in zip(predicted, expected) if p != e]"
   ]
  },
  {
   "cell_type": "code",
   "execution_count": 47,
   "metadata": {},
   "outputs": [
    {
     "data": {
      "text/plain": [
       "[(5, 3),\n",
       " (8, 9),\n",
       " (4, 9),\n",
       " (7, 3),\n",
       " (7, 4),\n",
       " (2, 8),\n",
       " (9, 8),\n",
       " (3, 8),\n",
       " (3, 8),\n",
       " (1, 8)]"
      ]
     },
     "execution_count": 47,
     "metadata": {},
     "output_type": "execute_result"
    }
   ],
   "source": [
    "wrong"
   ]
  },
  {
   "cell_type": "markdown",
   "metadata": {},
   "source": [
    "Nesso exemplo, o estimador previu incorretamente apenas **10 das 450 amostras de teste**. \n",
    "- Então, a acurácia deste estimador é de impressionantes **_97,78%_**."
   ]
  },
  {
   "cell_type": "markdown",
   "metadata": {},
   "source": [
    "### Métricas para precisão do modelo\n",
    "\n",
    "Depois de treinar e testar um modelo, você vai querer **medir sua precisão**. \n",
    "- Vamos ver duas maneiras de fazer isso \n",
    "    - um **métodos de pontuação** do estimador de classificação \n",
    "    - e a **matriz de confusão**."
   ]
  },
  {
   "cell_type": "markdown",
   "metadata": {},
   "source": [
    "#### O método *score*\n",
    "\n",
    "Cada estimador tem um método de pontuação que retorna uma indicação de quão bem o estimador\n",
    "executa para os dados de teste que você passa como argumentos. \n",
    "- Para estimadores de classificação, este método retorna a acurácia da previsão para os dados de teste:"
   ]
  },
  {
   "cell_type": "code",
   "execution_count": 48,
   "metadata": {},
   "outputs": [
    {
     "name": "stdout",
     "output_type": "stream",
     "text": [
      "97.78%\n"
     ]
    }
   ],
   "source": [
    "print(f'{knn.score(X_test, y_test):.2%}')"
   ]
  },
  {
   "cell_type": "markdown",
   "metadata": {},
   "source": [
    "O **kNeighborsClassifier** com seu k padrão (ou seja, **n_neighbors = 5**) alcançou\n",
    "acurácia de predição de 97,78%. \n",
    "- Em breve, faremos o ajuste de hiperparâmetros para tentar determinar o valor ideal para k, esperando obter uma precisão ainda melhor."
   ]
  },
  {
   "cell_type": "markdown",
   "metadata": {},
   "source": [
    "Outra maneira de verificar o desempenho de um estimador de classificação é por meio de uma **matriz de confusão**, que **mostra os valores preditos corretamente e incorretamente** (também conhecidos como acertos e erros) **para cada classe**. \n",
    "- Basta chamar a função **confusion_matrix** do módulo **sklearn.metrics**, passando as *classes esperadas* e as *classes previstas* como argumentos, como em:"
   ]
  },
  {
   "cell_type": "code",
   "execution_count": 49,
   "metadata": {},
   "outputs": [],
   "source": [
    "from sklearn.metrics import confusion_matrix"
   ]
  },
  {
   "cell_type": "code",
   "execution_count": 50,
   "metadata": {},
   "outputs": [],
   "source": [
    "confusion = confusion_matrix(y_true=expected, y_pred=predicted)"
   ]
  },
  {
   "cell_type": "markdown",
   "metadata": {},
   "source": [
    "O argumento da palavra-chave **y_true** especifica as classes reais das amostras de teste. \n",
    "- PROCESSO DE ROTULAGEM - Pessoas olharam nas imagens do conjunto de dados e os rotulou com classes específicas (os valores dos dígitos). \n",
    "\n",
    "O argumento **y_pred** especifica os dígitos previstos para essas imagens de teste."
   ]
  },
  {
   "cell_type": "markdown",
   "metadata": {},
   "source": [
    "Abaixo está a **matriz de confusão** produzida pela chamada anterior. \n",
    "- As previsões corretas são mostrados na diagonal principal. \n",
    "- Os valores diferentes de zero que **não estão na diagonal principal** indicam previsões incorretas:"
   ]
  },
  {
   "cell_type": "code",
   "execution_count": 12,
   "metadata": {},
   "outputs": [
    {
     "data": {
      "text/plain": [
       "array([[45,  0,  0,  0,  0,  0,  0,  0,  0,  0],\n",
       "       [ 0, 45,  0,  0,  0,  0,  0,  0,  0,  0],\n",
       "       [ 0,  0, 54,  0,  0,  0,  0,  0,  0,  0],\n",
       "       [ 0,  0,  0, 42,  0,  1,  0,  1,  0,  0],\n",
       "       [ 0,  0,  0,  0, 49,  0,  0,  1,  0,  0],\n",
       "       [ 0,  0,  0,  0,  0, 38,  0,  0,  0,  0],\n",
       "       [ 0,  0,  0,  0,  0,  0, 42,  0,  0,  0],\n",
       "       [ 0,  0,  0,  0,  0,  0,  0, 45,  0,  0],\n",
       "       [ 0,  1,  1,  2,  0,  0,  0,  0, 39,  1],\n",
       "       [ 0,  0,  0,  0,  1,  0,  0,  0,  1, 41]], dtype=int64)"
      ]
     },
     "execution_count": 12,
     "metadata": {},
     "output_type": "execute_result"
    }
   ],
   "source": [
    "confusion"
   ]
  },
  {
   "cell_type": "markdown",
   "metadata": {},
   "source": [
    "- **Cada linha representa uma classe distinta**, ou seja, um dos dígitos de 0 a 9. \n",
    "- **As colunas especificam quantas das amostras de teste foram classificadas em cada classe distinta**. \n",
    "\n",
    "Por exemplo, linha 0:"
   ]
  },
  {
   "cell_type": "raw",
   "metadata": {},
   "source": [
    "[45, 0, 0, 0, 0, 0, 0, 0, 0, 0]"
   ]
  },
  {
   "cell_type": "markdown",
   "metadata": {},
   "source": [
    "representa a classe do dígito 0. \n",
    "- As colunas representam as **dez classes de destino possíveis de 0 a 9**. \n",
    "    - Porque estamos trabalhando com dígitos, as classes (0-9) e o índice de linha e coluna números (0–9) coincidem. \n",
    "- De acordo com a linha 0, *45 amostras de teste foram classificadas como o dígito 0*, e nenhuma das amostras de teste foram classificadas incorretamente como qualquer um dos dígitos de 1 a 9. \n",
    "    - Portanto 100% dos 0s foram previstos corretamente.\n",
    "    \n",
    "Por outro lado, considere a linha 8, que representa os resultados para o dígito 8:"
   ]
  },
  {
   "cell_type": "raw",
   "metadata": {},
   "source": [
    "[0, 1, 1, 2, 0, 0, 0, 0, 39, 1]"
   ]
  },
  {
   "cell_type": "markdown",
   "metadata": {},
   "source": [
    "- O 1 no índice da **coluna 1** indica que um **8 foi classificado incorretamente como 1**.\n",
    "- O 1 no índice da **coluna 2** indica que um **8 foi classificado incorretamente como 2**.\n",
    "- O 2 no índice da **coluna 3** indica que dois **8 foram classificados incorretamente como 3**.\n",
    "- O 39 no índice da coluna 8 indica que **39 8s foram classificados corretamente** como 8s.\n",
    "- O 1 no índice de **coluna 9** indica que um **8 foi classificado incorretamente como 9**.\n",
    "\n",
    "Portanto, o algoritmo previu corretamente **88,63% (39 de 44) dos 8s**.\n",
    "    - Anteriormente, vimos que a precisão geral da predição deste estimador foi de 97,78%. \n",
    "- A menor precisão de previsão para 8s indica que eles são aparentemente mais difíceis de reconhecer do que os outros dígitos."
   ]
  },
  {
   "cell_type": "markdown",
   "metadata": {},
   "source": [
    "#### Métricas de classificação\n",
    "\n",
    "O módulo **sklearn.metrics** também fornece a função **classification_report**, que\n",
    "produz uma tabela de métricas de classificação com base nos valores esperados e previstos:"
   ]
  },
  {
   "cell_type": "code",
   "execution_count": 51,
   "metadata": {},
   "outputs": [],
   "source": [
    "from sklearn.metrics import classification_report"
   ]
  },
  {
   "cell_type": "code",
   "execution_count": 52,
   "metadata": {},
   "outputs": [],
   "source": [
    "names = [str(digit) for digit in digits.target_names]"
   ]
  },
  {
   "cell_type": "code",
   "execution_count": 53,
   "metadata": {},
   "outputs": [
    {
     "name": "stdout",
     "output_type": "stream",
     "text": [
      "              precision    recall  f1-score   support\n",
      "\n",
      "           0       1.00      1.00      1.00        45\n",
      "           1       0.98      1.00      0.99        45\n",
      "           2       0.98      1.00      0.99        54\n",
      "           3       0.95      0.95      0.95        44\n",
      "           4       0.98      0.98      0.98        50\n",
      "           5       0.97      1.00      0.99        38\n",
      "           6       1.00      1.00      1.00        42\n",
      "           7       0.96      1.00      0.98        45\n",
      "           8       0.97      0.89      0.93        44\n",
      "           9       0.98      0.95      0.96        43\n",
      "\n",
      "    accuracy                           0.98       450\n",
      "   macro avg       0.98      0.98      0.98       450\n",
      "weighted avg       0.98      0.98      0.98       450\n",
      "\n"
     ]
    }
   ],
   "source": [
    "print(classification_report(expected, predicted, target_names=names))"
   ]
  },
  {
   "cell_type": "markdown",
   "metadata": {},
   "source": [
    "- **precision** é o número total de **previsões corretas para um determinado dígito** dividido pelo o número **total de previsões para esse dígito**. \n",
    "    - Você pode confirmar a precisão por olhando para cada **coluna** na matriz de confusão. \n",
    "    - Por exemplo, se você olhar para **a coluna índice 7**, você verá **1s nas linhas 3 e 4**, indicando que **um 3 e um 4 eram classificado incorretamente como 7s** e 45 na linha 7, indicando que as 45 imagens estavam corretas classificado como 7s. \n",
    "    - Portanto, a precisão do dígito 7 é 45/47 ou 0,96.\n",
    "- **recall** é o número **total de previsões corretas para um determinado dígito** dividido pelo número **total de amostras que deveriam ter sido previstas como aquele dígito**. \n",
    "    - Você pode confirmar o *recall* olhando para cada **linha** na matriz de confusão. \n",
    "    - Por exemplo, se você olhar para o **índice de linha 8**, verá **três 1s e um 2 indicando que alguns 8s foram classificado incorretamente como outros dígitos** e um 39 indicando que 39 imagens estavam corretamente classificado. \n",
    "    - Portanto, a rechamada para o dígito 8 é 39/44 ou 0,89.\n",
    "- **f1-score** - Esta é a média entre **precision** e **recall**.\n",
    "- **support** - O número de amostras classificadas para cada rótulo. \n",
    "    - Por exemplo, 50 das mostras foram rotuladas como 4s e 38 amostras foram rotuladas como 5s."
   ]
  },
  {
   "cell_type": "markdown",
   "metadata": {},
   "source": [
    "### Visualizando a Matriz de Confusão\n",
    "\n",
    "Um **mapa de calor** exibe valores como cores, muitas vezes com valores de maior magnitude exibidos como cores mais intensas.\n",
    "- As funções gráficas de **Seaborn** funcionam com dados bidimensionais.\n",
    "- Ao usar um **DataFrame** do **pandas** como fonte de dados, o **Seaborn** rotula automaticamente suas visualizações usando os nomes das colunas e os índices das linhas. \n",
    "    - Vamos converter a matriz de confusão em um **DataFrame** e, em seguida, represente graficamente:"
   ]
  },
  {
   "cell_type": "code",
   "execution_count": 54,
   "metadata": {},
   "outputs": [],
   "source": [
    "import pandas as pd"
   ]
  },
  {
   "cell_type": "code",
   "execution_count": 55,
   "metadata": {},
   "outputs": [],
   "source": [
    "confusion_df = pd.DataFrame(confusion, index=range(10), columns=range(10))"
   ]
  },
  {
   "cell_type": "code",
   "execution_count": 56,
   "metadata": {},
   "outputs": [],
   "source": [
    "import seaborn as sns"
   ]
  },
  {
   "cell_type": "code",
   "execution_count": 57,
   "metadata": {},
   "outputs": [
    {
     "data": {
      "image/png": "[encoded data removed]",
      "text/plain": [
       "<Figure size 432x288 with 2 Axes>"
      ]
     },
     "metadata": {
      "needs_background": "light"
     },
     "output_type": "display_data"
    }
   ],
   "source": [
    "axes = sns.heatmap(confusion_df, annot=True, cmap='nipy_spectral_r')"
   ]
  },
  {
   "cell_type": "markdown",
   "metadata": {},
   "source": [
    "A função **heatmap** de **Seaborn** cria um mapa de calor do **DataFrame** especificado. \n",
    "- O argumento de palavra-chave **annot = True** (abreviação de “anotação”) exibe uma barra de cores à direita do diagrama, mostrando como os valores correspondem às cores do mapa de calor. - O argumento de palavra-chave **cmap = 'nipy_spectral_r'** especifica qual mapa de cores usar. \n",
    "    - Scikit-learn tem um [método de plotagem da matriz de confusão](https://scikit-learn.org/stable/modules/generated/sklearn.metrics.plot_confusion_matrix.html?highlight=confusion%20matrix#sklearn.metrics.plot_confusion_matrix). "
   ]
  },
  {
   "cell_type": "markdown",
   "metadata": {},
   "source": [
    "### Validação cruzada K-Fold\n",
    "\n",
    "<font color=red> A validação cruzada K-fold permite que você use todos os seus dados para treinamento e teste, para ter uma noção melhor de como seu modelo fará previsões para novos dados.</font>\n",
    "\n",
    "A validação cruzada K-fold **divide o conjunto de dados em k subconjuntos de tamanhos iguais** (este k não está relacionado com k nos k-vizinhos mais próximos\n",
    "algoritmo). \n",
    "- Em seguida, você treina seu modelo com *k - 1* subconjunto e testa o modelo com o subconjunto  restante. \n",
    "- Por exemplo, considere usar **k = 10**. Com 10 subconjuntos, faríamos 10 ciclos sucessivos de treinamento e teste:\n",
    "    - Primeiro, treinaríamos com os subconjuntos 1–9 e, em seguida, testaríamos com o subconjunto 10.\n",
    "    - Em seguida, treinaríamos com os subconjunto 1–8 e 10 e, em seguida, testaríamos com o subconjunto 9.\n",
    "    - Em seguida, treinaríamos com os subconjunto 1–7 e 9–10 e, em seguida, testaríamos com o subconjunto 8.\n",
    "    \n",
    "Este ciclo de treinamento e teste continua até que cada subconjunto seja usado para testar o modelo."
   ]
  },
  {
   "cell_type": "markdown",
   "metadata": {},
   "source": [
    "### Classe KFold\n",
    "\n",
    "O **Scikit-learn** fornece a classe **KFold** e a função **cross_val_score** (ambas no módulo\n",
    "**sklearn.model_selection**) para ajudá-lo a realizar os ciclos de treinamento e teste\n",
    "descrito acima. \n",
    "- Vamos realizar a validação cruzada k-fold com o conjunto de dados **Digits** e o\n",
    "**KNeighborsClassifier** criado anteriormente. Primeiro, crie um objeto **KFold**:"
   ]
  },
  {
   "cell_type": "code",
   "execution_count": 58,
   "metadata": {},
   "outputs": [],
   "source": [
    "from sklearn.model_selection import KFold"
   ]
  },
  {
   "cell_type": "code",
   "execution_count": 59,
   "metadata": {},
   "outputs": [],
   "source": [
    "kfold = KFold(n_splits=10, random_state=11, shuffle=True)"
   ]
  },
  {
   "cell_type": "markdown",
   "metadata": {},
   "source": [
    "Os argumentos da palavra-chave são:\n",
    "- **n_splits = 10**, que especifica o número de subconjuntos.\n",
    "- **random_state = 11**, semente do gerador de números aleatórios para reprodutibilidade.\n",
    "- **shuffle = True**, o que faz com que o objeto **KFold** randomize os dados antes de dividi-lo em subconjuntos. "
   ]
  },
  {
   "cell_type": "markdown",
   "metadata": {},
   "source": [
    "Usando o objeto **KFold** com a função **cross_val_score**\n",
    "Em seguida, use a função **cross_val_score** para treinar e testar seu modelo:"
   ]
  },
  {
   "cell_type": "code",
   "execution_count": 60,
   "metadata": {},
   "outputs": [],
   "source": [
    "from sklearn.model_selection import cross_val_score"
   ]
  },
  {
   "cell_type": "code",
   "execution_count": 61,
   "metadata": {},
   "outputs": [],
   "source": [
    "scores = cross_val_score(estimator=knn, X=digits.data, y=digits.target, cv=kfold)"
   ]
  },
  {
   "cell_type": "markdown",
   "metadata": {},
   "source": [
    "Os argumentos da palavra-chave são:\n",
    "-  **estimator = knn**, que especifica o estimador que você gostaria de validar.\n",
    "- **X = digits.data**, que especifica as amostras a serem usadas para treinamento e teste.\n",
    "- **y = digits.target**, que especifica as previsões de destino para as amostras.\n",
    "- **cv = kfold**, que especifica o gerador de validação cruzada que define como dividir as amostras e alvos para treinamento e teste."
   ]
  },
  {
   "cell_type": "markdown",
   "metadata": {},
   "source": [
    "A função **cross_val_score** retorna uma **matriz de pontuações de acurácia** - uma para cada subconjunto classificado. \n",
    "- Como você pode ver abaixo, o modelo era bastante preciso. Sua pontuação de precisão mais baixa foi 0,97777778 (97,78%) e em um caso foi 100%."
   ]
  },
  {
   "cell_type": "code",
   "execution_count": 62,
   "metadata": {},
   "outputs": [
    {
     "data": {
      "text/plain": [
       "array([0.97777778, 0.99444444, 0.98888889, 0.97777778, 0.98888889,\n",
       "       0.99444444, 0.97777778, 0.98882682, 1.        , 0.98324022])"
      ]
     },
     "execution_count": 62,
     "metadata": {},
     "output_type": "execute_result"
    }
   ],
   "source": [
    "scores"
   ]
  },
  {
   "cell_type": "markdown",
   "metadata": {},
   "source": [
    "Depois de ter as pontuações de acurácia, você pode ter uma noção geral da precisão do modelo\n",
    "calculando a **pontuação média de precisão** e o **desvio padrão entre as 10 previsões**."
   ]
  },
  {
   "cell_type": "code",
   "execution_count": 63,
   "metadata": {},
   "outputs": [
    {
     "name": "stdout",
     "output_type": "stream",
     "text": [
      "Acurácia média: 98.72%\n"
     ]
    }
   ],
   "source": [
    "print(f'Acurácia média: {scores.mean():.2%}')"
   ]
  },
  {
   "cell_type": "code",
   "execution_count": 64,
   "metadata": {},
   "outputs": [
    {
     "name": "stdout",
     "output_type": "stream",
     "text": [
      "Desvio padrão da acurácia: 0.75%\n"
     ]
    }
   ],
   "source": [
    "print(f'Desvio padrão da acurácia: {scores.std():.2%}')"
   ]
  },
  {
   "cell_type": "markdown",
   "metadata": {},
   "source": [
    "Em média, o modelo tinha 98,72% de precisão - ainda melhor do que os 97,78% que alcançamos\n",
    "quando treinamos o modelo com 75% dos dados e testamos o modelo com 25% antes."
   ]
  },
  {
   "cell_type": "markdown",
   "metadata": {},
   "source": [
    "### Ajuste de hiperparâmetros\n",
    "\n",
    "Os hiperparâmetros são definidos antes de usar o algoritmo para treinar seu modelo. \n",
    "- Em estudos de aprendizado de máquina do mundo real, você desejará usar hiperparâmetros ajuste para escolher valores de hiperparâmetros que produzem as melhores previsões possíveis.\n",
    "\n",
    "- Para **determinar o melhor valor para k no algoritmo kNN**, tente diferentes valores de k então compare o desempenho do estimador com cada um. \n",
    "    -  O seguinte laço cria **KNeighborsClassifiers** com **k ímpar valores de 1 a 19** e faz **validação cruzada k-fold em cada k**. "
   ]
  },
  {
   "cell_type": "code",
   "execution_count": 65,
   "metadata": {},
   "outputs": [
    {
     "name": "stdout",
     "output_type": "stream",
     "text": [
      "k=1 ; mean accuracy=98.83%; standard deviation=0.58%\n",
      "k=3 ; mean accuracy=98.78%; standard deviation=0.78%\n",
      "k=5 ; mean accuracy=98.72%; standard deviation=0.75%\n",
      "k=7 ; mean accuracy=98.44%; standard deviation=0.96%\n",
      "k=9 ; mean accuracy=98.39%; standard deviation=0.80%\n",
      "k=11; mean accuracy=98.39%; standard deviation=0.80%\n",
      "k=13; mean accuracy=97.89%; standard deviation=0.89%\n",
      "k=15; mean accuracy=97.89%; standard deviation=1.02%\n",
      "k=17; mean accuracy=97.50%; standard deviation=1.00%\n",
      "k=19; mean accuracy=97.66%; standard deviation=0.96%\n"
     ]
    }
   ],
   "source": [
    "for k in range(1, 20, 2):\n",
    "    kfold = KFold(n_splits=10, random_state=11, shuffle=True)\n",
    "    knn = KNeighborsClassifier(n_neighbors=k)\n",
    "    scores = cross_val_score(estimator=knn,X=digits.data, y=digits.target, cv=kfold)\n",
    "    print(f'k={k:<2}; mean accuracy={scores.mean():.2%}; ' +\n",
    "        f'standard deviation={scores.std():.2%}')"
   ]
  },
  {
   "cell_type": "markdown",
   "metadata": {},
   "source": [
    "## Diagrama do estimador Scikit-Learn\n",
    "A documentação do scikit-learn fornece um diagrama útil para escolher o estimador certo,\n",
    "com base no tipo e tamanho de seus dados e na tarefa de aprendizado de máquina que você deseja\n",
    "executar: https://scikit-learn.org/stable/tutorial/machine_learning_map/index.html"
   ]
  },
  {
   "cell_type": "code",
   "execution_count": null,
   "metadata": {},
   "outputs": [],
   "source": []
  }
 ],
 "metadata": {
  "kernelspec": {
   "display_name": "Python 3",
   "language": "python",
   "name": "python3"
  },
  "language_info": {
   "codemirror_mode": {
    "name": "ipython",
    "version": 3
   },
   "file_extension": ".py",
   "mimetype": "text/x-python",
   "name": "python",
   "nbconvert_exporter": "python",
   "pygments_lexer": "ipython3",
   "version": "3.7.4"
  }
 },
 "nbformat": 4,
 "nbformat_minor": 2
}