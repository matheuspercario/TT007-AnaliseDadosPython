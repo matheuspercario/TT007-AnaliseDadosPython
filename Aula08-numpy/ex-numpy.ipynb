{
  "nbformat": 4,
  "nbformat_minor": 0,
  "metadata": {
    "orig_nbformat": 2,
    "colab": {
      "name": "ex-numpy.ipynb",
      "provenance": [],
      "include_colab_link": true
    },
    "kernelspec": {
      "name": "python3",
      "display_name": "Python 3"
    }
  },
  "cells": [
    {
      "cell_type": "markdown",
      "metadata": {
        "id": "view-in-github",
        "colab_type": "text"
      },
      "source": [
        "<a href=\"https://colab.research.google.com/github/matheuspercario/TT007-AnaliseDadosPython/blob/master/Aula08-numpy/ex-numpy.ipynb\" target=\"_parent\"><img src=\"https://colab.research.google.com/assets/colab-badge.svg\" alt=\"Open In Colab\"/></a>"
      ]
    },
    {
      "cell_type": "markdown",
      "metadata": {
        "id": "CJFPd6YX-YN9"
      },
      "source": [
        "# Exercício - NumPy"
      ]
    },
    {
      "cell_type": "markdown",
      "metadata": {
        "id": "ybByzi89-YN9"
      },
      "source": [
        "### Criado por Matheus Bruder / 03.12.2020"
      ]
    },
    {
      "cell_type": "code",
      "metadata": {
        "id": "NWWZflmB-1Jx"
      },
      "source": [
        "import numpy as np"
      ],
      "execution_count": 2,
      "outputs": []
    },
    {
      "cell_type": "markdown",
      "metadata": {
        "id": "8TkCpWjG-d_H"
      },
      "source": [
        "### Exercício\n",
        "\n",
        "Crie uma matriz contendo os valores de 1 a 15, remodele-a para em uma matriz de 3 por 5, em seguida, use técnicas de indexação e corte para executar cada uma das seguintes operações:\n",
        "\n",
        " *a) Selecione a linha 2.*\n",
        "\n",
        " *b) Selecione a coluna 5.*\n",
        "\n",
        " *c) Selecione as linhas 0 e 1.*\n",
        "\n",
        " *d) Selecione as colunas 2–4.*\n",
        "\n",
        " *e) Selecione o elemento que está na linha 1 e coluna 4.*\n",
        "\n",
        " *f) Selecione todos os elementos das linhas 1 e 2 que estão nas colunas 0, 2 e 4.*"
      ]
    },
    {
      "cell_type": "markdown",
      "metadata": {
        "id": "72jU6Mz_Cn5x"
      },
      "source": [
        "---"
      ]
    },
    {
      "cell_type": "code",
      "metadata": {
        "id": "12PXT9Hg-YN-"
      },
      "source": [
        "# Criar matriz\n",
        "arr = np.arange(1, 16)"
      ],
      "execution_count": 6,
      "outputs": []
    },
    {
      "cell_type": "code",
      "metadata": {
        "id": "NxW5gPol_BCd"
      },
      "source": [
        "# Remodelar matriz\n",
        "arr = np.reshape(arr, (3, 5))"
      ],
      "execution_count": 7,
      "outputs": []
    },
    {
      "cell_type": "code",
      "metadata": {
        "colab": {
          "base_uri": "https://localhost:8080/"
        },
        "id": "3-D0NvZJ_HKP",
        "outputId": "5203504c-5efc-4ec0-fb7b-f925c84c064e"
      },
      "source": [
        "# Verificar shape\n",
        "arr.shape"
      ],
      "execution_count": 9,
      "outputs": [
        {
          "output_type": "execute_result",
          "data": {
            "text/plain": [
              "(3, 5)"
            ]
          },
          "metadata": {
            "tags": []
          },
          "execution_count": 9
        }
      ]
    },
    {
      "cell_type": "code",
      "metadata": {
        "colab": {
          "base_uri": "https://localhost:8080/"
        },
        "id": "1rnru0p__kYJ",
        "outputId": "97cb0679-7d73-41bd-9dac-64da5e418fd3"
      },
      "source": [
        "arr"
      ],
      "execution_count": 11,
      "outputs": [
        {
          "output_type": "execute_result",
          "data": {
            "text/plain": [
              "array([[ 1,  2,  3,  4,  5],\n",
              "       [ 6,  7,  8,  9, 10],\n",
              "       [11, 12, 13, 14, 15]])"
            ]
          },
          "metadata": {
            "tags": []
          },
          "execution_count": 11
        }
      ]
    },
    {
      "cell_type": "markdown",
      "metadata": {
        "id": "rdXQELOJCjwY"
      },
      "source": [
        "---"
      ]
    },
    {
      "cell_type": "code",
      "metadata": {
        "colab": {
          "base_uri": "https://localhost:8080/"
        },
        "id": "kaObxrnS_Ih-",
        "outputId": "1cac8f52-dc3d-4f37-82ec-d3fb4ecf706b"
      },
      "source": [
        "# a) Selecione a linha 2\n",
        "arr[2]"
      ],
      "execution_count": 20,
      "outputs": [
        {
          "output_type": "execute_result",
          "data": {
            "text/plain": [
              "array([11, 12, 13, 14, 15])"
            ]
          },
          "metadata": {
            "tags": []
          },
          "execution_count": 20
        }
      ]
    },
    {
      "cell_type": "code",
      "metadata": {
        "colab": {
          "base_uri": "https://localhost:8080/"
        },
        "id": "FjI27MjI_iZL",
        "outputId": "29937636-6c2c-42cb-e8b5-07b293010794"
      },
      "source": [
        "# b) Selecione a coluna 5 (out of range...) seria 4?!\n",
        "arr[:, 4:]"
      ],
      "execution_count": 19,
      "outputs": [
        {
          "output_type": "execute_result",
          "data": {
            "text/plain": [
              "array([[ 5],\n",
              "       [10],\n",
              "       [15]])"
            ]
          },
          "metadata": {
            "tags": []
          },
          "execution_count": 19
        }
      ]
    },
    {
      "cell_type": "code",
      "metadata": {
        "colab": {
          "base_uri": "https://localhost:8080/"
        },
        "id": "0cgKHI9J_x19",
        "outputId": "0cef5d8d-f5d3-4a40-f337-9ebee4bfa7c2"
      },
      "source": [
        "# c) Selecione as linhas 0 e 1\n",
        "arr[:2]"
      ],
      "execution_count": 14,
      "outputs": [
        {
          "output_type": "execute_result",
          "data": {
            "text/plain": [
              "array([[ 1,  2,  3,  4,  5],\n",
              "       [ 6,  7,  8,  9, 10]])"
            ]
          },
          "metadata": {
            "tags": []
          },
          "execution_count": 14
        }
      ]
    },
    {
      "cell_type": "code",
      "metadata": {
        "colab": {
          "base_uri": "https://localhost:8080/"
        },
        "id": "Kb994IpY_7kh",
        "outputId": "b69f43dc-91d9-45fa-b6f9-bd798d1e7fbd"
      },
      "source": [
        "# d) Selecione as colunas [2 – 4]\n",
        "arr[:, 2:5]"
      ],
      "execution_count": 15,
      "outputs": [
        {
          "output_type": "execute_result",
          "data": {
            "text/plain": [
              "array([[ 3,  4,  5],\n",
              "       [ 8,  9, 10],\n",
              "       [13, 14, 15]])"
            ]
          },
          "metadata": {
            "tags": []
          },
          "execution_count": 15
        }
      ]
    },
    {
      "cell_type": "code",
      "metadata": {
        "colab": {
          "base_uri": "https://localhost:8080/"
        },
        "id": "dwMGFCgKAE52",
        "outputId": "c206e870-75e2-4ca9-f089-d0be9a8b71f8"
      },
      "source": [
        "# e) Selecione o elemento que está na linha 1 e coluna 4\n",
        "arr[1][4]"
      ],
      "execution_count": 16,
      "outputs": [
        {
          "output_type": "execute_result",
          "data": {
            "text/plain": [
              "10"
            ]
          },
          "metadata": {
            "tags": []
          },
          "execution_count": 16
        }
      ]
    },
    {
      "cell_type": "code",
      "metadata": {
        "colab": {
          "base_uri": "https://localhost:8080/"
        },
        "id": "-O_fpPsxARCT",
        "outputId": "39a1d462-b0d4-4776-ee3c-18319d4c96e6"
      },
      "source": [
        "# f) Selecione todos os elementos das linhas 1 e 2 que estão nas colunas 0, 2 e 4\n",
        "arr[1:, [0, 2, 4]]"
      ],
      "execution_count": 31,
      "outputs": [
        {
          "output_type": "execute_result",
          "data": {
            "text/plain": [
              "array([[ 6,  8, 10],\n",
              "       [11, 13, 15]])"
            ]
          },
          "metadata": {
            "tags": []
          },
          "execution_count": 31
        }
      ]
    },
    {
      "cell_type": "code",
      "metadata": {
        "id": "Bp5jf7GWCVy4"
      },
      "source": [
        ""
      ],
      "execution_count": null,
      "outputs": []
    }
  ]
}