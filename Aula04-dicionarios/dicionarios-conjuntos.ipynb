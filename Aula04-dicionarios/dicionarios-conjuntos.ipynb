{
  "nbformat": 4,
  "nbformat_minor": 0,
  "metadata": {
    "kernelspec": {
      "display_name": "Python 3",
      "language": "python",
      "name": "python3"
    },
    "language_info": {
      "codemirror_mode": {
        "name": "ipython",
        "version": 3
      },
      "file_extension": ".py",
      "mimetype": "text/x-python",
      "name": "python",
      "nbconvert_exporter": "python",
      "pygments_lexer": "ipython3",
      "version": "3.8.6-final"
    },
    "colab": {
      "name": "dicionarios-conjuntos.ipynb",
      "provenance": [],
      "include_colab_link": true
    }
  },
  "cells": [
    {
      "cell_type": "markdown",
      "metadata": {
        "id": "view-in-github",
        "colab_type": "text"
      },
      "source": [
        "<a href=\"https://colab.research.google.com/github/matheuspercario/TT007-AnaliseDadosPython/blob/master/exercicios/Aula4-dicionarios/dicionarios-conjuntos.ipynb\" target=\"_parent\"><img src=\"https://colab.research.google.com/assets/colab-badge.svg\" alt=\"Open In Colab\"/></a>"
      ]
    },
    {
      "cell_type": "markdown",
      "metadata": {
        "id": "r0Nk9NFN9H8n"
      },
      "source": [
        "# **Teste do github**\n",
        "\n",
        "Este é um teste de abertura de um arquivo do github via google colab. Isto é, abri um arquivo do github diretamente no google colab, fiz alterações e criei uma cópia no github.\n",
        "\n",
        "Esta cópia criada, pode ser considerada um commit para o arquivo em questão. Pois, após salvar a cópia, fiz um pull em meu repositório local e todas alterações estavam lá."
      ]
    },
    {
      "cell_type": "markdown",
      "metadata": {
        "id": "2qS83oQhAjv5"
      },
      "source": [
        "---"
      ]
    },
    {
      "cell_type": "markdown",
      "metadata": {
        "id": "HzQcnkPM8wB8"
      },
      "source": [
        "# Dicionários e conjuntos \n",
        "\n",
        "Diferente das sequências como strings, listas e tuplas. Os dicionários e conjuntos são coleções  não sequenciais.\n",
        "\n",
        "- Um dicionário é uma coleção não ordenada que armazena pares de chave-valor que mapeiam chaves imutáveis para seus respectiveos valores.\n",
        "    - Da mesma forma como um dicionário convencional mapeia palavras para suas definições. \n",
        "    \n",
        "- Um conjunto é uma coleção não ordenada de elementos imutáveis e únicos."
      ]
    },
    {
      "cell_type": "markdown",
      "metadata": {
        "id": "8F0GrokY8wB9"
      },
      "source": [
        "## Dicionários\n",
        "Um dicionário associa chaves a valores. Cada chave mapeia para um valor específico. A seguinte tabela contém exemplos de dicionários com suas chaves, tipos de chave, valores e tipos de valores"
      ]
    },
    {
      "cell_type": "markdown",
      "metadata": {
        "id": "Jo9kVu0d8wB-"
      },
      "source": [
        "![fig87.png](attachment:fig87.png)"
      ]
    },
    {
      "cell_type": "markdown",
      "metadata": {
        "id": "EKYdkrnY8wB_"
      },
      "source": [
        "### Chaves Únicas\n",
        "As chaves de um dicionário devem ser imutáveis (como strings, números ou tuplas) e exclusivas\n",
        "(ou seja, sem duplicatas). Várias chaves podem ter o mesmo valor, como dois códigos de inventários diferentes que têm a mesma quantidade em estoque."
      ]
    },
    {
      "cell_type": "markdown",
      "metadata": {
        "id": "gSICD1a08wCA"
      },
      "source": [
        "### Criando um dicionário\n",
        "Você pode criar um dicionário colocando entre chaves, {}, uma lista de chaves separada por vírgulas, de pares *chave:valor*"
      ]
    },
    {
      "cell_type": "code",
      "metadata": {
        "id": "wvOQmA6v8wCB"
      },
      "source": [
        "country_codes = {'Finland': 'fi', 'South Africa': 'za', 'Nepal': 'np'}"
      ],
      "execution_count": 23,
      "outputs": []
    },
    {
      "cell_type": "code",
      "metadata": {
        "id": "dur1oLM68wCG",
        "outputId": "3836b550-f62f-4b01-898e-a3d566d3ad1b",
        "colab": {
          "base_uri": "https://localhost:8080/",
          "height": 34
        }
      },
      "source": [
        "print(country_codes)"
      ],
      "execution_count": 24,
      "outputs": [
        {
          "output_type": "stream",
          "text": [
            "{'Finland': 'fi', 'South Africa': 'za', 'Nepal': 'np'}\n"
          ],
          "name": "stdout"
        }
      ]
    },
    {
      "cell_type": "markdown",
      "metadata": {
        "id": "5Pv9fbIJ8wCL"
      },
      "source": [
        "**Determinando se um dicionário está vazio**\n",
        "\n",
        "A função interna **len** retorna o número de pares chave-valor em um dicionário:"
      ]
    },
    {
      "cell_type": "code",
      "metadata": {
        "id": "olyJzMyI8wCL",
        "outputId": "35b3e4de-885b-4988-ebd3-f751edaa4b30",
        "colab": {
          "base_uri": "https://localhost:8080/",
          "height": 34
        }
      },
      "source": [
        "len(country_codes)"
      ],
      "execution_count": 25,
      "outputs": [
        {
          "output_type": "execute_result",
          "data": {
            "text/plain": [
              "3"
            ]
          },
          "metadata": {
            "tags": []
          },
          "execution_count": 25
        }
      ]
    },
    {
      "cell_type": "markdown",
      "metadata": {
        "id": "6uQbDgsg8wCQ"
      },
      "source": [
        "Você pode usar um dicionário como condição para determinar se ele está vazio - um dicionário não vazio avalia como verdadeiro:"
      ]
    },
    {
      "cell_type": "code",
      "metadata": {
        "id": "KfslZnJ18wCR",
        "outputId": "c5c6dd8c-00a3-4559-d36a-530fc121fa6e",
        "colab": {
          "base_uri": "https://localhost:8080/",
          "height": 34
        }
      },
      "source": [
        "country_codes.clear()  # o método clear limpa o dicionário\n",
        "\n",
        "if country_codes:\n",
        "    print('country_codes is not empty')\n",
        "else:\n",
        "    print('country_codes is empty')"
      ],
      "execution_count": 26,
      "outputs": [
        {
          "output_type": "stream",
          "text": [
            "country_codes is empty\n"
          ],
          "name": "stdout"
        }
      ]
    },
    {
      "cell_type": "markdown",
      "metadata": {
        "id": "ToP9ubDG8wCZ"
      },
      "source": [
        "#### Percorrendo um dicionário\n",
        "\n",
        "O seguinte dicionário mapeia strings de nome de mês para valores inteiros que representam os números de dias no mês correspondente. Observe que várias chaves podem ter o mesmo valor:"
      ]
    },
    {
      "cell_type": "code",
      "metadata": {
        "id": "0UrCmXVD8wCb"
      },
      "source": [
        "days_per_month = {'January': 31, 'February': 28, 'March': 31}"
      ],
      "execution_count": 27,
      "outputs": []
    },
    {
      "cell_type": "markdown",
      "metadata": {
        "id": "QAzFCU9W8wCh"
      },
      "source": [
        "A seguinte instrução *for* itera por meio de pares de *chave:valor* no dicionário. O método de dicionário **items** retorna cada par de *chave:valor* como uma tupla, que descompactamos em *month* e *days*:"
      ]
    },
    {
      "cell_type": "code",
      "metadata": {
        "id": "AwyJbqO-8wCi",
        "outputId": "23f0f8ea-1e57-4ed4-96a6-9a765241d83e",
        "colab": {
          "base_uri": "https://localhost:8080/",
          "height": 67
        }
      },
      "source": [
        "for month, days in days_per_month.items():\n",
        "    print(f'{month} has {days} days')"
      ],
      "execution_count": 28,
      "outputs": [
        {
          "output_type": "stream",
          "text": [
            "January has 31 days\n",
            "February has 28 days\n",
            "March has 31 days\n"
          ],
          "name": "stdout"
        }
      ]
    },
    {
      "cell_type": "markdown",
      "metadata": {
        "id": "j8f7VteJ8wDR"
      },
      "source": [
        "#### Operações básicas\n",
        "vamos começar criando e exibindo o dicionário *roman_numerals*. Note que fornecemos intencionalmente o valor incorreto de 100 para a chave 'X', que corrigiremos em breve!"
      ]
    },
    {
      "cell_type": "code",
      "metadata": {
        "id": "WzT0k7n78wDS"
      },
      "source": [
        "roman_numerals = {'I': 1, 'II': 2, 'III': 3, 'V': 5, 'X': 100}"
      ],
      "execution_count": 29,
      "outputs": []
    },
    {
      "cell_type": "markdown",
      "metadata": {
        "id": "5hTOLXsT8wDZ"
      },
      "source": [
        "#### Acessando o valor associado a uma chave\n",
        "Vamos obter o valor associado à chave 'V':"
      ]
    },
    {
      "cell_type": "code",
      "metadata": {
        "id": "RcFQaNLw8wDZ",
        "outputId": "864f4d94-62ca-4140-91d1-6f48c2f2a4af",
        "colab": {
          "base_uri": "https://localhost:8080/",
          "height": 34
        }
      },
      "source": [
        "roman_numerals['V']"
      ],
      "execution_count": 30,
      "outputs": [
        {
          "output_type": "execute_result",
          "data": {
            "text/plain": [
              "5"
            ]
          },
          "metadata": {
            "tags": []
          },
          "execution_count": 30
        }
      ]
    },
    {
      "cell_type": "markdown",
      "metadata": {
        "id": "LtK-ZSdR8wDd"
      },
      "source": [
        "#### Atualizando o valor de um par chave-valor existente\n",
        "Você pode atualizar o valor associado de uma chave em uma instrução de atribuição, o que fazemos aqui para substitua o valor incorreto associado à chave 'X':"
      ]
    },
    {
      "cell_type": "code",
      "metadata": {
        "id": "Bzlvr5B_8wDd"
      },
      "source": [
        "roman_numerals['X'] = 10"
      ],
      "execution_count": 31,
      "outputs": []
    },
    {
      "cell_type": "code",
      "metadata": {
        "id": "44jgvKIU8wDg",
        "outputId": "fb310b18-edd9-475d-d4c0-bca00916d7fb",
        "colab": {
          "base_uri": "https://localhost:8080/",
          "height": 34
        }
      },
      "source": [
        "roman_numerals['X']"
      ],
      "execution_count": 32,
      "outputs": [
        {
          "output_type": "execute_result",
          "data": {
            "text/plain": [
              "10"
            ]
          },
          "metadata": {
            "tags": []
          },
          "execution_count": 32
        }
      ]
    },
    {
      "cell_type": "markdown",
      "metadata": {
        "id": "Y_0yYcVQ8wDi"
      },
      "source": [
        "#### Adicionando um novo par de valor-chave\n",
        "Atribuir um valor a uma chave inexistente insere o par de *chave:valor* no dicionário:"
      ]
    },
    {
      "cell_type": "code",
      "metadata": {
        "id": "xgqOdwWY8wDi"
      },
      "source": [
        "roman_numerals['L'] = 50"
      ],
      "execution_count": 33,
      "outputs": []
    },
    {
      "cell_type": "code",
      "metadata": {
        "id": "j3JwY3gQ8wDm",
        "outputId": "879d24f5-9e24-46ca-80bd-b597fe2292c4",
        "colab": {
          "base_uri": "https://localhost:8080/",
          "height": 34
        }
      },
      "source": [
        "print(roman_numerals)"
      ],
      "execution_count": 34,
      "outputs": [
        {
          "output_type": "stream",
          "text": [
            "{'I': 1, 'II': 2, 'III': 3, 'V': 5, 'X': 10, 'L': 50}\n"
          ],
          "name": "stdout"
        }
      ]
    },
    {
      "cell_type": "markdown",
      "metadata": {
        "id": "o8OQM-e68wDs"
      },
      "source": [
        "As chaves de string diferenciam maiúsculas de minúsculas. Atribuir a uma chave inexistente insere um novo par de valor-chave. \n",
        "Isso pode ser o que você pretende ou pode ser um erro lógico."
      ]
    },
    {
      "cell_type": "code",
      "metadata": {
        "id": "_n1Dep4h8wDt"
      },
      "source": [
        "roman_numerals['l'] = 50"
      ],
      "execution_count": 35,
      "outputs": []
    },
    {
      "cell_type": "code",
      "metadata": {
        "id": "a9ykzoZs8wDw",
        "outputId": "88b17e94-3cca-4e9f-e79f-06b77cff1b71",
        "colab": {
          "base_uri": "https://localhost:8080/",
          "height": 34
        }
      },
      "source": [
        "print(roman_numerals)"
      ],
      "execution_count": 36,
      "outputs": [
        {
          "output_type": "stream",
          "text": [
            "{'I': 1, 'II': 2, 'III': 3, 'V': 5, 'X': 10, 'L': 50, 'l': 50}\n"
          ],
          "name": "stdout"
        }
      ]
    },
    {
      "cell_type": "markdown",
      "metadata": {
        "id": "A4vW20gv8wDy"
      },
      "source": [
        "#### Removendo um par de valor-chave\n",
        "Você pode excluir um par de *chave:valor* de um dicionário com a instrução **del**:"
      ]
    },
    {
      "cell_type": "code",
      "metadata": {
        "id": "_n8OoUO08wDy"
      },
      "source": [
        "del roman_numerals['l'] "
      ],
      "execution_count": 37,
      "outputs": []
    },
    {
      "cell_type": "markdown",
      "metadata": {
        "id": "MOUFG0SZ8wD1"
      },
      "source": [
        "Você também pode remover um par de *chave:valor* com o método **pop** de dicionário, que retorna o valor para a chave removida:"
      ]
    },
    {
      "cell_type": "code",
      "metadata": {
        "id": "PRhZShId8wD1",
        "outputId": "85278ea8-7c56-4be4-b600-d0f19404a010",
        "colab": {
          "base_uri": "https://localhost:8080/",
          "height": 34
        }
      },
      "source": [
        "roman_numerals.pop('X')"
      ],
      "execution_count": 38,
      "outputs": [
        {
          "output_type": "execute_result",
          "data": {
            "text/plain": [
              "10"
            ]
          },
          "metadata": {
            "tags": []
          },
          "execution_count": 38
        }
      ]
    },
    {
      "cell_type": "markdown",
      "metadata": {
        "id": "p3xj59ae8wD4"
      },
      "source": [
        "#### Tentando acessar uma chave inexistente\n",
        "Acessar uma chave inexistente resulta em um **KeyError**:"
      ]
    },
    {
      "cell_type": "code",
      "metadata": {
        "id": "Iry_oKaN8wD6",
        "outputId": "c9428992-94aa-434d-d841-dc66204d32ae",
        "colab": {
          "base_uri": "https://localhost:8080/",
          "height": 162
        }
      },
      "source": [
        "roman_numerals['X']"
      ],
      "execution_count": 39,
      "outputs": [
        {
          "output_type": "error",
          "ename": "KeyError",
          "evalue": "ignored",
          "traceback": [
            "\u001b[0;31m---------------------------------------------------------------------------\u001b[0m",
            "\u001b[0;31mKeyError\u001b[0m                                  Traceback (most recent call last)",
            "\u001b[0;32m<ipython-input-39-795234094519>\u001b[0m in \u001b[0;36m<module>\u001b[0;34m()\u001b[0m\n\u001b[0;32m----> 1\u001b[0;31m \u001b[0mroman_numerals\u001b[0m\u001b[0;34m[\u001b[0m\u001b[0;34m'X'\u001b[0m\u001b[0;34m]\u001b[0m\u001b[0;34m\u001b[0m\u001b[0;34m\u001b[0m\u001b[0m\n\u001b[0m",
            "\u001b[0;31mKeyError\u001b[0m: 'X'"
          ]
        }
      ]
    },
    {
      "cell_type": "markdown",
      "metadata": {
        "id": "IMEADarJ8wD8"
      },
      "source": [
        "Você pode evitar esse erro usando o método de dicionário **get**, que normalmente retorna seu\n",
        "valor correspondente do argumento. Se essa chave não for encontrada, retorna *None*.\n",
        "- IPython não exibe nada quando None é retornado. Se você especificar um segundo argumento para obter, ele retornará esse valor se a chave não for encontrada:"
      ]
    },
    {
      "cell_type": "code",
      "metadata": {
        "id": "6KX_Lw9x8wD8"
      },
      "source": [
        "roman_numerals.get('X')"
      ],
      "execution_count": 40,
      "outputs": []
    },
    {
      "cell_type": "code",
      "metadata": {
        "id": "itmkFfeV8wD-",
        "outputId": "4cccf90b-39ab-47da-e436-a5f5994798c3",
        "colab": {
          "base_uri": "https://localhost:8080/",
          "height": 35
        }
      },
      "source": [
        "roman_numerals.get('X','X not in dictionary')"
      ],
      "execution_count": 41,
      "outputs": [
        {
          "output_type": "execute_result",
          "data": {
            "application/vnd.google.colaboratory.intrinsic+json": {
              "type": "string"
            },
            "text/plain": [
              "'X not in dictionary'"
            ]
          },
          "metadata": {
            "tags": []
          },
          "execution_count": 41
        }
      ]
    },
    {
      "cell_type": "code",
      "metadata": {
        "id": "uUkbG2sZ8wEA",
        "outputId": "72e9a02f-a2bf-4822-8bc5-a42965b5bad6",
        "colab": {
          "base_uri": "https://localhost:8080/",
          "height": 34
        }
      },
      "source": [
        "roman_numerals.get('III')"
      ],
      "execution_count": 42,
      "outputs": [
        {
          "output_type": "execute_result",
          "data": {
            "text/plain": [
              "3"
            ]
          },
          "metadata": {
            "tags": []
          },
          "execution_count": 42
        }
      ]
    },
    {
      "cell_type": "markdown",
      "metadata": {
        "id": "hHf3RYps8wED"
      },
      "source": [
        "#### Testando se um dicionário contém uma chave especifica\n",
        "\n",
        "Os operadores **in** e **not in** podem determinar se um dicionário contém uma chave especificada:"
      ]
    },
    {
      "cell_type": "code",
      "metadata": {
        "id": "r7KGIQiL8wED",
        "outputId": "f4e37127-e320-4ec3-aed5-ac8989c5cf37",
        "colab": {
          "base_uri": "https://localhost:8080/",
          "height": 34
        }
      },
      "source": [
        "'I' in roman_numerals"
      ],
      "execution_count": 43,
      "outputs": [
        {
          "output_type": "execute_result",
          "data": {
            "text/plain": [
              "True"
            ]
          },
          "metadata": {
            "tags": []
          },
          "execution_count": 43
        }
      ]
    },
    {
      "cell_type": "code",
      "metadata": {
        "id": "mZtsrMU88wEG",
        "outputId": "6687a9b8-fb3b-4734-903e-d4d52231b0db",
        "colab": {
          "base_uri": "https://localhost:8080/",
          "height": 34
        }
      },
      "source": [
        "'D' not in roman_numerals"
      ],
      "execution_count": 44,
      "outputs": [
        {
          "output_type": "execute_result",
          "data": {
            "text/plain": [
              "True"
            ]
          },
          "metadata": {
            "tags": []
          },
          "execution_count": 44
        }
      ]
    },
    {
      "cell_type": "markdown",
      "metadata": {
        "id": "y1J-vddk8wEJ"
      },
      "source": [
        "#### Os métodos de dicionário keys e values\n",
        "\n",
        "Anteriormente, usamos o método de dicionário **items**, para iterar por meio de tuplas de *chave:valor* em um dicionário. Da mesma forma, os métodos **keys** e **values** podem ser usados para iterar apenas sobre as chaves e valores de um dicionário, respectivamente:"
      ]
    },
    {
      "cell_type": "code",
      "metadata": {
        "id": "vbGXOCEb8wEK"
      },
      "source": [
        "months = {'January': 1, 'February': 2, 'March': 3}"
      ],
      "execution_count": 45,
      "outputs": []
    },
    {
      "cell_type": "code",
      "metadata": {
        "id": "2BScC_f68wEO",
        "outputId": "6b573ab8-ff65-487f-e7b9-a6d1f6a18566",
        "colab": {
          "base_uri": "https://localhost:8080/",
          "height": 34
        }
      },
      "source": [
        "for month_name in months.keys():\n",
        "    print(month_name, end=' ')"
      ],
      "execution_count": 46,
      "outputs": [
        {
          "output_type": "stream",
          "text": [
            "January February March "
          ],
          "name": "stdout"
        }
      ]
    },
    {
      "cell_type": "code",
      "metadata": {
        "id": "vzFkiZ0b8wEQ",
        "outputId": "d97fcaa1-f5c6-4b6a-d606-82867faaca5f",
        "colab": {
          "base_uri": "https://localhost:8080/",
          "height": 34
        }
      },
      "source": [
        "for month_number in months.values():\n",
        "    print(month_number, end=' ')"
      ],
      "execution_count": 47,
      "outputs": [
        {
          "output_type": "stream",
          "text": [
            "1 2 3 "
          ],
          "name": "stdout"
        }
      ]
    },
    {
      "cell_type": "markdown",
      "metadata": {
        "id": "xUFyEyP38wES"
      },
      "source": [
        "#### Visualizações de dicionário\n",
        "Os métodos de dicionário **items**, **keys** e **values**, cada um retorna uma visualização dos dados de um dicionário. Quando você itera em uma visualização, ele \"vê\" o conteúdo real do dicionário - _**ele não tem sua própria cópia dos dados**_.\n",
        "\n",
        "Para mostrar que as visualizações não mantêm suas próprias cópias dos dados de um dicionário, vamos primeiro salvar a visualização retornada pelas chaves na variável **months_view** e, em seguida, iterar sobre ela:"
      ]
    },
    {
      "cell_type": "code",
      "metadata": {
        "id": "2xg2MBlc8wES"
      },
      "source": [
        "months_view = months.keys()"
      ],
      "execution_count": 48,
      "outputs": []
    },
    {
      "cell_type": "code",
      "metadata": {
        "id": "gh2DPwI88wEU",
        "outputId": "d40105db-10cd-4981-b292-ff5d49d824ce",
        "colab": {
          "base_uri": "https://localhost:8080/",
          "height": 34
        }
      },
      "source": [
        "for key in months_view:\n",
        "    print(key, end=' ')"
      ],
      "execution_count": 49,
      "outputs": [
        {
          "output_type": "stream",
          "text": [
            "January February March "
          ],
          "name": "stdout"
        }
      ]
    },
    {
      "cell_type": "markdown",
      "metadata": {
        "id": "2guUmINl8wEX"
      },
      "source": [
        "A seguir, vamos adicionar um novo par de *chave:valor* aos meses e exibir o dicionário atualizado:"
      ]
    },
    {
      "cell_type": "code",
      "metadata": {
        "id": "dbBFPHg78wEX"
      },
      "source": [
        "months['December'] = 12"
      ],
      "execution_count": 50,
      "outputs": []
    },
    {
      "cell_type": "code",
      "metadata": {
        "id": "JEwi2Idt8wEb",
        "outputId": "7aa0d417-4219-47df-83be-fbcf11bfd55c",
        "colab": {
          "base_uri": "https://localhost:8080/",
          "height": 34
        }
      },
      "source": [
        "print(months)"
      ],
      "execution_count": 51,
      "outputs": [
        {
          "output_type": "stream",
          "text": [
            "{'January': 1, 'February': 2, 'March': 3, 'December': 12}\n"
          ],
          "name": "stdout"
        }
      ]
    },
    {
      "cell_type": "markdown",
      "metadata": {
        "id": "zJ5SLLNj8wEd"
      },
      "source": [
        "Não modifique um dicionário durante a iteração em uma visualização. Você poderá gerar um RuntimeError ou o loop pode não processar todos os valores da visualização."
      ]
    },
    {
      "cell_type": "markdown",
      "metadata": {
        "id": "yuq8NjX78wEd"
      },
      "source": [
        "#### Convertendo chaves de dicionário, valores e pares de chave:valor em listas\n",
        "\n",
        "Você pode ocasionalmente precisar de listas de chaves, valores ou pares *chave:valor* de um dicionário. \n",
        "- Para obter tal lista, passe a visão retornada por **keys**, **values** ou **items** para a função **list**. <font color=red> A modificação dessas listas não modifica o dicionário correspondente: </font>"
      ]
    },
    {
      "cell_type": "code",
      "metadata": {
        "id": "sv8ORTsE8wEe",
        "outputId": "c7551d67-e39f-49ba-8995-97a0b2ac1004",
        "colab": {
          "base_uri": "https://localhost:8080/",
          "height": 34
        }
      },
      "source": [
        "list(months.keys())"
      ],
      "execution_count": 52,
      "outputs": [
        {
          "output_type": "execute_result",
          "data": {
            "text/plain": [
              "['January', 'February', 'March', 'December']"
            ]
          },
          "metadata": {
            "tags": []
          },
          "execution_count": 52
        }
      ]
    },
    {
      "cell_type": "code",
      "metadata": {
        "id": "smPm-mZj8wEg",
        "outputId": "5143224e-7901-4bcc-e0eb-c2f3f137ee2d",
        "colab": {
          "base_uri": "https://localhost:8080/",
          "height": 34
        }
      },
      "source": [
        "list(months.values())"
      ],
      "execution_count": 53,
      "outputs": [
        {
          "output_type": "execute_result",
          "data": {
            "text/plain": [
              "[1, 2, 3, 12]"
            ]
          },
          "metadata": {
            "tags": []
          },
          "execution_count": 53
        }
      ]
    },
    {
      "cell_type": "code",
      "metadata": {
        "id": "GgyketDN8wEi",
        "outputId": "5d402ab1-652e-42f0-d241-1556f30d4d9f",
        "colab": {
          "base_uri": "https://localhost:8080/",
          "height": 34
        }
      },
      "source": [
        "list(months.items())"
      ],
      "execution_count": 54,
      "outputs": [
        {
          "output_type": "execute_result",
          "data": {
            "text/plain": [
              "[('January', 1), ('February', 2), ('March', 3), ('December', 12)]"
            ]
          },
          "metadata": {
            "tags": []
          },
          "execution_count": 54
        }
      ]
    },
    {
      "cell_type": "markdown",
      "metadata": {
        "id": "h34FiiQZ8wEk"
      },
      "source": [
        "#### Processando chaves em ordem \n",
        "\n",
        "Para processar as chaves em ordem, você pode usar a função **sorted** da seguinte maneira:"
      ]
    },
    {
      "cell_type": "code",
      "metadata": {
        "id": "Gk8_UMDm8wEl",
        "outputId": "c76d71f6-605e-404e-aa5f-aae1ccc6f373",
        "colab": {
          "base_uri": "https://localhost:8080/",
          "height": 34
        }
      },
      "source": [
        "for month_name in sorted(months.keys()):\n",
        "    print(month_name, end=' ')"
      ],
      "execution_count": 55,
      "outputs": [
        {
          "output_type": "stream",
          "text": [
            "December February January March "
          ],
          "name": "stdout"
        }
      ]
    },
    {
      "cell_type": "markdown",
      "metadata": {
        "id": "N2IvaiOs8wEn"
      },
      "source": [
        "#### Comparações de Dicionário\n",
        "\n",
        "Os operadores de comparação **==** e **!=** podem ser usados para determinar se dois dicionários têm conteúdos idênticos ou diferentes. \n",
        "- Uma comparação de igual (==) avalia como Verdadeiro se ambos os dicionários têm os mesmos pares chave:valor, independentemente da ordem em que foram adicionados a cada dicionário:"
      ]
    },
    {
      "cell_type": "code",
      "metadata": {
        "id": "J40HbCsX8wEn"
      },
      "source": [
        "country_capitals1 = {'Belgium': 'Brussels', 'Haiti': 'Port-au-Prince'}"
      ],
      "execution_count": 56,
      "outputs": []
    },
    {
      "cell_type": "code",
      "metadata": {
        "id": "KtH3mjTq8wEq"
      },
      "source": [
        "country_capitals2 = {'Nepal': 'Kathmandu', 'Uruguay': 'Montevideo'}"
      ],
      "execution_count": 57,
      "outputs": []
    },
    {
      "cell_type": "code",
      "metadata": {
        "id": "1PfKNyrv8wEt"
      },
      "source": [
        "country_capitals3 = {'Haiti': 'Port-au-Prince', 'Belgium': 'Brussels'}"
      ],
      "execution_count": 58,
      "outputs": []
    },
    {
      "cell_type": "code",
      "metadata": {
        "id": "JEqLtmf08wEw"
      },
      "source": [
        "country_capitals1 == country_capitals2"
      ],
      "execution_count": null,
      "outputs": []
    },
    {
      "cell_type": "code",
      "metadata": {
        "id": "cWsV_XJL8wEy"
      },
      "source": [
        "country_capitals1 == country_capitals3"
      ],
      "execution_count": null,
      "outputs": []
    },
    {
      "cell_type": "code",
      "metadata": {
        "id": "xtnk3zRy8wE1",
        "outputId": "0a29ec59-a361-4e04-a92c-118b78d76048",
        "colab": {
          "base_uri": "https://localhost:8080/",
          "height": 34
        }
      },
      "source": [
        "country_capitals1 != country_capitals2"
      ],
      "execution_count": 61,
      "outputs": [
        {
          "output_type": "execute_result",
          "data": {
            "text/plain": [
              "True"
            ]
          },
          "metadata": {
            "tags": []
          },
          "execution_count": 61
        }
      ]
    },
    {
      "cell_type": "code",
      "metadata": {
        "id": "rV3_4QMl8wE4",
        "outputId": "e15c69d5-e91c-4de2-9a0d-c4a21d293fcf",
        "colab": {
          "base_uri": "https://localhost:8080/",
          "height": 162
        }
      },
      "source": [
        "271 - exemplos"
      ],
      "execution_count": 63,
      "outputs": [
        {
          "output_type": "error",
          "ename": "NameError",
          "evalue": "ignored",
          "traceback": [
            "\u001b[0;31m---------------------------------------------------------------------------\u001b[0m",
            "\u001b[0;31mNameError\u001b[0m                                 Traceback (most recent call last)",
            "\u001b[0;32m<ipython-input-63-0589aa243215>\u001b[0m in \u001b[0;36m<module>\u001b[0;34m()\u001b[0m\n\u001b[0;32m----> 1\u001b[0;31m \u001b[0;36m271\u001b[0m \u001b[0;34m-\u001b[0m \u001b[0mexemplos\u001b[0m\u001b[0;34m\u001b[0m\u001b[0;34m\u001b[0m\u001b[0m\n\u001b[0m",
            "\u001b[0;31mNameError\u001b[0m: name 'exemplos' is not defined"
          ]
        }
      ]
    },
    {
      "cell_type": "markdown",
      "metadata": {
        "id": "gUg9lNz08wE9"
      },
      "source": [
        "O método de dicionário update\n",
        "\n",
        "Você pode inserir e atualizar pares de *chave:valor* usando o método de dicionário **update**. Primeiro, vamos criar um dicionário vzio de **country_codes**:"
      ]
    },
    {
      "cell_type": "code",
      "metadata": {
        "id": "DwPj-E0i8wE-"
      },
      "source": [
        "country_codes = {}"
      ],
      "execution_count": 64,
      "outputs": []
    },
    {
      "cell_type": "markdown",
      "metadata": {
        "id": "DH0jMItm8wFA"
      },
      "source": [
        "A seguinte chamada de atualização recebe um dicionário de pares chave-valor para inserir ou atualizar\n",
        "\n"
      ]
    },
    {
      "cell_type": "code",
      "metadata": {
        "id": "jH8cg5ov8wFB"
      },
      "source": [
        "country_codes.update({'South Africa': 'za'})"
      ],
      "execution_count": 65,
      "outputs": []
    },
    {
      "cell_type": "code",
      "metadata": {
        "id": "nCdRCkti8wFD",
        "outputId": "b7cffd42-cbf3-414a-df95-5c4b365b2d76",
        "colab": {
          "base_uri": "https://localhost:8080/",
          "height": 34
        }
      },
      "source": [
        "print(country_codes)"
      ],
      "execution_count": 66,
      "outputs": [
        {
          "output_type": "stream",
          "text": [
            "{'South Africa': 'za'}\n"
          ],
          "name": "stdout"
        }
      ]
    },
    {
      "cell_type": "markdown",
      "metadata": {
        "id": "T5ZyCBZQ8wFF"
      },
      "source": [
        "O método **update** pode converter argumentos de palavra-chave em pares de *chave:valor* para inserir. A seguinte chamada converte automaticamente o nome de parâmetro Austrália em uma chave e associa o valor 'ar' a ela:"
      ]
    },
    {
      "cell_type": "code",
      "metadata": {
        "id": "hCyTjjBC8wFF"
      },
      "source": [
        "country_codes.update(Australia='au')"
      ],
      "execution_count": 67,
      "outputs": []
    },
    {
      "cell_type": "code",
      "metadata": {
        "id": "7K1sQKc78wFI",
        "outputId": "1baa2ee6-18ff-40fd-90f8-a7575b0c8101",
        "colab": {
          "base_uri": "https://localhost:8080/",
          "height": 34
        }
      },
      "source": [
        "print(country_codes)"
      ],
      "execution_count": 68,
      "outputs": [
        {
          "output_type": "stream",
          "text": [
            "{'South Africa': 'za', 'Australia': 'au'}\n"
          ],
          "name": "stdout"
        }
      ]
    },
    {
      "cell_type": "markdown",
      "metadata": {
        "id": "ycnR6KdC8wFM"
      },
      "source": [
        "#### Notação simplicada de dicionários\n",
        "As notações simplificadas de dicionário fornecem uma notação conveniente para gerar dicionários rapidamente, frequentemente mapeando um dicionário para outro. Por exemplo, em um dicionário com valores únicos, você pode inverter os pares de valores-chave:"
      ]
    },
    {
      "cell_type": "code",
      "metadata": {
        "id": "CjPcMOUK8wFN"
      },
      "source": [
        "months = {'January': 1, 'February': 2, 'March': 3}"
      ],
      "execution_count": 69,
      "outputs": []
    },
    {
      "cell_type": "code",
      "metadata": {
        "id": "CsPlr4ZK8wFQ"
      },
      "source": [
        "months2 = {number: name for name, number in months.items()}"
      ],
      "execution_count": 71,
      "outputs": []
    },
    {
      "cell_type": "code",
      "metadata": {
        "id": "mh8Y7iFd8wFU",
        "outputId": "ef981652-9d44-405c-ff71-dff9046207c3",
        "colab": {
          "base_uri": "https://localhost:8080/",
          "height": 34
        }
      },
      "source": [
        "print(months2)"
      ],
      "execution_count": 72,
      "outputs": [
        {
          "output_type": "stream",
          "text": [
            "{1: 'January', 2: 'February', 3: 'March'}\n"
          ],
          "name": "stdout"
        }
      ]
    },
    {
      "cell_type": "markdown",
      "metadata": {
        "id": "HbZm47XJ8wFW"
      },
      "source": [
        "Chaves delimitam a notação simplificada de dicionário e a expressão à esquerda de _for_\n",
        "especifica um par de *chave:valor*. O código itera o dicionário por meio de **months.items()**, descompactando cada tupla contendo um par **chave:valor** nas variáveis **name** e **number**. \n",
        "- A expressão **number:name** inverte a chave e o valor, portanto, o novo dicionário mapeia os números dos meses para os nomes dos meses.\n",
        "\n",
        "E se meses contivessem valores duplicados? \n",
        "\n",
        "À medida que meses se tornam as chaves em **months2**, tentar inserir uma chave duplicada simplesmente atualiza o valor da chave existente!\n",
        "\n",
        "Então, se 'fevereiro' e 'março', fossem ambos mapeados para 2, o código anterior teria produzido \n",
        "\n",
        "**{1: 'janeiro', 2: 'março'}**\n",
        "\n",
        "Pode-se também pode mapear os valores de um dicionário para novos valores. O seguintes\n",
        "código converte um dicionário de nomes e listas de notas em um dicionário\n",
        "de nomes e médias de notas. As variáveis **k** e **v** geralmente significam *key* e *value*."
      ]
    },
    {
      "cell_type": "code",
      "metadata": {
        "id": "aqdCNJes8wFW"
      },
      "source": [
        "grades = {'Sue': [98, 87, 94], 'Bob': [84, 95, 91]}"
      ],
      "execution_count": 73,
      "outputs": []
    },
    {
      "cell_type": "code",
      "metadata": {
        "id": "MTfcLXOt8wFa"
      },
      "source": [
        "grades2 = {k: sum(v) / len(v) for k, v in grades.items()}"
      ],
      "execution_count": 74,
      "outputs": []
    },
    {
      "cell_type": "code",
      "metadata": {
        "id": "otQey7oz8wFd",
        "outputId": "071969c2-4b32-48a6-cf4a-7528d5d79ecd",
        "colab": {
          "base_uri": "https://localhost:8080/",
          "height": 34
        }
      },
      "source": [
        "print(grades2)"
      ],
      "execution_count": 75,
      "outputs": [
        {
          "output_type": "stream",
          "text": [
            "{'Sue': 93.0, 'Bob': 90.0}\n"
          ],
          "name": "stdout"
        }
      ]
    },
    {
      "cell_type": "markdown",
      "metadata": {
        "id": "txTKeywr8wFh"
      },
      "source": [
        "_________"
      ]
    },
    {
      "cell_type": "markdown",
      "metadata": {
        "id": "-ZnWmA0B8wFi"
      },
      "source": [
        "## Conjuntos"
      ]
    },
    {
      "cell_type": "markdown",
      "metadata": {
        "id": "9rr2QKzy8wFj"
      },
      "source": [
        "Um **conjunto** é uma coleção não ordenada de valores únicos. \n",
        "\n",
        "- Os **conjuntos podem conter apenas objetos imutáveis**, como strings, ints, floats e **tuplas que contêm apenas elementos imutáveis**.\n",
        "\n",
        "- Embora os conjuntos sejam iteráveis, eles **não são sequências** e **não suportam indexação** e divisão com colchetes. \n",
        "    - Os dicionários também não oferecem suporte a cortes (slice).\n"
      ]
    },
    {
      "cell_type": "markdown",
      "metadata": {
        "id": "5kDtO-lS8wFk"
      },
      "source": [
        "#### Criando um conjunto com chaves\n",
        "O código a seguir cria um conjunto de strings chamado **collors**:"
      ]
    },
    {
      "cell_type": "code",
      "metadata": {
        "id": "1djoNXHE8wFl"
      },
      "source": [
        "colors = {'red', 'orange', 'yellow', 'green', 'red', 'blue'}"
      ],
      "execution_count": 76,
      "outputs": []
    },
    {
      "cell_type": "code",
      "metadata": {
        "id": "IiHR3LkO8wFo",
        "outputId": "3755a41d-9888-4de2-8888-84ec4d7082d5",
        "colab": {
          "base_uri": "https://localhost:8080/",
          "height": 34
        }
      },
      "source": [
        "print(colors)"
      ],
      "execution_count": 77,
      "outputs": [
        {
          "output_type": "stream",
          "text": [
            "{'yellow', 'orange', 'green', 'red', 'blue'}\n"
          ],
          "name": "stdout"
        }
      ]
    },
    {
      "cell_type": "markdown",
      "metadata": {
        "id": "xn7PRmvQ8wFq"
      },
      "source": [
        "Observe que a string duplicada 'red' foi ignorada (sem causar um erro). \n",
        "\n",
        "- Um importante o uso de conjuntos é a eliminação de duplicatas, que é automática ao criar um conjunto.\n",
        "\n",
        "- Observe também o os valores do conjunto resultante não são exibidos na mesma ordem em que foram digitados.\n",
        "    - Você não deveria escrever código que depende da ordem de seus elementos."
      ]
    },
    {
      "cell_type": "markdown",
      "metadata": {
        "id": "HjgXUTE18wFq"
      },
      "source": [
        "#### Determinando o comprimento de um conjunto\n",
        "Você pode determinar o número de itens em um conjunto com a função **len**:"
      ]
    },
    {
      "cell_type": "code",
      "metadata": {
        "id": "Erw3pQA18wFr",
        "outputId": "5a850f95-6f22-40df-b804-4486b9004006",
        "colab": {
          "base_uri": "https://localhost:8080/",
          "height": 34
        }
      },
      "source": [
        "len(colors)"
      ],
      "execution_count": 78,
      "outputs": [
        {
          "output_type": "execute_result",
          "data": {
            "text/plain": [
              "5"
            ]
          },
          "metadata": {
            "tags": []
          },
          "execution_count": 78
        }
      ]
    },
    {
      "cell_type": "markdown",
      "metadata": {
        "id": "EeaaViTI8wFv"
      },
      "source": [
        "#### Verificando se um valor está em um conjunto\n",
        "Você pode verificar se um conjunto contém um valor específico usando os operadores **in** e **not in**:"
      ]
    },
    {
      "cell_type": "code",
      "metadata": {
        "id": "2AapoSgu8wFv"
      },
      "source": [
        "'red' in colors"
      ],
      "execution_count": null,
      "outputs": []
    },
    {
      "cell_type": "code",
      "metadata": {
        "id": "RIozyo2N8wFy",
        "outputId": "31aa54de-efa9-43eb-db6f-1d2861861aa4",
        "colab": {
          "base_uri": "https://localhost:8080/",
          "height": 34
        }
      },
      "source": [
        "'purple' in colors"
      ],
      "execution_count": 80,
      "outputs": [
        {
          "output_type": "execute_result",
          "data": {
            "text/plain": [
              "False"
            ]
          },
          "metadata": {
            "tags": []
          },
          "execution_count": 80
        }
      ]
    },
    {
      "cell_type": "markdown",
      "metadata": {
        "id": "7v7QovjD8wF1"
      },
      "source": [
        "#### Iterando através de um conjunto\n",
        "Os conjuntos são iteráveis, então você pode processar cada elemento do conjunto com um laço *for*:"
      ]
    },
    {
      "cell_type": "code",
      "metadata": {
        "id": "REIREvJ78wF2",
        "outputId": "dab0d250-cecb-4b45-a48b-853169994f86",
        "colab": {
          "base_uri": "https://localhost:8080/",
          "height": 34
        }
      },
      "source": [
        "for color in colors:\n",
        "    print(color.upper(), end=' ')"
      ],
      "execution_count": 81,
      "outputs": [
        {
          "output_type": "stream",
          "text": [
            "YELLOW ORANGE GREEN RED BLUE "
          ],
          "name": "stdout"
        }
      ]
    },
    {
      "cell_type": "markdown",
      "metadata": {
        "id": "LOqiksdo8wF5"
      },
      "source": [
        "> Os conjuntos não são ordenados, portanto, não há significado para a ordem de iteração. \n",
        " \n"
      ]
    },
    {
      "cell_type": "markdown",
      "metadata": {
        "id": "VYRTAWpe8wF6"
      },
      "source": [
        "Criando um conjunto com a função **set**\n",
        "\n",
        "Você pode criar um conjunto a partir de outra coleção de valores usando a função **set** \n"
      ]
    },
    {
      "cell_type": "code",
      "metadata": {
        "id": "BY8d2jTJ8wF6"
      },
      "source": [
        "numbers = list(range(10)) + list(range(5))"
      ],
      "execution_count": 82,
      "outputs": []
    },
    {
      "cell_type": "code",
      "metadata": {
        "id": "q6vgR2rq8wF7",
        "outputId": "e322fa32-2542-4813-de2c-9ad57a295859",
        "colab": {
          "base_uri": "https://localhost:8080/",
          "height": 34
        }
      },
      "source": [
        "numbers"
      ],
      "execution_count": 83,
      "outputs": [
        {
          "output_type": "execute_result",
          "data": {
            "text/plain": [
              "[0, 1, 2, 3, 4, 5, 6, 7, 8, 9, 0, 1, 2, 3, 4]"
            ]
          },
          "metadata": {
            "tags": []
          },
          "execution_count": 83
        }
      ]
    },
    {
      "cell_type": "code",
      "metadata": {
        "id": "Vn0wxGbJ8wF9",
        "outputId": "49c0b0b7-497d-494e-ce9b-8af1d5cd9796",
        "colab": {
          "base_uri": "https://localhost:8080/",
          "height": 34
        }
      },
      "source": [
        "set(numbers)"
      ],
      "execution_count": 84,
      "outputs": [
        {
          "output_type": "execute_result",
          "data": {
            "text/plain": [
              "{0, 1, 2, 3, 4, 5, 6, 7, 8, 9}"
            ]
          },
          "metadata": {
            "tags": []
          },
          "execution_count": 84
        }
      ]
    },
    {
      "cell_type": "markdown",
      "metadata": {
        "id": "riz87Xml8wF_"
      },
      "source": [
        "Python exibe um conjunto vazio como **set()** para evitar confusão com a representação de string do Python\n",
        "de um dicionário vazio ({})."
      ]
    },
    {
      "cell_type": "markdown",
      "metadata": {
        "id": "LR9w4VuL8wF_"
      },
      "source": [
        "### Frozenset: um tipo de conjunto imutável\n",
        "Os conjuntos são mutáveis \n",
        "- Você pode adicionar e remover elementos, mas os elementos do conjunto devem ser imutáveis.\n",
        "    - Portanto, um conjunto não pode ter outros conjuntos como elementos!\n",
        "    \n",
        "Um **frozenset** é um conjunto imutável - ele não pode ser modificado depois de sua criação.   \n",
        "- Portanto, um conjunto pode conter **fronzensets** como elementos. \n",
        "\n",
        "A função **frozenset** cria um **frozenset** a partir de qualquer iterável."
      ]
    },
    {
      "cell_type": "markdown",
      "metadata": {
        "id": "fAsnrx8j8wF_"
      },
      "source": [
        "## **Exercício 01**\n",
        "---\n",
        "> Atribua a seguinte string à variável texto; em seguida, divida-a em tokens\n",
        "com o método de string **split** e crie um conjunto a partir dos resultados. Exibir as palavras únicas em\n",
        "ordem usando o método **sorted**.\n",
        "\n",
        "_**<center>\"ser ou não ser eis é a questão\"</center>**_"
      ]
    },
    {
      "cell_type": "code",
      "metadata": {
        "id": "VxBaJBCO8wF_",
        "outputId": "3196521a-027f-4967-9c9f-405fa56d3395",
        "colab": {
          "base_uri": "https://localhost:8080/",
          "height": 34
        }
      },
      "source": [
        "texto = 'ser ou não ser eis é a questão'\n",
        "set(sorted(texto.split()))"
      ],
      "execution_count": 86,
      "outputs": [
        {
          "output_type": "execute_result",
          "data": {
            "text/plain": [
              "{'a', 'eis', 'não', 'ou', 'questão', 'ser', 'é'}"
            ]
          },
          "metadata": {
            "tags": []
          },
          "execution_count": 86
        }
      ]
    },
    {
      "cell_type": "markdown",
      "metadata": {
        "id": "N3rATnHk8wGB"
      },
      "source": [
        "#### Comparando conjuntos\n",
        "\n",
        "Vários operadores e métodos podem ser usados para comparar conjuntos. \n",
        "\n",
        "Os seguintes conjuntos contêm os mesmos valores, então == retorna True e != retorna False."
      ]
    },
    {
      "cell_type": "code",
      "metadata": {
        "id": "ZOONM5Ia8wGC",
        "outputId": "2e8cf28b-50d3-49ed-8bc2-9fb75b442df0",
        "colab": {
          "base_uri": "https://localhost:8080/",
          "height": 34
        }
      },
      "source": [
        "{1, 3, 5} == {3, 5, 1}"
      ],
      "execution_count": 87,
      "outputs": [
        {
          "output_type": "execute_result",
          "data": {
            "text/plain": [
              "True"
            ]
          },
          "metadata": {
            "tags": []
          },
          "execution_count": 87
        }
      ]
    },
    {
      "cell_type": "code",
      "metadata": {
        "id": "VwOlV1F28wGD",
        "outputId": "ff0a1830-50b1-4f2f-8f47-0df414d1afdf",
        "colab": {
          "base_uri": "https://localhost:8080/",
          "height": 34
        }
      },
      "source": [
        "{1, 3, 5} != {3, 5, 1}"
      ],
      "execution_count": 88,
      "outputs": [
        {
          "output_type": "execute_result",
          "data": {
            "text/plain": [
              "False"
            ]
          },
          "metadata": {
            "tags": []
          },
          "execution_count": 88
        }
      ]
    },
    {
      "cell_type": "markdown",
      "metadata": {
        "id": "D0nTijYF8wGH"
      },
      "source": [
        "O operador **<** testa se o conjunto à sua esquerda é um **subconjunto próprio** daquele à sua\n",
        "direita, \n",
        "- Isto é, todos os elementos no operando esquerdo estão no operando direito, mas os conjuntos não são iguais:"
      ]
    },
    {
      "cell_type": "code",
      "metadata": {
        "id": "US3WP1L28wGI",
        "outputId": "81abca41-65c4-4346-fad0-88dddd82154a",
        "colab": {
          "base_uri": "https://localhost:8080/",
          "height": 34
        }
      },
      "source": [
        "{1, 3, 5} < {3, 5, 1}"
      ],
      "execution_count": 89,
      "outputs": [
        {
          "output_type": "execute_result",
          "data": {
            "text/plain": [
              "False"
            ]
          },
          "metadata": {
            "tags": []
          },
          "execution_count": 89
        }
      ]
    },
    {
      "cell_type": "code",
      "metadata": {
        "id": "TG2Xufhg8wGK",
        "outputId": "4b1bb05a-8251-4898-b57a-35a9cf6aaca6",
        "colab": {
          "base_uri": "https://localhost:8080/",
          "height": 34
        }
      },
      "source": [
        "{1, 3, 5} < {7, 3, 5, 1}"
      ],
      "execution_count": 90,
      "outputs": [
        {
          "output_type": "execute_result",
          "data": {
            "text/plain": [
              "True"
            ]
          },
          "metadata": {
            "tags": []
          },
          "execution_count": 90
        }
      ]
    },
    {
      "cell_type": "markdown",
      "metadata": {
        "id": "wfCt-amw8wGM"
      },
      "source": [
        "O operador **<=** testa se o conjunto à sua esquerda é um **subconjunto impróprio** daquele a sua direita.\n",
        "- Isto é, todos os elementos no operando esquerdo estão no operando direito, e os conjuntos podem ser iguais:"
      ]
    },
    {
      "cell_type": "code",
      "metadata": {
        "id": "-usdKPmj8wGN",
        "outputId": "a1b040ed-bdcd-45f6-ac6b-8d640af8553a",
        "colab": {
          "base_uri": "https://localhost:8080/",
          "height": 34
        }
      },
      "source": [
        "{1, 3, 5} <= {3, 5, 1}"
      ],
      "execution_count": 132,
      "outputs": [
        {
          "output_type": "execute_result",
          "data": {
            "text/plain": [
              "True"
            ]
          },
          "metadata": {
            "tags": []
          },
          "execution_count": 132
        }
      ]
    },
    {
      "cell_type": "code",
      "metadata": {
        "id": "o2dNrLbW8wGP",
        "outputId": "dc0aaa87-9e97-4be3-d0bc-6647a15a4f0c",
        "colab": {
          "base_uri": "https://localhost:8080/",
          "height": 34
        }
      },
      "source": [
        "{1, 3} <= {3, 5, 1}"
      ],
      "execution_count": 92,
      "outputs": [
        {
          "output_type": "execute_result",
          "data": {
            "text/plain": [
              "True"
            ]
          },
          "metadata": {
            "tags": []
          },
          "execution_count": 92
        }
      ]
    },
    {
      "cell_type": "markdown",
      "metadata": {
        "id": "ttaNVlIh8wGR"
      },
      "source": [
        "Você também pode verificar se há um subconjunto impróprio com o método set **issubset**:"
      ]
    },
    {
      "cell_type": "code",
      "metadata": {
        "id": "woCwbS_n8wGT",
        "outputId": "e622dfb0-8053-4880-d01c-c6fd18d88248",
        "colab": {
          "base_uri": "https://localhost:8080/",
          "height": 34
        }
      },
      "source": [
        "{1, 3, 5}.issubset({3, 5, 1})"
      ],
      "execution_count": 93,
      "outputs": [
        {
          "output_type": "execute_result",
          "data": {
            "text/plain": [
              "True"
            ]
          },
          "metadata": {
            "tags": []
          },
          "execution_count": 93
        }
      ]
    },
    {
      "cell_type": "code",
      "metadata": {
        "id": "WUyHFEon8wGW",
        "outputId": "a9111522-eab6-4c77-c950-c5f2e65ccb79",
        "colab": {
          "base_uri": "https://localhost:8080/",
          "height": 34
        }
      },
      "source": [
        "{1, 2}.issubset({3, 5, 1})"
      ],
      "execution_count": 94,
      "outputs": [
        {
          "output_type": "execute_result",
          "data": {
            "text/plain": [
              "False"
            ]
          },
          "metadata": {
            "tags": []
          },
          "execution_count": 94
        }
      ]
    },
    {
      "cell_type": "markdown",
      "metadata": {
        "id": "Mv4sSK568wGZ"
      },
      "source": [
        "O operador **>** testa se o conjunto à sua esquerda é um **superconjunto próprio** daquele à sua direita.\n",
        "- ou seja, todos os elementos no conjunto à direita do operando estão no conjunto à esquerda do operando; mas o operando à esquerda tem mais elementos:"
      ]
    },
    {
      "cell_type": "code",
      "metadata": {
        "id": "WOjt0qdS8wGa",
        "outputId": "4d357cef-bf5d-4dc5-88e1-56d069f5a48f",
        "colab": {
          "base_uri": "https://localhost:8080/",
          "height": 34
        }
      },
      "source": [
        "{1, 3, 5} > {3, 5, 1}"
      ],
      "execution_count": 96,
      "outputs": [
        {
          "output_type": "execute_result",
          "data": {
            "text/plain": [
              "False"
            ]
          },
          "metadata": {
            "tags": []
          },
          "execution_count": 96
        }
      ]
    },
    {
      "cell_type": "code",
      "metadata": {
        "id": "O9Gexs1A8wGc",
        "outputId": "608bb4e1-fe6b-4bd1-a808-b10f600b6706",
        "colab": {
          "base_uri": "https://localhost:8080/",
          "height": 34
        }
      },
      "source": [
        "{1, 3, 5, 7} > {3, 5, 1}"
      ],
      "execution_count": 97,
      "outputs": [
        {
          "output_type": "execute_result",
          "data": {
            "text/plain": [
              "True"
            ]
          },
          "metadata": {
            "tags": []
          },
          "execution_count": 97
        }
      ]
    },
    {
      "cell_type": "markdown",
      "metadata": {
        "id": "bMDvRe_W8wGf"
      },
      "source": [
        "O operador **>=** testa se o conjunto à sua esquerda é um **superconjunto impróprio** daquele a\n",
        "sua direita.\n",
        "- ou seja, todos os elementos no operando direito estão no operando esquerdo, e os conjuntos podem ser igual:"
      ]
    },
    {
      "cell_type": "code",
      "metadata": {
        "id": "g133_V768wGf",
        "outputId": "0661a699-2944-4d69-9d65-1fbaef1b73f2",
        "colab": {
          "base_uri": "https://localhost:8080/",
          "height": 34
        }
      },
      "source": [
        "{1, 3, 5} >= {3, 5, 1}"
      ],
      "execution_count": 98,
      "outputs": [
        {
          "output_type": "execute_result",
          "data": {
            "text/plain": [
              "True"
            ]
          },
          "metadata": {
            "tags": []
          },
          "execution_count": 98
        }
      ]
    },
    {
      "cell_type": "code",
      "metadata": {
        "id": "igTwbu1i8wGh",
        "outputId": "56934867-4a4d-4e2a-fdb3-5e01015f1894",
        "colab": {
          "base_uri": "https://localhost:8080/",
          "height": 34
        }
      },
      "source": [
        "{1, 3, 5} >= {3, 1}"
      ],
      "execution_count": 99,
      "outputs": [
        {
          "output_type": "execute_result",
          "data": {
            "text/plain": [
              "True"
            ]
          },
          "metadata": {
            "tags": []
          },
          "execution_count": 99
        }
      ]
    },
    {
      "cell_type": "code",
      "metadata": {
        "id": "fu_s7W3W8wGm",
        "outputId": "6fc9fbe1-f5d3-4627-cfb4-d83a2aba6db3",
        "colab": {
          "base_uri": "https://localhost:8080/",
          "height": 34
        }
      },
      "source": [
        "{1, 3} >= {3, 1, 7}"
      ],
      "execution_count": 100,
      "outputs": [
        {
          "output_type": "execute_result",
          "data": {
            "text/plain": [
              "False"
            ]
          },
          "metadata": {
            "tags": []
          },
          "execution_count": 100
        }
      ]
    },
    {
      "cell_type": "markdown",
      "metadata": {
        "id": "K5KpZ3bf8wGp"
      },
      "source": [
        "Você também pode verificar se há um superconjunto impróprio com o método set **issuperset**:"
      ]
    },
    {
      "cell_type": "code",
      "metadata": {
        "id": "v91bq-7f8wGp",
        "outputId": "f221e9ef-02d9-4b82-eef6-2bf97239e3e3",
        "colab": {
          "base_uri": "https://localhost:8080/",
          "height": 34
        }
      },
      "source": [
        "{1, 3, 5}.issuperset({3, 5, 1})"
      ],
      "execution_count": 101,
      "outputs": [
        {
          "output_type": "execute_result",
          "data": {
            "text/plain": [
              "True"
            ]
          },
          "metadata": {
            "tags": []
          },
          "execution_count": 101
        }
      ]
    },
    {
      "cell_type": "code",
      "metadata": {
        "id": "hzvVSTz_8wGs",
        "outputId": "f6b7355e-c80b-4bea-e897-77e40cab008c",
        "colab": {
          "base_uri": "https://localhost:8080/",
          "height": 34
        }
      },
      "source": [
        "{1, 3, 5}.issuperset({3, 2})"
      ],
      "execution_count": 102,
      "outputs": [
        {
          "output_type": "execute_result",
          "data": {
            "text/plain": [
              "False"
            ]
          },
          "metadata": {
            "tags": []
          },
          "execution_count": 102
        }
      ]
    },
    {
      "cell_type": "markdown",
      "metadata": {
        "id": "6521gBym8wGt"
      },
      "source": [
        "O argumento para **issubset** ou **issuperset** pode ser qualquer iterável. \n",
        "- Quando qualquer um desses métodos recebe um argumento iterável não definido, primeiro converte o iterável em um conjunto e, em seguida, executa a operação."
      ]
    },
    {
      "cell_type": "markdown",
      "metadata": {
        "id": "nXxKBeV68wGu"
      },
      "source": [
        "## **Exercício 02**\n",
        "---\n",
        "> Use conjuntos e **issuperset** para determinar se os caracteres da string 'abc def ghi jkl mno' são um superconjunto dos caracteres na string 'hi mom'."
      ]
    },
    {
      "cell_type": "code",
      "metadata": {
        "id": "wdMZLy6R8wGu",
        "outputId": "2c448a0d-0848-4411-80d3-65cca4ff9535",
        "colab": {
          "base_uri": "https://localhost:8080/",
          "height": 67
        }
      },
      "source": [
        "string1 = 'abc def ghi jkl mno'\n",
        "string2 = 'hi mom'\n",
        "\n",
        "# vendo strings em formato 'conjunto'\n",
        "print(sorted(set(string1)))\n",
        "print(sorted(set(string2)))\n",
        "\n",
        "# comparando conjuntos -> string1 é pai ou igual à string2?\n",
        "set(string1).issuperset(set(string2))"
      ],
      "execution_count": 103,
      "outputs": [
        {
          "output_type": "stream",
          "text": [
            "[' ', 'a', 'b', 'c', 'd', 'e', 'f', 'g', 'h', 'i', 'j', 'k', 'l', 'm', 'n', 'o']\n",
            "[' ', 'h', 'i', 'm', 'o']\n"
          ],
          "name": "stdout"
        },
        {
          "output_type": "execute_result",
          "data": {
            "text/plain": [
              "True"
            ]
          },
          "metadata": {
            "tags": []
          },
          "execution_count": 103
        }
      ]
    },
    {
      "cell_type": "markdown",
      "metadata": {
        "id": "gaGin9Ph8wGx"
      },
      "source": [
        "#### Operações matemáticas de conjuntos\n",
        "\n",
        "#### União\n",
        "A união de dois conjuntos é um conjunto que consiste em todos os elementos exclusivos de ambos os conjuntos. \n",
        "- Você pode calcular a união com o operador **|** ou com o método **union**:"
      ]
    },
    {
      "cell_type": "code",
      "metadata": {
        "id": "wV0o3UFA8wGy",
        "outputId": "faa98442-334b-46ff-d0f3-c237766fa218",
        "colab": {
          "base_uri": "https://localhost:8080/",
          "height": 34
        }
      },
      "source": [
        "{1, 3, 5} | {2, 3, 4}"
      ],
      "execution_count": 104,
      "outputs": [
        {
          "output_type": "execute_result",
          "data": {
            "text/plain": [
              "{1, 2, 3, 4, 5}"
            ]
          },
          "metadata": {
            "tags": []
          },
          "execution_count": 104
        }
      ]
    },
    {
      "cell_type": "code",
      "metadata": {
        "id": "UnX3SjHm8wGz",
        "outputId": "0a3dca3b-3b22-4441-9ac3-9695c3acf619",
        "colab": {
          "base_uri": "https://localhost:8080/",
          "height": 34
        }
      },
      "source": [
        "{1, 3, 5}.union([20, 20, 3, 40, 40])"
      ],
      "execution_count": 105,
      "outputs": [
        {
          "output_type": "execute_result",
          "data": {
            "text/plain": [
              "{1, 3, 5, 20, 40}"
            ]
          },
          "metadata": {
            "tags": []
          },
          "execution_count": 105
        }
      ]
    },
    {
      "cell_type": "markdown",
      "metadata": {
        "id": "I5VqEa0J8wG0"
      },
      "source": [
        "Os operandos dos operadores de conjuntos binários, como o **|**, devem ser conjuntos. \n",
        "\n",
        "Os métodos de conjunto correspondentes podem receber qualquer objeto iterável como um argumento. \n",
        "- Quando um método matemático de conjunto (*set*) recebe um argumento iterável, que não seja um conjunto, primeiro este converte o iterável em um conjunto e, em seguida, aplica a operação matemática. "
      ]
    },
    {
      "cell_type": "markdown",
      "metadata": {
        "id": "yg2H9SPt8wG1"
      },
      "source": [
        "#### Interseção\n",
        "\n",
        "A interseção de dois conjuntos é um conjunto que consiste em todos os elementos únicos que ambos os conjuntos têm em comum. \n",
        "\n",
        "Você pode calcular a interseção com o operador **&** ou com o método de conjunto **intersection**\n"
      ]
    },
    {
      "cell_type": "code",
      "metadata": {
        "id": "nGvy2_8t8wG1",
        "outputId": "e7c64ea2-007c-4094-e755-94a06f36eac7",
        "colab": {
          "base_uri": "https://localhost:8080/",
          "height": 34
        }
      },
      "source": [
        "{1, 3, 5} & {2, 3, 4}"
      ],
      "execution_count": 106,
      "outputs": [
        {
          "output_type": "execute_result",
          "data": {
            "text/plain": [
              "{3}"
            ]
          },
          "metadata": {
            "tags": []
          },
          "execution_count": 106
        }
      ]
    },
    {
      "cell_type": "code",
      "metadata": {
        "id": "PSI3MTpp8wG2",
        "outputId": "e4af8e76-33e3-4768-f39b-9a5740257e65",
        "colab": {
          "base_uri": "https://localhost:8080/",
          "height": 34
        }
      },
      "source": [
        "{1, 3, 5}.intersection([1, 2, 2, 3, 3, 4, 4])"
      ],
      "execution_count": 107,
      "outputs": [
        {
          "output_type": "execute_result",
          "data": {
            "text/plain": [
              "{1, 3}"
            ]
          },
          "metadata": {
            "tags": []
          },
          "execution_count": 107
        }
      ]
    },
    {
      "cell_type": "markdown",
      "metadata": {
        "id": "jOTHw6Qg8wG4"
      },
      "source": [
        "#### Diferença\n",
        "A diferença entre dois conjuntos é um conjunto que consiste nos elementos do operando esquerdo que não estão no operando direito. **Pergunta**: *O que o primeiro tem que o segundo não tem?!*\n",
        "\n",
        "Você pode calcular a diferença com o operador **-** ou com o método **difference** "
      ]
    },
    {
      "cell_type": "code",
      "metadata": {
        "id": "xwSro4en8wG5",
        "outputId": "086e54e1-4895-4c7f-cb4f-a9976e3d29a0",
        "colab": {
          "base_uri": "https://localhost:8080/",
          "height": 34
        }
      },
      "source": [
        "# O que o primeiro tem a mais que o segundo?!\n",
        "{1, 3, 5} - {2, 3, 4}"
      ],
      "execution_count": 108,
      "outputs": [
        {
          "output_type": "execute_result",
          "data": {
            "text/plain": [
              "{1, 5}"
            ]
          },
          "metadata": {
            "tags": []
          },
          "execution_count": 108
        }
      ]
    },
    {
      "cell_type": "code",
      "metadata": {
        "id": "ANgAU0Uw8wG7",
        "outputId": "838c4477-d2ae-4a43-be34-c129ab864804",
        "colab": {
          "base_uri": "https://localhost:8080/",
          "height": 34
        }
      },
      "source": [
        "# O que o primeiro tem a mais que o segundo?!\n",
        "{1, 3, 5, 7}.difference([2, 2, 3, 3, 4, 4])"
      ],
      "execution_count": 109,
      "outputs": [
        {
          "output_type": "execute_result",
          "data": {
            "text/plain": [
              "{1, 5, 7}"
            ]
          },
          "metadata": {
            "tags": []
          },
          "execution_count": 109
        }
      ]
    },
    {
      "cell_type": "markdown",
      "metadata": {
        "id": "vsT32Gw68wG8"
      },
      "source": [
        "#### Diferença Simétrica\n",
        "A diferença simétrica entre dois conjuntos é um conjunto que consiste nos elementos de ambos os conjuntos que não são comuns entre si. **Pergunta**: *O que o primeiro tem que o segundo não tem E o que o segundo tem que o primeiro não tem?!*\n",
        "\n",
        "Você pode calcular a diferença simétrica com o operador **^** ou com o método **symmetric_difference** "
      ]
    },
    {
      "cell_type": "code",
      "metadata": {
        "id": "6wlB80h18wG8",
        "outputId": "a937e227-11f9-4689-e231-5586bad3fc16",
        "colab": {
          "base_uri": "https://localhost:8080/",
          "height": 34
        }
      },
      "source": [
        "{1, 3, 5} ^ {2, 3, 4}"
      ],
      "execution_count": 110,
      "outputs": [
        {
          "output_type": "execute_result",
          "data": {
            "text/plain": [
              "{1, 2, 4, 5}"
            ]
          },
          "metadata": {
            "tags": []
          },
          "execution_count": 110
        }
      ]
    },
    {
      "cell_type": "code",
      "metadata": {
        "id": "cnVDyKDU8wG-",
        "outputId": "6f724609-30d2-43b9-9981-8a664dcc4916",
        "colab": {
          "base_uri": "https://localhost:8080/",
          "height": 34
        }
      },
      "source": [
        "{1, 3, 5, 7}.symmetric_difference([2, 2, 3, 3, 4, 4])"
      ],
      "execution_count": 111,
      "outputs": [
        {
          "output_type": "execute_result",
          "data": {
            "text/plain": [
              "{1, 2, 4, 5, 7}"
            ]
          },
          "metadata": {
            "tags": []
          },
          "execution_count": 111
        }
      ]
    },
    {
      "cell_type": "markdown",
      "metadata": {
        "id": "C9eTwusx8wG_"
      },
      "source": [
        "#### Disjunção\n",
        "\n",
        "Dois conjuntos são disjuntos se não tiverem nenhum elemento em comum. Você pode determinar isso\n",
        "com o método **isdisjoint**"
      ]
    },
    {
      "cell_type": "code",
      "metadata": {
        "id": "e8xH9uDY8wHB",
        "outputId": "278c9165-613c-49e6-ac10-183b683cb835",
        "colab": {
          "base_uri": "https://localhost:8080/",
          "height": 34
        }
      },
      "source": [
        "{1, 3, 5}.isdisjoint({2, 4, 6})"
      ],
      "execution_count": 112,
      "outputs": [
        {
          "output_type": "execute_result",
          "data": {
            "text/plain": [
              "True"
            ]
          },
          "metadata": {
            "tags": []
          },
          "execution_count": 112
        }
      ]
    },
    {
      "cell_type": "markdown",
      "metadata": {
        "id": "d-BbNYlY8wHE"
      },
      "source": [
        "## **Exercício 03**\n",
        "---\n",
        "> Dados os conjuntos {10, 20, 30} e {5, 10, 15, 20}, use operadores de conjunto de para produzir os seguintes conjuntos:\n",
        "- 1. {30}\n",
        "- 2. {5, 15, 30}\n",
        "- 3. {5, 10, 15, 20, 30}\n",
        "- 4. {10, 20}"
      ]
    },
    {
      "cell_type": "code",
      "metadata": {
        "id": "ojpriJ1Z8wHE",
        "outputId": "4564744b-f62a-4b92-a78c-354e04720cb5",
        "colab": {
          "base_uri": "https://localhost:8080/",
          "height": 84
        }
      },
      "source": [
        "c1 = {10, 20, 30}\n",
        "c2 = {5, 10, 15, 20}\n",
        "\n",
        "# 1 - Diferença\n",
        "print(f'{c1 - c2}', end=' ou ')\n",
        "print(f'{c1.difference(c2)}')\n",
        "\n",
        "# 2 - Diferença simétrica\n",
        "print(f'{c1 ^ c2}', end=' ou ')\n",
        "print(f'{c1.symmetric_difference(c2)}')\n",
        "\n",
        "# 3 - União\n",
        "print(f'{set(sorted(c1 | c2))}', end=' ou ')\n",
        "print(f'{set(sorted(c1.union(c2)))}')\n",
        "\n",
        "# 4 - Interseção\n",
        "print(f'{c1 & c2}', end=' ou ')\n",
        "print(f'{c1.intersection(c2)}')\n"
      ],
      "execution_count": 113,
      "outputs": [
        {
          "output_type": "stream",
          "text": [
            "{30} ou {30}\n",
            "{5, 30, 15} ou {5, 30, 15}\n",
            "{5, 10, 15, 20, 30} ou {5, 10, 15, 20, 30}\n",
            "{10, 20} ou {10, 20}\n"
          ],
          "name": "stdout"
        }
      ]
    },
    {
      "cell_type": "markdown",
      "metadata": {
        "id": "oWjIB-SF8wHJ"
      },
      "source": [
        "### Operadores e métodos de conjuntos mutáveis\n",
        "\n",
        "Cada operador e método apresentado até agora da origem a um novo conjunto.\n",
        "Aqui, discutimos os operadores e métodos que modificam um conjunto existente."
      ]
    },
    {
      "cell_type": "markdown",
      "metadata": {
        "id": "egrsOp1B8wHK"
      },
      "source": [
        "#### Operações matemáticas mutáveis\n",
        "\n",
        "Como o operador **|**, a união com atribuição, **|=**, executa uma operação de união mas modifica seu operando esquerdo:"
      ]
    },
    {
      "cell_type": "code",
      "metadata": {
        "id": "d1RFnBeJ8wHK"
      },
      "source": [
        "numbers = {1, 3, 5}"
      ],
      "execution_count": 114,
      "outputs": []
    },
    {
      "cell_type": "code",
      "metadata": {
        "id": "P3Wf3dHN8wHN"
      },
      "source": [
        "numbers |= {2, 3, 4}"
      ],
      "execution_count": 115,
      "outputs": []
    },
    {
      "cell_type": "code",
      "metadata": {
        "id": "d4K4ptZN8wHP",
        "outputId": "34c1e788-e738-4d91-91a0-734082353e13",
        "colab": {
          "base_uri": "https://localhost:8080/",
          "height": 34
        }
      },
      "source": [
        "numbers"
      ],
      "execution_count": 116,
      "outputs": [
        {
          "output_type": "execute_result",
          "data": {
            "text/plain": [
              "{1, 2, 3, 4, 5}"
            ]
          },
          "metadata": {
            "tags": []
          },
          "execution_count": 116
        }
      ]
    },
    {
      "cell_type": "markdown",
      "metadata": {
        "id": "vpaxrNpm8wHR"
      },
      "source": [
        "Da mesma forma, o método **update** executa uma operação de união modificando o conjunto em\n",
        "que é chamado - o argumento pode ser qualquer iterável"
      ]
    },
    {
      "cell_type": "code",
      "metadata": {
        "id": "lVA5UtDx8wHR"
      },
      "source": [
        "numbers.update(range(10))"
      ],
      "execution_count": 117,
      "outputs": []
    },
    {
      "cell_type": "code",
      "metadata": {
        "id": "uWctNuws8wHS",
        "outputId": "1f1bc35c-12ba-46f0-b550-78977ee5e5d2",
        "colab": {
          "base_uri": "https://localhost:8080/",
          "height": 34
        }
      },
      "source": [
        "numbers"
      ],
      "execution_count": 118,
      "outputs": [
        {
          "output_type": "execute_result",
          "data": {
            "text/plain": [
              "{0, 1, 2, 3, 4, 5, 6, 7, 8, 9}"
            ]
          },
          "metadata": {
            "tags": []
          },
          "execution_count": 118
        }
      ]
    },
    {
      "cell_type": "markdown",
      "metadata": {
        "id": "gsO3IqS68wHT"
      },
      "source": [
        "Os outros métodos de conjuntos mutáveis são:\n",
        "- atribuição e interseção **&=**; método correspondente: **intersection_update**\n",
        "- atribuição e diferença **-=**; método correspondente: **difference_update**\n",
        "- atribuição e diferença simétrica **^=** método correspondente: **symmetric_difference_update**\n",
        " "
      ]
    },
    {
      "cell_type": "markdown",
      "metadata": {
        "id": "1uAxSchR8wHT"
      },
      "source": [
        "### Métodos para adicionar e remover elementos\n",
        "\n",
        "O método de conjuntos **add** insere seu argumento se o argumento ainda não estiver no conjunto; caso contrário, o conjunto permanece inalterado:"
      ]
    },
    {
      "cell_type": "code",
      "metadata": {
        "id": "Z0-QyeMZ8wHU"
      },
      "source": [
        "numbers.add(17)"
      ],
      "execution_count": 119,
      "outputs": []
    },
    {
      "cell_type": "code",
      "metadata": {
        "id": "qYzZGFK08wHW"
      },
      "source": [
        "numbers.add(3)"
      ],
      "execution_count": 120,
      "outputs": []
    },
    {
      "cell_type": "code",
      "metadata": {
        "id": "7H3avb7o8wHX",
        "outputId": "05efe18d-16ef-4e89-b055-c00f08ba0119",
        "colab": {
          "base_uri": "https://localhost:8080/",
          "height": 34
        }
      },
      "source": [
        "numbers"
      ],
      "execution_count": 121,
      "outputs": [
        {
          "output_type": "execute_result",
          "data": {
            "text/plain": [
              "{0, 1, 2, 3, 4, 5, 6, 7, 8, 9, 17}"
            ]
          },
          "metadata": {
            "tags": []
          },
          "execution_count": 121
        }
      ]
    },
    {
      "cell_type": "markdown",
      "metadata": {
        "id": "W7ADAsGE8wHY"
      },
      "source": [
        "O método de conjuntos **remove**, remove o argumento do conjunto \n",
        "- um **KeyError** ocorre se o valor não está no conjunto:"
      ]
    },
    {
      "cell_type": "code",
      "metadata": {
        "id": "NuLO1bF58wHY"
      },
      "source": [
        "numbers.remove(3)"
      ],
      "execution_count": 133,
      "outputs": []
    },
    {
      "cell_type": "code",
      "metadata": {
        "id": "3iNv4HGV8wHZ",
        "outputId": "49446e73-a78f-42ff-d662-18cfa08349ca",
        "colab": {
          "base_uri": "https://localhost:8080/",
          "height": 34
        }
      },
      "source": [
        "numbers"
      ],
      "execution_count": 134,
      "outputs": [
        {
          "output_type": "execute_result",
          "data": {
            "text/plain": [
              "[1, 2, 2, 4, 5, 6, 6, 7, 8, 9, 10, 10]"
            ]
          },
          "metadata": {
            "tags": []
          },
          "execution_count": 134
        }
      ]
    },
    {
      "cell_type": "markdown",
      "metadata": {
        "id": "R57TyKT38wHb"
      },
      "source": [
        "O método **discard** também remove seu argumento do conjunto, porém não causa uma exceção\n",
        "se o valor não estiver no conjunto.\n",
        "\n",
        "- Você também pode remover um elemento arbitrário de um conjunto e retorná-lo com o método **pop**\n",
        "    - como os conjuntos são desordenados, você não sabe qual elemento será retornado!\n",
        "    - Um KeyError ocorre se o conjunto estiver vazio quando você chamar pop."
      ]
    },
    {
      "cell_type": "code",
      "metadata": {
        "id": "c_YPYjth8wHb",
        "outputId": "89310ba8-d8c8-426c-c5d3-5267f9dc3c39",
        "colab": {
          "base_uri": "https://localhost:8080/",
          "height": 34
        }
      },
      "source": [
        "numbers.pop()"
      ],
      "execution_count": 124,
      "outputs": [
        {
          "output_type": "execute_result",
          "data": {
            "text/plain": [
              "0"
            ]
          },
          "metadata": {
            "tags": []
          },
          "execution_count": 124
        }
      ]
    },
    {
      "cell_type": "markdown",
      "metadata": {
        "id": "-7n1RSCj8wHe"
      },
      "source": [
        "O método **clear** esvazia o conjunto no qual é chamado:"
      ]
    },
    {
      "cell_type": "code",
      "metadata": {
        "id": "Au_PIx4v8wHe"
      },
      "source": [
        "numbers.clear()"
      ],
      "execution_count": 125,
      "outputs": []
    },
    {
      "cell_type": "code",
      "metadata": {
        "id": "Of3lOcRu8wHh",
        "outputId": "f0ea8d20-c966-4fe7-ec3d-302f39502133",
        "colab": {
          "base_uri": "https://localhost:8080/",
          "height": 34
        }
      },
      "source": [
        "numbers"
      ],
      "execution_count": 126,
      "outputs": [
        {
          "output_type": "execute_result",
          "data": {
            "text/plain": [
              "set()"
            ]
          },
          "metadata": {
            "tags": []
          },
          "execution_count": 126
        }
      ]
    },
    {
      "cell_type": "markdown",
      "metadata": {
        "id": "88cvtDEl8wHl"
      },
      "source": [
        "### Notação simplificada de conjunto"
      ]
    },
    {
      "cell_type": "markdown",
      "metadata": {
        "id": "4MJ-s7cA8wHl"
      },
      "source": [
        "Como as notações simplificadas de dicionário, as notações simplificadas de conjuntos são definidas entre chaves. \n",
        "\n",
        "Vamos criar um novo conjunto contendo apenas os valores pares únicos dos números da lista:"
      ]
    },
    {
      "cell_type": "code",
      "metadata": {
        "id": "rwNKAVuE8wHm"
      },
      "source": [
        "numbers = [1, 2, 2, 3, 4, 5, 6, 6, 7, 8, 9, 10, 10]"
      ],
      "execution_count": 127,
      "outputs": []
    },
    {
      "cell_type": "code",
      "metadata": {
        "id": "qb8PsSY88wHn"
      },
      "source": [
        "evens = {item for item in numbers if item % 2 == 0}"
      ],
      "execution_count": 128,
      "outputs": []
    },
    {
      "cell_type": "code",
      "metadata": {
        "id": "mA4dOBM98wHp",
        "outputId": "7d8d7afa-8228-4fa7-e7ae-35ac4db63e67",
        "colab": {
          "base_uri": "https://localhost:8080/",
          "height": 34
        }
      },
      "source": [
        "evens"
      ],
      "execution_count": 129,
      "outputs": [
        {
          "output_type": "execute_result",
          "data": {
            "text/plain": [
              "{2, 4, 6, 8, 10}"
            ]
          },
          "metadata": {
            "tags": []
          },
          "execution_count": 129
        }
      ]
    },
    {
      "cell_type": "markdown",
      "metadata": {
        "id": "X2URytub8wHr"
      },
      "source": [
        "## Introdução à ciência de dados: visualizações dinâmicas"
      ]
    },
    {
      "cell_type": "markdown",
      "metadata": {
        "id": "bfgEzEcU8wHr"
      },
      "source": [
        "### A lei dos grandes números\n",
        "\n",
        "Se a função **randrange** do módulo **random** de fato produz inteiros aleatoriamente, então cada número no intervalo especificado *tem probabilidade igual* de ser escolhido cada vez que a função é chamada. \n",
        "\n",
        "Para um dado de seis lados, cada valor de 1 a 6 deve ocorrer um sexto do\n",
        "tempo, então a probabilidade de qualquer um desses valores de ocorrer é 1/6 ou cerca de 16,667%.\n",
        "\n",
        "Considere criar um script de simulação dinâmica de rolagem de dados. Em geral, você verá que quanto mais jogamos, mais perto cada dado chega à porcentagem de 16,667% e as alturas das barras gradualmente se tornam a mesma. Esta é uma manifestação da lei dos grandes números."
      ]
    },
    {
      "cell_type": "markdown",
      "metadata": {
        "id": "NpjwdBPj8wHr"
      },
      "source": [
        "### Quadros de animação (animation frames)\n",
        "\n",
        "**FuncAnimation** conduz uma animação quadro a quadro. Cada quadro de animação especifica\n",
        "tudo o que deve mudar durante uma atualização do gráfico. Juntando muitas dessas\n",
        "atualizações ao longo do tempo, cria-se o efeito de animação. \n",
        "\n",
        "Você decide o que cada quadro exibe por meio de uma função que você define e passa para **FuncAnimation**.\n",
        "\n",
        "Cada quadro de animação irá:\n",
        "- lançar os dados um determinado número de vezes (de 1 a quantas vezes você quiser), atualizando as frequências das faces a cada lançamento,\n",
        "- limpar o gráfico atual,\n",
        "- criar um novo conjunto de barras representando as frequências atualizadas, e\n",
        "- criar um novo texto de frequência e porcentagem para cada barra.\n",
        "\n",
        "Geralmente, a exibição de mais quadros por segundo produz uma animação mais suave. Por exemplo,\n",
        "videogames com elementos de movimento rápido tentam exibir pelo menos 30 quadros por segundo e\n",
        "frequentemente mais. \n",
        "- Embora você especifique o número de milissegundos entre os quadros da animação, o número real de quadros por segundo pode ser afetado pela quantidade de trabalho que você realiza em cada quadro e a velocidade do processador do seu computador. \n",
        "- Este exemplo exibe um quadro de animação a cada 33 milissegundos - produzindo aproximadamente 30 (1000/33) quadros por segundo.\n",
        "- Experimente valores maiores e menores para ver como eles afetam a animação. \n",
        "    - Experimentação é importante para desenvolver as melhores visualizações."
      ]
    },
    {
      "cell_type": "code",
      "metadata": {
        "id": "YUyltgcV8wHs",
        "outputId": "8f3c3047-57ab-4862-dc21-183ccf7d9173",
        "colab": {
          "base_uri": "https://localhost:8080/",
          "height": 1000
        }
      },
      "source": [
        "## https://stackoverflow.com/questions/25333732/matplotlib-animation-not-working-in-ipython-notebook-blank-plot\n",
        "\"\"\"Dynamically graphing frequencies of die rolls.\"\"\"\n",
        "# to run in Jupyter\n",
        "%matplotlib inline \n",
        "from matplotlib import animation\n",
        "import matplotlib.pyplot as plt\n",
        "import random \n",
        "import seaborn as sns\n",
        "import sys\n",
        "# to run in Jupyter\n",
        "from IPython.display import HTML\n",
        "\n",
        "def update(frame_number, rolls, faces, frequencies):\n",
        "    \"\"\"Configures bar plot contents for each animation frame.\"\"\"\n",
        "    # roll die and update frequencies\n",
        "    for i in range(rolls):\n",
        "        frequencies[random.randrange(1, 7) - 1] += 1 \n",
        "\n",
        "    # reconfigure plot for updated die frequencies\n",
        "    plt.cla()  # clear old contents contents of current Figure\n",
        "    axes = sns.barplot(faces, frequencies, palette='bright')  # new bars\n",
        "    axes.set_title(f'Die Frequencies for {sum(frequencies):,} Rolls')\n",
        "    axes.set(xlabel='Die Value', ylabel='Frequency')  \n",
        "    axes.set_ylim(top=max(frequencies) * 1.10)  # scale y-axis by 10%\n",
        "\n",
        "    # display frequency & percentage above each patch (bar)\n",
        "    for bar, frequency in zip(axes.patches, frequencies):\n",
        "        text_x = bar.get_x() + bar.get_width() / 2.0  \n",
        "        text_y = bar.get_height() \n",
        "        text = f'{frequency:,}\\n{frequency / sum(frequencies):.3%}'\n",
        "        axes.text(text_x, text_y, text, ha='center', va='bottom')\n",
        "\n",
        "# read command-line arguments for number of frames and rolls per frame\n",
        "number_of_frames = 100# int(sys.argv[1])  \n",
        "rolls_per_frame = 60# int(sys.argv[2])  \n",
        "\n",
        "sns.set_style('whitegrid')  # white background with gray grid lines\n",
        "figure = plt.figure('Rolling a Six-Sided Die')  # Figure for animation\n",
        "values = list(range(1, 7))  # die faces for display on x-axis\n",
        "frequencies = [0] * 6  # six-element list of die frequencies\n",
        "\n",
        "# configure and start animation that calls function update\n",
        "die_animation = animation.FuncAnimation(\n",
        "    figure, update, repeat=True, frames=number_of_frames, interval=33,\n",
        "    fargs=(rolls_per_frame, values, frequencies))\n",
        "\n",
        "#die_animation\n",
        "#plt.show()  # display window\n",
        "#to run in Jupyter\n",
        "HTML(die_animation.to_jshtml())\n"
      ],
      "execution_count": 3,
      "outputs": [
        {
          "output_type": "stream",
          "name": "stdout",
          "text": [
            "frame_number: 0\n",
            "frame_number: 0\n",
            "frame_number: 1\n",
            "frame_number: 2\n",
            "frame_number: 3\n",
            "frame_number: 4\n",
            "frame_number: 5\n",
            "frame_number: 6\n",
            "frame_number: 7\n",
            "frame_number: 8\n",
            "frame_number: 9\n",
            "frame_number: 10\n",
            "frame_number: 11\n",
            "frame_number: 12\n",
            "frame_number: 13\n",
            "frame_number: 14\n",
            "frame_number: 15\n",
            "frame_number: 16\n",
            "frame_number: 17\n",
            "frame_number: 18\n",
            "frame_number: 19\n",
            "frame_number: 20\n",
            "frame_number: 21\n",
            "frame_number: 22\n",
            "frame_number: 23\n",
            "frame_number: 24\n",
            "frame_number: 25\n",
            "frame_number: 26\n",
            "frame_number: 27\n",
            "frame_number: 28\n",
            "frame_number: 29\n",
            "frame_number: 30\n",
            "frame_number: 31\n",
            "frame_number: 32\n",
            "frame_number: 33\n",
            "frame_number: 34\n",
            "frame_number: 35\n",
            "frame_number: 36\n",
            "frame_number: 37\n"
          ]
        },
        {
          "output_type": "error",
          "ename": "KeyboardInterrupt",
          "evalue": "",
          "traceback": [
            "\u001b[1;31m---------------------------------------------------------------------------\u001b[0m",
            "\u001b[1;31mAttributeError\u001b[0m                            Traceback (most recent call last)",
            "\u001b[1;32md:\\ProjetosProgramacao\\GitHub\\TT007-AnaliseDadosPython\\venv-tt007\\lib\\site-packages\\seaborn\\_core.py\u001b[0m in \u001b[0;36mcategorical_order\u001b[1;34m(vector, order)\u001b[0m\n\u001b[0;32m   1455\u001b[0m             \u001b[1;32mtry\u001b[0m\u001b[1;33m:\u001b[0m\u001b[1;33m\u001b[0m\u001b[1;33m\u001b[0m\u001b[0m\n\u001b[1;32m-> 1456\u001b[1;33m                 \u001b[0morder\u001b[0m \u001b[1;33m=\u001b[0m \u001b[0mvector\u001b[0m\u001b[1;33m.\u001b[0m\u001b[0mcat\u001b[0m\u001b[1;33m.\u001b[0m\u001b[0mcategories\u001b[0m\u001b[1;33m\u001b[0m\u001b[1;33m\u001b[0m\u001b[0m\n\u001b[0m\u001b[0;32m   1457\u001b[0m             \u001b[1;32mexcept\u001b[0m \u001b[1;33m(\u001b[0m\u001b[0mTypeError\u001b[0m\u001b[1;33m,\u001b[0m \u001b[0mAttributeError\u001b[0m\u001b[1;33m)\u001b[0m\u001b[1;33m:\u001b[0m\u001b[1;33m\u001b[0m\u001b[1;33m\u001b[0m\u001b[0m\n",
            "\u001b[1;31mAttributeError\u001b[0m: 'list' object has no attribute 'cat'",
            "\nDuring handling of the above exception, another exception occurred:\n",
            "\u001b[1;31mAttributeError\u001b[0m                            Traceback (most recent call last)",
            "\u001b[1;32md:\\ProjetosProgramacao\\GitHub\\TT007-AnaliseDadosPython\\venv-tt007\\lib\\site-packages\\seaborn\\_core.py\u001b[0m in \u001b[0;36mcategorical_order\u001b[1;34m(vector, order)\u001b[0m\n\u001b[0;32m   1459\u001b[0m                 \u001b[1;32mtry\u001b[0m\u001b[1;33m:\u001b[0m\u001b[1;33m\u001b[0m\u001b[1;33m\u001b[0m\u001b[0m\n\u001b[1;32m-> 1460\u001b[1;33m                     \u001b[0morder\u001b[0m \u001b[1;33m=\u001b[0m \u001b[0mvector\u001b[0m\u001b[1;33m.\u001b[0m\u001b[0munique\u001b[0m\u001b[1;33m(\u001b[0m\u001b[1;33m)\u001b[0m\u001b[1;33m\u001b[0m\u001b[1;33m\u001b[0m\u001b[0m\n\u001b[0m\u001b[0;32m   1461\u001b[0m                 \u001b[1;32mexcept\u001b[0m \u001b[0mAttributeError\u001b[0m\u001b[1;33m:\u001b[0m\u001b[1;33m\u001b[0m\u001b[1;33m\u001b[0m\u001b[0m\n",
            "\u001b[1;31mAttributeError\u001b[0m: 'list' object has no attribute 'unique'",
            "\nDuring handling of the above exception, another exception occurred:\n",
            "\u001b[1;31mKeyboardInterrupt\u001b[0m                         Traceback (most recent call last)",
            "\u001b[1;32m<ipython-input-3-14a3152c945b>\u001b[0m in \u001b[0;36m<module>\u001b[1;34m\u001b[0m\n\u001b[0;32m     49\u001b[0m \u001b[1;31m#plt.show()  # display window\u001b[0m\u001b[1;33m\u001b[0m\u001b[1;33m\u001b[0m\u001b[1;33m\u001b[0m\u001b[0m\n\u001b[0;32m     50\u001b[0m \u001b[1;31m#to run in Jupyter\u001b[0m\u001b[1;33m\u001b[0m\u001b[1;33m\u001b[0m\u001b[1;33m\u001b[0m\u001b[0m\n\u001b[1;32m---> 51\u001b[1;33m \u001b[0mHTML\u001b[0m\u001b[1;33m(\u001b[0m\u001b[0mdie_animation\u001b[0m\u001b[1;33m.\u001b[0m\u001b[0mto_jshtml\u001b[0m\u001b[1;33m(\u001b[0m\u001b[1;33m)\u001b[0m\u001b[1;33m)\u001b[0m\u001b[1;33m\u001b[0m\u001b[1;33m\u001b[0m\u001b[0m\n\u001b[0m",
            "\u001b[1;32md:\\ProjetosProgramacao\\GitHub\\TT007-AnaliseDadosPython\\venv-tt007\\lib\\site-packages\\matplotlib\\animation.py\u001b[0m in \u001b[0;36mto_jshtml\u001b[1;34m(self, fps, embed_frames, default_mode)\u001b[0m\n\u001b[0;32m   1368\u001b[0m                                     \u001b[0membed_frames\u001b[0m\u001b[1;33m=\u001b[0m\u001b[0membed_frames\u001b[0m\u001b[1;33m,\u001b[0m\u001b[1;33m\u001b[0m\u001b[1;33m\u001b[0m\u001b[0m\n\u001b[0;32m   1369\u001b[0m                                     default_mode=default_mode)\n\u001b[1;32m-> 1370\u001b[1;33m                 \u001b[0mself\u001b[0m\u001b[1;33m.\u001b[0m\u001b[0msave\u001b[0m\u001b[1;33m(\u001b[0m\u001b[0mstr\u001b[0m\u001b[1;33m(\u001b[0m\u001b[0mpath\u001b[0m\u001b[1;33m)\u001b[0m\u001b[1;33m,\u001b[0m \u001b[0mwriter\u001b[0m\u001b[1;33m=\u001b[0m\u001b[0mwriter\u001b[0m\u001b[1;33m)\u001b[0m\u001b[1;33m\u001b[0m\u001b[1;33m\u001b[0m\u001b[0m\n\u001b[0m\u001b[0;32m   1371\u001b[0m                 \u001b[0mself\u001b[0m\u001b[1;33m.\u001b[0m\u001b[0m_html_representation\u001b[0m \u001b[1;33m=\u001b[0m \u001b[0mpath\u001b[0m\u001b[1;33m.\u001b[0m\u001b[0mread_text\u001b[0m\u001b[1;33m(\u001b[0m\u001b[1;33m)\u001b[0m\u001b[1;33m\u001b[0m\u001b[1;33m\u001b[0m\u001b[0m\n\u001b[0;32m   1372\u001b[0m \u001b[1;33m\u001b[0m\u001b[0m\n",
            "\u001b[1;32md:\\ProjetosProgramacao\\GitHub\\TT007-AnaliseDadosPython\\venv-tt007\\lib\\site-packages\\matplotlib\\animation.py\u001b[0m in \u001b[0;36msave\u001b[1;34m(self, filename, writer, fps, dpi, codec, bitrate, extra_args, metadata, extra_anim, savefig_kwargs, progress_callback)\u001b[0m\n\u001b[0;32m   1139\u001b[0m                 \u001b[1;32mfor\u001b[0m \u001b[0manim\u001b[0m\u001b[1;33m,\u001b[0m \u001b[0md\u001b[0m \u001b[1;32min\u001b[0m \u001b[0mzip\u001b[0m\u001b[1;33m(\u001b[0m\u001b[0mall_anim\u001b[0m\u001b[1;33m,\u001b[0m \u001b[0mdata\u001b[0m\u001b[1;33m)\u001b[0m\u001b[1;33m:\u001b[0m\u001b[1;33m\u001b[0m\u001b[1;33m\u001b[0m\u001b[0m\n\u001b[0;32m   1140\u001b[0m                     \u001b[1;31m# TODO: See if turning off blit is really necessary\u001b[0m\u001b[1;33m\u001b[0m\u001b[1;33m\u001b[0m\u001b[1;33m\u001b[0m\u001b[0m\n\u001b[1;32m-> 1141\u001b[1;33m                     \u001b[0manim\u001b[0m\u001b[1;33m.\u001b[0m\u001b[0m_draw_next_frame\u001b[0m\u001b[1;33m(\u001b[0m\u001b[0md\u001b[0m\u001b[1;33m,\u001b[0m \u001b[0mblit\u001b[0m\u001b[1;33m=\u001b[0m\u001b[1;32mFalse\u001b[0m\u001b[1;33m)\u001b[0m\u001b[1;33m\u001b[0m\u001b[1;33m\u001b[0m\u001b[0m\n\u001b[0m\u001b[0;32m   1142\u001b[0m                     \u001b[1;32mif\u001b[0m \u001b[0mprogress_callback\u001b[0m \u001b[1;32mis\u001b[0m \u001b[1;32mnot\u001b[0m \u001b[1;32mNone\u001b[0m\u001b[1;33m:\u001b[0m\u001b[1;33m\u001b[0m\u001b[1;33m\u001b[0m\u001b[0m\n\u001b[0;32m   1143\u001b[0m                         \u001b[0mprogress_callback\u001b[0m\u001b[1;33m(\u001b[0m\u001b[0mframe_number\u001b[0m\u001b[1;33m,\u001b[0m \u001b[0mtotal_frames\u001b[0m\u001b[1;33m)\u001b[0m\u001b[1;33m\u001b[0m\u001b[1;33m\u001b[0m\u001b[0m\n",
            "\u001b[1;32md:\\ProjetosProgramacao\\GitHub\\TT007-AnaliseDadosPython\\venv-tt007\\lib\\site-packages\\matplotlib\\animation.py\u001b[0m in \u001b[0;36m_draw_next_frame\u001b[1;34m(self, framedata, blit)\u001b[0m\n\u001b[0;32m   1174\u001b[0m         \u001b[1;31m# post- draw, as well as the drawing of the frame itself.\u001b[0m\u001b[1;33m\u001b[0m\u001b[1;33m\u001b[0m\u001b[1;33m\u001b[0m\u001b[0m\n\u001b[0;32m   1175\u001b[0m         \u001b[0mself\u001b[0m\u001b[1;33m.\u001b[0m\u001b[0m_pre_draw\u001b[0m\u001b[1;33m(\u001b[0m\u001b[0mframedata\u001b[0m\u001b[1;33m,\u001b[0m \u001b[0mblit\u001b[0m\u001b[1;33m)\u001b[0m\u001b[1;33m\u001b[0m\u001b[1;33m\u001b[0m\u001b[0m\n\u001b[1;32m-> 1176\u001b[1;33m         \u001b[0mself\u001b[0m\u001b[1;33m.\u001b[0m\u001b[0m_draw_frame\u001b[0m\u001b[1;33m(\u001b[0m\u001b[0mframedata\u001b[0m\u001b[1;33m)\u001b[0m\u001b[1;33m\u001b[0m\u001b[1;33m\u001b[0m\u001b[0m\n\u001b[0m\u001b[0;32m   1177\u001b[0m         \u001b[0mself\u001b[0m\u001b[1;33m.\u001b[0m\u001b[0m_post_draw\u001b[0m\u001b[1;33m(\u001b[0m\u001b[0mframedata\u001b[0m\u001b[1;33m,\u001b[0m \u001b[0mblit\u001b[0m\u001b[1;33m)\u001b[0m\u001b[1;33m\u001b[0m\u001b[1;33m\u001b[0m\u001b[0m\n\u001b[0;32m   1178\u001b[0m \u001b[1;33m\u001b[0m\u001b[0m\n",
            "\u001b[1;32md:\\ProjetosProgramacao\\GitHub\\TT007-AnaliseDadosPython\\venv-tt007\\lib\\site-packages\\matplotlib\\animation.py\u001b[0m in \u001b[0;36m_draw_frame\u001b[1;34m(self, framedata)\u001b[0m\n\u001b[0;32m   1724\u001b[0m         \u001b[1;31m# Call the func with framedata and args. If blitting is desired,\u001b[0m\u001b[1;33m\u001b[0m\u001b[1;33m\u001b[0m\u001b[1;33m\u001b[0m\u001b[0m\n\u001b[0;32m   1725\u001b[0m         \u001b[1;31m# func needs to return a sequence of any artists that were modified.\u001b[0m\u001b[1;33m\u001b[0m\u001b[1;33m\u001b[0m\u001b[1;33m\u001b[0m\u001b[0m\n\u001b[1;32m-> 1726\u001b[1;33m         \u001b[0mself\u001b[0m\u001b[1;33m.\u001b[0m\u001b[0m_drawn_artists\u001b[0m \u001b[1;33m=\u001b[0m \u001b[0mself\u001b[0m\u001b[1;33m.\u001b[0m\u001b[0m_func\u001b[0m\u001b[1;33m(\u001b[0m\u001b[0mframedata\u001b[0m\u001b[1;33m,\u001b[0m \u001b[1;33m*\u001b[0m\u001b[0mself\u001b[0m\u001b[1;33m.\u001b[0m\u001b[0m_args\u001b[0m\u001b[1;33m)\u001b[0m\u001b[1;33m\u001b[0m\u001b[1;33m\u001b[0m\u001b[0m\n\u001b[0m\u001b[0;32m   1727\u001b[0m         \u001b[1;32mif\u001b[0m \u001b[0mself\u001b[0m\u001b[1;33m.\u001b[0m\u001b[0m_blit\u001b[0m\u001b[1;33m:\u001b[0m\u001b[1;33m\u001b[0m\u001b[1;33m\u001b[0m\u001b[0m\n\u001b[0;32m   1728\u001b[0m             \u001b[1;32mif\u001b[0m \u001b[0mself\u001b[0m\u001b[1;33m.\u001b[0m\u001b[0m_drawn_artists\u001b[0m \u001b[1;32mis\u001b[0m \u001b[1;32mNone\u001b[0m\u001b[1;33m:\u001b[0m\u001b[1;33m\u001b[0m\u001b[1;33m\u001b[0m\u001b[0m\n",
            "\u001b[1;32m<ipython-input-3-14a3152c945b>\u001b[0m in \u001b[0;36mupdate\u001b[1;34m(frame_number, rolls, faces, frequencies)\u001b[0m\n\u001b[0;32m     20\u001b[0m     \u001b[1;31m# reconfigure plot for updated die frequencies\u001b[0m\u001b[1;33m\u001b[0m\u001b[1;33m\u001b[0m\u001b[1;33m\u001b[0m\u001b[0m\n\u001b[0;32m     21\u001b[0m     \u001b[0mplt\u001b[0m\u001b[1;33m.\u001b[0m\u001b[0mcla\u001b[0m\u001b[1;33m(\u001b[0m\u001b[1;33m)\u001b[0m  \u001b[1;31m# clear old contents contents of current Figure\u001b[0m\u001b[1;33m\u001b[0m\u001b[1;33m\u001b[0m\u001b[0m\n\u001b[1;32m---> 22\u001b[1;33m     \u001b[0maxes\u001b[0m \u001b[1;33m=\u001b[0m \u001b[0msns\u001b[0m\u001b[1;33m.\u001b[0m\u001b[0mbarplot\u001b[0m\u001b[1;33m(\u001b[0m\u001b[0mfaces\u001b[0m\u001b[1;33m,\u001b[0m \u001b[0mfrequencies\u001b[0m\u001b[1;33m,\u001b[0m \u001b[0mpalette\u001b[0m\u001b[1;33m=\u001b[0m\u001b[1;34m'bright'\u001b[0m\u001b[1;33m)\u001b[0m  \u001b[1;31m# new bars\u001b[0m\u001b[1;33m\u001b[0m\u001b[1;33m\u001b[0m\u001b[0m\n\u001b[0m\u001b[0;32m     23\u001b[0m     \u001b[0maxes\u001b[0m\u001b[1;33m.\u001b[0m\u001b[0mset_title\u001b[0m\u001b[1;33m(\u001b[0m\u001b[1;34mf'Die Frequencies for {sum(frequencies):,} Rolls'\u001b[0m\u001b[1;33m)\u001b[0m\u001b[1;33m\u001b[0m\u001b[1;33m\u001b[0m\u001b[0m\n\u001b[0;32m     24\u001b[0m     \u001b[0maxes\u001b[0m\u001b[1;33m.\u001b[0m\u001b[0mset\u001b[0m\u001b[1;33m(\u001b[0m\u001b[0mxlabel\u001b[0m\u001b[1;33m=\u001b[0m\u001b[1;34m'Die Value'\u001b[0m\u001b[1;33m,\u001b[0m \u001b[0mylabel\u001b[0m\u001b[1;33m=\u001b[0m\u001b[1;34m'Frequency'\u001b[0m\u001b[1;33m)\u001b[0m\u001b[1;33m\u001b[0m\u001b[1;33m\u001b[0m\u001b[0m\n",
            "\u001b[1;32md:\\ProjetosProgramacao\\GitHub\\TT007-AnaliseDadosPython\\venv-tt007\\lib\\site-packages\\seaborn\\_decorators.py\u001b[0m in \u001b[0;36minner_f\u001b[1;34m(*args, **kwargs)\u001b[0m\n\u001b[0;32m     44\u001b[0m             )\n\u001b[0;32m     45\u001b[0m         \u001b[0mkwargs\u001b[0m\u001b[1;33m.\u001b[0m\u001b[0mupdate\u001b[0m\u001b[1;33m(\u001b[0m\u001b[1;33m{\u001b[0m\u001b[0mk\u001b[0m\u001b[1;33m:\u001b[0m \u001b[0marg\u001b[0m \u001b[1;32mfor\u001b[0m \u001b[0mk\u001b[0m\u001b[1;33m,\u001b[0m \u001b[0marg\u001b[0m \u001b[1;32min\u001b[0m \u001b[0mzip\u001b[0m\u001b[1;33m(\u001b[0m\u001b[0msig\u001b[0m\u001b[1;33m.\u001b[0m\u001b[0mparameters\u001b[0m\u001b[1;33m,\u001b[0m \u001b[0margs\u001b[0m\u001b[1;33m)\u001b[0m\u001b[1;33m}\u001b[0m\u001b[1;33m)\u001b[0m\u001b[1;33m\u001b[0m\u001b[1;33m\u001b[0m\u001b[0m\n\u001b[1;32m---> 46\u001b[1;33m         \u001b[1;32mreturn\u001b[0m \u001b[0mf\u001b[0m\u001b[1;33m(\u001b[0m\u001b[1;33m**\u001b[0m\u001b[0mkwargs\u001b[0m\u001b[1;33m)\u001b[0m\u001b[1;33m\u001b[0m\u001b[1;33m\u001b[0m\u001b[0m\n\u001b[0m\u001b[0;32m     47\u001b[0m     \u001b[1;32mreturn\u001b[0m \u001b[0minner_f\u001b[0m\u001b[1;33m\u001b[0m\u001b[1;33m\u001b[0m\u001b[0m\n\u001b[0;32m     48\u001b[0m \u001b[1;33m\u001b[0m\u001b[0m\n",
            "\u001b[1;32md:\\ProjetosProgramacao\\GitHub\\TT007-AnaliseDadosPython\\venv-tt007\\lib\\site-packages\\seaborn\\categorical.py\u001b[0m in \u001b[0;36mbarplot\u001b[1;34m(x, y, hue, data, order, hue_order, estimator, ci, n_boot, units, seed, orient, color, palette, saturation, errcolor, errwidth, capsize, dodge, ax, **kwargs)\u001b[0m\n\u001b[0;32m   3167\u001b[0m ):\n\u001b[0;32m   3168\u001b[0m \u001b[1;33m\u001b[0m\u001b[0m\n\u001b[1;32m-> 3169\u001b[1;33m     plotter = _BarPlotter(x, y, hue, data, order, hue_order,\n\u001b[0m\u001b[0;32m   3170\u001b[0m                           \u001b[0mestimator\u001b[0m\u001b[1;33m,\u001b[0m \u001b[0mci\u001b[0m\u001b[1;33m,\u001b[0m \u001b[0mn_boot\u001b[0m\u001b[1;33m,\u001b[0m \u001b[0munits\u001b[0m\u001b[1;33m,\u001b[0m \u001b[0mseed\u001b[0m\u001b[1;33m,\u001b[0m\u001b[1;33m\u001b[0m\u001b[1;33m\u001b[0m\u001b[0m\n\u001b[0;32m   3171\u001b[0m                           \u001b[0morient\u001b[0m\u001b[1;33m,\u001b[0m \u001b[0mcolor\u001b[0m\u001b[1;33m,\u001b[0m \u001b[0mpalette\u001b[0m\u001b[1;33m,\u001b[0m \u001b[0msaturation\u001b[0m\u001b[1;33m,\u001b[0m\u001b[1;33m\u001b[0m\u001b[1;33m\u001b[0m\u001b[0m\n",
            "\u001b[1;32md:\\ProjetosProgramacao\\GitHub\\TT007-AnaliseDadosPython\\venv-tt007\\lib\\site-packages\\seaborn\\categorical.py\u001b[0m in \u001b[0;36m__init__\u001b[1;34m(self, x, y, hue, data, order, hue_order, estimator, ci, n_boot, units, seed, orient, color, palette, saturation, errcolor, errwidth, capsize, dodge)\u001b[0m\n\u001b[0;32m   1582\u001b[0m                  errwidth, capsize, dodge):\n\u001b[0;32m   1583\u001b[0m         \u001b[1;34m\"\"\"Initialize the plotter.\"\"\"\u001b[0m\u001b[1;33m\u001b[0m\u001b[1;33m\u001b[0m\u001b[0m\n\u001b[1;32m-> 1584\u001b[1;33m         self.establish_variables(x, y, hue, data, orient,\n\u001b[0m\u001b[0;32m   1585\u001b[0m                                  order, hue_order, units)\n\u001b[0;32m   1586\u001b[0m         \u001b[0mself\u001b[0m\u001b[1;33m.\u001b[0m\u001b[0mestablish_colors\u001b[0m\u001b[1;33m(\u001b[0m\u001b[0mcolor\u001b[0m\u001b[1;33m,\u001b[0m \u001b[0mpalette\u001b[0m\u001b[1;33m,\u001b[0m \u001b[0msaturation\u001b[0m\u001b[1;33m)\u001b[0m\u001b[1;33m\u001b[0m\u001b[1;33m\u001b[0m\u001b[0m\n",
            "\u001b[1;32md:\\ProjetosProgramacao\\GitHub\\TT007-AnaliseDadosPython\\venv-tt007\\lib\\site-packages\\seaborn\\categorical.py\u001b[0m in \u001b[0;36mestablish_variables\u001b[1;34m(self, x, y, hue, data, orient, order, hue_order, units)\u001b[0m\n\u001b[0;32m    201\u001b[0m \u001b[1;33m\u001b[0m\u001b[0m\n\u001b[0;32m    202\u001b[0m                 \u001b[1;31m# Get the order on the categorical axis\u001b[0m\u001b[1;33m\u001b[0m\u001b[1;33m\u001b[0m\u001b[1;33m\u001b[0m\u001b[0m\n\u001b[1;32m--> 203\u001b[1;33m                 \u001b[0mgroup_names\u001b[0m \u001b[1;33m=\u001b[0m \u001b[0mcategorical_order\u001b[0m\u001b[1;33m(\u001b[0m\u001b[0mgroups\u001b[0m\u001b[1;33m,\u001b[0m \u001b[0morder\u001b[0m\u001b[1;33m)\u001b[0m\u001b[1;33m\u001b[0m\u001b[1;33m\u001b[0m\u001b[0m\n\u001b[0m\u001b[0;32m    204\u001b[0m \u001b[1;33m\u001b[0m\u001b[0m\n\u001b[0;32m    205\u001b[0m                 \u001b[1;31m# Group the numeric data\u001b[0m\u001b[1;33m\u001b[0m\u001b[1;33m\u001b[0m\u001b[1;33m\u001b[0m\u001b[0m\n",
            "\u001b[1;32md:\\ProjetosProgramacao\\GitHub\\TT007-AnaliseDadosPython\\venv-tt007\\lib\\site-packages\\seaborn\\_core.py\u001b[0m in \u001b[0;36mcategorical_order\u001b[1;34m(vector, order)\u001b[0m\n\u001b[0;32m   1460\u001b[0m                     \u001b[0morder\u001b[0m \u001b[1;33m=\u001b[0m \u001b[0mvector\u001b[0m\u001b[1;33m.\u001b[0m\u001b[0munique\u001b[0m\u001b[1;33m(\u001b[0m\u001b[1;33m)\u001b[0m\u001b[1;33m\u001b[0m\u001b[1;33m\u001b[0m\u001b[0m\n\u001b[0;32m   1461\u001b[0m                 \u001b[1;32mexcept\u001b[0m \u001b[0mAttributeError\u001b[0m\u001b[1;33m:\u001b[0m\u001b[1;33m\u001b[0m\u001b[1;33m\u001b[0m\u001b[0m\n\u001b[1;32m-> 1462\u001b[1;33m                     \u001b[0morder\u001b[0m \u001b[1;33m=\u001b[0m \u001b[0mpd\u001b[0m\u001b[1;33m.\u001b[0m\u001b[0munique\u001b[0m\u001b[1;33m(\u001b[0m\u001b[0mvector\u001b[0m\u001b[1;33m)\u001b[0m\u001b[1;33m\u001b[0m\u001b[1;33m\u001b[0m\u001b[0m\n\u001b[0m\u001b[0;32m   1463\u001b[0m \u001b[1;33m\u001b[0m\u001b[0m\n\u001b[0;32m   1464\u001b[0m                 \u001b[1;32mif\u001b[0m \u001b[0mvariable_type\u001b[0m\u001b[1;33m(\u001b[0m\u001b[0mvector\u001b[0m\u001b[1;33m)\u001b[0m \u001b[1;33m==\u001b[0m \u001b[1;34m\"numeric\"\u001b[0m\u001b[1;33m:\u001b[0m\u001b[1;33m\u001b[0m\u001b[1;33m\u001b[0m\u001b[0m\n",
            "\u001b[1;32md:\\ProjetosProgramacao\\GitHub\\TT007-AnaliseDadosPython\\venv-tt007\\lib\\site-packages\\pandas\\core\\algorithms.py\u001b[0m in \u001b[0;36munique\u001b[1;34m(values)\u001b[0m\n\u001b[0;32m    384\u001b[0m \u001b[1;33m\u001b[0m\u001b[0m\n\u001b[0;32m    385\u001b[0m     \u001b[0moriginal\u001b[0m \u001b[1;33m=\u001b[0m \u001b[0mvalues\u001b[0m\u001b[1;33m\u001b[0m\u001b[1;33m\u001b[0m\u001b[0m\n\u001b[1;32m--> 386\u001b[1;33m     \u001b[0mhtable\u001b[0m\u001b[1;33m,\u001b[0m \u001b[0mvalues\u001b[0m \u001b[1;33m=\u001b[0m \u001b[0m_get_hashtable_algo\u001b[0m\u001b[1;33m(\u001b[0m\u001b[0mvalues\u001b[0m\u001b[1;33m)\u001b[0m\u001b[1;33m\u001b[0m\u001b[1;33m\u001b[0m\u001b[0m\n\u001b[0m\u001b[0;32m    387\u001b[0m \u001b[1;33m\u001b[0m\u001b[0m\n\u001b[0;32m    388\u001b[0m     \u001b[0mtable\u001b[0m \u001b[1;33m=\u001b[0m \u001b[0mhtable\u001b[0m\u001b[1;33m(\u001b[0m\u001b[0mlen\u001b[0m\u001b[1;33m(\u001b[0m\u001b[0mvalues\u001b[0m\u001b[1;33m)\u001b[0m\u001b[1;33m)\u001b[0m\u001b[1;33m\u001b[0m\u001b[1;33m\u001b[0m\u001b[0m\n",
            "\u001b[1;32md:\\ProjetosProgramacao\\GitHub\\TT007-AnaliseDadosPython\\venv-tt007\\lib\\site-packages\\pandas\\core\\algorithms.py\u001b[0m in \u001b[0;36m_get_hashtable_algo\u001b[1;34m(values)\u001b[0m\n\u001b[0;32m    246\u001b[0m     \u001b[0mvalues\u001b[0m \u001b[1;33m:\u001b[0m \u001b[0mndarray\u001b[0m\u001b[1;33m\u001b[0m\u001b[1;33m\u001b[0m\u001b[0m\n\u001b[0;32m    247\u001b[0m     \"\"\"\n\u001b[1;32m--> 248\u001b[1;33m     \u001b[0mvalues\u001b[0m\u001b[1;33m,\u001b[0m \u001b[0m_\u001b[0m \u001b[1;33m=\u001b[0m \u001b[0m_ensure_data\u001b[0m\u001b[1;33m(\u001b[0m\u001b[0mvalues\u001b[0m\u001b[1;33m)\u001b[0m\u001b[1;33m\u001b[0m\u001b[1;33m\u001b[0m\u001b[0m\n\u001b[0m\u001b[0;32m    249\u001b[0m \u001b[1;33m\u001b[0m\u001b[0m\n\u001b[0;32m    250\u001b[0m     \u001b[0mndtype\u001b[0m \u001b[1;33m=\u001b[0m \u001b[0m_check_object_for_strings\u001b[0m\u001b[1;33m(\u001b[0m\u001b[0mvalues\u001b[0m\u001b[1;33m)\u001b[0m\u001b[1;33m\u001b[0m\u001b[1;33m\u001b[0m\u001b[0m\n",
            "\u001b[1;32md:\\ProjetosProgramacao\\GitHub\\TT007-AnaliseDadosPython\\venv-tt007\\lib\\site-packages\\pandas\\core\\algorithms.py\u001b[0m in \u001b[0;36m_ensure_data\u001b[1;34m(values, dtype)\u001b[0m\n\u001b[0;32m    110\u001b[0m             \u001b[1;32mreturn\u001b[0m \u001b[0mnp\u001b[0m\u001b[1;33m.\u001b[0m\u001b[0masarray\u001b[0m\u001b[1;33m(\u001b[0m\u001b[0mvalues\u001b[0m\u001b[1;33m)\u001b[0m\u001b[1;33m.\u001b[0m\u001b[0mastype\u001b[0m\u001b[1;33m(\u001b[0m\u001b[1;34m\"uint64\"\u001b[0m\u001b[1;33m)\u001b[0m\u001b[1;33m,\u001b[0m \u001b[0mnp\u001b[0m\u001b[1;33m.\u001b[0m\u001b[0mdtype\u001b[0m\u001b[1;33m(\u001b[0m\u001b[1;34m\"bool\"\u001b[0m\u001b[1;33m)\u001b[0m\u001b[1;33m\u001b[0m\u001b[1;33m\u001b[0m\u001b[0m\n\u001b[0;32m    111\u001b[0m         \u001b[1;32melif\u001b[0m \u001b[0mis_signed_integer_dtype\u001b[0m\u001b[1;33m(\u001b[0m\u001b[0mvalues\u001b[0m\u001b[1;33m)\u001b[0m \u001b[1;32mor\u001b[0m \u001b[0mis_signed_integer_dtype\u001b[0m\u001b[1;33m(\u001b[0m\u001b[0mdtype\u001b[0m\u001b[1;33m)\u001b[0m\u001b[1;33m:\u001b[0m\u001b[1;33m\u001b[0m\u001b[1;33m\u001b[0m\u001b[0m\n\u001b[1;32m--> 112\u001b[1;33m             \u001b[1;32mreturn\u001b[0m \u001b[0mensure_int64\u001b[0m\u001b[1;33m(\u001b[0m\u001b[0mvalues\u001b[0m\u001b[1;33m)\u001b[0m\u001b[1;33m,\u001b[0m \u001b[0mnp\u001b[0m\u001b[1;33m.\u001b[0m\u001b[0mdtype\u001b[0m\u001b[1;33m(\u001b[0m\u001b[1;34m\"int64\"\u001b[0m\u001b[1;33m)\u001b[0m\u001b[1;33m\u001b[0m\u001b[1;33m\u001b[0m\u001b[0m\n\u001b[0m\u001b[0;32m    113\u001b[0m         \u001b[1;32melif\u001b[0m \u001b[0mis_unsigned_integer_dtype\u001b[0m\u001b[1;33m(\u001b[0m\u001b[0mvalues\u001b[0m\u001b[1;33m)\u001b[0m \u001b[1;32mor\u001b[0m \u001b[0mis_unsigned_integer_dtype\u001b[0m\u001b[1;33m(\u001b[0m\u001b[0mdtype\u001b[0m\u001b[1;33m)\u001b[0m\u001b[1;33m:\u001b[0m\u001b[1;33m\u001b[0m\u001b[1;33m\u001b[0m\u001b[0m\n\u001b[0;32m    114\u001b[0m             \u001b[1;32mreturn\u001b[0m \u001b[0mensure_uint64\u001b[0m\u001b[1;33m(\u001b[0m\u001b[0mvalues\u001b[0m\u001b[1;33m)\u001b[0m\u001b[1;33m,\u001b[0m \u001b[0mnp\u001b[0m\u001b[1;33m.\u001b[0m\u001b[0mdtype\u001b[0m\u001b[1;33m(\u001b[0m\u001b[1;34m\"uint64\"\u001b[0m\u001b[1;33m)\u001b[0m\u001b[1;33m\u001b[0m\u001b[1;33m\u001b[0m\u001b[0m\n",
            "\u001b[1;31mKeyboardInterrupt\u001b[0m: "
          ]
        }
      ]
    },
    {
      "cell_type": "markdown",
      "metadata": {
        "id": "YgpqnqPK8wHt"
      },
      "source": [
        "### Implementando uma Visualização Dinâmica\n",
        "\n",
        "O script acima usa os mesmos recursos Seaborn e Matplotlib mostrados\n",
        "na aula anterior. Reorganizamos o código para uso com os recursos de animação do Matplotlib"
      ]
    },
    {
      "cell_type": "markdown",
      "metadata": {
        "id": "p7IiVDCx8wHt"
      },
      "source": [
        "from IPython.display import HTML\n",
        "...\n",
        "\n",
        "...\n",
        "HTML(die_animation.to_jshtml())"
      ]
    },
    {
      "cell_type": "markdown",
      "metadata": {
        "id": "cRmn8bU-8wHt"
      },
      "source": [
        "Converte **animation** em JavaScript"
      ]
    },
    {
      "cell_type": "markdown",
      "metadata": {
        "id": "wmd23d6L8wHt"
      },
      "source": [
        "%matplotlib inline"
      ]
    },
    {
      "cell_type": "markdown",
      "metadata": {
        "id": "lnIU7gOy8wHu"
      },
      "source": [
        "Transfere a saída dos comandos de plotagem de matplotlib para o notebook de Jupyter, diretamente abaixo da célula de código que a produziu. \n",
        "https://ipython.readthedocs.io/en/stable/interactive/plotting.html"
      ]
    },
    {
      "cell_type": "markdown",
      "metadata": {
        "id": "yQbiPi4g8wHu"
      },
      "source": [
        "Nota: % define uma função mágica no IPython \n",
        "https://ipython.readthedocs.io/en/stable/interactive/tutorial.html#magics-explained"
      ]
    },
    {
      "cell_type": "markdown",
      "metadata": {
        "id": "R8qgcMLf8wHu"
      },
      "source": [
        "### A função update\n",
        "\n",
        "As linhas definem a função de atualização que FuncAnimation chama uma vez por animação\n",
        "quadro, Armação. Esta função deve fornecer pelo menos um argumento. As linhas 9-10 mostram o início\n",
        "da definição da função. Os parâmetros são:\n",
        "- **frame_number** - O próximo valor do argumento frames da FuncAnimation, que vamos discutir momentaneamente. Embora FuncAnimation requeira a função de atualização para ter este parâmetro, não o usamos nesta função de atualização.\n",
        "- **rolls** - O número de jogadas de dados por quadro de animação.\n",
        "- **faces** - Os valores da face dos dados usados como rótulos ao longo do eixo x do gráfico.\n",
        "- **frequencies** - a lista na qual resumimos as frequências da matriz."
      ]
    },
    {
      "cell_type": "markdown",
      "metadata": {
        "id": "LrbvAV1M8wHv"
      },
      "source": [
        "for i in range(rolls):\n",
        "    frequencies[random.randrange(1, 7) - 1] += 1"
      ]
    },
    {
      "cell_type": "markdown",
      "metadata": {
        "id": "QrsSiClm8wHv"
      },
      "source": [
        "### Rolando o dados e atualizando a lista de frequências\n",
        "\n",
        "O comando _for_ acima, lança os dados e incrementa o elemento de frequências apropriado\n",
        "para cada dado. \n",
        " - Observe que foi subtraido 1 do valor do dado (1 a 6) antes de incrementar o elemento de frequências correspondente \n",
        "     - como você verá, frequências é uma lista de seis elementos (definido na linha 36), então seus índices vão de 0 a 5."
      ]
    },
    {
      "cell_type": "markdown",
      "metadata": {
        "id": "HsL1oA7e8wHv"
      },
      "source": [
        "#### Configurando o gráfico e o texto"
      ]
    },
    {
      "cell_type": "markdown",
      "metadata": {
        "id": "kEIn3Ryh8wHv"
      },
      "source": [
        "# reconfigure plot for updated die frequencies\n",
        "    plt.cla()  # clear old contents contents of current Figure\n",
        "    axes = sns.barplot(faces, frequencies, palette='bright')  # new bars\n",
        "    axes.set_title(f'Die Frequencies for {sum(frequencies):,} Rolls')\n",
        "    axes.set(xlabel='Die Value', ylabel='Frequency')  \n",
        "    axes.set_ylim(top=max(frequencies) * 1.10)  # scale y-axis by 10%\n",
        "\n",
        "    # display frequency & percentage above each patch (bar)\n",
        "    for bar, frequency in zip(axes.patches, frequencies):\n",
        "        text_x = bar.get_x() + bar.get_width() / 2.0  \n",
        "        text_y = bar.get_height() \n",
        "        text = f'{frequency:,}\\n{frequency / sum(frequencies):.3%}'\n",
        "        axes.text(text_x, text_y, text, ha='center', va='bottom')"
      ]
    },
    {
      "cell_type": "markdown",
      "metadata": {
        "id": "gzyoLvjQ8wHv"
      },
      "source": [
        "A função **update** chama a função **cla()** (limpar eixos) do módulo **matplotlib.pyplot**\n",
        "para remover os elementos do gráfico de barra existentes antes de desenhar novos quadros. \n",
        "\n",
        "As linhas iniciando com **axes** criam as barras, definem o título do gráfico da barra, definem os rótulos dos eixos x e y e dimensionam o gráfico para abrir espaço para o texto de frequência e porcentagem acima de cada barra. \n",
        "\n",
        "O segundo _for_ exibe o texto de frequência e porcentagem."
      ]
    },
    {
      "cell_type": "markdown",
      "metadata": {
        "id": "luXx2j_l8wHw"
      },
      "source": [
        "### Variáveis usadas para configurar o gráfico e manter o estado\n",
        "\n",
        "A linha figure = plt.figure('Rolling a Six-Sided Die') chama a função **figure** de matplotlib.\n",
        "Essa retona um objeto **Figure** em que **FuncAnimation** exibe a animação. \n",
        "\n",
        "A linha **values = list(range(1, 7))** cria uma lista contendo os valores de face dos dados para exibir no eixo x do gráfico. \n",
        "\n",
        "A linha **frequencies = `[0] * 6`** cria uma lista de frequências de seis elementos \n",
        " inicializados com 0 - atualizamos as contagens desta lista a cada lançamento de dados."
      ]
    },
    {
      "cell_type": "markdown",
      "metadata": {
        "id": "PUaKcBZp8wHw"
      },
      "source": [
        "### Chamando a função FuncAnimation do módulo de animação"
      ]
    },
    {
      "cell_type": "markdown",
      "metadata": {
        "id": "MgviKvAs8wHw"
      },
      "source": [
        "die_animation = animation.FuncAnimation(\n",
        "    figure, update, repeat=False, frames=number_of_frames, interval=33,\n",
        "    fargs=(rolls_per_frame, values, frequencies))"
      ]
    },
    {
      "cell_type": "markdown",
      "metadata": {
        "id": "KbFKIyZP8wHw"
      },
      "source": [
        "FuncAnimation tem dois argumentos obrigatórios:\n",
        "- **figure** - o objeto Figure no qual a animação será exibida, e\n",
        "- **update** - a função a ser chamada uma vez por quadro da animação."
      ]
    },
    {
      "cell_type": "markdown",
      "metadata": {
        "id": "S-BJtT4k8wHw"
      },
      "source": [
        "Também passamos os seguintes argumentos opcionais de palavra-chave:\n",
        "- **repeat** - False termina a animação após o número especificado de quadros. E se True (padrão), quando a animação é concluída, ela reinicia do início.\n",
        "- **frames** - O número total de quadros de animação, que controla quantas vezes **FunctAnimation** chama **update**. Passar um inteiro é equivalente a passar um intervalo - por exemplo, 600 significa **range(600)**. **FuncAnimation** passa um valor deste intervalo como o primeiro argumento em cada chamada para atualizar.\n",
        "- **interval** - O número de milissegundos (33, neste caso) entre os quadros de animação (o padrão é 200). Após cada chamada para atualizar, **FuncAnimation** espera 33 milissegundos antes de fazer a próxima chamada.\n",
        "- **fargs** (abreviação de \"argumentos de função\") - Uma tupla de outros argumentos para passar para a função que você especificou no segundo argumento de **FuncAnimation**. \n",
        "     - Os argumentos que você especifica na tupla **fargs** corresponde aos parâmetros de update, rolls, faces e frequencies."
      ]
    },
    {
      "cell_type": "markdown",
      "metadata": {
        "id": "uEamqzzv8wHx"
      },
      "source": [
        "Para obter uma lista de outros argumentos opcionais da FuncAnimation, consulte:\n",
        "\n",
        "https://matplotlib.org/api/_as_gen/matplotlib.animation.FuncAnimation.html"
      ]
    },
    {
      "cell_type": "markdown",
      "metadata": {
        "id": "jihWuW2o8wHx"
      },
      "source": [
        "## Exercício \n",
        "Reimplemente sua solução para o Exercício da aula anterior (Analisando Craps), usando as técnicas que você aprendeu para criar um gráfico de barras dinâmico mostrando as vitórias e derrotas no primeiro lançamento, segundo lançamento, terceiro, etc."
      ]
    },
    {
      "cell_type": "code",
      "metadata": {
        "id": "dkcmPNOC8wHx"
      },
      "source": [
        ""
      ],
      "execution_count": null,
      "outputs": []
    }
  ]
}